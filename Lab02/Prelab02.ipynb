{
 "cells": [
  {
   "cell_type": "markdown",
   "id": "cfb565d7-c24d-428b-8a45-0ef389d05889",
   "metadata": {
    "id": "cfb565d7-c24d-428b-8a45-0ef389d05889"
   },
   "source": [
    "# Lab 02 Prelab, Part 2"
   ]
  },
  {
   "cell_type": "markdown",
   "id": "6bc68677-06e8-4ed7-b179-cc94e02bac3c",
   "metadata": {
    "id": "6bc68677-06e8-4ed7-b179-cc94e02bac3c"
   },
   "source": [
    "Please complete the Lab 02 Prelab, Part 1 review activity on Canvas before working through this notebook.\n",
    "\n",
    "In last week's lab you used Python to calculate $k$ based off of single measurements of $x_1$, $x_2$, $m_1$, and $m_2$. In Lab 02 we will continue with this experiment, with the goal of using iteration to increase the quality of successive measurements. This is reflective of real scientific research, where we are constantly seeking to improve our measurement techniques to get a better understanding of the system we are studying.\n",
    "\n",
    "It would be cumbersome and potentially confusing to define a new Python variable each time we measure a quantity such as $m_2$. A better way to organize data from multiple measurements is in a structure called an array, which we encountered in Lab 00. \n",
    "\n",
    "To facilitate data entry into arrays, we will introduce a spreadsheet-like interface for Jupyter notebooks which has been developed specifically for this course, `data_entry2`. It will allow us to easily enter, view and modify our array data. This interface allows us to record our data and then convert these data into Python *vectors* (arrays) to perform subsequent calculations. Our definition of vector is a set of values stored under a single variable name."
   ]
  },
  {
   "cell_type": "markdown",
   "id": "935060f2-3d7d-4649-97b9-cbaad17297cd",
   "metadata": {
    "id": "935060f2-3d7d-4649-97b9-cbaad17297cd"
   },
   "source": [
    "## Spreadsheets in Python: using the 'data_entry2' library to store data"
   ]
  },
  {
   "cell_type": "markdown",
   "id": "692a435c-b783-4be1-8817-5b1cb6019aab",
   "metadata": {
    "id": "692a435c-b783-4be1-8817-5b1cb6019aab"
   },
   "source": [
    "First, let's load in the 'data_entry2' library by running the following Python cell."
   ]
  },
  {
   "cell_type": "code",
   "execution_count": 12,
   "id": "b9960da9-58b4-444f-9444-8ad89fb0fe7f",
   "metadata": {
    "colab": {
     "base_uri": "https://localhost:8080/",
     "height": 324
    },
    "executionInfo": {
     "elapsed": 222,
     "status": "error",
     "timestamp": 1659312788762,
     "user": {
      "displayName": "Carl Michal",
      "userId": "15938250714407745167"
     },
     "user_tz": 420
    },
    "id": "b9960da9-58b4-444f-9444-8ad89fb0fe7f",
    "outputId": "f38d165a-ecce-40d0-cca1-19742cd25877"
   },
   "outputs": [],
   "source": [
    "# Run me to laad the numpy and data_entry libraries\n",
    "%reset -f\n",
    "import numpy as np\n",
    "import data_entry2"
   ]
  },
  {
   "cell_type": "markdown",
   "id": "d3b859df-2b28-409c-b363-d6eb680d02b2",
   "metadata": {},
   "source": [
    "**Your Turn #1:** Run the cell above to ensure that the `data_entry2` library is loading correctly.\n",
    "\n",
    "If you see an error about an 'Undefined Widget Model', please do the following:\n",
    "- Press CTRL-S to make sure that your work is saved\n",
    "- Navigate to: File -> Hub Control Panel -> Stop My Server\n",
    "- Then press the button to 'Stop My Server'\n",
    "- Wait a few seconds, close this tab, then go back to the link on Canvas to open this Lab 01 Prelab\n",
    "- Try executing the above cell that imports data_entry2 again.\n",
    "\n",
    "If there are no errors, then please continue on with this prelab. If there are still errors, please ask for help on Piazza."
   ]
  },
  {
   "cell_type": "markdown",
   "id": "d0635142-366f-4216-a32d-56b4e1e59906",
   "metadata": {
    "id": "d0635142-366f-4216-a32d-56b4e1e59906"
   },
   "source": [
    "### Continuing on with `data_entry2`\n",
    "\n",
    "The `numpy` library is also loaded in since `data_entry2` depends on it. We will be using `data_entry2` to create and copy spreadsheet-like data tables. Your next couple of tasks will be to create your own spreadsheet and fill it with the Example Hooke's Law data shown here.\n",
    "\n",
    "**Table 1:** Example Hooke's Law data:\n",
    "\n",
    "| Variable | x1    | dx1    | x2    | dx2    | m1    | dm1    | m2    | dm2    |\n",
    "|:--------:|:-----:|:--------:|:-----:|:--------:|:-----:|:--------:|:-----:|:--------:| \n",
    "| Units    | m     | m        | m     | m        | kg    | kg       | kg    | kg       |\n",
    "| 0        | 0.235 | 0.012    | 0.123 | 0.018    | 0.078 | 0.00023  | 0.345 | 0.011    |\n",
    "| 1        | 0.235 | 0.012    | 0.176 | 0.018    | 0.078 | 0.00023  | 0.234 | 0.011    |"
   ]
  },
  {
   "cell_type": "markdown",
   "id": "3a9e7dd3-161e-4d43-af0c-9b0285da9e82",
   "metadata": {},
   "source": [
    "Let's start by creating a new spreadsheet by running the following Python cell."
   ]
  },
  {
   "cell_type": "code",
   "execution_count": null,
   "id": "c97a9b97-edeb-45cd-84e4-3c35166e930c",
   "metadata": {
    "executionInfo": {
     "elapsed": 80,
     "status": "aborted",
     "timestamp": 1659312788761,
     "user": {
      "displayName": "Carl Michal",
      "userId": "15938250714407745167"
     },
     "user_tz": 420
    },
    "id": "c97a9b97-edeb-45cd-84e4-3c35166e930c"
   },
   "outputs": [],
   "source": [
    "# Run me to create a new spreadsheet, autosaved as lab02_prelab_data.csv\n",
    "de1 = data_entry2.sheet(\"lab02_prelab_data\")"
   ]
  },
  {
   "cell_type": "markdown",
   "id": "294c1fbe-453c-4608-b7fa-752c81611291",
   "metadata": {},
   "source": [
    "After running the python cell above, the generated spreadsheet should be visible with three blank columns. Notice that after running, `lab02_prelab_data.csv` had been created in the `Lab02-prelab/` directory, visible on the side panel to the left. All changes you make to the spreadsheet will be saved immediately.\n",
    "\n",
    "The structure of the spreadsheet is as follows: \n",
    "- Each measurement variable has its own column\n",
    "- The first row shows variable names/titles\n",
    "- The second row indicates the units of each variable\n",
    "- The third and subsequent rows each store unique measurements of these variables\n",
    "\n",
    "The title and units for each column are important; the title is used to name the Python vectors that are generated from the spreadsheet (more on this later). And the units are critical as you know from previous experience in your Physics courses."
   ]
  },
  {
   "cell_type": "markdown",
   "id": "9fd03d30-df1d-4a27-90cb-515941bc7ac0",
   "metadata": {},
   "source": [
    "**Your turn #2:** Fill in the above spreadsheet with the Example Hooke's Law data, also from above. Add the values shown Table 1 to your blank spreadsheet. Use the 'Add Column' button to ensure you have enough room to enter all the data."
   ]
  },
  {
   "cell_type": "markdown",
   "id": "097a7979-8ec8-48e5-8cf0-09b07605b697",
   "metadata": {
    "id": "097a7979-8ec8-48e5-8cf0-09b07605b697"
   },
   "source": [
    "## Generating Python vectors from spreadsheet data"
   ]
  },
  {
   "cell_type": "markdown",
   "id": "ff9fa913-6458-4e22-8075-f51770beb783",
   "metadata": {},
   "source": [
    "After you've entered the example data into your spreadsheet, click the `Generate Vectors` button to convert the spreadsheet data into Python vectors. Each column will be turned into a separate Python vector, each of the same length. The variable name of each vector is determined by taking the title of the column and appending `Vec` to the end. For instance, if we have a column with the title `x1`, then the Python vector created will be `x1Vec`. When you generate the vectors, `data_entry2` will tell you the names of the variables it created, and show you all of the values in each variable. Make sure to look at the output you get after pressing the button - it will also tell you if anything went wrong. "
   ]
  },
  {
   "cell_type": "markdown",
   "id": "0d6058e2-a3e6-4dbf-b8ee-e66e4c36335a",
   "metadata": {
    "id": "0d6058e2-a3e6-4dbf-b8ee-e66e4c36335a"
   },
   "source": [
    "**Your turn #3:** Change one of the zeros in one of your spreadsheet values to the letter 'o', by double-clicking the cell to edit it. Generate the vectors again to see what happens. Don't forget to fix it and recreate the vectors afterwards, making sure each vector has two values stored in it!<br><br>"
   ]
  },
  {
   "cell_type": "markdown",
   "id": "95aa5299-8ae8-40d7-9100-891d40b6aaca",
   "metadata": {},
   "source": [
    "Some general tips regarding this spreadsheet-style tool:\n",
    "- The title of each column should be simple yet descriptive of the variable. For instance, if we are storing measurements of `x1` in a column, we might want to title this column `x1` rather than 'uncompressed length'.\n",
    "- Any special characters or spaces in a title will be replaced with underscores when generating the Python vector variable names. For example, if we have `x 1` as the title of a column, the generated vector will have the variable name `x_1Vec`. \n",
    "- If you want to include any descriptive information for your rows, you can make a comment column, by adding a '$' before the title of that column (e.g., using the title `$comments` or `$notes`). `data_entry2` will know to skip that column when generating vectors. This may be useful for adding a short description of the row, e.g. demo round, small compression, large compression."
   ]
  },
  {
   "cell_type": "markdown",
   "id": "0c918aaf-7090-49ab-be2f-7dad92ab10fe",
   "metadata": {
    "id": "0c918aaf-7090-49ab-be2f-7dad92ab10fe"
   },
   "source": [
    "## Using vectors to make multiple calculations at once"
   ]
  },
  {
   "cell_type": "markdown",
   "id": "41529ed8-f4f6-4b52-8bc7-9730a98812e9",
   "metadata": {
    "id": "41529ed8-f4f6-4b52-8bc7-9730a98812e9"
   },
   "source": [
    "The generated vectors can now be used to make calculations from the data. In our case, we would like to calculate $k$ and $u\\_k$. The great thing about vectors in Python is that they contain all of the measurements of a given variable within a single data structure. This allows us to apply the formula that calculates $k$ or $u\\_k$ to the vectors, rather than to individual measurements. In other words, if we have 7 measurements, instead of applying the formulas of $k$ or $u\\_k$ 7 times, we only have to apply them once!\n",
    "\n",
    "When the input to the formulas is a vector, the output is also a vector. Our end goal is a vector full of $k$ values and another vector full of $dk$ values, one value for each row of data in our spreadsheet (two values in this case because we have two rows of data). Like we did in Lab 01, it is helpful to break down the calculation of $k$ and $dk$ into simpler intermediate calculations to make it easier to spot calculation errors. Let's start with $k$:\n",
    "\n",
    "$$ k = g \\cdot \\frac{|\\Delta m|}{|\\Delta x|} = g \\cdot \\frac{|m_2 - m_1|}{|x_2 - x_1|} $$\n",
    "\n",
    "Let's start with $\\Delta m$ and $\\Delta x$ as intermediate calculations. "
   ]
  },
  {
   "cell_type": "markdown",
   "id": "cdcf416f-5c1c-4a59-a43b-87e3b587f2e8",
   "metadata": {},
   "source": [
    "Run the following cell to calculate `DmVec` ($\\Delta m$ vector) and `DxVec` ($\\Delta x$ vector), and then view the output of the calculated vectors using python's `print` function. The formulas are written assuming your columns are titled `x1`, `x2`, `m1`, and `m2`, so you will need to update the variable names in the formulas if you have made different choices."
   ]
  },
  {
   "cell_type": "code",
   "execution_count": null,
   "id": "ac409536-19ec-4aca-99e4-56f766703279",
   "metadata": {
    "id": "ac409536-19ec-4aca-99e4-56f766703279"
   },
   "outputs": [],
   "source": [
    "# Run me to calculate Dm and Dx and then output the results using print\n",
    "DmVec = m2Vec - m1Vec # change in mass\n",
    "DxVec = x2Vec - x1Vec # displacement\n",
    "print(\"Dm = \", DmVec)\n",
    "print(\"Dx = \", DxVec)"
   ]
  },
  {
   "cell_type": "markdown",
   "id": "67c0d8e7-a53f-4561-8aa6-ff1e3042fb16",
   "metadata": {
    "id": "67c0d8e7-a53f-4561-8aa6-ff1e3042fb16"
   },
   "source": [
    "As expected, each vector contains two *elements* (values), one for each row of data in our spreadsheet. Now we can calculate `k` as a vector."
   ]
  },
  {
   "cell_type": "code",
   "execution_count": null,
   "id": "d42d6e86-c459-4c3c-b2a0-76b15ab97023",
   "metadata": {
    "id": "d42d6e86-c459-4c3c-b2a0-76b15ab97023"
   },
   "outputs": [],
   "source": [
    "# Run me to calcualte k\n",
    "g = 9.801 # acceleration due to gravity, in Vancouver\n",
    "kVec = g * np.abs(DmVec) / np.abs(DxVec)"
   ]
  },
  {
   "cell_type": "markdown",
   "id": "cfeb6c71-0a60-4246-8b0d-b76eee5a7ca5",
   "metadata": {
    "id": "1a5e74ec-1cc5-4503-b09e-d730af0073f3"
   },
   "source": [
    "**Your turn #4:** In the following cell, adapt one of the print statements from above to print out the `k` vector."
   ]
  },
  {
   "cell_type": "code",
   "execution_count": null,
   "id": "f5f7a630-5383-42da-b618-7b0b3d21b0eb",
   "metadata": {
    "id": "f5f7a630-5383-42da-b618-7b0b3d21b0eb"
   },
   "outputs": [],
   "source": [
    "# Use this cell to print the k vector\n"
   ]
  },
  {
   "cell_type": "markdown",
   "id": "986188f0-ed8f-4b6d-ae5c-aff3c44271c0",
   "metadata": {
    "id": "986188f0-ed8f-4b6d-ae5c-aff3c44271c0"
   },
   "source": [
    "## Indexing specific elements of a Python vector"
   ]
  },
  {
   "cell_type": "markdown",
   "id": "98b82844-7ad2-4777-90a8-d12c1f9deb2f",
   "metadata": {
    "id": "98b82844-7ad2-4777-90a8-d12c1f9deb2f"
   },
   "source": [
    "While the vector structure is very handy for making repeated calculations as described above, sometimes we will need to access specific elements of a vector. This is known as *indexing*. Each element in a vector can be indexed with a unique number, starting at zero and increasing by one. \n",
    "\n",
    "So far we have only had two elements in each of our vectors (two rows of data in the spreadsheet). You may have noticed that the rows of data in the spreadsheet were labeled (intentionally), also starting at zero and increasing by one."
   ]
  },
  {
   "cell_type": "markdown",
   "id": "656d1178-723a-4adc-addc-ee2749912bc8",
   "metadata": {},
   "source": [
    "Run the following three cells to see how you can output the values of specific elements within a vector or to perform a calculation using specific elements. Double-check that the values from the first two cells are consistent with your spreadsheet data from above."
   ]
  },
  {
   "cell_type": "code",
   "execution_count": null,
   "id": "cabeb5a5-8507-46c0-a127-4c65e54d59ee",
   "metadata": {
    "id": "cabeb5a5-8507-46c0-a127-4c65e54d59ee"
   },
   "outputs": [],
   "source": [
    "# Run me to print x2Vec[0]\n",
    "print(x2Vec[0])"
   ]
  },
  {
   "cell_type": "code",
   "execution_count": null,
   "id": "dcdd0444-754c-410a-8b2d-2f533500a800",
   "metadata": {
    "id": "dcdd0444-754c-410a-8b2d-2f533500a800"
   },
   "outputs": [],
   "source": [
    "# Run me to print x2Vec[0]\n",
    "print(x2Vec[1])"
   ]
  },
  {
   "cell_type": "code",
   "execution_count": null,
   "id": "541a8ff6-0b45-4fcd-8558-b776118f9758",
   "metadata": {
    "id": "541a8ff6-0b45-4fcd-8558-b776118f9758"
   },
   "outputs": [],
   "source": [
    "# Run me to print the average of kVec[0] and kVec[1]\n",
    "print( (kVec[0] + kVec[1]) / 2 )"
   ]
  },
  {
   "cell_type": "markdown",
   "id": "d35b8eb5-ac8f-48b3-b1b6-201974b66366",
   "metadata": {
    "id": "d35b8eb5-ac8f-48b3-b1b6-201974b66366"
   },
   "source": [
    "**Your turn #5:** Use indexing in the Python cell below to calculate the absolute difference between our two `k` values. \n",
    "\n",
    "Example: You can calculate absolute the value of $2g$ (we defined `g` above) in Python using `np.abs(2*g)`"
   ]
  },
  {
   "cell_type": "code",
   "execution_count": null,
   "id": "4c73c557-7308-4a23-a6a1-af6e740c0dd3",
   "metadata": {
    "id": "4c73c557-7308-4a23-a6a1-af6e740c0dd3"
   },
   "outputs": [],
   "source": [
    "# Use this cell to calculate and print the absolute difference between the two k values\n"
   ]
  },
  {
   "cell_type": "code",
   "execution_count": 1,
   "id": "9267bb00-ccaa-4165-8979-e0f358c4c317",
   "metadata": {
    "tags": []
   },
   "outputs": [],
   "source": [
    "# Reverse the order of the values in your difference and confirm you still get a positive value\n"
   ]
  },
  {
   "cell_type": "markdown",
   "id": "2c350095-10c2-49f4-b8f3-55e060794974",
   "metadata": {
    "id": "2c350095-10c2-49f4-b8f3-55e060794974"
   },
   "source": [
    "## Uncertainty propagation applied to Python vectors"
   ]
  },
  {
   "cell_type": "markdown",
   "id": "06e99739-7d25-4591-a6ae-c99434575634",
   "metadata": {
    "id": "06e99739-7d25-4591-a6ae-c99434575634"
   },
   "source": [
    "Just as we applied the formula of $k$ to our data vectors, the same can be done for the various uncertainty propagation formulas from Lab 1. It is probably best to break down our calculation of $dk$ into simpler calculations. One way to do this would be to first calculate $d \\Delta m$ and $d \\Delta x$, and then use these results to calculate $dk$:\n",
    "\n",
    "$$ d \\Delta m = \\sqrt{(d m_1)^2 + (d m_2)^2} $$\n",
    "\n",
    "$$ d \\Delta x = \\sqrt{(d x_1)^2 + (d x_2)^2} $$\n",
    "\n",
    "$$ dk = k \\cdot \\sqrt{\\left(\\frac{d \\Delta m}{\\Delta m}\\right)^2 + \\left(\\frac{d \\Delta x}{\\Delta x}\\right)^2} $$\n",
    "\n",
    "Examine the python cell below and compare to the equations just given, then run it to calculate $d \\Delta m$."
   ]
  },
  {
   "cell_type": "code",
   "execution_count": null,
   "id": "3b00ff29-ded3-49cd-9a24-4eb8fc054252",
   "metadata": {
    "id": "3b00ff29-ded3-49cd-9a24-4eb8fc054252"
   },
   "outputs": [],
   "source": [
    "# Run me to store the calculation of dDm as dDmVec and print the results\n",
    "dDmVec = np.sqrt(dm1Vec**2 + dm2Vec**2)\n",
    "print(\"dDm = \", dDmVec)"
   ]
  },
  {
   "cell_type": "markdown",
   "id": "c46e1b11-0c44-4c4b-b409-0660df28bcc7",
   "metadata": {
    "id": "c46e1b11-0c44-4c4b-b409-0660df28bcc7"
   },
   "source": [
    "**Your turn #6:** Based on the example above, use the cell below to calculate $d \\Delta x$ as `dDxVec` and print the results."
   ]
  },
  {
   "cell_type": "code",
   "execution_count": null,
   "id": "08bc203c-3971-4ceb-8358-cd42a34ee4f3",
   "metadata": {
    "id": "08bc203c-3971-4ceb-8358-cd42a34ee4f3"
   },
   "outputs": [],
   "source": [
    "# Use this cell to calculate and print dDxVec\n",
    "dDxVec = \n"
   ]
  },
  {
   "cell_type": "markdown",
   "id": "4459d375-1415-44d8-a347-762b2154d51c",
   "metadata": {
    "id": "4459d375-1415-44d8-a347-762b2154d51c"
   },
   "source": [
    "With $d \\Delta m$ and $d \\Delta x$ calculated, all that remains is to use the last formula above to calculate $dk$:"
   ]
  },
  {
   "cell_type": "code",
   "execution_count": null,
   "id": "2f567f9d-7012-48c8-9bb7-d54ee35f8a33",
   "metadata": {
    "id": "2f567f9d-7012-48c8-9bb7-d54ee35f8a33"
   },
   "outputs": [],
   "source": [
    "# Run me to calculate and print dk\n",
    "dkVec = kVec * np.sqrt( (dDmVec/DmVec)**2 + (dDxVec/DxVec)**2 )\n",
    "print(\"dk = \", dkVec)"
   ]
  },
  {
   "cell_type": "markdown",
   "id": "9cf2931f-db40-4579-a177-789e5c2ef1e8",
   "metadata": {
    "id": "9cf2931f-db40-4579-a177-789e5c2ef1e8",
    "tags": []
   },
   "source": [
    "## Introduction to relative uncertainty and how to calculate it"
   ]
  },
  {
   "cell_type": "markdown",
   "id": "1feb1894-0568-44a1-a9c0-cfefda4feb4d",
   "metadata": {
    "id": "1feb1894-0568-44a1-a9c0-cfefda4feb4d"
   },
   "source": [
    "If we have a measurement $A \\pm dA$, the relative uncertainty is the ratio $dA/A$, which is a representation of how large the uncertainty is relative to the value it is attached to. The concept of precision can be tied to the concept of relative uncertainty, where increasing the precision of a measurement corresponds to lowering its relative uncertainty. Let’s have a look at why this quantity might be useful. \n",
    "\n",
    "- Uncertainty on its own can’t be “good” or “bad” without knowing how big it is relative to the measurement "
   ]
  },
  {
   "cell_type": "markdown",
   "id": "9977813e-bd97-4784-8420-4538066a2d6d",
   "metadata": {},
   "source": [
    "**Your turn #7 (self-test question):** Imagine you are comparing 3 different length measurements, trying to compare them in terms of their precision/relative uncertainty. Which of these do you think is most precise/has the lowest relative uncertainty? \n",
    "\n",
    "A) 100 ± 1 m:     The length of a sprinting track \\\n",
    "B) 100 ± 10 m:   The length of a recreational soccer field \\\n",
    "C) 1000 ± 10 m: The distance to the store \\\n",
    "D) More than one of these is tied for most precise\n",
    "\n",
    "Click on the '+' of the hidden cell below to reveal the answer."
   ]
  },
  {
   "cell_type": "markdown",
   "id": "28271d13-9dbf-4a2d-bab9-7911f8716fa8",
   "metadata": {
    "id": "28271d13-9dbf-4a2d-bab9-7911f8716fa8",
    "jp-MarkdownHeadingCollapsed": true,
    "tags": []
   },
   "source": [
    "### Answer"
   ]
  },
  {
   "cell_type": "markdown",
   "id": "4d749de8-41dc-4c06-860d-1f443714da64",
   "metadata": {
    "id": "4d749de8-41dc-4c06-860d-1f443714da64"
   },
   "source": [
    "The correct answer is D. Let’s do some quick calculations to see why. For option A, the relative uncertainty is 1m/100m = 0.01 = 1%. For option B, the relative uncertainty is 10m/100m = 0.1 = 10%. For option C, the relative uncertainty is 10m/1000m = 0.01 = 1%. Although A has the smallest absolute uncertainty (1m), when we look at relative uncertainty we see that options A and C have the same relative uncertainties, which are both 0.01."
   ]
  },
  {
   "cell_type": "markdown",
   "id": "7c9cc8c3-aa5d-4ce7-9c5a-a6f4a5a1ed69",
   "metadata": {
    "id": "7c9cc8c3-aa5d-4ce7-9c5a-a6f4a5a1ed69"
   },
   "source": [
    "### Calculating relative uncertainty in $k$"
   ]
  },
  {
   "cell_type": "markdown",
   "id": "9250a665-e542-48d7-aacc-64eb1096390b",
   "metadata": {
    "id": "9250a665-e542-48d7-aacc-64eb1096390b"
   },
   "source": [
    "**Your turn #8:** In the following Python cell the the definition of relative uncertainty above to calculate and print the relative uncertainty of each $k$ (`kVec`) value using only a single line of code. Which of the two values of $k$ is more precise?"
   ]
  },
  {
   "cell_type": "code",
   "execution_count": 1,
   "id": "8a73bfd6-ca30-4e7c-a8f6-89c31da601a2",
   "metadata": {
    "id": "8a73bfd6-ca30-4e7c-a8f6-89c31da601a2"
   },
   "outputs": [],
   "source": [
    "# Use a single line of code in this cell to calculate the relative \n",
    "# uncertainty for each of the k values and print the result\n"
   ]
  },
  {
   "cell_type": "markdown",
   "id": "05e863f3-4fee-472d-9679-c972b00a09e8",
   "metadata": {
    "id": "05e863f3-4fee-472d-9679-c972b00a09e8"
   },
   "source": [
    "## Copying a spreadsheet"
   ]
  },
  {
   "cell_type": "markdown",
   "id": "09975c8b-625c-4159-97e7-ecbdac7a2c02",
   "metadata": {
    "id": "09975c8b-625c-4159-97e7-ecbdac7a2c02"
   },
   "source": [
    "It will often be useful to make a copy of an existing spreadsheet so that we can add or modify data without changing the original spreadsheet. This is especially worthwhile if the structure of the new spreadsheet (i.e. the column titles and units) needs to be identical or very close to the existing spreadsheet.\n",
    "\n",
    "The `data_entry2` library makes copying spreadsheets straightforward. Take a look at the code below to see how it is done, then run the cell when you are ready."
   ]
  },
  {
   "cell_type": "code",
   "execution_count": null,
   "id": "f1a91f39-5fe9-4624-b988-330f50abe718",
   "metadata": {
    "id": "f1a91f39-5fe9-4624-b988-330f50abe718"
   },
   "outputs": [],
   "source": [
    "# Run me to copy lab02_prelab_data.csv to lab02_prelab_data_edited.csv\n",
    "\n",
    "oldFilename = \"lab02_prelab_data\" # the filename of the spreadsheet that you want to copy\n",
    "newFilename = \"lab02_prelab_data_edited\" # what you want filename of the copy to be\n",
    "\n",
    "# 'data_entry2' has a function 'sheet_copy' that first searches for oldFilename in the working directory.\n",
    "# If oldFilename does not exist, it will let you know in an error message. If oldFilename does exist,\n",
    "# 'sheet_copy' will make a copy of the spreadsheet and save it as newFilename. However, if newFilename\n",
    "# already exists in the working directory, 'copy_sheet' will instead load in newFilename instead of \n",
    "# overwriting it.\n",
    "\n",
    "# So - the first time you run this cell, the old spreadsheet will be copied to the new name.\n",
    "# Every later time you execute this cell, it just uses the new spreadsheet, but never copies it again.\n",
    "\n",
    "de2 = data_entry2.sheet_copy(oldFilename, newFilename) "
   ]
  },
  {
   "cell_type": "markdown",
   "id": "db993845-faa4-4141-9a03-b381f84359d2",
   "metadata": {},
   "source": [
    "You can now edit the above spreadsheet, with all changes being saved to the new filename `lab02_prelab_data_edited.csv`. \n",
    "\n",
    "**Important:** if the column titles remain the same, then all of your vector names in the new spreadsheet will be the same as the vector names in the old spreadsheet. Thus, clicking 'Generate Vectors' will overwrite the vectors you generated from the previous spreadsheet, which will affect any Python cells involving these vectors if you were to (re-)run them. \n",
    "\n",
    "***Therefore, it is extremely important to run your Python analysis cells in a logical order, after ensuring the correct data have been used to generate vectors.***"
   ]
  },
  {
   "cell_type": "markdown",
   "id": "c4cc3069-2efc-4117-abd2-0a27396c96eb",
   "metadata": {
    "id": "c4cc3069-2efc-4117-abd2-0a27396c96eb"
   },
   "source": [
    "**Your turn #9:** Let's see this in action.\n",
    "1. Change the 'x1' value in row 0 of the above spreadsheet from 0.235 m to 0.135 m.\n",
    "2. Click 'Generate Vectors'.\n",
    "3. Scroll up to where we calculate $\\Delta m$ and $\\Delta x$ then $k$ (under the 'Using vectors to make multiple calculations at once' heading) and re-run these cells in order. You should see element 0 of `kVec` change from `23.36488393 N/m` to `218.07225 N/m`."
   ]
  },
  {
   "cell_type": "markdown",
   "id": "c7a09178-62b5-4396-948f-fa19dcf3c64f",
   "metadata": {},
   "source": [
    "If you ever become confused, you can always save your notebook, then click `Edit -> Clear All Outputs`. This will clear the information from all stored Python variables. Then you can then re-run your cells in the order that they appear in the notebook."
   ]
  },
  {
   "cell_type": "markdown",
   "id": "579d7db6-766e-46fd-b518-ede8679ffc97",
   "metadata": {},
   "source": [
    "**Your turn #10:** Try this now. Use `Edit -> Clear All Outputs` from the menu above and then run each Python cell in order, clicking 'Generate Vectors' immediately after loading each spreadsheet. And then run the following cell."
   ]
  },
  {
   "cell_type": "code",
   "execution_count": null,
   "id": "485487d8-b7e0-4d5b-b311-a523ae2c95e8",
   "metadata": {
    "id": "485487d8-b7e0-4d5b-b311-a523ae2c95e8"
   },
   "outputs": [],
   "source": [
    "# Run me to print out the values initially stored in kVec and then calculate and print\n",
    "# new values according to the second spreadsheet\n",
    "print(\"old k = \", kVec)\n",
    "DmVec = m2Vec - m1Vec # change in mass\n",
    "DxVec = x2Vec - x1Vec # displacement\n",
    "kVec = g * np.abs(DmVec) / np.abs(DxVec)\n",
    "print(\"new k = \", kVec)"
   ]
  },
  {
   "cell_type": "markdown",
   "id": "49fd20e7-088b-4026-b13f-dfd41b8263bd",
   "metadata": {
    "id": "49fd20e7-088b-4026-b13f-dfd41b8263bd"
   },
   "source": [
    "The Python cell above will print out `kVec` twice, but if you've run everything in the specified order, element 0 in the first print statement ('old k') will be 23.36488393 N/m, whereas in the second print statement ('new k') element 0 will be 218.07225 N/m.\n",
    "\n",
    "This may seem strange since we are asking Python to print out the same variable, `kVec`, but we are getting different results. However, it is the order that matters. 'kVec' is initially defined under the **'Using vectors to make multiple calculations at once'** heading, where it is using $\\Delta m$ and $\\Delta x$ from the old spreadsheet data. When we generate vectors from the new spreadsheet, our data vectors have been overwritten, but until we re-calculate $\\Delta m$ and $\\Delta x$ then $k$ using these new data vectors, the variable `kVec` will be unchanged. \n",
    "\n",
    "Therefore, even though we load in the new data vectors above, the first time we print out `kVec` it gives us $k$ based on the old data vectors. However, in the lines of code that follow, we re-calculate $\\Delta m$ and $\\Delta x$ then $k$. Finally, when we print out `kVec` again it gives us $k$ from the new data vectors."
   ]
  },
  {
   "cell_type": "markdown",
   "id": "3af98fa7-cf75-4195-b352-5b17c7ab973a",
   "metadata": {},
   "source": [
    "**Your turn #11:** What do you think will happen if you execute the above cell a second time? Try it and see if you are correct.\n",
    "<br><br>"
   ]
  },
  {
   "cell_type": "markdown",
   "id": "cfbb880c-c14e-45ad-94e8-adc399e92f4c",
   "metadata": {},
   "source": [
    "This result may not be what you expected. The important thing to remember is that the values you calculate and display depend on the **order in which cells are executed**. You must ensure that your calculations make sense when executed in the order they appear in the notebook, and you must be careful when you scroll back and execute earlier cells.\n",
    "\n",
    "What we gain here is not having to rewrite our analysis code each time we copy and edit a spreadsheet. In a typical lab, you may do the following:\n",
    "\n",
    "1. Collect and store initial data in a spreadsheet.\n",
    "2. Generate vectors.\n",
    "3. Run some analysis code to obtain initial results.\n",
    "3. In an improvement round, copy the spreadsheet to a later point in the notebook and update the data in the new spreadsheet.\n",
    "4. Generate new vectors.\n",
    "5. Copy the previous analysis code to a new cell below the copied spreadsheet, and then run the analysis code from the new location to obtain new results.\n",
    "\n",
    "Doing so in this order preserves the history of what you did from a data collection and analysis point of view during the lab, which is helpful when it comes to reflecting and summarizing your results."
   ]
  },
  {
   "cell_type": "markdown",
   "id": "8e10a05a",
   "metadata": {},
   "source": [
    "# Preparing your Lab 02 notebook\n",
    "In this final set of tasks you will prepare your Lab 02 notebook for data collection and analysis\n",
    "\n",
    "**Your turn #12:**\n",
    "1. Open the Lab 02 Instructions on Canvas and take a couple minutes to read through them so that you have a sense of how you will be spending your time during the lab. \n",
    "2. Focusing on Part C, open up your Lab 02 Notebook and notice that we have provided you with a ready-to-go spreadsheet with one round of data from the prelab. During the lab you will overwrite these data with your own data, but we provide them here so that you can copy over your analysis code from the prelab into Part C and verify that it is working correctly.\n",
    "3. Go through this prelab notebook and collect all of the code necessary to calculate `k` and `dk` and copy it into the Lab 02 Notebook Part C code cell(s). This means you will need all of the code used to calculate the intermediate values leading to and including the calculations: `kVec = g * np.abs(DmVec) / np.abs(DxVec)` and `dkVec = kVec * np.sqrt( (dDmVec/DmVec)**2 + (dDxVec/DxVec)**2 )`.\n",
    "4. Test your code in your Lab 02 notebook using the provided prelab data to ensure you are getting the same values in that notebook as in this one."
   ]
  },
  {
   "cell_type": "markdown",
   "id": "8d4e78ed-d571-49ef-9df7-40b3e58eb9a8",
   "metadata": {},
   "source": [
    "# Submit\n",
    "\n",
    "Steps for submission:\n",
    "\n",
    "1. Click: Run => Run_All_Cells\n",
    "2. Read through the notebook to ensure all the cells executed correctly and without error.\n",
    "3. Correct any errors you find.\n",
    "4. File => Save_and_Export_Notebook_As->HTML\n",
    "5. Upload the HTML document to the lab submission assignment on Canvas."
   ]
  },
  {
   "cell_type": "code",
   "execution_count": null,
   "id": "0a3b6d2f-b3f0-4288-8217-ce2c4c61989f",
   "metadata": {},
   "outputs": [],
   "source": [
    "# The following function will display tables based on the data currently\n",
    "# stored in your data_entry2 spreadsheets (e.g., de1 and de2). Please do not modify this cell.\n",
    "display_sheets()"
   ]
  }
 ],
 "metadata": {
  "colab": {
   "name": "Copy of Lab02_prelab_part2.ipynb",
   "provenance": [
    {
     "file_id": "1nldQYNRQdOO4q4QpqkiyoRpFEdn5LbUY",
     "timestamp": 1659312474970
    }
   ]
  },
  "kernelspec": {
   "display_name": "Python 3 (ipykernel)",
   "language": "python",
   "name": "python3"
  },
  "language_info": {
   "codemirror_mode": {
    "name": "ipython",
    "version": 3
   },
   "file_extension": ".py",
   "mimetype": "text/x-python",
   "name": "python",
   "nbconvert_exporter": "python",
   "pygments_lexer": "ipython3",
   "version": "3.10.8"
  },
  "widgets": {
   "application/vnd.jupyter.widget-state+json": {
    "state": {},
    "version_major": 2,
    "version_minor": 0
   }
  }
 },
 "nbformat": 4,
 "nbformat_minor": 5
}
