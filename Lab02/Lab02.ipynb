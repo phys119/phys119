{
 "cells": [
  {
   "cell_type": "markdown",
   "id": "43bb25ef-99a2-4f0f-97ef-55d301a83ebe",
   "metadata": {},
   "source": [
    "# Lab 02 - Hooke's Law"
   ]
  },
  {
   "cell_type": "markdown",
   "id": "68548ed2-c93f-45d2-9d2f-2dd1f7453557",
   "metadata": {
    "tags": []
   },
   "source": [
    "## Housekeeping Task before you get started: Ensure Widget State Saving is enabled:\n",
    "Please click on the Settings menu above and ensure there is a check-mark in front of: \"Save Widget State Automatically\". You may have done this for Lab 01, but if there is no check-mark, click on the setting to turn it on. Afterward, reload your browser tab (eg CTRL-R, or click on the URL and hit enter).\n",
    "* The setting is a toggle, so if you click on it when it is on, it will turn it off. Please ensure it is turned on!"
   ]
  },
  {
   "cell_type": "code",
   "execution_count": null,
   "id": "73304620-b011-449e-9a34-6cfc5988e88f",
   "metadata": {
    "tags": []
   },
   "outputs": [],
   "source": [
    "# These should always be at the top (and don't forget to execute them)\n",
    "%reset -f\n",
    "import numpy as np\n",
    "import data_entry2"
   ]
  },
  {
   "cell_type": "markdown",
   "id": "3e7bbdc1-d7a1-4d96-bf6d-2d19ff732090",
   "metadata": {
    "tags": []
   },
   "source": [
    "Edit this cell and provide the information requested:\n",
    "\n",
    "- Your name:\n",
    "- Your student number:\n",
    "- Partner's name:\n"
   ]
  },
  {
   "cell_type": "markdown",
   "id": "21fdbeb6-eca3-469e-8039-275c7c8424d7",
   "metadata": {
    "tags": []
   },
   "source": [
    "## Part A - Introduction"
   ]
  },
  {
   "cell_type": "markdown",
   "id": "e6c5b461-43b8-4065-895f-5032e4ac41fd",
   "metadata": {},
   "source": [
    "*(Optional) Your notes on TA feedback:*"
   ]
  },
  {
   "cell_type": "markdown",
   "id": "fcd741a7-67f7-4817-810f-abac52dd915a",
   "metadata": {},
   "source": []
  },
  {
   "cell_type": "markdown",
   "id": "9c464e96-f995-43f8-99c8-3f1aa8a5efd9",
   "metadata": {},
   "source": [
    "## Part B - Uncertainty Discussions and Relative Uncertainty"
   ]
  },
  {
   "cell_type": "markdown",
   "id": "a235e21d-03e1-4a12-83db-406747f18b25",
   "metadata": {},
   "source": [
    "*(Optional) Your notes on the uncertainty discussions:*"
   ]
  },
  {
   "cell_type": "markdown",
   "id": "e31600cc-4dbe-4add-a6cf-474f76c3f43f",
   "metadata": {},
   "source": []
  },
  {
   "cell_type": "markdown",
   "id": "950791c5-89e9-49d9-9840-653d3e411f61",
   "metadata": {},
   "source": [
    "## Part C - First round of measurements"
   ]
  },
  {
   "cell_type": "markdown",
   "id": "34b33de2-887c-4bf0-b2f6-534c23a4fddd",
   "metadata": {},
   "source": [
    "*Measurement plan:*"
   ]
  },
  {
   "cell_type": "markdown",
   "id": "f829c3f0-937e-4ab3-81e3-8cca68b1c6db",
   "metadata": {},
   "source": []
  },
  {
   "cell_type": "code",
   "execution_count": null,
   "id": "29a8d24c-fa66-42d1-a5ac-6119fc49bb10",
   "metadata": {
    "tags": []
   },
   "outputs": [],
   "source": [
    "# Run me to load the spreadsheet lab02_data_round1.csv\n",
    "# with preloaded data from the prelab\n",
    "# - Collect ONE ROW of data for Part C by overwriting these values\n",
    "\n",
    "de1 = data_entry2.sheet(\"lab02_data_round1\")"
   ]
  },
  {
   "cell_type": "code",
   "execution_count": null,
   "id": "5d5038cd-bc63-4bbf-aa02-9a42c29e183c",
   "metadata": {
    "tags": []
   },
   "outputs": [],
   "source": [
    "# Use this cell to calculate k, dk and dk/k\n",
    "# - Add/use additional cells as needed\n",
    "\n"
   ]
  },
  {
   "cell_type": "code",
   "execution_count": null,
   "id": "5ffbc746-352c-433a-b2fb-1cc2b6e133bc",
   "metadata": {},
   "outputs": [],
   "source": []
  },
  {
   "cell_type": "code",
   "execution_count": null,
   "id": "69ab79ce-204e-4bce-9930-e5cb8fb6379c",
   "metadata": {},
   "outputs": [],
   "source": []
  },
  {
   "cell_type": "markdown",
   "id": "716c733d-b549-4dac-81a9-954820d3868b",
   "metadata": {},
   "source": [
    "## Part D - Group Discussion and Plan for Improvements"
   ]
  },
  {
   "cell_type": "markdown",
   "id": "33f4bb39-2bb0-453d-9e11-69f1f6865bba",
   "metadata": {},
   "source": [
    "*Notes from group discussion:*"
   ]
  },
  {
   "cell_type": "markdown",
   "id": "0bc55fd0-2d59-432f-a704-213cd47890a1",
   "metadata": {},
   "source": []
  },
  {
   "cell_type": "markdown",
   "id": "ea2e13e9-4d20-4dd7-9e9e-1d0bec2d63e9",
   "metadata": {},
   "source": [
    "*Plan for improvements:*"
   ]
  },
  {
   "cell_type": "markdown",
   "id": "ddb3dcd7-0571-4301-a81a-5e22e8e6ac47",
   "metadata": {},
   "source": []
  },
  {
   "cell_type": "markdown",
   "id": "a3987179-8dc3-4e07-a566-1886f2ede8e9",
   "metadata": {},
   "source": [
    "## Part E - Cycles of Improvement"
   ]
  },
  {
   "cell_type": "code",
   "execution_count": null,
   "id": "9211de0c-c33c-443c-8304-41ea35c42e96",
   "metadata": {
    "tags": []
   },
   "outputs": [],
   "source": [
    "# Uncomment the code below to set up a new spreadsheet for your improvement round data. \n",
    "# This code will copy your old spreadsheet so that all you have to do is overwrite the \n",
    "# data from your initial round with your improvement round data. IMPORTANT NOTE: do not \n",
    "# run the code below until you are finished with your data entry in Part D. \n",
    "\n",
    "# de2 = data_entry2.sheet_copy(\"lab02_data_round1\", \"lab02_data_round2\")"
   ]
  },
  {
   "cell_type": "code",
   "execution_count": null,
   "id": "ff812211-dd10-4e15-80b9-a5a2ca322e67",
   "metadata": {
    "tags": []
   },
   "outputs": [],
   "source": [
    "# Use this cell for calculations. Add additional cells as needed\n",
    "\n"
   ]
  },
  {
   "cell_type": "markdown",
   "id": "0c899e1c-c646-4994-8016-bdb3431e2267",
   "metadata": {},
   "source": [
    "*Reflections:*"
   ]
  },
  {
   "cell_type": "markdown",
   "id": "4a6b6422-0a88-4422-a183-15d3daddc508",
   "metadata": {},
   "source": []
  },
  {
   "cell_type": "markdown",
   "id": "812ddb11-10f2-44e5-b981-955228163f62",
   "metadata": {
    "tags": []
   },
   "source": [
    "## Summary of Results"
   ]
  },
  {
   "cell_type": "markdown",
   "id": "7b501760-c8d8-40d0-816e-669e6fd08ea0",
   "metadata": {},
   "source": []
  },
  {
   "cell_type": "markdown",
   "id": "1e64390b-2f48-4a9e-a90c-f0a2299a3eec",
   "metadata": {},
   "source": [
    "# Submit\n",
    "\n",
    "Steps for submission:\n",
    "\n",
    "1. Click: Run => Run_All_Cells\n",
    "2. Read through the notebook to ensure all the cells executed correctly and without error.\n",
    "3. Correct any problems you find.\n",
    "4. File => Save_and_Export_Notebook_As => HTML\n",
    "5. Upload the HTML document to the lab submission assignment on Canvas."
   ]
  },
  {
   "cell_type": "code",
   "execution_count": null,
   "id": "553003fb-7b55-45f2-ac58-ff105d48d6bd",
   "metadata": {},
   "outputs": [],
   "source": [
    "# This cell will produce copies of any spreadsheets you have created. Please do not modify.\n",
    "display_sheets()"
   ]
  }
 ],
 "metadata": {
  "kernelspec": {
   "display_name": "Python 3 (ipykernel)",
   "language": "python",
   "name": "python3"
  },
  "language_info": {
   "codemirror_mode": {
    "name": "ipython",
    "version": 3
   },
   "file_extension": ".py",
   "mimetype": "text/x-python",
   "name": "python",
   "nbconvert_exporter": "python",
   "pygments_lexer": "ipython3",
   "version": "3.10.8"
  },
  "widgets": {
   "application/vnd.jupyter.widget-state+json": {
    "state": {},
    "version_major": 2,
    "version_minor": 0
   }
  }
 },
 "nbformat": 4,
 "nbformat_minor": 5
}
