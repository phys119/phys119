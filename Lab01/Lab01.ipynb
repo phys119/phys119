{
 "cells": [
  {
   "cell_type": "markdown",
   "id": "32573df8-8e9b-450f-aa6a-64c28ff8c2a2",
   "metadata": {
    "id": "32573df8-8e9b-450f-aa6a-64c28ff8c2a2"
   },
   "source": [
    "# Lab 01 - Introduction to Experimentation"
   ]
  },
  {
   "cell_type": "markdown",
   "id": "ad4f96a4-75f4-4ab1-964e-708e2a822ad2",
   "metadata": {},
   "source": [
    "***About this notebook template:*** *This notebook template provides the structure for keeping your lab notes, recording data and performing calculations. Please refer to the Lab 01 Instructions for detailed information about what to put in each section.*"
   ]
  },
  {
   "cell_type": "markdown",
   "id": "1fc24f31-42da-4dae-9c23-4decea4eae25",
   "metadata": {},
   "source": [
    "**<font color = \"red\">Before proceeding:</font>** Please run the Code cell immediately below by using the keyboard shortcut `Shift + Enter`, by choosing `Run -> Run Selected Cells` from the menu at the top of this webpage, or by clicking the `▶` (play) button in the top toolbar just above this notebook. This cell will clear the python environment and import the necessary Python packages to run your data analysis in today's lab."
   ]
  },
  {
   "cell_type": "code",
   "execution_count": 4,
   "id": "26726484-93c7-499a-9f34-d4656ef6df5a",
   "metadata": {
    "id": "26726484-93c7-499a-9f34-d4656ef6df5a",
    "tags": []
   },
   "outputs": [],
   "source": [
    "# Run this cell first\n",
    "\n",
    "# Clear the python environment\n",
    "%reset -f          \n",
    "\n",
    "# Import the numpy library\n",
    "import numpy as np "
   ]
  },
  {
   "cell_type": "markdown",
   "id": "f29618e6-10e5-4288-b02a-2dae90c5eaa8",
   "metadata": {},
   "source": [
    "## Notebook header\n",
    "*Edit this cell to provide the requested information.*\n",
    "\n",
    "- Your Name:  \n",
    "- Your Student Number:  \n",
    "- Your Partner's Name:  "
   ]
  },
  {
   "cell_type": "markdown",
   "id": "2e5ce4e0-a94f-4fbe-a0bc-a772a3d06356",
   "metadata": {},
   "source": [
    "## Part A - Introduction\n",
    "*You do not need to take any notes here*"
   ]
  },
  {
   "cell_type": "markdown",
   "id": "1699f60d-35fb-4ea7-8dbd-83b391307428",
   "metadata": {
    "id": "1699f60d-35fb-4ea7-8dbd-83b391307428"
   },
   "source": [
    "## Part B - Familiarization with the experiment"
   ]
  },
  {
   "cell_type": "markdown",
   "id": "266476fd-076d-4dd1-a34b-44d225c7f079",
   "metadata": {},
   "source": []
  },
  {
   "cell_type": "markdown",
   "id": "77e10b83-af27-4acc-88b0-17cea68560b0",
   "metadata": {},
   "source": []
  },
  {
   "cell_type": "markdown",
   "id": "72ba03be-2223-4099-a292-921436e658da",
   "metadata": {
    "id": "72ba03be-2223-4099-a292-921436e658da",
    "tags": []
   },
   "source": [
    "## Part C - Your first spring constant measurement"
   ]
  },
  {
   "cell_type": "code",
   "execution_count": null,
   "id": "696185dd-d5b6-46ee-81b0-66f4815b8050",
   "metadata": {
    "id": "696185dd-d5b6-46ee-81b0-66f4815b8050",
    "tags": []
   },
   "outputs": [],
   "source": [
    "# Type in your measured values to the right of the '=' to define each Python variable below\n",
    "# - Don't forget to add units to the comments\n",
    "\n",
    "m1 = # Uncompressed mass reading\n",
    "x1 = # Uncompressed height\n",
    "m2 = # Compressed mass reading\n",
    "x2 = # Compressed height\n",
    "\n",
    "# Write some additional code in this cell to calculate k\n",
    "# - It may be helpful to define intermediate variables, such as\n",
    "#   delta_m, to make your calculation easier to follow\n",
    "\n"
   ]
  },
  {
   "cell_type": "markdown",
   "id": "09226634-2ade-4a30-b8f4-877731012563",
   "metadata": {},
   "source": [
    "*Additional notes and observations:*\n",
    "\n",
    "* ..\n",
    "* ..\n"
   ]
  },
  {
   "cell_type": "markdown",
   "id": "63098a92-652e-4ef4-a8ba-4d53430cee1a",
   "metadata": {},
   "source": []
  },
  {
   "cell_type": "markdown",
   "id": "a332b72c-8553-44c0-ad0c-c2ea9267bb14",
   "metadata": {
    "id": "a332b72c-8553-44c0-ad0c-c2ea9267bb14"
   },
   "source": [
    "## Part D - Discussion with the other groups at your table"
   ]
  },
  {
   "cell_type": "markdown",
   "id": "7e5371d1-f0a2-4284-9ced-d2173eb366f4",
   "metadata": {},
   "source": []
  },
  {
   "cell_type": "markdown",
   "id": "5d074ddc-ffc9-4448-9ee5-651924e40e94",
   "metadata": {},
   "source": []
  },
  {
   "cell_type": "markdown",
   "id": "e4a6be0c-5f4d-41db-ad46-dde8814a6c8f",
   "metadata": {
    "id": "e4a6be0c-5f4d-41db-ad46-dde8814a6c8f"
   },
   "source": [
    "## Part E -  Interactive lesson on characterizing measurement uncertainties"
   ]
  },
  {
   "cell_type": "markdown",
   "id": "e0185724-9a07-4aee-b589-b5f47e06e1fe",
   "metadata": {},
   "source": [
    "*(Optional) You are welcome to add notes and observations from the interactive lesson:*\n",
    "\n",
    "* ..\n",
    "* .."
   ]
  },
  {
   "cell_type": "markdown",
   "id": "c55731ca-0576-419f-9b75-4a7e78b76eb1",
   "metadata": {
    "tags": []
   },
   "source": [
    "## Part F - Uncertainty characterization questions"
   ]
  },
  {
   "cell_type": "markdown",
   "id": "2ac29475-6c47-4d2f-9619-083aee33000e",
   "metadata": {
    "tags": []
   },
   "source": [
    "1. ..\n",
    "2. ..\n",
    "3. .."
   ]
  },
  {
   "cell_type": "markdown",
   "id": "4536d2bb-9381-4bd0-989b-b2433f8a862b",
   "metadata": {
    "id": "4536d2bb-9381-4bd0-989b-b2433f8a862b"
   },
   "source": [
    "## Part G - Redoing your spring constant measurement and include measurement uncertainties"
   ]
  },
  {
   "cell_type": "markdown",
   "id": "15bc9a02-c33e-4472-a0ed-ecb493882fe4",
   "metadata": {
    "id": "15bc9a02-c33e-4472-a0ed-ecb493882fe4"
   },
   "source": [
    "*Notes, observations and discussions:*\n",
    "* .."
   ]
  },
  {
   "cell_type": "code",
   "execution_count": null,
   "id": "23e66639-04d1-4e98-b85f-b0e2926555a5",
   "metadata": {},
   "outputs": [],
   "source": [
    "# Record your new data. Make sure to include units and important descriptions of the variables.\n",
    "\n",
    "m1 = \n",
    "dm1 = \n",
    "\n",
    "x1 = \n",
    "dx1 = \n",
    "\n",
    "m2 = \n",
    "dm2 =\n",
    "\n",
    "x2 = \n",
    "dx2 = \n"
   ]
  },
  {
   "cell_type": "code",
   "execution_count": null,
   "id": "942eb25f-dcd0-4c89-8fb3-56e4caf27ca1",
   "metadata": {},
   "outputs": [],
   "source": [
    "# Calculation can be done in this cell. Add additional cells as needed\n",
    "# Tip: In Python, you can calculate a square root using np.sqrt(..)\n",
    "\n"
   ]
  },
  {
   "cell_type": "markdown",
   "id": "94a24672-b260-43d6-89dc-2c2c746d5081",
   "metadata": {},
   "source": []
  },
  {
   "cell_type": "markdown",
   "id": "3c8edc40-cc6a-43b2-9554-a16a0e07fbb1",
   "metadata": {
    "id": "15bc9a02-c33e-4472-a0ed-ecb493882fe4"
   },
   "source": [
    "*More notes, observations and discussions:*\n",
    "* .."
   ]
  },
  {
   "cell_type": "markdown",
   "id": "ab48adcd-5007-458d-8512-9773bf78f09e",
   "metadata": {
    "id": "ab48adcd-5007-458d-8512-9773bf78f09e"
   },
   "source": [
    "# Part H - Summary of results (start this by 2h30 after the start of the lab)"
   ]
  },
  {
   "cell_type": "markdown",
   "id": "6e21ed68-2dbe-4153-998e-62a71faa589a",
   "metadata": {},
   "source": []
  },
  {
   "cell_type": "markdown",
   "id": "423ce094-c372-4cf7-a4fa-52eb94537eaf",
   "metadata": {},
   "source": []
  },
  {
   "cell_type": "markdown",
   "id": "7517a771-b9f8-45bd-bed6-019c5242ccb6",
   "metadata": {
    "id": "7517a771-b9f8-45bd-bed6-019c5242ccb6"
   },
   "source": [
    "# Submit your lab by 2h50m after the start of lab"
   ]
  },
  {
   "cell_type": "markdown",
   "id": "e0ef016b-4d17-4c3c-bfda-7c3ae55024a4",
   "metadata": {
    "id": "e0ef016b-4d17-4c3c-bfda-7c3ae55024a4"
   },
   "source": [
    "Steps for submission:\n",
    "\n",
    "1. Click: Run => Run_All_Cells\n",
    "2. Read through the notebook to ensure all the cells executed correctly and without error.\n",
    "3. Correct any errors you find!\n",
    "4. File => Save_and_Export_Notebook_As->HTML\n",
    "5. Upload the HTML document to the lab submission assignment on Canvas.\n",
    "\n",
    "You will receive a participation grade this week for a reasonable submission as well as feedback from a TA for next week."
   ]
  }
 ],
 "metadata": {
  "colab": {
   "collapsed_sections": [],
   "name": "Lab01_student_version_v2.ipynb",
   "provenance": []
  },
  "kernelspec": {
   "display_name": "Python 3 (ipykernel)",
   "language": "python",
   "name": "python3"
  },
  "language_info": {
   "codemirror_mode": {
    "name": "ipython",
    "version": 3
   },
   "file_extension": ".py",
   "mimetype": "text/x-python",
   "name": "python",
   "nbconvert_exporter": "python",
   "pygments_lexer": "ipython3",
   "version": "3.10.8"
  },
  "widgets": {
   "application/vnd.jupyter.widget-state+json": {
    "state": {},
    "version_major": 2,
    "version_minor": 0
   }
  }
 },
 "nbformat": 4,
 "nbformat_minor": 5
}
