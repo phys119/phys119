{
 "cells": [
  {
   "cell_type": "markdown",
   "id": "88c0f1e3-21cb-420a-bfb2-079c3fbc1796",
   "metadata": {
    "id": "88c0f1e3-21cb-420a-bfb2-079c3fbc1796"
   },
   "source": [
    "# Lab 05 Prelab"
   ]
  },
  {
   "cell_type": "markdown",
   "id": "7c0d45fd-730f-49fe-9336-872e5a629a17",
   "metadata": {
    "id": "7c0d45fd-730f-49fe-9336-872e5a629a17"
   },
   "source": [
    "## Ohm's Law, Plots, and Models"
   ]
  },
  {
   "cell_type": "markdown",
   "id": "e8882a35-29d6-4fda-9909-d4760729c62a",
   "metadata": {
    "id": "e8882a35-29d6-4fda-9909-d4760729c62a"
   },
   "source": [
    "Ohm's law relates the electrical potential applied across a device ($V$) to the current that passes through it, $I$.\n",
    "Like Hooke's law, Ohm's law isn't really a physical law, rather it is an empirical relation that does a good job of describing many devices or materials under specific ranges of circumstances. Ohm's law takes the form:\n",
    "\n",
    "$$\n",
    "V = IR.\n",
    "$$\n",
    "\n",
    "An example related to this lab is as follows. Consider the circuit below, where we have a voltage source (a battery) with an adjustable voltage $V_s$. The battery is connected to two resistor of unknown, but fixed resistances $R_1$ and $R_2$. The resistors are connected in series with the battery such that the current, $I$, through each of the resistors is the same.\n",
    "\n",
    "We will perform our investigation making measurements on resistor $R_1$. We have access to tools to measure the voltage $V_r$ (using a voltmeter) across resistor $R_1$, as well as the current $I$ (using an ammeter) through the circuit loop. Knowing that we can vary the voltage $V_s$ to vary the measured values $V_r$ and $I$, how do we determine the resistance $R_1$?\n",
    "\n",
    "<center><img src=\"LoopCircuit.png\" width=\"180\" height=\"240\"/></center>"
   ]
  },
  {
   "cell_type": "markdown",
   "id": "cadf25d0-c00b-4ed9-891d-91324ca43a69",
   "metadata": {
    "id": "cadf25d0-c00b-4ed9-891d-91324ca43a69"
   },
   "source": [
    "Given multiple datapoints,\n",
    "\n",
    "* $(V_{r,1} \\pm \\delta V_{r,1}, I_1 \\pm \\delta I_1)$,\n",
    "* $(V_{r,2} \\pm \\delta V_{r,2}, I_2 \\pm \\delta I_2)$,\n",
    "* $\\ldots,$\n",
    "* $(V_{r,n} \\pm \\delta V_{r,n}, I_n \\pm \\delta I_n)$,\n",
    "\n",
    "a useful way to visualize the relationship (and extract information from the relationship) is by plotting the two variables against each other. We have done so below for a mock dataset of voltages and currents. It is worth noting that this issue is one of great general interest in science. We may have two variables which are related---in this case the current $I$ through resistor $R_1$ as a result of the voltage of the potential difference across the resistor $V_r$) and a model that describes how they may be related (here, Ohm's law). What we can do as experimental scientists is to collect data of the two variables and try to fit a model to them; from this we may extract parameters of interest (here, the resistance of our circuit), as well as evaluate how good the model is at describing the phenomena we are observing.\n",
    "\n",
    "<center><img src=\"VoltageVsCurrent.png\" width=\"500\" height=\"325\"/></center>"
   ]
  },
  {
   "cell_type": "markdown",
   "id": "b5c92029-d0be-404a-a483-0a26bdc7214b",
   "metadata": {
    "tags": []
   },
   "source": [
    "**Your turn #1 (short answer questions):** The answers are provided below."
   ]
  },
  {
   "cell_type": "markdown",
   "id": "ed2e527b-f2af-40cd-a884-95938f6bff32",
   "metadata": {
    "id": "ed2e527b-f2af-40cd-a884-95938f6bff32"
   },
   "source": [
    "**Your turn #1a:** What is the relationship between voltage and current as shown in the experimental data above? For example, does it appear to be a linear relationship? Exponentential? A power law? Some other relationship?"
   ]
  },
  {
   "cell_type": "markdown",
   "id": "b73b5355-cb7b-4229-8e8a-c6629a2c52c0",
   "metadata": {},
   "source": []
  },
  {
   "cell_type": "markdown",
   "id": "4ad16914-180e-4b3e-b9bb-8003266a05d7",
   "metadata": {},
   "source": [
    "**Your turn #1b:** What is the theoerical relationship predicted by Ohm's law? "
   ]
  },
  {
   "cell_type": "markdown",
   "id": "93d7de4a-06b9-4038-b8cd-5bc61206b98c",
   "metadata": {},
   "source": []
  },
  {
   "cell_type": "markdown",
   "id": "20e944b3-81ea-4f8f-9636-2fef3fba5df8",
   "metadata": {},
   "source": [
    "**Your turn #1c:** How is the slope of the above plot related to the resistance $R_1$?"
   ]
  },
  {
   "cell_type": "markdown",
   "id": "d7587abd-3fb3-48df-a646-fd45795f070c",
   "metadata": {},
   "source": []
  },
  {
   "cell_type": "markdown",
   "id": "fd75dd82-56ab-42b4-9660-1069214e8e44",
   "metadata": {},
   "source": [
    "**Your turn #1d:** Finally, estimate the resistance $R_1$ by estimating the slope of the experimental data above."
   ]
  },
  {
   "cell_type": "markdown",
   "id": "02ba46b2-ec00-422a-95e7-8fc517e501f7",
   "metadata": {},
   "source": []
  },
  {
   "cell_type": "markdown",
   "id": "520e0466-245e-4220-9fa1-446804c2b65a",
   "metadata": {},
   "source": [
    "**Answers (uncollapse to reveal):**"
   ]
  },
  {
   "cell_type": "markdown",
   "id": "4e3b6f5f-a857-4011-8c6e-6d2870a91237",
   "metadata": {
    "jp-MarkdownHeadingCollapsed": true,
    "tags": []
   },
   "source": [
    "##### **A1a:**"
   ]
  },
  {
   "cell_type": "markdown",
   "id": "ae60aa38-6df6-4d71-b96f-6e92e690518f",
   "metadata": {
    "id": "ae60aa38-6df6-4d71-b96f-6e92e690518f"
   },
   "source": [
    "**A1a:** The relationship between voltage and current appears linear."
   ]
  },
  {
   "cell_type": "markdown",
   "id": "f8e6a5ab-0778-43c6-8006-414456338f88",
   "metadata": {
    "jp-MarkdownHeadingCollapsed": true,
    "tags": []
   },
   "source": [
    "##### **A1b:**"
   ]
  },
  {
   "cell_type": "markdown",
   "id": "d406791c-8b79-45e7-ad39-1ea71a72917b",
   "metadata": {},
   "source": [
    "**A1b:** The relationship predicted by Ohm's law is $V_r = IR_1$, i.e. the two are linearly related via the resistance."
   ]
  },
  {
   "cell_type": "markdown",
   "id": "ad94b8f7-ed11-42f3-80c2-c9bc09dac5a2",
   "metadata": {
    "jp-MarkdownHeadingCollapsed": true,
    "tags": []
   },
   "source": [
    "##### **A1c:**"
   ]
  },
  {
   "cell_type": "markdown",
   "id": "aab744a7-c1e3-49c3-a975-b014872f5f3c",
   "metadata": {},
   "source": [
    "**A1c:** The slope ($m$) of the above plot is related to the resistance of the resistor via Ohm's law: $m = R_1$."
   ]
  },
  {
   "cell_type": "markdown",
   "id": "51a32250-e728-4e60-88da-a560dc22f411",
   "metadata": {
    "jp-MarkdownHeadingCollapsed": true,
    "tags": []
   },
   "source": [
    "##### **A1d:**"
   ]
  },
  {
   "cell_type": "markdown",
   "id": "c57679a2-3425-4cf5-8a8c-6d793cebd426",
   "metadata": {},
   "source": [
    "**A1d:** The slope of the above plot looks to be roughly $m = \\frac{0.8V - 0V}{0.08A - 0A} = 10\\text{ V/A}$, and so the resistance is approximately $R_1 = m = 10\\Omega$."
   ]
  },
  {
   "cell_type": "markdown",
   "id": "4cd844cb-940e-4221-82dd-ab63dd9098cf",
   "metadata": {
    "id": "4cd844cb-940e-4221-82dd-ab63dd9098cf"
   },
   "source": [
    "## Plotting with Python"
   ]
  },
  {
   "cell_type": "markdown",
   "id": "54e187fc-d7de-435e-a599-8d56fa45054c",
   "metadata": {
    "id": "54e187fc-d7de-435e-a599-8d56fa45054c"
   },
   "source": [
    "An important first step to finding relationships between variables is data visualization; such as through producing plots of data. Fortunately, python is an excellent medium for this task. The rest of this prelab will guide you through how to produce a scatter plot of experimental data, and to then extract useful information. This is something we will be doing many times in our future labs in this course.\n",
    "\n",
    "Much like with the case of recording data in tables, plotting is not a built-in functionality of python. Instead, we import a library which carries this functionality, `matplotlib`. You can import it (along with the data_entry2 and numpy libraries we have been using) by running the cell below."
   ]
  },
  {
   "cell_type": "code",
   "execution_count": 1,
   "id": "42b044bd-b81d-41fa-bbb7-0844e410cc87",
   "metadata": {
    "id": "42b044bd-b81d-41fa-bbb7-0844e410cc87"
   },
   "outputs": [],
   "source": [
    "%reset -f\n",
    "# Run me to import the relevant libraries\n",
    "import data_entry2\n",
    "import numpy as np\n",
    "import matplotlib.pyplot as plt"
   ]
  },
  {
   "cell_type": "markdown",
   "id": "eb4a120b-3707-4391-befe-4c756c6d971c",
   "metadata": {
    "id": "eb4a120b-3707-4391-befe-4c756c6d971c"
   },
   "source": [
    "We will go through an example together of creating a scatter plot, and then at the end we will ask you to take what you've learned to recreate the scatter plot we showed in the beginning of the notebook. For our example together, we consider an example similar to our very first experiment in this course. Suppose we have a spring, and we have measured the force the spring exerts $F$ for a variety of compressions $\\Delta x$ (`Dx`). The data are given in the spreadsheet below:"
   ]
  },
  {
   "cell_type": "code",
   "execution_count": 2,
   "id": "b9605911-aeae-4c75-bc35-f22211ef3733",
   "metadata": {
    "colab": {
     "referenced_widgets": [
      "bf03e00bffc94ba6a62158c354a404d2"
     ]
    },
    "id": "b9605911-aeae-4c75-bc35-f22211ef3733",
    "outputId": "cbbddd51-108a-4dfa-f82c-f3dc3543a812"
   },
   "outputs": [
    {
     "name": "stdout",
     "output_type": "stream",
     "text": [
      "Sheet name: lab05_prelab_hookes_law.csv\n"
     ]
    },
    {
     "data": {
      "application/vnd.jupyter.widget-view+json": {
       "model_id": "381fb4b005e54ce7a0d99fc74e9474ac",
       "version_major": 2,
       "version_minor": 0
      },
      "text/plain": [
       "VBox(children=(HBox(children=(Button(description='Undo', style=ButtonStyle()), Button(description='Redo', styl…"
      ]
     },
     "metadata": {},
     "output_type": "display_data"
    }
   ],
   "source": [
    "# Run me to import example data\n",
    "de_hl = data_entry2.sheet(\"lab05_prelab_hookes_law\")"
   ]
  },
  {
   "cell_type": "markdown",
   "id": "6037a75c-7a65-4881-97ae-348cf0adce7f",
   "metadata": {
    "id": "6037a75c-7a65-4881-97ae-348cf0adce7f"
   },
   "source": [
    "**Your turn #2:** We will want to work with vectors of this data, so click the `Generate Vectors` button in the spreadsheet. \n",
    "\n",
    "Next, let's create an initial plot of the datapoints of force vs displacement and nothing else."
   ]
  },
  {
   "cell_type": "code",
   "execution_count": 3,
   "id": "b3124ee2-1163-46e0-ae0d-26540771bf0d",
   "metadata": {
    "id": "b3124ee2-1163-46e0-ae0d-26540771bf0d",
    "outputId": "5edcc8a5-73a6-4533-d844-a34da0448569"
   },
   "outputs": [
    {
     "data": {
      "image/png": "[encoded data removed]",
      "text/plain": [
       "<Figure size 640x480 with 1 Axes>"
      ]
     },
     "metadata": {},
     "output_type": "display_data"
    }
   ],
   "source": [
    "# Run me to create a simple plot of FVec vs dxVec with y-uncertainties dFVec\n",
    "\n",
    "# Define the variables we will be plotting\n",
    "xdata = DxVec\n",
    "ydata = FVec\n",
    "dydata = dFVec\n",
    "\n",
    "# Create the plot\n",
    "plt.errorbar(xdata, ydata, dydata, fmt='bo')\n",
    "plt.show()"
   ]
  },
  {
   "cell_type": "markdown",
   "id": "161a66c3-1079-4c08-b125-16b6793cd255",
   "metadata": {
    "id": "161a66c3-1079-4c08-b125-16b6793cd255"
   },
   "source": [
    "We use `plt` to specify that we want to be using the `matplotlib` plotting library. We then use the `plt.errorbar` function to specify that we want a plot with error bars. The first argument we give it (`xdata`) provides data for the x-axis, the second argument (`ydata`) provides the data for the y-axis, and the third argument (`dydata`) provides the error bars for the y-axis data (we will often find that the errors in the y-values are more significant than those on the x-values, such that the x-errors can often be neglected). The final argument (`fmt='bo'`) specifies that we want blue (`b`) circles (`o`) for the datapoints. Finally, the `plt.show()` at the end displays the plot."
   ]
  },
  {
   "cell_type": "markdown",
   "id": "3e5849e7-d7ec-44ba-a23b-c45d5d9df1df",
   "metadata": {},
   "source": [
    "**Your turn #3:** Try replacing the blue dot symbol with a red x symbol using `fmt='rx'` above. "
   ]
  },
  {
   "cell_type": "markdown",
   "id": "679fe6c1-960d-4028-8bea-4ebf6fa63052",
   "metadata": {},
   "source": [
    "Next, Let's add further important information to our plot, such as axis labels and a title. We will also show how to adjust the size of the markers in the plot and then add a legend (although this plot doesn't really need one)."
   ]
  },
  {
   "cell_type": "code",
   "execution_count": 4,
   "id": "49b800a9-f253-4699-a652-c79d163ce468",
   "metadata": {
    "id": "49b800a9-f253-4699-a652-c79d163ce468",
    "outputId": "c6a829b6-adb0-4d7a-db9b-f47a26682f3b"
   },
   "outputs": [
    {
     "data": {
      "image/png": "[encoded data removed]",
      "text/plain": [
       "<Figure size 640x480 with 1 Axes>"
      ]
     },
     "metadata": {},
     "output_type": "display_data"
    }
   ],
   "source": [
    "# Run me to reproduce the previous plot and add further detail\n",
    "plt.errorbar(xdata, ydata, dydata, fmt=\"bo\", markersize = 3, label=\"Round 1 data\")\n",
    "plt.title(\"Hooke's law investigation using spring compression\")\n",
    "plt.xlabel(\"Displacement of spring from equilibrium (m)\")\n",
    "plt.ylabel(\"Force (N)\")\n",
    "plt.legend()\n",
    "plt.show()"
   ]
  },
  {
   "cell_type": "markdown",
   "id": "80d2c14b-e1f4-4e63-acf6-e9f94ff13b4c",
   "metadata": {
    "id": "80d2c14b-e1f4-4e63-acf6-e9f94ff13b4c"
   },
   "source": [
    "We now have a complete plot! Notice that the plot title describes what is being plotted against what (y quantity plotted vs. x quantity), and the axis labels describe the quantities (with the units). Experiment with the title and axis labels by changing the text inside `plt.title(\"...\"), plt.xlabel(\"...\"),` and `plt.ylabel(\"...\")`functions in the cell above.\n",
    "\n",
    "The `markersize = ...` argument in `plt.errorbar` specifies how large the markers in the plot are. In the first version of the plot above, the error bars of the first datapoint were hidden behind the marker so here we shrink the size of the markers to make the small error bars more visible.\n",
    "\n",
    "Finally, by providing a `label=\"...\"` argument to `plt.errorbar`, we can specify the label for the plot when we include a legend with `plt.legend()`. We don't really need a legend here as we are only plotting a single dataset, but later on when we have multiple things on the same plot, a legend will become very useful.\n",
    "\n",
    "Note that the plot will (usually) automatically give reasonable axis tick marks (the specific numbers displayed along each axis), and set appropriate limits for the plot so all datapoints are displayed. If you find the defaults aren't suitable, there are ways to control these (eg `plt.xlim([min, max])` and `plt.xticks([.1, .2, .3])`), though you probably won't need those in this course."
   ]
  },
  {
   "cell_type": "markdown",
   "id": "8dde9172-721c-4e55-b621-1a3415b52ec0",
   "metadata": {},
   "source": [
    "Before moving on, let's redo the previous plot, but make the code more general by using variables to define all of the text we want to add to the graph. In the future it will be much easier to update this code."
   ]
  },
  {
   "cell_type": "code",
   "execution_count": 5,
   "id": "e4d848be-cf15-491b-bdbd-cbac8c0b24f2",
   "metadata": {},
   "outputs": [
    {
     "data": {
      "image/png": "[encoded data removed]",
      "text/plain": [
       "<Figure size 640x480 with 1 Axes>"
      ]
     },
     "metadata": {},
     "output_type": "display_data"
    }
   ],
   "source": [
    "# Define variables for our labels and titles\n",
    "data_label = \"Round 1 data\"\n",
    "graph_title = \"Hooke's law investigation using spring compression\"\n",
    "x_label = \"Displacement of spring from equilibrium (m)\"\n",
    "y_label = \"Force (N)\"\n",
    "\n",
    "# Produce the graph\n",
    "plt.errorbar(xdata, ydata, dydata, fmt=\"bo\", markersize = 3, label=data_label)\n",
    "plt.title(graph_title)\n",
    "plt.xlabel(x_label)\n",
    "plt.ylabel(y_label)\n",
    "plt.legend()\n",
    "plt.show()"
   ]
  },
  {
   "cell_type": "markdown",
   "id": "0b861a5f-04a4-47f0-9d74-3e94b9c4a43c",
   "metadata": {
    "id": "0b861a5f-04a4-47f0-9d74-3e94b9c4a43c"
   },
   "source": [
    "**Your turn #4:** Recall that Hooke's law tells us that $F = k \\Delta x$. Is the slope of this graph equal to $k$, $1/k$ or some other quantity?"
   ]
  },
  {
   "cell_type": "markdown",
   "id": "3f177284-419e-4225-a281-3f8b9c0de6f6",
   "metadata": {
    "id": "3f177284-419e-4225-a281-3f8b9c0de6f6"
   },
   "source": []
  },
  {
   "cell_type": "markdown",
   "id": "f2f5d3a8-9004-4936-ac27-1b3683f3984a",
   "metadata": {
    "jp-MarkdownHeadingCollapsed": true,
    "tags": []
   },
   "source": [
    "##### Answer"
   ]
  },
  {
   "cell_type": "markdown",
   "id": "2507103f-f8d0-4517-b2f0-fbc0ab387b0b",
   "metadata": {},
   "source": [
    "**A:** The slope of the above plot can be identified as the spring constant $k$ of the spring via Hooke's law."
   ]
  },
  {
   "cell_type": "markdown",
   "id": "d14c6250-b163-4154-ae98-c7e2b579eeb7",
   "metadata": {
    "id": "d3931412-cc62-4538-86f0-7d56d807a61a",
    "outputId": "19324d4a-2237-4a7d-b6a5-5e16c0d43724",
    "tags": []
   },
   "source": [
    "## Adding a model to our graph"
   ]
  },
  {
   "cell_type": "markdown",
   "id": "f8aca172-f710-4fdf-b434-3fd22f7191bb",
   "metadata": {},
   "source": [
    "We've seen how to plot data. We will often want to add a line or curve to a plot to judge how well a model describes the experimental results. To do this, we break the process into four steps:\n",
    "1. Find the range of x-values that the data span\n",
    "2. Generate many x-values over the range of values for which we want to determine the model predictions. Why do we need many points? For a straight line the number of points used doesn't matter much, but if the model predicts a more complicated function, using many points will give a curve that looks smooth to the eye.\n",
    "3. Calculate the model prediction (model y-values) at each of the x-values\n",
    "4. Plot the model prediction on the graph.\n",
    "\n",
    "Here, our model is the linear model of $F = kx$. In order to create our model prediction, we will need a value for the model parameter $k$ (the spring constant of the spring, and the slope of the model). To start with, we can estimate this value by inspection; we have points at approximately $(0\\,\\text{m}, 0\\,\\text{N})$ and $(0.6\\,\\text{m}, 1.2\\,\\text{N})$, so a reasonable estimate of the slope (which corresponds to $k$) would be $\\text{slope} = \\frac{1.2 \\text{N} - 0 \\text{N}}{0.6 \\text{m} - 0 \\text{m}} = 2\\,\\text{N/m}$. \n",
    "\n",
    "Let's use this value to add an initial estimate of our model to our graph:"
   ]
  },
  {
   "cell_type": "code",
   "execution_count": 6,
   "id": "c425f695-a24f-4bc3-9106-af45b87305c0",
   "metadata": {},
   "outputs": [
    {
     "data": {
      "image/png": "[encoded data removed]",
      "text/plain": [
       "<Figure size 640x480 with 1 Axes>"
      ]
     },
     "metadata": {},
     "output_type": "display_data"
    }
   ],
   "source": [
    "# Run me to plot our model as a straight line and our data points, both on the same graph\n",
    "\n",
    "# Scatter step 1: Define the variables we will be plotting, as well as labels and titles\n",
    "# Plotting variables\n",
    "xdata = DxVec\n",
    "ydata = FVec\n",
    "dydata = dFVec\n",
    "\n",
    "# Labels and titles\n",
    "data_label = \"Round 1 data\"\n",
    "model_label = \"F = kx (model)\"\n",
    "graph_title = \"Hooke's law investigation using spring compression\"\n",
    "x_label = \"Displacement of spring from equilibrium (m)\"\n",
    "y_label = \"Force (N)\"\n",
    "\n",
    "# Model parameters\n",
    "slope = 2 # Our initial estimate of the slope\n",
    "\n",
    "# Scatter step 2: find the limits of the data:\n",
    "xmin = np.min(xdata) # use the np.min function to find the smallest x-value\n",
    "xmax = np.max(xdata) # same for max\n",
    "# print (xmin, xmax)  # uncomment to see what the limits are\n",
    "\n",
    "# Scatter step 3: generate a bunch of x points between xmin and xmax to help us plot the model line\n",
    "xpoints = np.linspace(xmin, xmax, 200) # gives 200 evenly spaced points between xmin and xmax\n",
    "# print(xpoints) # uncomment to see the x values that were generated.\n",
    "\n",
    "# Scatter step 4: calculate the y points to plot the model line\n",
    "ypoints = xpoints * slope # this calculates the model y-values at all 200 points.\n",
    "\n",
    "# Scatter step 5: plot the model line. We plot this as a red line \"r-\" :\n",
    "plt.plot(xpoints, ypoints, \"r-\", label = model_label)\n",
    "\n",
    "# Scatter step 6: Plot the data, with the previous details from before\n",
    "plt.errorbar(xdata, ydata, dydata, fmt=\"bo\", markersize = 3, label=data_label)\n",
    "plt.title(graph_title)\n",
    "plt.xlabel(x_label)\n",
    "plt.ylabel(y_label)\n",
    "plt.legend()\n",
    "plt.show()"
   ]
  },
  {
   "cell_type": "markdown",
   "id": "cbe5d92a-bfa8-4b94-8f6c-741996cfd69f",
   "metadata": {},
   "source": [
    "A few things to note:\n",
    "1. `plt.show()` helps ensure that `plt.plot()`, `plt.errorbar()` and the other `plt.` functions will appear on the same plotting canvas\n",
    "2. The syntax for `plt.plot()` is a little different from `plt.errorbar()`. For `plt.errorbar()` you need `fmt='bo'`, but for `plt.plot()` the format for plotting can't include the `fmt=` piece (annoying, but this is just how it is)."
   ]
  },
  {
   "cell_type": "markdown",
   "id": "dcfbe785-cb24-40bc-855c-9ec4a1910056",
   "metadata": {},
   "source": [
    "## RESIDUALS - what they area and how to plot them"
   ]
  },
  {
   "cell_type": "markdown",
   "id": "a9bec124-6f7d-4d80-a99e-493a962fefbb",
   "metadata": {},
   "source": [
    "This fit of the model to our data looks pretty good to the eye, but we are going to introduce a new tool, a residuals plot, which we will use in lab 5 (and future labs) as a tool to help improve the quality of our fits and to estimate uncertainty in the fitting parameters, which in this case is the slope, which is often given the symbol $m$). For now, we will introduce what it is and how to create the plot.\n",
    "\n",
    "A residual is a measure of how far a data point lies from the best fit line (the model) along the y-direction. So for a given data point on the graph $(x_i, y_i)$, the residual $(r_i)$ is given by:\n",
    "\n",
    "$$r_i = y_i - \\text{model}(x_i)$$\n",
    "\n",
    "where $\\text{model}(x_i)$ represents the $y$-value that our model, $y = mx$, predicts at the point $x_i$. Let’s build a graph of the residuals that correspond to each $x$-value and then we will spend a bit more time learning about how they are useful. We will break this process down into a few steps:\n",
    "\n",
    "1. Calculate the model prediction $\\text{model}(x_i)$ points at all of the $x$-data values\n",
    "2. Calculate the residual vector $[r_1, r_2, \\ldots r_n]$ as the difference of the $y$-data vector $[y_1, y_2, \\ldots, y_n]$ and the model vector $[\\text{model}(x_1), \\text{model}(x_2), \\ldots, \\text{model}(x_n)]$. \n",
    "3. Plot the residual vector against the $x$-data vector.\n",
    "4. Add a \"$r = 0$\" x-axis to the plot.\n",
    "\n",
    "Let's create the residuals plot for our current model of the Hooke's law dataset. Note that we use use `plt.errorbar()` to plot the residuals, and we use the **same** uncertainties as our $y$-data uncertainties, `dydata = dFVec`. This is because there are no uncertainties associated with the model predictions, thus the uncertainties in the residuals (the difference of data and model) are just the uncertainties in the data y-values. We also modify the labelling of the plot (axis labels, title) to make sure what is being plotted is more clear."
   ]
  },
  {
   "cell_type": "code",
   "execution_count": 7,
   "id": "7d376812-1abf-4f67-a3ae-c67480096337",
   "metadata": {},
   "outputs": [
    {
     "data": {
      "image/png": "[encoded data removed]",
      "text/plain": [
       "<Figure size 640x480 with 1 Axes>"
      ]
     },
     "metadata": {},
     "output_type": "display_data"
    }
   ],
   "source": [
    "# Run me to calculate residuals and create a well-labelled residuals plot\n",
    "\n",
    "# Residuals step 1: Calculate the model prediction for each our data points from dxVec\n",
    "ymodel = slope * xdata # y = mx at each data point, x_i\n",
    "\n",
    "# Residuals step 2: Calcualte the residuals vector\n",
    "residualsVec = ydata - ymodel\n",
    "\n",
    "# Residuals step 3: Plot the residuals vector against the x-data vector\n",
    "plt.errorbar(xdata, residualsVec, dydata, fmt=\"bo\", markersize = 3)\n",
    "\n",
    "# Residuals step 4: Add a horizontal line at R=0 to the plot\n",
    "plt.hlines(y=0, xmin=xmin, xmax=xmax, color='k') # draw a black line at y = 0.\n",
    "\n",
    "# Residuals step 5: Add axis labels and title, and show the graph\n",
    "residuals_title = \"Residuals for Hooke's law investigation using spring compression\"\n",
    "residuals_y_label = \"Residual = data - model (N)\"\n",
    "plt.title(residuals_title)\n",
    "plt.xlabel(x_label)\n",
    "plt.ylabel(residuals_y_label)\n",
    "plt.show()"
   ]
  },
  {
   "cell_type": "markdown",
   "id": "80308ec9-2ef2-4fd4-adf8-f7ed7a6091bf",
   "metadata": {},
   "source": [
    "The residuals (difference between model and data) gives us more resolving power than looking our original scatter plot that included the data and model. In this case, we can see from the residuals plot that the residuals trend upward as we go to the right. This suggests that we could improve out model to better fit to the data. In this case, we will want to increase the slope of the model to account for the current upward trend in the residuals. \n",
    "\n",
    "Usually, it is standard to plot the data/model and residual plot in the same cell, for ease of viewing. We do this below."
   ]
  },
  {
   "cell_type": "code",
   "execution_count": 8,
   "id": "9e03dee0-65f1-4285-ae96-2ba1942b2868",
   "metadata": {},
   "outputs": [
    {
     "data": {
      "image/png": "[encoded data removed]",
      "text/plain": [
       "<Figure size 640x480 with 1 Axes>"
      ]
     },
     "metadata": {},
     "output_type": "display_data"
    },
    {
     "data": {
      "image/png": "[encoded data removed]",
      "text/plain": [
       "<Figure size 640x480 with 1 Axes>"
      ]
     },
     "metadata": {},
     "output_type": "display_data"
    }
   ],
   "source": [
    "# Run me to make our two plots together (this is all the same code from before)\n",
    "\n",
    "# Scatter step 1: Define the variables we will be plotting, as well as labels and titles\n",
    "# Plotting variables\n",
    "xdata = DxVec\n",
    "ydata = FVec\n",
    "dydata = dFVec\n",
    "\n",
    "# Labels and titles\n",
    "data_label = \"Round 1 data\"\n",
    "model_label = \"F = kx (model)\"\n",
    "graph_title = \"Hooke's law investigation using spring compression\"\n",
    "x_label = \"Displacement of spring from equilibrium (m)\"\n",
    "y_label = \"Force (N)\"\n",
    "\n",
    "# Model parameters\n",
    "slope = 2 # Our initial estimate of the slope\n",
    "\n",
    "# Scatter step 2: find the limits of the data:\n",
    "xmin = np.min(xdata) # use the np.min function to find the smallest x-value\n",
    "xmax = np.max(xdata) # same for max\n",
    "# print (xmin, xmax)  # uncomment to see what the limits are\n",
    "\n",
    "# Scatter step 3: generate a bunch of x points between xmin and xmax to help us plot the model line\n",
    "xpoints = np.linspace(xmin, xmax, 200) # gives 200 evenly spaced points between xmin and xmax\n",
    "# print(xpoints) # uncomment to see the x values that were generated.\n",
    "\n",
    "# Scatter step 4: calculate the y points to plot the model line\n",
    "ypoints = xpoints * slope # this calculates the model y-values at all 200 points.\n",
    "\n",
    "# Scatter step 5: plot the model line. We plot this as a red line \"r-\" :\n",
    "plt.plot(xpoints, ypoints, \"r-\", label = model_label)\n",
    "\n",
    "# Scatter step 6: Plot the data, with the previous details from before\n",
    "plt.errorbar(xdata, ydata, dydata, fmt=\"bo\", markersize = 3, label=data_label)\n",
    "plt.title(graph_title)\n",
    "plt.xlabel(x_label)\n",
    "plt.ylabel(y_label)\n",
    "plt.legend()\n",
    "plt.show()\n",
    "\n",
    "# Residuals step 1: Calculate the model prediction for each our data points from dxVec\n",
    "ymodel = slope * xdata # y = mx at each data point, x_i\n",
    "\n",
    "# Residuals step 2: Calcualte the residuals vector\n",
    "residualsVec = ydata - ymodel\n",
    "\n",
    "# Residuals step 3: Plot the residuals vector against the x-data vector\n",
    "plt.errorbar(xdata, residualsVec, dydata, fmt=\"bo\", markersize = 3)\n",
    "\n",
    "# Residuals step 4: Add a horizontal line at R=0 to the plot\n",
    "plt.hlines(y=0, xmin=xmin, xmax=xmax, color='k') # draw a black line at y = 0.\n",
    "\n",
    "# Residuals step 5: Add axis labels and title, and show the graph\n",
    "plt.title(residuals_title)\n",
    "plt.xlabel(x_label)\n",
    "plt.ylabel(residuals_y_label)\n",
    "plt.show()"
   ]
  },
  {
   "cell_type": "markdown",
   "id": "e2a788e3-1f7e-4da1-81f4-9f59cd9ab254",
   "metadata": {},
   "source": [
    "Let’s take a moment to see how these two graphs each present the same overall information, but with different emphases. \n",
    "\n",
    "* The main scatter-plot, on top, shows our data points and the model. We can see that, within their uncertainties, all of our data points lie along the model line or above it.\n",
    "* The residuals plot, on the bottom, shows how far each data point is away from the model, thus we can see a bit more clearly that the left-most data point lies exactly at r = 0 (the model predicts this data point exactly) and all of the other data points have positive residuals (data - model), meaning that model is providing a lower prediction than the actual data. The residuals graph can be thought of as a zoomed-in representation of the data points as seen from the perspective of the model line.\n",
    "\n",
    "The zoomed-in nature of the residual plot (in comparison to the raw scatterplot and model) allows us to better analyze the agreement between the two. This makes residual plots an extremely useful tool for evaluating the quality of fits and for modifying models, which you are now going to do below. "
   ]
  },
  {
   "cell_type": "markdown",
   "id": "3ae2b490-a046-4407-86fb-855914e86bf0",
   "metadata": {},
   "source": [
    "**Your turn #5:** Let's see if we can improve the fit of our model to the data. Using the plots directly above, try out slopes of 1.7, 1.8, 1.9, 2.0, 2.1, 2.2 and 2.3 (N/m). Place each of these slopes into one of the following categories: \n",
    "\n",
    "1. **Best fits** (fits where it seems like there is little room for improvement),\n",
    "2. **Decent fits** (reasonable fits where there is still room for small obvious improvements), or\n",
    "3. **Poor fits**.\n",
    "\n",
    "_Hints:_\n",
    "\n",
    "* For a good fit we are looking to have approximately equal scatter of the residuals above and below the R=0 horizontal line, which would also correspond to an approximately equal scatter of the data points above and below the model on the scatter plot.\n",
    "* For a good fit, there should be no obvious trends in the residuals. An example of an obvious trend is the small but noticeable upward trend we saw for slope = 2.0.\n",
    "* Finally, if the uncertainties are well-characterized (neither overestimated or underestimated) and we are using an appropriate model, we will expect that approximately 68% of the residuals will have their error bars touch the horizontal R=0 line."
   ]
  },
  {
   "cell_type": "markdown",
   "id": "c57f0b7c-4d88-4760-afd2-24b63e5d1867",
   "metadata": {},
   "source": [
    "Categorize the slopes 1.7, 1.8, 1.9, 2.0, 2.1, 2.2 and 2.3 (N/m) here:\n",
    "\n",
    "* Best fits:\n",
    "* Decent fits:\n",
    "* Poor fits:"
   ]
  },
  {
   "cell_type": "markdown",
   "id": "7696d494-183e-4615-b955-dbac96d49272",
   "metadata": {
    "jp-MarkdownHeadingCollapsed": true,
    "tags": []
   },
   "source": [
    "##### **Answer:**"
   ]
  },
  {
   "cell_type": "markdown",
   "id": "0f388a9a-ea10-430c-8bad-7e22eff6640e",
   "metadata": {},
   "source": [
    "* Best fits: 2.1\n",
    "* Decent fits: 2.0, 2.2\n",
    "* Poor fits: 1.7, 1.8, 1.9, 2.3 "
   ]
  },
  {
   "cell_type": "markdown",
   "id": "41a9826c-109e-4cee-98c9-da580c27d156",
   "metadata": {
    "id": "41a9826c-109e-4cee-98c9-da580c27d156"
   },
   "source": [
    "## Plotting with Python - Your turn! "
   ]
  },
  {
   "cell_type": "markdown",
   "id": "85c5b89b-3108-4226-8b97-48e17db8b3e2",
   "metadata": {
    "id": "85c5b89b-3108-4226-8b97-48e17db8b3e2"
   },
   "source": [
    "**Your turn #6:** Now that we've gone through an example together, it is your turn to follow the steps above to create the current vs. voltage plot (including labels and title) that we saw at the beginning of the notebook. The data you need is provided below.\n",
    "\n",
    "_Hint: Instead of starting from scratch, you can copy the last code cell in the *Plotting with Python* section and modify the names of the vectors being plotted, as well as the axis labels/title to fit the Current vs. Voltage plot._"
   ]
  },
  {
   "cell_type": "code",
   "execution_count": 9,
   "id": "a8d147d6-04b5-4130-a471-23e846931304",
   "metadata": {
    "colab": {
     "referenced_widgets": [
      "aaee5e8d7dee4449a629908207959bbd"
     ]
    },
    "id": "a8d147d6-04b5-4130-a471-23e846931304",
    "outputId": "ed4702f8-d2fc-420d-e313-d7d909f3e099"
   },
   "outputs": [
    {
     "name": "stdout",
     "output_type": "stream",
     "text": [
      "Sheet name: lab05_prelab_ohms_law.csv\n"
     ]
    },
    {
     "data": {
      "application/vnd.jupyter.widget-view+json": {
       "model_id": "31fa93275309494da4b23841a7ab9683",
       "version_major": 2,
       "version_minor": 0
      },
      "text/plain": [
       "VBox(children=(HBox(children=(Button(description='Undo', style=ButtonStyle()), Button(description='Redo', styl…"
      ]
     },
     "metadata": {},
     "output_type": "display_data"
    }
   ],
   "source": [
    "# Run me to load the Ohm's Law data\n",
    "# Make sure to press \"Generate Vectors\" afterward\n",
    "\n",
    "de_ol = data_entry2.sheet(\"lab05_prelab_ohms_law\")"
   ]
  },
  {
   "cell_type": "code",
   "execution_count": 10,
   "id": "4901a695-d5bb-4d89-8edc-c0b1394f8ee1",
   "metadata": {},
   "outputs": [],
   "source": [
    "# Use this cell to create your scatter plot \n"
   ]
  },
  {
   "cell_type": "code",
   "execution_count": 11,
   "id": "8a7eebaa-b0d8-4419-896a-3ff32aa0b66c",
   "metadata": {},
   "outputs": [
    {
     "data": {
      "image/png": "[encoded data removed]",
      "text/plain": [
       "<Figure size 640x480 with 1 Axes>"
      ]
     },
     "metadata": {},
     "output_type": "display_data"
    }
   ],
   "source": [
    "###Joss delete me\n",
    "# Scatter step 1: Define the variables we will be plotting, as well as labels and titles\n",
    "# Plotting variables\n",
    "xdata = IVec\n",
    "ydata = VrVec\n",
    "dydata = dVrVec\n",
    "\n",
    "# Labels and titles\n",
    "data_label = \"Round 1 data\"\n",
    "model_label = \"F = kx (model)\"\n",
    "graph_title = \"Ohm's law investigation using two resistors in series\"\n",
    "x_label = \"Current in the circuit, I (A)\"\n",
    "y_label = \"Voltage drop across R1, Vr (V)\"\n",
    "\n",
    "# Model parameters\n",
    "slope = 10.2 # Our initial estimate of the slope\n",
    "\n",
    "\n",
    "# Scatter step 6: Plot the data, with the previous details from before\n",
    "plt.errorbar(xdata, ydata, dydata, fmt=\"bo\", markersize = 3, label=data_label)\n",
    "plt.title(graph_title)\n",
    "plt.xlabel(x_label)\n",
    "plt.ylabel(y_label)\n",
    "plt.legend()\n",
    "plt.savefig('VoltageVsCurrent.png')\n",
    "\n",
    "plt.show()\n",
    "\n"
   ]
  },
  {
   "cell_type": "markdown",
   "id": "2289082f-47f5-4c14-975a-ffbeea794e26",
   "metadata": {},
   "source": [
    "**Your turn #7:** Finally, plot a linear model on top of the current vs. voltage scatterplot in the cell below and add a residuals plot. Adjust the slope until your scatter plot and residuals plot both show a good fit of the model to the data.\n",
    "\n",
    "_Hints_\n",
    "\n",
    "* You can use Your turn #1d to get a good initial estimate of the slope $m$ for the model \n",
    "* You will likely find it convenient to copy and paste the last code cell in the *Residuals - Making a plot* section and modify the variable names/plot elements accordingly."
   ]
  },
  {
   "cell_type": "code",
   "execution_count": 12,
   "id": "8343ada5-36cf-4feb-a829-f659ee4bca22",
   "metadata": {},
   "outputs": [],
   "source": [
    "# Use this cell to create your scatter plot with model, and your residuals plot\n",
    "\n"
   ]
  },
  {
   "cell_type": "markdown",
   "id": "93eff06a-d152-4b75-9d45-0049e07cb48c",
   "metadata": {},
   "source": [
    "## Estimating uncertainty of the slope"
   ]
  },
  {
   "cell_type": "markdown",
   "id": "851bc830-d07c-4333-bfae-75d97c4c8055",
   "metadata": {},
   "source": [
    "Now that we have a linear model, we can also estimate the uncertainty of the slope. \n",
    "\n",
    "To estimate uncertainties in fitting parameters, we will use the method of looking at the range of reasonable best-fit lines and treating that as a 68% confidence interval. We will make the steepest possible best-fit line \"Max\" (as in maximum slope) that still does a reasonable job of fitting the data and a least steep \"Min\" (as in minimum slope) that also does a reasonable job of fitting the data. We will call our original model line \"Best\". Use the \"Best\" parameters for the starting guesses for the \"Max\" and \"Min\" fit parameters.\n",
    "\n",
    "To calculate the uncertainty of the slope:\n",
    "1. The range between the maximum and minimum slope is our 68% confidence interval for the slope, and so we need to divide this difference by 2 to get a standard deviation equivalent.\n",
    "2. To gain the reward of increased confidence in our result the more data we collect, we get the final uncertainty in our slope by dividing the value from the previous step by $\\sqrt{N}$."
   ]
  },
  {
   "cell_type": "markdown",
   "id": "a5d14f54-9b0c-481a-b847-fe981635218c",
   "metadata": {},
   "source": [
    "In the Hooke's Law data set we found in \"your turn #5\" that the graph has decent fits for slopes in the range 2.0-2.2. So this would be the 68% confidence interval for the slope. The code block below shows how to finish the calculation to get `dslope`"
   ]
  },
  {
   "cell_type": "code",
   "execution_count": 14,
   "id": "143022fc-d4b2-4ce7-b758-d85c06f37826",
   "metadata": {
    "tags": []
   },
   "outputs": [
    {
     "name": "stdout",
     "output_type": "stream",
     "text": [
      "The model slope is: 2.100 ± 0.038 N/m\n"
     ]
    }
   ],
   "source": [
    "slope_max = 2.2\n",
    "slope_min = 2.0\n",
    "slope_best = 2.1\n",
    "\n",
    "N = len(FVec) # The number of data points we plotted\n",
    "\n",
    "dslope = (slope_max-slope_min)/(2 * np.sqrt(N) )\n",
    "print(f\"The model slope is: {slope_best:.3f} ± {dslope:.3f} N/m\")"
   ]
  },
  {
   "cell_type": "markdown",
   "id": "61dfadb6-0bc0-4edb-aa54-67eee5d7cd4b",
   "metadata": {},
   "source": [
    "**Your turn #8:** Find the uncertainty of the slope of the Ohm's law data, by adjusting the slope to find the models that correspond to the maximum and minimum slopes that still correspond to reasonable fits.\n",
    "\n",
    "_Hints_\n",
    "\n",
    "* To find the maximum slope, increase the slope from your best slope until the model no longer does an at-all-reasonable job of fitting the data."
   ]
  },
  {
   "cell_type": "code",
   "execution_count": null,
   "id": "350df0e7-700b-4520-bc62-60ea880eba46",
   "metadata": {},
   "outputs": [],
   "source": [
    "# Copy and paste your code from the code cell above for #7 where you plotted your model and residual plot\n",
    "# and adjust your slope variable\n",
    "\n",
    "slope_max = \n",
    "slope_min = \n",
    "slope_best = \n",
    "\n",
    "N = \n",
    "\n",
    "dslope = (slope_max-slope_min)/(2 * np.sqrt(N) )\n",
    "print(f\"The model slope is: {slope_best:.3f} ± {dslope:.3f} Ohms\")"
   ]
  },
  {
   "cell_type": "markdown",
   "id": "c6bba0ef-a1ac-499e-b6f0-b0c2abbf6726",
   "metadata": {
    "tags": []
   },
   "source": [
    "##### Answer"
   ]
  },
  {
   "cell_type": "code",
   "execution_count": null,
   "id": "30cef8d3-638a-4e5d-b4ca-ac77d2de54f8",
   "metadata": {
    "tags": []
   },
   "outputs": [],
   "source": [
    "slope_best = 9.9\n",
    "slope_max = 10.2\n",
    "slope_min = 9.65\n",
    "N = len(VrVec)\n",
    "\n",
    "dslope = (slope_max-slope_min)/2\n",
    "print(f\"The model slope is: {slope_best:.2f} ± {dslope:.2f} Ohms\")"
   ]
  },
  {
   "cell_type": "markdown",
   "id": "33d3ab63-1b3a-4741-9b53-84d1acdee6ee",
   "metadata": {
    "tags": []
   },
   "source": [
    "Since we are approximating the slope uncertainty, your answer might be slightly different. Your uncertainty should be within a factor of two of the answer above"
   ]
  },
  {
   "cell_type": "markdown",
   "id": "920f8235-f990-453a-8aff-d514c4b868cc",
   "metadata": {},
   "source": [
    "## Preparing your Lab 05 notebook\n",
    "In this final set of tasks you will prepare your Lab 03 notebook for data collection and analysis\n",
    "\n",
    "**Your turn #9:**\n",
    "1. Open the Lab 05 Instructions on Canvas and take a couple of minutes to read through them so that you have a sense of how you will be spending your time during the lab.\n",
    "2. We provided a spreadsheet template (column names only) in Part D of your lab notebook because the data you collect in the lab will be of the same format as the example Ohm's law data from this prelab. Copy in and modify your code as needed from this prelab so that you will be ready to make some plots and do you analysis once you have collected some data. You can optionally use the \"lab05_prelab_ohms_law\" data in your Lab 05 notebook to ensure your copied over code is functioning correctly.\n",
    "\n",
    "You should now be ready for data collection and data analysis in the lab."
   ]
  },
  {
   "cell_type": "markdown",
   "id": "65020937-116c-456b-98b1-6bbfae74c937",
   "metadata": {},
   "source": [
    "# Submit\n",
    "\n",
    "Steps for submission:\n",
    "\n",
    "1. Click: Run => Run_All_Cells\n",
    "2. Read through the notebook to ensure all the cells executed correctly and without error.\n",
    "3. File => Save_and_Export_Notebook_As->HTML\n",
    "4. Upload the HTML document to the lab submission assignment on Canvas."
   ]
  },
  {
   "cell_type": "code",
   "execution_count": null,
   "id": "c54ea406",
   "metadata": {},
   "outputs": [],
   "source": []
  },
  {
   "cell_type": "code",
   "execution_count": null,
   "id": "7844200d-d11b-4c16-83a6-793aa8f22e90",
   "metadata": {},
   "outputs": [],
   "source": [
    "display_sheets()"
   ]
  }
 ],
 "metadata": {
  "colab": {
   "collapsed_sections": [],
   "name": "lab05_prelab.ipynb",
   "provenance": []
  },
  "kernelspec": {
   "display_name": "Python 3 (ipykernel)",
   "language": "python",
   "name": "python3"
  },
  "language_info": {
   "codemirror_mode": {
    "name": "ipython",
    "version": 3
   },
   "file_extension": ".py",
   "mimetype": "text/x-python",
   "name": "python",
   "nbconvert_exporter": "python",
   "pygments_lexer": "ipython3",
   "version": "3.10.10"
  },
  "widgets": {
   "application/vnd.jupyter.widget-state+json": {
    "state": {
     "0d0de7989a7d4f63aaa418ad7c57bd73": {
      "model_module": "@jupyter-widgets/controls",
      "model_module_version": "2.0.0",
      "model_name": "ButtonModel",
      "state": {
       "description": "Undo",
       "layout": "IPY_MODEL_ba712bf3f0184393b7928330a89e77f4",
       "style": "IPY_MODEL_3a78d27ce5754a95b69ab23c419b6092",
       "tooltip": null
      }
     },
     "11c1c09b39f34e0aaf7740ab0c39c4c8": {
      "model_module": "@jupyter-widgets/controls",
      "model_module_version": "2.0.0",
      "model_name": "ButtonModel",
      "state": {
       "description": "Add Row",
       "layout": "IPY_MODEL_f64b087410834dd489445543d6c28d0f",
       "style": "IPY_MODEL_99e5b6da51e94f3283b7668d28c4d67f",
       "tooltip": null
      }
     },
     "1c34eec00ff748e994068ffa718ae64a": {
      "model_module": "ipydatagrid",
      "model_module_version": "1.1.16",
      "model_name": "VegaExprModel",
      "state": {
       "_view_module": "ipydatagrid",
       "_view_module_version": "1.1.16",
       "_view_name": "VegaExprView"
      }
     },
     "204b13879f8844d6b3b7e8071984cd46": {
      "model_module": "ipydatagrid",
      "model_module_version": "1.1.16",
      "model_name": "DataGridModel",
      "state": {
       "_data": {
        "data": [
         {
          "0": "Dx",
          "1": "dDx",
          "2": "F",
          "3": "dF",
          "ipydguuid": 0,
          "key": "  Variable:"
         },
         {
          "0": "m",
          "1": "m",
          "2": "N",
          "3": "N",
          "ipydguuid": 1,
          "key": " Units:"
         },
         {
          "0": "0",
          "1": "0.01",
          "2": "0",
          "3": "0.02",
          "ipydguuid": 2,
          "key": 0
         },
         {
          "0": "0.12",
          "1": "0.01",
          "2": "0.26",
          "3": "0.02",
          "ipydguuid": 3,
          "key": 1
         },
         {
          "0": "0.21",
          "1": "0.01",
          "2": "0.43",
          "3": "0.03",
          "ipydguuid": 4,
          "key": 2
         },
         {
          "0": "0.29",
          "1": "0.01",
          "2": "0.63",
          "3": "0.03",
          "ipydguuid": 5,
          "key": 3
         },
         {
          "0": "0.40",
          "1": "0.01",
          "2": "0.81",
          "3": "0.03",
          "ipydguuid": 6,
          "key": 4
         },
         {
          "0": "0.48",
          "1": "0.01",
          "2": "1.05",
          "3": "0.04",
          "ipydguuid": 7,
          "key": 5
         },
         {
          "0": "0.60",
          "1": "0.01",
          "2": "1.23",
          "3": "0.04",
          "ipydguuid": 8,
          "key": 6
         }
        ],
        "fields": [
         {
          "key": null
         },
         {
          "0": null
         },
         {
          "1": null
         },
         {
          "2": null
         },
         {
          "3": null
         },
         {
          "ipydguuid": null
         }
        ],
        "schema": {
         "fields": [
          {
           "name": "key",
           "type": "string"
          },
          {
           "name": 0,
           "type": "string"
          },
          {
           "name": 1,
           "type": "string"
          },
          {
           "name": 2,
           "type": "string"
          },
          {
           "name": 3,
           "type": "string"
          },
          {
           "name": "ipydguuid",
           "type": "integer"
          }
         ],
         "pandas_version": "1.4.0",
         "primaryKey": [
          "key",
          "ipydguuid"
         ],
         "primaryKeyUuid": "ipydguuid"
        }
       },
       "_model_name": "DataGridModel",
       "auto_fit_columns": false,
       "auto_fit_params": {
        "area": "all",
        "numCols": null,
        "padding": 30
       },
       "base_column_header_size": 20,
       "base_column_size": 64,
       "base_row_header_size": 64,
       "base_row_size": 20,
       "default_renderer": "IPY_MODEL_82d078de939d43da9d0f3a8fb39585e4",
       "editable": true,
       "header_visibility": "all",
       "layout": "IPY_MODEL_213755b68eea430491050c56d3252114",
       "selection_mode": "cell"
      }
     },
     "206f5ce78e83471dbf91eb1dc9737398": {
      "model_module": "@jupyter-widgets/base",
      "model_module_version": "2.0.0",
      "model_name": "LayoutModel",
      "state": {}
     },
     "213755b68eea430491050c56d3252114": {
      "model_module": "@jupyter-widgets/base",
      "model_module_version": "2.0.0",
      "model_name": "LayoutModel",
      "state": {
       "height": "230px"
      }
     },
     "2451b20722b345048c76db532aa2037e": {
      "model_module": "@jupyter-widgets/base",
      "model_module_version": "2.0.0",
      "model_name": "LayoutModel",
      "state": {}
     },
     "24dc2e17659d4766a17f7e16b5abe9dd": {
      "model_module": "@jupyter-widgets/controls",
      "model_module_version": "2.0.0",
      "model_name": "ButtonStyleModel",
      "state": {
       "font_family": null,
       "font_size": null,
       "font_style": null,
       "font_variant": null,
       "font_weight": null,
       "text_color": null,
       "text_decoration": null
      }
     },
     "28a1e667e64640b6b38d8f97c9484fb6": {
      "model_module": "@jupyter-widgets/base",
      "model_module_version": "2.0.0",
      "model_name": "LayoutModel",
      "state": {}
     },
     "31fa93275309494da4b23841a7ab9683": {
      "model_module": "@jupyter-widgets/controls",
      "model_module_version": "2.0.0",
      "model_name": "VBoxModel",
      "state": {
       "children": [
        "IPY_MODEL_6ac4bcbd144d43739ffe281b57a3f8cd",
        "IPY_MODEL_6e9afa65bf944e438a940fcfb93dfed8",
        "IPY_MODEL_6f2a51b3e49a4a44a65a1973c9d91aa0"
       ],
       "layout": "IPY_MODEL_28a1e667e64640b6b38d8f97c9484fb6"
      }
     },
     "329dae5a3fd84914a6539b2e8ef7be3a": {
      "model_module": "@jupyter-widgets/controls",
      "model_module_version": "2.0.0",
      "model_name": "ButtonModel",
      "state": {
       "description": "Generate Vectors",
       "layout": "IPY_MODEL_6d373dbbaa5845e18ab49652890c56b2",
       "style": "IPY_MODEL_ae9a7f1281404c1b9ad7370253b3e37d",
       "tooltip": null
      }
     },
     "373de90d28c548e2bf5e171c7e946c35": {
      "model_module": "ipydatagrid",
      "model_module_version": "1.1.16",
      "model_name": "VegaExprModel",
      "state": {
       "_view_module": "ipydatagrid",
       "_view_module_version": "1.1.16",
       "_view_name": "VegaExprView"
      }
     },
     "381fb4b005e54ce7a0d99fc74e9474ac": {
      "model_module": "@jupyter-widgets/controls",
      "model_module_version": "2.0.0",
      "model_name": "VBoxModel",
      "state": {
       "children": [
        "IPY_MODEL_6de79bb4d6204088afa5394da2f80d52",
        "IPY_MODEL_204b13879f8844d6b3b7e8071984cd46",
        "IPY_MODEL_ca326b5245724c48b4129bc20f4e862e"
       ],
       "layout": "IPY_MODEL_602e867dee184271a9c0a8c143babc81"
      }
     },
     "3a78d27ce5754a95b69ab23c419b6092": {
      "model_module": "@jupyter-widgets/controls",
      "model_module_version": "2.0.0",
      "model_name": "ButtonStyleModel",
      "state": {
       "font_family": null,
       "font_size": null,
       "font_style": null,
       "font_variant": null,
       "font_weight": null,
       "text_color": null,
       "text_decoration": null
      }
     },
     "4148dde1a01d4e4e85b88a25eb077f85": {
      "model_module": "@jupyter-widgets/base",
      "model_module_version": "2.0.0",
      "model_name": "LayoutModel",
      "state": {}
     },
     "50c84cddb946436c907aac6073c19225": {
      "model_module": "@jupyter-widgets/base",
      "model_module_version": "2.0.0",
      "model_name": "LayoutModel",
      "state": {}
     },
     "602e867dee184271a9c0a8c143babc81": {
      "model_module": "@jupyter-widgets/base",
      "model_module_version": "2.0.0",
      "model_name": "LayoutModel",
      "state": {}
     },
     "6ac4bcbd144d43739ffe281b57a3f8cd": {
      "model_module": "@jupyter-widgets/controls",
      "model_module_version": "2.0.0",
      "model_name": "HBoxModel",
      "state": {
       "children": [
        "IPY_MODEL_b289ccecf2af4be1b1f3eee98004e2be",
        "IPY_MODEL_bf73b1db8e9e4a0a834ca2bc7da3792a",
        "IPY_MODEL_11c1c09b39f34e0aaf7740ab0c39c4c8",
        "IPY_MODEL_e51976b748a842adbdae645fee55de11",
        "IPY_MODEL_329dae5a3fd84914a6539b2e8ef7be3a"
       ],
       "layout": "IPY_MODEL_ad1bccdb3ec244899b5ed15bd5fdbfb8"
      }
     },
     "6b3cc3db305042c19b64ef66b009f555": {
      "model_module": "@jupyter-widgets/base",
      "model_module_version": "2.0.0",
      "model_name": "LayoutModel",
      "state": {}
     },
     "6d0a89514a6e45a28e09ae9d13efe3de": {
      "model_module": "@jupyter-widgets/controls",
      "model_module_version": "2.0.0",
      "model_name": "ButtonModel",
      "state": {
       "description": "Redo",
       "layout": "IPY_MODEL_50c84cddb946436c907aac6073c19225",
       "style": "IPY_MODEL_6d9eff5f74c14f2391c9435becdec663",
       "tooltip": null
      }
     },
     "6d373dbbaa5845e18ab49652890c56b2": {
      "model_module": "@jupyter-widgets/base",
      "model_module_version": "2.0.0",
      "model_name": "LayoutModel",
      "state": {}
     },
     "6d9eff5f74c14f2391c9435becdec663": {
      "model_module": "@jupyter-widgets/controls",
      "model_module_version": "2.0.0",
      "model_name": "ButtonStyleModel",
      "state": {
       "font_family": null,
       "font_size": null,
       "font_style": null,
       "font_variant": null,
       "font_weight": null,
       "text_color": null,
       "text_decoration": null
      }
     },
     "6de79bb4d6204088afa5394da2f80d52": {
      "model_module": "@jupyter-widgets/controls",
      "model_module_version": "2.0.0",
      "model_name": "HBoxModel",
      "state": {
       "children": [
        "IPY_MODEL_0d0de7989a7d4f63aaa418ad7c57bd73",
        "IPY_MODEL_6d0a89514a6e45a28e09ae9d13efe3de",
        "IPY_MODEL_eb78aaf96ecf4619a2151c1376f5580c",
        "IPY_MODEL_db0224f7036c4c71b35d3934fc2dc053",
        "IPY_MODEL_fa0673d42ccb4cbcbe9ed85076cba641"
       ],
       "layout": "IPY_MODEL_c27ff1d096f94072a94905f8ece709a3"
      }
     },
     "6e9afa65bf944e438a940fcfb93dfed8": {
      "model_module": "ipydatagrid",
      "model_module_version": "1.1.16",
      "model_name": "DataGridModel",
      "state": {
       "_data": {
        "data": [
         {
          "0": "Vs",
          "1": "Vr",
          "2": "dVr",
          "3": "I",
          "4": "dI",
          "ipydguuid": 0,
          "key": "  Variable:"
         },
         {
          "0": "V",
          "1": "V",
          "2": "V",
          "3": "A",
          "4": "A",
          "ipydguuid": 1,
          "key": " Units:"
         },
         {
          "0": "0",
          "1": "0",
          "2": "0.02",
          "3": "0",
          "4": "0.005",
          "ipydguuid": 2,
          "key": 0
         },
         {
          "0": "0.45",
          "1": "0.11",
          "2": "0.03",
          "3": "0.009",
          "4": "0.01",
          "ipydguuid": 3,
          "key": 1
         },
         {
          "0": "0.90",
          "1": "0.19",
          "2": "0.02",
          "3": "0.020",
          "4": "0.005",
          "ipydguuid": 4,
          "key": 2
         },
         {
          "0": "1.10",
          "1": "0.28",
          "2": "0.02",
          "3": "0.029",
          "4": "0.005",
          "ipydguuid": 5,
          "key": 3
         },
         {
          "0": "1.65",
          "1": "0.41",
          "2": "0.03",
          "3": "0.043",
          "4": "0.01",
          "ipydguuid": 6,
          "key": 4
         },
         {
          "0": "2.10",
          "1": "0.53",
          "2": "0.02",
          "3": "0.053",
          "4": "0.005",
          "ipydguuid": 7,
          "key": 5
         },
         {
          "0": "2.70",
          "1": "0.67",
          "2": "0.03",
          "3": "0.070",
          "4": "0.01",
          "ipydguuid": 8,
          "key": 6
         },
         {
          "0": "3.2",
          "1": "0.80",
          "2": "0.03",
          "3": "0.078",
          "4": "0.01",
          "ipydguuid": 9,
          "key": 7
         }
        ],
        "fields": [
         {
          "key": null
         },
         {
          "0": null
         },
         {
          "1": null
         },
         {
          "2": null
         },
         {
          "3": null
         },
         {
          "4": null
         },
         {
          "ipydguuid": null
         }
        ],
        "schema": {
         "fields": [
          {
           "name": "key",
           "type": "string"
          },
          {
           "name": 0,
           "type": "string"
          },
          {
           "name": 1,
           "type": "string"
          },
          {
           "name": 2,
           "type": "string"
          },
          {
           "name": 3,
           "type": "string"
          },
          {
           "name": 4,
           "type": "string"
          },
          {
           "name": "ipydguuid",
           "type": "integer"
          }
         ],
         "pandas_version": "1.4.0",
         "primaryKey": [
          "key",
          "ipydguuid"
         ],
         "primaryKeyUuid": "ipydguuid"
        }
       },
       "_model_name": "DataGridModel",
       "auto_fit_columns": false,
       "auto_fit_params": {
        "area": "all",
        "numCols": null,
        "padding": 30
       },
       "base_column_header_size": 20,
       "base_column_size": 64,
       "base_row_header_size": 64,
       "base_row_size": 20,
       "default_renderer": "IPY_MODEL_86a60426a93b446cbd119942e127e36e",
       "editable": true,
       "header_visibility": "all",
       "layout": "IPY_MODEL_90b829ed0eef426fa6d8cbf07ff94d9e",
       "selection_mode": "cell"
      }
     },
     "6ef6097a37f04012a79c2c7f6cc8f18e": {
      "model_module": "@jupyter-widgets/controls",
      "model_module_version": "2.0.0",
      "model_name": "ButtonStyleModel",
      "state": {
       "font_family": null,
       "font_size": null,
       "font_style": null,
       "font_variant": null,
       "font_weight": null,
       "text_color": null,
       "text_decoration": null
      }
     },
     "6f2a51b3e49a4a44a65a1973c9d91aa0": {
      "model_module": "@jupyter-widgets/output",
      "model_module_version": "1.0.0",
      "model_name": "OutputModel",
      "state": {
       "layout": "IPY_MODEL_afb84456b5734882be3e1d3fb9bda100"
      }
     },
     "74bec61b7cc2480495ff2025466f4bb5": {
      "model_module": "@jupyter-widgets/controls",
      "model_module_version": "2.0.0",
      "model_name": "ButtonStyleModel",
      "state": {
       "font_family": null,
       "font_size": null,
       "font_style": null,
       "font_variant": null,
       "font_weight": null,
       "text_color": null,
       "text_decoration": null
      }
     },
     "79fe2e4c2bd6424b86398e34216774d3": {
      "model_module": "ipydatagrid",
      "model_module_version": "1.1.16",
      "model_name": "VegaExprModel",
      "state": {
       "_view_module": "ipydatagrid",
       "_view_module_version": "1.1.16",
       "_view_name": "VegaExprView"
      }
     },
     "82d078de939d43da9d0f3a8fb39585e4": {
      "model_module": "ipydatagrid",
      "model_module_version": "1.1.16",
      "model_name": "TextRendererModel",
      "state": {
       "background_color": "IPY_MODEL_fe38902a388d4f50afa1baaf2239889d",
       "text_color": "IPY_MODEL_373de90d28c548e2bf5e171c7e946c35"
      }
     },
     "86a60426a93b446cbd119942e127e36e": {
      "model_module": "ipydatagrid",
      "model_module_version": "1.1.16",
      "model_name": "TextRendererModel",
      "state": {
       "background_color": "IPY_MODEL_1c34eec00ff748e994068ffa718ae64a",
       "text_color": "IPY_MODEL_79fe2e4c2bd6424b86398e34216774d3"
      }
     },
     "8e7c42840fdf4837b803e143ad2b4ec9": {
      "model_module": "@jupyter-widgets/base",
      "model_module_version": "2.0.0",
      "model_name": "LayoutModel",
      "state": {}
     },
     "90b829ed0eef426fa6d8cbf07ff94d9e": {
      "model_module": "@jupyter-widgets/base",
      "model_module_version": "2.0.0",
      "model_name": "LayoutModel",
      "state": {
       "height": "250px"
      }
     },
     "90ea0fe66dc04e349348245c2e87494d": {
      "model_module": "@jupyter-widgets/base",
      "model_module_version": "2.0.0",
      "model_name": "LayoutModel",
      "state": {}
     },
     "97065476bc204b768b3da13bab98fa7a": {
      "model_module": "@jupyter-widgets/base",
      "model_module_version": "2.0.0",
      "model_name": "LayoutModel",
      "state": {}
     },
     "99e5b6da51e94f3283b7668d28c4d67f": {
      "model_module": "@jupyter-widgets/controls",
      "model_module_version": "2.0.0",
      "model_name": "ButtonStyleModel",
      "state": {
       "font_family": null,
       "font_size": null,
       "font_style": null,
       "font_variant": null,
       "font_weight": null,
       "text_color": null,
       "text_decoration": null
      }
     },
     "a26264babadd46b2a75beaaa0cc46dc1": {
      "model_module": "@jupyter-widgets/controls",
      "model_module_version": "2.0.0",
      "model_name": "ButtonStyleModel",
      "state": {
       "font_family": null,
       "font_size": null,
       "font_style": null,
       "font_variant": null,
       "font_weight": null,
       "text_color": null,
       "text_decoration": null
      }
     },
     "ad1bccdb3ec244899b5ed15bd5fdbfb8": {
      "model_module": "@jupyter-widgets/base",
      "model_module_version": "2.0.0",
      "model_name": "LayoutModel",
      "state": {}
     },
     "ae9a7f1281404c1b9ad7370253b3e37d": {
      "model_module": "@jupyter-widgets/controls",
      "model_module_version": "2.0.0",
      "model_name": "ButtonStyleModel",
      "state": {
       "font_family": null,
       "font_size": null,
       "font_style": null,
       "font_variant": null,
       "font_weight": null,
       "text_color": null,
       "text_decoration": null
      }
     },
     "afb84456b5734882be3e1d3fb9bda100": {
      "model_module": "@jupyter-widgets/base",
      "model_module_version": "2.0.0",
      "model_name": "LayoutModel",
      "state": {}
     },
     "b289ccecf2af4be1b1f3eee98004e2be": {
      "model_module": "@jupyter-widgets/controls",
      "model_module_version": "2.0.0",
      "model_name": "ButtonModel",
      "state": {
       "description": "Undo",
       "layout": "IPY_MODEL_6b3cc3db305042c19b64ef66b009f555",
       "style": "IPY_MODEL_c58e44fa339446dbaa346ae6280f8236",
       "tooltip": null
      }
     },
     "ba712bf3f0184393b7928330a89e77f4": {
      "model_module": "@jupyter-widgets/base",
      "model_module_version": "2.0.0",
      "model_name": "LayoutModel",
      "state": {}
     },
     "bf73b1db8e9e4a0a834ca2bc7da3792a": {
      "model_module": "@jupyter-widgets/controls",
      "model_module_version": "2.0.0",
      "model_name": "ButtonModel",
      "state": {
       "description": "Redo",
       "layout": "IPY_MODEL_8e7c42840fdf4837b803e143ad2b4ec9",
       "style": "IPY_MODEL_e0de011d51a34c8ba3422045d91c3fed",
       "tooltip": null
      }
     },
     "c27ff1d096f94072a94905f8ece709a3": {
      "model_module": "@jupyter-widgets/base",
      "model_module_version": "2.0.0",
      "model_name": "LayoutModel",
      "state": {}
     },
     "c58e44fa339446dbaa346ae6280f8236": {
      "model_module": "@jupyter-widgets/controls",
      "model_module_version": "2.0.0",
      "model_name": "ButtonStyleModel",
      "state": {
       "font_family": null,
       "font_size": null,
       "font_style": null,
       "font_variant": null,
       "font_weight": null,
       "text_color": null,
       "text_decoration": null
      }
     },
     "ca326b5245724c48b4129bc20f4e862e": {
      "model_module": "@jupyter-widgets/output",
      "model_module_version": "1.0.0",
      "model_name": "OutputModel",
      "state": {
       "layout": "IPY_MODEL_e47d177ccbae454b8ef6a3ad83bdf00d"
      }
     },
     "db0224f7036c4c71b35d3934fc2dc053": {
      "model_module": "@jupyter-widgets/controls",
      "model_module_version": "2.0.0",
      "model_name": "ButtonModel",
      "state": {
       "description": "Add Column",
       "layout": "IPY_MODEL_2451b20722b345048c76db532aa2037e",
       "style": "IPY_MODEL_74bec61b7cc2480495ff2025466f4bb5",
       "tooltip": null
      }
     },
     "e0de011d51a34c8ba3422045d91c3fed": {
      "model_module": "@jupyter-widgets/controls",
      "model_module_version": "2.0.0",
      "model_name": "ButtonStyleModel",
      "state": {
       "font_family": null,
       "font_size": null,
       "font_style": null,
       "font_variant": null,
       "font_weight": null,
       "text_color": null,
       "text_decoration": null
      }
     },
     "e47d177ccbae454b8ef6a3ad83bdf00d": {
      "model_module": "@jupyter-widgets/base",
      "model_module_version": "2.0.0",
      "model_name": "LayoutModel",
      "state": {}
     },
     "e51976b748a842adbdae645fee55de11": {
      "model_module": "@jupyter-widgets/controls",
      "model_module_version": "2.0.0",
      "model_name": "ButtonModel",
      "state": {
       "description": "Add Column",
       "layout": "IPY_MODEL_90ea0fe66dc04e349348245c2e87494d",
       "style": "IPY_MODEL_24dc2e17659d4766a17f7e16b5abe9dd",
       "tooltip": null
      }
     },
     "eb78aaf96ecf4619a2151c1376f5580c": {
      "model_module": "@jupyter-widgets/controls",
      "model_module_version": "2.0.0",
      "model_name": "ButtonModel",
      "state": {
       "description": "Add Row",
       "layout": "IPY_MODEL_4148dde1a01d4e4e85b88a25eb077f85",
       "style": "IPY_MODEL_a26264babadd46b2a75beaaa0cc46dc1",
       "tooltip": null
      }
     },
     "f64b087410834dd489445543d6c28d0f": {
      "model_module": "@jupyter-widgets/base",
      "model_module_version": "2.0.0",
      "model_name": "LayoutModel",
      "state": {}
     },
     "fa0673d42ccb4cbcbe9ed85076cba641": {
      "model_module": "@jupyter-widgets/controls",
      "model_module_version": "2.0.0",
      "model_name": "ButtonModel",
      "state": {
       "description": "Generate Vectors",
       "layout": "IPY_MODEL_97065476bc204b768b3da13bab98fa7a",
       "style": "IPY_MODEL_6ef6097a37f04012a79c2c7f6cc8f18e",
       "tooltip": null
      }
     },
     "fd09bc1744114743b7248228d47d4ae8": {
      "model_module": "@jupyter-widgets/base",
      "model_module_version": "2.0.0",
      "model_name": "LayoutModel",
      "state": {}
     },
     "fe38902a388d4f50afa1baaf2239889d": {
      "model_module": "ipydatagrid",
      "model_module_version": "1.1.16",
      "model_name": "VegaExprModel",
      "state": {
       "_view_module": "ipydatagrid",
       "_view_module_version": "1.1.16",
       "_view_name": "VegaExprView"
      }
     }
    },
    "version_major": 2,
    "version_minor": 0
   }
  }
 },
 "nbformat": 4,
 "nbformat_minor": 5
}
