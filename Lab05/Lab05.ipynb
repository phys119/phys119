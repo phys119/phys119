{
 "cells": [
  {
   "cell_type": "markdown",
   "id": "61ed9912-a3b5-4024-b62b-49c912b1aa25",
   "metadata": {
    "id": "61ed9912-a3b5-4024-b62b-49c912b1aa25"
   },
   "source": [
    "# Lab 05 - Ohm's Law I"
   ]
  },
  {
   "cell_type": "code",
   "execution_count": null,
   "id": "b795858f-a049-496e-a9bb-8128e61d49c3",
   "metadata": {
    "id": "b795858f-a049-496e-a9bb-8128e61d49c3"
   },
   "outputs": [],
   "source": [
    "%reset -f\n",
    "import numpy as np\n",
    "import data_entry2\n",
    "import matplotlib.pyplot as plt"
   ]
  },
  {
   "cell_type": "markdown",
   "id": "355521ea-d050-45f2-93d5-988f72f018a2",
   "metadata": {
    "id": "355521ea-d050-45f2-93d5-988f72f018a2"
   },
   "source": [
    "*Edit this cell and provide the information requested:*\n",
    "- Your name:\n",
    "- Your student number:\n",
    "- Partner's name:"
   ]
  },
  {
   "cell_type": "markdown",
   "id": "97644611-7359-4ded-8178-53a09dd70abb",
   "metadata": {
    "id": "97644611-7359-4ded-8178-53a09dd70abb"
   },
   "source": [
    "## Part A - Pendulum lab feedback, discussion of residuals, overview of the day"
   ]
  },
  {
   "cell_type": "markdown",
   "id": "b5ad0fdd-d597-43e5-8f41-7473c348a560",
   "metadata": {
    "id": "b5ad0fdd-d597-43e5-8f41-7473c348a560"
   },
   "source": [
    "*(Optional) Your notes on anything discussed during this part.*"
   ]
  },
  {
   "cell_type": "markdown",
   "id": "f8ab58f4-f2bf-4517-a32e-e8626a910a48",
   "metadata": {
    "id": "f8ab58f4-f2bf-4517-a32e-e8626a910a48"
   },
   "source": []
  },
  {
   "cell_type": "markdown",
   "id": "0b60501d-ed71-445b-a39c-1405d7026aa6",
   "metadata": {
    "id": "f8ab58f4-f2bf-4517-a32e-e8626a910a48"
   },
   "source": []
  },
  {
   "cell_type": "markdown",
   "id": "2921ad5c-8305-4d1e-996d-03d62735438c",
   "metadata": {
    "id": "2921ad5c-8305-4d1e-996d-03d62735438c"
   },
   "source": [
    "## Part B - Familiarize, Part 1 (Build your circuit)"
   ]
  },
  {
   "cell_type": "markdown",
   "id": "a94f87ad-829c-4566-b2e7-92ad2dafe042",
   "metadata": {
    "id": "a94f87ad-829c-4566-b2e7-92ad2dafe042"
   },
   "source": [
    "*Your notes on Ohm's law, multimeters, and anything else useful for building the circuit. Restate the experimental goal in your own words.*"
   ]
  },
  {
   "cell_type": "markdown",
   "id": "e6ae7d17-4c81-4eda-82f6-29b223f7d9b0",
   "metadata": {
    "id": "e6ae7d17-4c81-4eda-82f6-29b223f7d9b0"
   },
   "source": []
  },
  {
   "cell_type": "markdown",
   "id": "722a5de8-87c4-4571-9a1b-68d385883f1b",
   "metadata": {
    "id": "e6ae7d17-4c81-4eda-82f6-29b223f7d9b0"
   },
   "source": []
  },
  {
   "cell_type": "markdown",
   "id": "f2f0940c-266b-429c-bf4f-93ee502dd067",
   "metadata": {
    "id": "f2f0940c-266b-429c-bf4f-93ee502dd067"
   },
   "source": [
    "## Part C - Familiarize, Part 2 (Explore the Equipment and Develop a Measurement Strategy)"
   ]
  },
  {
   "cell_type": "markdown",
   "id": "36361425-9e9c-46fc-85ec-97d880f53ca2",
   "metadata": {
    "id": "36361425-9e9c-46fc-85ec-97d880f53ca2"
   },
   "source": []
  },
  {
   "cell_type": "markdown",
   "id": "2a6f92f4-5251-46ff-9ff4-f0da300d35aa",
   "metadata": {
    "id": "2a6f92f4-5251-46ff-9ff4-f0da300d35aa"
   },
   "source": []
  },
  {
   "cell_type": "markdown",
   "id": "1d593d35-14aa-4543-9107-77488aa1c0d9",
   "metadata": {
    "id": "1d593d35-14aa-4543-9107-77488aa1c0d9"
   },
   "source": [
    "## Part D - Measure and Analyze (Collect data and perform interactive fitting)"
   ]
  },
  {
   "cell_type": "code",
   "execution_count": null,
   "id": "d3d58402-8354-4098-8700-785950d34f8d",
   "metadata": {},
   "outputs": [],
   "source": []
  },
  {
   "cell_type": "code",
   "execution_count": null,
   "id": "1f977bad-af13-4b9d-8787-9377d261725f",
   "metadata": {
    "colab": {
     "referenced_widgets": [
      "cadbae5e287a41a7a6481c21fe362640"
     ]
    },
    "id": "1f977bad-af13-4b9d-8787-9377d261725f",
    "outputId": "3501ebc8-7925-4118-ee46-2591e8d85f79"
   },
   "outputs": [],
   "source": [
    "# Load the Ohm's Law spreadsheet with recommended columns\n",
    "de1 = data_entry2.sheet(\"lab05_round1\")"
   ]
  },
  {
   "cell_type": "code",
   "execution_count": null,
   "id": "3bef3e30-4540-4332-8573-ed9079e4c84b",
   "metadata": {},
   "outputs": [],
   "source": []
  },
  {
   "cell_type": "code",
   "execution_count": null,
   "id": "5d2fa803-e217-4683-95d4-c518afa2be7c",
   "metadata": {},
   "outputs": [],
   "source": []
  },
  {
   "cell_type": "code",
   "execution_count": null,
   "id": "38cb7056-7a6e-4214-9846-685bd9a2e846",
   "metadata": {},
   "outputs": [],
   "source": [
    "# Use this table to easily keep track of your interactive fitting results\n",
    "fit_results = data_entry2.sheet(\"lab05_fitting_results_round1\")\n",
    "\n",
    "# In this table we use \"m\" as slope and \"b\" as y-intercept to \n",
    "# keep the variable names short"
   ]
  },
  {
   "cell_type": "code",
   "execution_count": null,
   "id": "252237f8-2417-48bc-8cd3-c0457643069e",
   "metadata": {},
   "outputs": [],
   "source": []
  },
  {
   "cell_type": "markdown",
   "id": "e011d06e-afc2-490c-9940-bd66e3ac8f11",
   "metadata": {
    "id": "9433b047-f5d8-404b-9217-284c0d6645ab"
   },
   "source": [
    "## Part E - Compare, Summarize, Reflect"
   ]
  },
  {
   "cell_type": "markdown",
   "id": "d7b62755-c1f4-45fa-98e8-ebdd1bce45b6",
   "metadata": {},
   "source": []
  },
  {
   "cell_type": "markdown",
   "id": "c60efcf5-ee32-49e1-8b01-dbf9e70e9484",
   "metadata": {},
   "source": []
  },
  {
   "cell_type": "markdown",
   "id": "5a7d84ec-e02f-4eae-84d4-0d4042471ffa",
   "metadata": {},
   "source": [
    "## Part F - Improve, Compare, Summarize, Reflect"
   ]
  },
  {
   "cell_type": "markdown",
   "id": "dbfc9e34-7705-41d9-81bb-6e89bf700a6b",
   "metadata": {},
   "source": []
  },
  {
   "cell_type": "markdown",
   "id": "ecee8f6b-54cf-4a66-af5d-547c1a055261",
   "metadata": {},
   "source": [
    "## Part G - Create your scatter plot with your best-fit model and a residuals graph for your best data set"
   ]
  },
  {
   "cell_type": "markdown",
   "id": "81d8e2bf-2224-4772-9da0-72a1bba9d3d0",
   "metadata": {},
   "source": []
  },
  {
   "cell_type": "markdown",
   "id": "e43b002e-5def-40bf-bb93-cf01abfe2abf",
   "metadata": {},
   "source": [
    "## Summary of results"
   ]
  },
  {
   "cell_type": "markdown",
   "id": "13657467-93fa-4ab6-98ed-0f5ad84d2840",
   "metadata": {},
   "source": []
  },
  {
   "cell_type": "markdown",
   "id": "6364da8b-3bbf-48d9-bc7c-044999cb710d",
   "metadata": {},
   "source": []
  },
  {
   "cell_type": "markdown",
   "id": "572097fe-b644-4e8d-bb60-dae28ee2acc6",
   "metadata": {},
   "source": [
    "# Submit\n",
    "\n",
    "Steps for submission:\n",
    "\n",
    "1. Click: Run => Run_All_Cells\n",
    "2. Read through the notebook to ensure all the cells executed correctly and without error.\n",
    "3. File => Save_and_Export_Notebook_As->HTML\n",
    "4. Upload the HTML document to the lab submission assignment on Canvas."
   ]
  },
  {
   "cell_type": "code",
   "execution_count": null,
   "id": "3114c562-85b9-4ba5-be34-a6c15cc9ebad",
   "metadata": {},
   "outputs": [],
   "source": [
    "display_sheets()"
   ]
  }
 ],
 "metadata": {
  "colab": {
   "collapsed_sections": [],
   "name": "lab05_TAversion.ipynb",
   "provenance": []
  },
  "kernelspec": {
   "display_name": "Python 3 (ipykernel)",
   "language": "python",
   "name": "python3"
  },
  "language_info": {
   "codemirror_mode": {
    "name": "ipython",
    "version": 3
   },
   "file_extension": ".py",
   "mimetype": "text/x-python",
   "name": "python",
   "nbconvert_exporter": "python",
   "pygments_lexer": "ipython3",
   "version": "3.10.10"
  },
  "widgets": {
   "application/vnd.jupyter.widget-state+json": {
    "state": {},
    "version_major": 2,
    "version_minor": 0
   }
  }
 },
 "nbformat": 4,
 "nbformat_minor": 5
}
