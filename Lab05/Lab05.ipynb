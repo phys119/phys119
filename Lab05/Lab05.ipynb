{
 "cells": [
  {
   "cell_type": "markdown",
   "id": "61ed9912-a3b5-4024-b62b-49c912b1aa25",
   "metadata": {
    "id": "61ed9912-a3b5-4024-b62b-49c912b1aa25"
   },
   "source": [
    "# Lab 05 - Ohm's Law I"
   ]
  },
  {
   "cell_type": "code",
   "execution_count": 2,
   "id": "b795858f-a049-496e-a9bb-8128e61d49c3",
   "metadata": {
    "id": "b795858f-a049-496e-a9bb-8128e61d49c3"
   },
   "outputs": [],
   "source": [
    "%reset -f\n",
    "import numpy as np\n",
    "import data_entry2\n",
    "import matplotlib.pyplot as plt"
   ]
  },
  {
   "cell_type": "markdown",
   "id": "355521ea-d050-45f2-93d5-988f72f018a2",
   "metadata": {
    "id": "355521ea-d050-45f2-93d5-988f72f018a2"
   },
   "source": [
    "*Edit this cell and provide the information requested:*\n",
    "- Your name:\n",
    "- Your student number:\n",
    "- Partner's name:"
   ]
  },
  {
   "cell_type": "markdown",
   "id": "97644611-7359-4ded-8178-53a09dd70abb",
   "metadata": {
    "id": "97644611-7359-4ded-8178-53a09dd70abb"
   },
   "source": [
    "## Part A - Pendulum lab feedback, discussion of residuals, overview of the day"
   ]
  },
  {
   "cell_type": "markdown",
   "id": "b5ad0fdd-d597-43e5-8f41-7473c348a560",
   "metadata": {
    "id": "b5ad0fdd-d597-43e5-8f41-7473c348a560"
   },
   "source": [
    "*(Optional) Your notes on anything discussed during this part.*"
   ]
  },
  {
   "cell_type": "markdown",
   "id": "f8ab58f4-f2bf-4517-a32e-e8626a910a48",
   "metadata": {
    "id": "f8ab58f4-f2bf-4517-a32e-e8626a910a48"
   },
   "source": []
  },
  {
   "cell_type": "markdown",
   "id": "0b60501d-ed71-445b-a39c-1405d7026aa6",
   "metadata": {
    "id": "f8ab58f4-f2bf-4517-a32e-e8626a910a48"
   },
   "source": []
  },
  {
   "cell_type": "markdown",
   "id": "2921ad5c-8305-4d1e-996d-03d62735438c",
   "metadata": {
    "id": "2921ad5c-8305-4d1e-996d-03d62735438c"
   },
   "source": [
    "## Part B - Familiarize, Part 1 (Build your circuit)"
   ]
  },
  {
   "cell_type": "markdown",
   "id": "a94f87ad-829c-4566-b2e7-92ad2dafe042",
   "metadata": {
    "id": "a94f87ad-829c-4566-b2e7-92ad2dafe042"
   },
   "source": [
    "*Your notes on Ohm's law, multimeters, and anything else useful for building the circuit. Restate the experimental goal in your own words.*"
   ]
  },
  {
   "cell_type": "markdown",
   "id": "e6ae7d17-4c81-4eda-82f6-29b223f7d9b0",
   "metadata": {
    "id": "e6ae7d17-4c81-4eda-82f6-29b223f7d9b0"
   },
   "source": []
  },
  {
   "cell_type": "markdown",
   "id": "722a5de8-87c4-4571-9a1b-68d385883f1b",
   "metadata": {
    "id": "e6ae7d17-4c81-4eda-82f6-29b223f7d9b0"
   },
   "source": []
  },
  {
   "cell_type": "markdown",
   "id": "f2f0940c-266b-429c-bf4f-93ee502dd067",
   "metadata": {
    "id": "f2f0940c-266b-429c-bf4f-93ee502dd067"
   },
   "source": [
    "## Part C - Familiarize, Part 2 (Explore the Equipment and Develop a Measurement Strategy)"
   ]
  },
  {
   "cell_type": "markdown",
   "id": "36361425-9e9c-46fc-85ec-97d880f53ca2",
   "metadata": {
    "id": "36361425-9e9c-46fc-85ec-97d880f53ca2"
   },
   "source": []
  },
  {
   "cell_type": "markdown",
   "id": "2a6f92f4-5251-46ff-9ff4-f0da300d35aa",
   "metadata": {
    "id": "2a6f92f4-5251-46ff-9ff4-f0da300d35aa"
   },
   "source": []
  },
  {
   "cell_type": "markdown",
   "id": "1d593d35-14aa-4543-9107-77488aa1c0d9",
   "metadata": {
    "id": "1d593d35-14aa-4543-9107-77488aa1c0d9"
   },
   "source": [
    "## Part D - Measure and Analyze (Collect Data and Make a Scatter Plot)"
   ]
  },
  {
   "cell_type": "code",
   "execution_count": null,
   "id": "d3d58402-8354-4098-8700-785950d34f8d",
   "metadata": {},
   "outputs": [],
   "source": []
  },
  {
   "cell_type": "code",
   "execution_count": 5,
   "id": "1f977bad-af13-4b9d-8787-9377d261725f",
   "metadata": {
    "colab": {
     "referenced_widgets": [
      "cadbae5e287a41a7a6481c21fe362640"
     ]
    },
    "id": "1f977bad-af13-4b9d-8787-9377d261725f",
    "outputId": "3501ebc8-7925-4118-ee46-2591e8d85f79"
   },
   "outputs": [
    {
     "name": "stdout",
     "output_type": "stream",
     "text": [
      "Sheet name: lab05_round1.csv\n"
     ]
    },
    {
     "data": {
      "application/vnd.jupyter.widget-view+json": {
       "model_id": "ace774f17ba347af9e8e0a8538109ea9",
       "version_major": 2,
       "version_minor": 0
      },
      "text/plain": [
       "VBox(children=(HBox(children=(Button(description='Undo', style=ButtonStyle()), Button(description='Redo', styl…"
      ]
     },
     "metadata": {},
     "output_type": "display_data"
    }
   ],
   "source": [
    "# Load the Ohm's Law spreadsheet with recommended columns\n",
    "de1 = data_entry2.sheet(\"lab05_round1\")"
   ]
  },
  {
   "cell_type": "code",
   "execution_count": null,
   "id": "3bef3e30-4540-4332-8573-ed9079e4c84b",
   "metadata": {},
   "outputs": [],
   "source": []
  },
  {
   "cell_type": "markdown",
   "id": "e011d06e-afc2-490c-9940-bd66e3ac8f11",
   "metadata": {
    "id": "9433b047-f5d8-404b-9217-284c0d6645ab"
   },
   "source": [
    "## Part E - Compare, Summarize, Reflect"
   ]
  },
  {
   "cell_type": "markdown",
   "id": "d7b62755-c1f4-45fa-98e8-ebdd1bce45b6",
   "metadata": {},
   "source": []
  },
  {
   "cell_type": "markdown",
   "id": "c60efcf5-ee32-49e1-8b01-dbf9e70e9484",
   "metadata": {},
   "source": []
  },
  {
   "cell_type": "markdown",
   "id": "5a7d84ec-e02f-4eae-84d4-0d4042471ffa",
   "metadata": {},
   "source": [
    "## Part F - Improve, Compare, Summarize, Reflect"
   ]
  },
  {
   "cell_type": "markdown",
   "id": "dbfc9e34-7705-41d9-81bb-6e89bf700a6b",
   "metadata": {},
   "source": []
  },
  {
   "cell_type": "markdown",
   "id": "e43b002e-5def-40bf-bb93-cf01abfe2abf",
   "metadata": {},
   "source": [
    "## Summary of results"
   ]
  },
  {
   "cell_type": "markdown",
   "id": "13657467-93fa-4ab6-98ed-0f5ad84d2840",
   "metadata": {},
   "source": []
  },
  {
   "cell_type": "markdown",
   "id": "6364da8b-3bbf-48d9-bc7c-044999cb710d",
   "metadata": {},
   "source": []
  },
  {
   "cell_type": "markdown",
   "id": "572097fe-b644-4e8d-bb60-dae28ee2acc6",
   "metadata": {},
   "source": [
    "# Submit\n",
    "\n",
    "Steps for submission:\n",
    "\n",
    "1. Click: Run => Run_All_Cells\n",
    "2. Read through the notebook to ensure all the cells executed correctly and without error.\n",
    "3. File => Save_and_Export_Notebook_As->HTML\n",
    "4. Upload the HTML document to the lab submission assignment on Canvas."
   ]
  },
  {
   "cell_type": "code",
   "execution_count": null,
   "id": "3114c562-85b9-4ba5-be34-a6c15cc9ebad",
   "metadata": {},
   "outputs": [],
   "source": [
    "display_sheets()"
   ]
  }
 ],
 "metadata": {
  "colab": {
   "collapsed_sections": [],
   "name": "lab05_TAversion.ipynb",
   "provenance": []
  },
  "kernelspec": {
   "display_name": "Python 3 (ipykernel)",
   "language": "python",
   "name": "python3"
  },
  "language_info": {
   "codemirror_mode": {
    "name": "ipython",
    "version": 3
   },
   "file_extension": ".py",
   "mimetype": "text/x-python",
   "name": "python",
   "nbconvert_exporter": "python",
   "pygments_lexer": "ipython3",
   "version": "3.10.10"
  },
  "widgets": {
   "application/vnd.jupyter.widget-state+json": {
    "state": {
     "02162198cfaa4b4ba71114bd58b79209": {
      "model_module": "@jupyter-widgets/controls",
      "model_module_version": "2.0.0",
      "model_name": "ButtonStyleModel",
      "state": {
       "font_family": null,
       "font_size": null,
       "font_style": null,
       "font_variant": null,
       "font_weight": null,
       "text_color": null,
       "text_decoration": null
      }
     },
     "0468cc6c917a4c08b0bc250b1a325284": {
      "model_module": "@jupyter-widgets/controls",
      "model_module_version": "2.0.0",
      "model_name": "ButtonStyleModel",
      "state": {
       "font_family": null,
       "font_size": null,
       "font_style": null,
       "font_variant": null,
       "font_weight": null,
       "text_color": null,
       "text_decoration": null
      }
     },
     "052d79cf3fa240bc8447906597d98ec3": {
      "model_module": "@jupyter-widgets/controls",
      "model_module_version": "2.0.0",
      "model_name": "ButtonModel",
      "state": {
       "description": "Generate Vectors",
       "layout": "IPY_MODEL_e3ce2f70e5194df5998cc83eaa3b63b0",
       "style": "IPY_MODEL_7993c6a7937a4635b34a186cf914b99d",
       "tooltip": null
      }
     },
     "075e5645270d418da13be18c135b472d": {
      "model_module": "@jupyter-widgets/base",
      "model_module_version": "2.0.0",
      "model_name": "LayoutModel",
      "state": {}
     },
     "0ac13b8da5ce4e828bdca929b7acecbd": {
      "model_module": "@jupyter-widgets/base",
      "model_module_version": "2.0.0",
      "model_name": "LayoutModel",
      "state": {}
     },
     "0efc5888f11c46ac8b34dad176175dd8": {
      "model_module": "@jupyter-widgets/base",
      "model_module_version": "2.0.0",
      "model_name": "LayoutModel",
      "state": {}
     },
     "1063c0a59c8e4f04b5fb795fc224033f": {
      "model_module": "ipydatagrid",
      "model_module_version": "1.1.16",
      "model_name": "VegaExprModel",
      "state": {
       "_view_module": "ipydatagrid",
       "_view_module_version": "1.1.16",
       "_view_name": "VegaExprView"
      }
     },
     "12c6caa770b84d02bb323bf49c99eea5": {
      "model_module": "@jupyter-widgets/controls",
      "model_module_version": "2.0.0",
      "model_name": "HBoxModel",
      "state": {
       "children": [
        "IPY_MODEL_6ff7b11f7cef42e791993078a156cda5",
        "IPY_MODEL_20846bb1e9624e26b29bef4ce13bb503",
        "IPY_MODEL_4749ce8df69d4181acd10a0e8dea0c5f",
        "IPY_MODEL_db483f62785f44bab7b63ff6ce189f2f",
        "IPY_MODEL_052d79cf3fa240bc8447906597d98ec3"
       ],
       "layout": "IPY_MODEL_505ae772f936414580f07f85b025ba55"
      }
     },
     "1a62b6a60f5b41a6a98435cd897c1548": {
      "model_module": "ipydatagrid",
      "model_module_version": "1.1.16",
      "model_name": "DataGridModel",
      "state": {
       "_data": {
        "data": [
         {
          "0": "Vs",
          "1": "Vr",
          "2": "dVr",
          "3": "I",
          "4": "dI",
          "ipydguuid": 0,
          "key": "  Variable:"
         },
         {
          "0": "V",
          "1": "V",
          "2": "V",
          "3": "A",
          "4": "A",
          "ipydguuid": 1,
          "key": " Units:"
         },
         {
          "0": "0",
          "1": "0",
          "2": "0.02",
          "3": "0",
          "4": "0.005",
          "ipydguuid": 2,
          "key": 0
         },
         {
          "0": "0.45",
          "1": "0.11",
          "2": "0.03",
          "3": "0.009",
          "4": "0.01",
          "ipydguuid": 3,
          "key": 1
         },
         {
          "0": "0.90",
          "1": "0.19",
          "2": "0.02",
          "3": "0.020",
          "4": "0.005",
          "ipydguuid": 4,
          "key": 2
         },
         {
          "0": "1.10",
          "1": "0.28",
          "2": "0.02",
          "3": "0.029",
          "4": "0.005",
          "ipydguuid": 5,
          "key": 3
         },
         {
          "0": "1.65",
          "1": "0.41",
          "2": "0.03",
          "3": "0.043",
          "4": "0.01",
          "ipydguuid": 6,
          "key": 4
         },
         {
          "0": "2.10",
          "1": "0.53",
          "2": "0.02",
          "3": "0.053",
          "4": "0.005",
          "ipydguuid": 7,
          "key": 5
         },
         {
          "0": "2.70",
          "1": "0.67",
          "2": "0.03",
          "3": "0.070",
          "4": "0.01",
          "ipydguuid": 8,
          "key": 6
         },
         {
          "0": "3.2",
          "1": "0.80",
          "2": "0.03",
          "3": "0.078",
          "4": "0.01",
          "ipydguuid": 9,
          "key": 7
         }
        ],
        "fields": [
         {
          "key": null
         },
         {
          "0": null
         },
         {
          "1": null
         },
         {
          "2": null
         },
         {
          "3": null
         },
         {
          "4": null
         },
         {
          "ipydguuid": null
         }
        ],
        "schema": {
         "fields": [
          {
           "name": "key",
           "type": "string"
          },
          {
           "name": 0,
           "type": "string"
          },
          {
           "name": 1,
           "type": "string"
          },
          {
           "name": 2,
           "type": "string"
          },
          {
           "name": 3,
           "type": "string"
          },
          {
           "name": 4,
           "type": "string"
          },
          {
           "name": "ipydguuid",
           "type": "integer"
          }
         ],
         "pandas_version": "1.4.0",
         "primaryKey": [
          "key",
          "ipydguuid"
         ],
         "primaryKeyUuid": "ipydguuid"
        }
       },
       "_model_name": "DataGridModel",
       "auto_fit_columns": false,
       "auto_fit_params": {
        "area": "all",
        "numCols": null,
        "padding": 30
       },
       "base_column_header_size": 20,
       "base_column_size": 64,
       "base_row_header_size": 64,
       "base_row_size": 20,
       "default_renderer": "IPY_MODEL_1c6a537d4a454911b8bb6d602e77828c",
       "editable": true,
       "header_visibility": "all",
       "layout": "IPY_MODEL_2aa55c3c78664313aa68ae2ef265d366",
       "selection_mode": "cell"
      }
     },
     "1c6a537d4a454911b8bb6d602e77828c": {
      "model_module": "ipydatagrid",
      "model_module_version": "1.1.16",
      "model_name": "TextRendererModel",
      "state": {
       "background_color": "IPY_MODEL_1063c0a59c8e4f04b5fb795fc224033f",
       "text_color": "IPY_MODEL_2fe1cb749fcb40a7b65fc4b7d29c5cb9"
      }
     },
     "1e76e2ee910b42e3aa581b24fe13d6f2": {
      "model_module": "@jupyter-widgets/base",
      "model_module_version": "2.0.0",
      "model_name": "LayoutModel",
      "state": {}
     },
     "20837e3b16024212a339d54606792213": {
      "model_module": "@jupyter-widgets/controls",
      "model_module_version": "2.0.0",
      "model_name": "ButtonModel",
      "state": {
       "description": "Add Column",
       "layout": "IPY_MODEL_075e5645270d418da13be18c135b472d",
       "style": "IPY_MODEL_2aba46339e0b449e95980715121e7eb1",
       "tooltip": null
      }
     },
     "20846bb1e9624e26b29bef4ce13bb503": {
      "model_module": "@jupyter-widgets/controls",
      "model_module_version": "2.0.0",
      "model_name": "ButtonModel",
      "state": {
       "description": "Redo",
       "layout": "IPY_MODEL_70bb9db46b5a464cbcccef5ac85e7440",
       "style": "IPY_MODEL_bc3c82d4456049fd948a5e8a3e4cf3b6",
       "tooltip": null
      }
     },
     "20be37bdd9ac43e7a7c3828d6f59b125": {
      "model_module": "ipydatagrid",
      "model_module_version": "1.1.16",
      "model_name": "VegaExprModel",
      "state": {
       "_view_module": "ipydatagrid",
       "_view_module_version": "1.1.16",
       "_view_name": "VegaExprView"
      }
     },
     "23cb750075dd40feb57de1c2ea523047": {
      "model_module": "@jupyter-widgets/controls",
      "model_module_version": "2.0.0",
      "model_name": "VBoxModel",
      "state": {
       "children": [
        "IPY_MODEL_12c6caa770b84d02bb323bf49c99eea5",
        "IPY_MODEL_1a62b6a60f5b41a6a98435cd897c1548",
        "IPY_MODEL_9f3fa69a8dde4c5fb0cbcd320ae4c368"
       ],
       "layout": "IPY_MODEL_61152416972942458cbcd5112a9dcde6"
      }
     },
     "24bf341ff3d041438b2ce29de247d668": {
      "model_module": "@jupyter-widgets/controls",
      "model_module_version": "2.0.0",
      "model_name": "ButtonStyleModel",
      "state": {
       "font_family": null,
       "font_size": null,
       "font_style": null,
       "font_variant": null,
       "font_weight": null,
       "text_color": null,
       "text_decoration": null
      }
     },
     "25107171fdde4b5facc0da97e30d672a": {
      "model_module": "@jupyter-widgets/controls",
      "model_module_version": "2.0.0",
      "model_name": "ButtonStyleModel",
      "state": {
       "font_family": null,
       "font_size": null,
       "font_style": null,
       "font_variant": null,
       "font_weight": null,
       "text_color": null,
       "text_decoration": null
      }
     },
     "2a4da13233ce433ab1ae8076185a244b": {
      "model_module": "@jupyter-widgets/base",
      "model_module_version": "2.0.0",
      "model_name": "LayoutModel",
      "state": {}
     },
     "2aa55c3c78664313aa68ae2ef265d366": {
      "model_module": "@jupyter-widgets/base",
      "model_module_version": "2.0.0",
      "model_name": "LayoutModel",
      "state": {
       "height": "250px"
      }
     },
     "2aba46339e0b449e95980715121e7eb1": {
      "model_module": "@jupyter-widgets/controls",
      "model_module_version": "2.0.0",
      "model_name": "ButtonStyleModel",
      "state": {
       "font_family": null,
       "font_size": null,
       "font_style": null,
       "font_variant": null,
       "font_weight": null,
       "text_color": null,
       "text_decoration": null
      }
     },
     "2c04fd07a82c4fb5a31499bceaeac1fd": {
      "model_module": "@jupyter-widgets/base",
      "model_module_version": "2.0.0",
      "model_name": "LayoutModel",
      "state": {}
     },
     "2c793d7aa0a047f0ba74e9abca7c5678": {
      "model_module": "ipydatagrid",
      "model_module_version": "1.1.16",
      "model_name": "DataGridModel",
      "state": {
       "_data": {
        "data": [
         {
          "0": "Vs",
          "1": "Vr",
          "2": "dVr",
          "3": "I",
          "4": "dI",
          "ipydguuid": 0,
          "key": "  Variable:"
         },
         {
          "0": "",
          "1": "",
          "2": "",
          "3": "",
          "4": "",
          "ipydguuid": 1,
          "key": " Units:"
         },
         {
          "0": "",
          "1": "",
          "2": "",
          "3": "",
          "4": "",
          "ipydguuid": 2,
          "key": 0
         },
         {
          "0": "",
          "1": "",
          "2": "",
          "3": "",
          "4": "",
          "ipydguuid": 3,
          "key": 1
         },
         {
          "0": "",
          "1": "",
          "2": "",
          "3": "",
          "4": "",
          "ipydguuid": 4,
          "key": 2
         },
         {
          "0": "",
          "1": "",
          "2": "",
          "3": "",
          "4": "",
          "ipydguuid": 5,
          "key": 3
         },
         {
          "0": "",
          "1": "",
          "2": "",
          "3": "",
          "4": "",
          "ipydguuid": 6,
          "key": 4
         },
         {
          "0": "",
          "1": "",
          "2": "",
          "3": "",
          "4": "",
          "ipydguuid": 7,
          "key": 5
         },
         {
          "0": "",
          "1": "",
          "2": "",
          "3": "",
          "4": "",
          "ipydguuid": 8,
          "key": 6
         },
         {
          "0": "",
          "1": "",
          "2": "",
          "3": "",
          "4": "",
          "ipydguuid": 9,
          "key": 7
         }
        ],
        "fields": [
         {
          "key": null
         },
         {
          "0": null
         },
         {
          "1": null
         },
         {
          "2": null
         },
         {
          "3": null
         },
         {
          "4": null
         },
         {
          "ipydguuid": null
         }
        ],
        "schema": {
         "fields": [
          {
           "name": "key",
           "type": "string"
          },
          {
           "name": 0,
           "type": "string"
          },
          {
           "name": 1,
           "type": "string"
          },
          {
           "name": 2,
           "type": "string"
          },
          {
           "name": 3,
           "type": "string"
          },
          {
           "name": 4,
           "type": "string"
          },
          {
           "name": "ipydguuid",
           "type": "integer"
          }
         ],
         "pandas_version": "1.4.0",
         "primaryKey": [
          "key",
          "ipydguuid"
         ],
         "primaryKeyUuid": "ipydguuid"
        }
       },
       "_model_name": "DataGridModel",
       "_visible_rows": [
        0,
        1,
        2,
        3,
        4,
        5,
        6,
        7,
        8,
        9
       ],
       "auto_fit_columns": false,
       "auto_fit_params": {
        "area": "all",
        "numCols": null,
        "padding": 30
       },
       "base_column_header_size": 20,
       "base_column_size": 64,
       "base_row_header_size": 64,
       "base_row_size": 20,
       "default_renderer": "IPY_MODEL_be2ce151ceb346709b23afbd6588df8c",
       "editable": true,
       "header_visibility": "all",
       "layout": "IPY_MODEL_c1e6c244da6943b38d2a0d1331c67465",
       "selection_mode": "cell"
      }
     },
     "2cd1090f1fb64573987fbed2585af056": {
      "model_module": "@jupyter-widgets/base",
      "model_module_version": "2.0.0",
      "model_name": "LayoutModel",
      "state": {}
     },
     "2fe1cb749fcb40a7b65fc4b7d29c5cb9": {
      "model_module": "ipydatagrid",
      "model_module_version": "1.1.16",
      "model_name": "VegaExprModel",
      "state": {
       "_view_module": "ipydatagrid",
       "_view_module_version": "1.1.16",
       "_view_name": "VegaExprView"
      }
     },
     "38d2a917ab534fbb880f09684542488e": {
      "model_module": "@jupyter-widgets/controls",
      "model_module_version": "2.0.0",
      "model_name": "VBoxModel",
      "state": {
       "children": [
        "IPY_MODEL_9d2cde716ce043e6929d56f14769481e",
        "IPY_MODEL_2c793d7aa0a047f0ba74e9abca7c5678",
        "IPY_MODEL_68d47ee26bd24330bb9d3b7956ec02fd"
       ],
       "layout": "IPY_MODEL_cd798e7b4a4a4ba5be06d62a9d93a1e1"
      }
     },
     "3eefc4a8a73849c2989d14ccb5c6a58f": {
      "model_module": "@jupyter-widgets/base",
      "model_module_version": "2.0.0",
      "model_name": "LayoutModel",
      "state": {}
     },
     "41b605806a624c82a7fb87edad398e4f": {
      "model_module": "@jupyter-widgets/base",
      "model_module_version": "2.0.0",
      "model_name": "LayoutModel",
      "state": {}
     },
     "4749ce8df69d4181acd10a0e8dea0c5f": {
      "model_module": "@jupyter-widgets/controls",
      "model_module_version": "2.0.0",
      "model_name": "ButtonModel",
      "state": {
       "description": "Add Row",
       "layout": "IPY_MODEL_b45d6f87fce84a0c8e301b18e50ba8c4",
       "style": "IPY_MODEL_25107171fdde4b5facc0da97e30d672a",
       "tooltip": null
      }
     },
     "4a3d03a7bdba463cafe1a938ad3ffc74": {
      "model_module": "@jupyter-widgets/base",
      "model_module_version": "2.0.0",
      "model_name": "LayoutModel",
      "state": {}
     },
     "4c83fca8f59247f38b48e9dd06ed364a": {
      "model_module": "@jupyter-widgets/controls",
      "model_module_version": "2.0.0",
      "model_name": "ButtonModel",
      "state": {
       "description": "Add Row",
       "layout": "IPY_MODEL_7dcd17f81a984d2d89427b439bb24294",
       "style": "IPY_MODEL_4dc248c9111e40c3a15d87d2e7a60207",
       "tooltip": null
      }
     },
     "4dc248c9111e40c3a15d87d2e7a60207": {
      "model_module": "@jupyter-widgets/controls",
      "model_module_version": "2.0.0",
      "model_name": "ButtonStyleModel",
      "state": {
       "font_family": null,
       "font_size": null,
       "font_style": null,
       "font_variant": null,
       "font_weight": null,
       "text_color": null,
       "text_decoration": null
      }
     },
     "4fa06c3e313d49dda647d54e477d565a": {
      "model_module": "@jupyter-widgets/controls",
      "model_module_version": "2.0.0",
      "model_name": "ButtonModel",
      "state": {
       "description": "Redo",
       "layout": "IPY_MODEL_2c04fd07a82c4fb5a31499bceaeac1fd",
       "style": "IPY_MODEL_84574495dc8f42338e80e3a88ac7d52c",
       "tooltip": null
      }
     },
     "4fde34e8944641498072d39a45b4a28b": {
      "model_module": "@jupyter-widgets/controls",
      "model_module_version": "2.0.0",
      "model_name": "ButtonStyleModel",
      "state": {
       "font_family": null,
       "font_size": null,
       "font_style": null,
       "font_variant": null,
       "font_weight": null,
       "text_color": null,
       "text_decoration": null
      }
     },
     "505ae772f936414580f07f85b025ba55": {
      "model_module": "@jupyter-widgets/base",
      "model_module_version": "2.0.0",
      "model_name": "LayoutModel",
      "state": {}
     },
     "5377a6ac096947b6922ecb296edb56c7": {
      "model_module": "@jupyter-widgets/base",
      "model_module_version": "2.0.0",
      "model_name": "LayoutModel",
      "state": {}
     },
     "5c48910e5c6b41ad9ab40002c69b0ce0": {
      "model_module": "@jupyter-widgets/base",
      "model_module_version": "2.0.0",
      "model_name": "LayoutModel",
      "state": {}
     },
     "61152416972942458cbcd5112a9dcde6": {
      "model_module": "@jupyter-widgets/base",
      "model_module_version": "2.0.0",
      "model_name": "LayoutModel",
      "state": {}
     },
     "68d47ee26bd24330bb9d3b7956ec02fd": {
      "model_module": "@jupyter-widgets/output",
      "model_module_version": "1.0.0",
      "model_name": "OutputModel",
      "state": {
       "layout": "IPY_MODEL_0efc5888f11c46ac8b34dad176175dd8",
       "outputs": [
        {
         "name": "stdout",
         "output_type": "stream",
         "text": "Data vectors need to be updated\n"
        }
       ]
      }
     },
     "6ff7b11f7cef42e791993078a156cda5": {
      "model_module": "@jupyter-widgets/controls",
      "model_module_version": "2.0.0",
      "model_name": "ButtonModel",
      "state": {
       "description": "Undo",
       "layout": "IPY_MODEL_e57cfc6942d44f9aa51afbb5df35c6ec",
       "style": "IPY_MODEL_0468cc6c917a4c08b0bc250b1a325284",
       "tooltip": null
      }
     },
     "70bb9db46b5a464cbcccef5ac85e7440": {
      "model_module": "@jupyter-widgets/base",
      "model_module_version": "2.0.0",
      "model_name": "LayoutModel",
      "state": {}
     },
     "7138237301184d9288066bbd4e64c64b": {
      "model_module": "@jupyter-widgets/controls",
      "model_module_version": "2.0.0",
      "model_name": "ButtonModel",
      "state": {
       "description": "Add Row",
       "layout": "IPY_MODEL_41b605806a624c82a7fb87edad398e4f",
       "style": "IPY_MODEL_4fde34e8944641498072d39a45b4a28b",
       "tooltip": null
      }
     },
     "72379580d2584b1cbc1a74244ebfa50f": {
      "model_module": "@jupyter-widgets/controls",
      "model_module_version": "2.0.0",
      "model_name": "ButtonStyleModel",
      "state": {
       "font_family": null,
       "font_size": null,
       "font_style": null,
       "font_variant": null,
       "font_weight": null,
       "text_color": null,
       "text_decoration": null
      }
     },
     "76f7a332ff5b47e4a2b19eb03455f5e4": {
      "model_module": "@jupyter-widgets/controls",
      "model_module_version": "2.0.0",
      "model_name": "HBoxModel",
      "state": {
       "children": [
        "IPY_MODEL_d7b1423d47b246b3bf55c41a9ca398d4",
        "IPY_MODEL_4fa06c3e313d49dda647d54e477d565a",
        "IPY_MODEL_7138237301184d9288066bbd4e64c64b",
        "IPY_MODEL_f5bc3defca584166951624ccc8420511",
        "IPY_MODEL_89ce9d06b33f44769d0c6d6e0f8b9250"
       ],
       "layout": "IPY_MODEL_ee24c9b8925b44fd9bb2ce1e9cc91adf"
      }
     },
     "77895f41582242c9a0b9baff30defaba": {
      "model_module": "@jupyter-widgets/base",
      "model_module_version": "2.0.0",
      "model_name": "LayoutModel",
      "state": {}
     },
     "7993c6a7937a4635b34a186cf914b99d": {
      "model_module": "@jupyter-widgets/controls",
      "model_module_version": "2.0.0",
      "model_name": "ButtonStyleModel",
      "state": {
       "font_family": null,
       "font_size": null,
       "font_style": null,
       "font_variant": null,
       "font_weight": null,
       "text_color": null,
       "text_decoration": null
      }
     },
     "7dcd17f81a984d2d89427b439bb24294": {
      "model_module": "@jupyter-widgets/base",
      "model_module_version": "2.0.0",
      "model_name": "LayoutModel",
      "state": {}
     },
     "84574495dc8f42338e80e3a88ac7d52c": {
      "model_module": "@jupyter-widgets/controls",
      "model_module_version": "2.0.0",
      "model_name": "ButtonStyleModel",
      "state": {
       "font_family": null,
       "font_size": null,
       "font_style": null,
       "font_variant": null,
       "font_weight": null,
       "text_color": null,
       "text_decoration": null
      }
     },
     "89ce9d06b33f44769d0c6d6e0f8b9250": {
      "model_module": "@jupyter-widgets/controls",
      "model_module_version": "2.0.0",
      "model_name": "ButtonModel",
      "state": {
       "description": "Generate Vectors",
       "layout": "IPY_MODEL_2cd1090f1fb64573987fbed2585af056",
       "style": "IPY_MODEL_ec7c1eb7be2a46579de5212d9ebb7cc7",
       "tooltip": null
      }
     },
     "8e9f15e4cb264977872689013dc4d7e1": {
      "model_module": "@jupyter-widgets/controls",
      "model_module_version": "2.0.0",
      "model_name": "ButtonModel",
      "state": {
       "description": "Generate Vectors",
       "layout": "IPY_MODEL_95f6f31218464aa0b09e190ffda6f437",
       "style": "IPY_MODEL_ef4b99ac72094f9aaee75254ffe53cc7",
       "tooltip": null
      }
     },
     "95f6f31218464aa0b09e190ffda6f437": {
      "model_module": "@jupyter-widgets/base",
      "model_module_version": "2.0.0",
      "model_name": "LayoutModel",
      "state": {}
     },
     "9a5c2bb356c245828ca29038f9e13766": {
      "model_module": "@jupyter-widgets/base",
      "model_module_version": "2.0.0",
      "model_name": "LayoutModel",
      "state": {}
     },
     "9b0dc30e033e403caa599b0937dae77f": {
      "model_module": "@jupyter-widgets/controls",
      "model_module_version": "2.0.0",
      "model_name": "ButtonStyleModel",
      "state": {
       "font_family": null,
       "font_size": null,
       "font_style": null,
       "font_variant": null,
       "font_weight": null,
       "text_color": null,
       "text_decoration": null
      }
     },
     "9bf64afa39e8433e843d2ed4294dd5f9": {
      "model_module": "ipydatagrid",
      "model_module_version": "1.1.16",
      "model_name": "TextRendererModel",
      "state": {
       "background_color": "IPY_MODEL_b8ca7ca2d62d4840b70e9fdf82e93554",
       "text_color": "IPY_MODEL_20be37bdd9ac43e7a7c3828d6f59b125"
      }
     },
     "9d2cde716ce043e6929d56f14769481e": {
      "model_module": "@jupyter-widgets/controls",
      "model_module_version": "2.0.0",
      "model_name": "HBoxModel",
      "state": {
       "children": [
        "IPY_MODEL_b55d4f3850784d35b4edf02bfb80d60c",
        "IPY_MODEL_e149649a18bf4661acd061b90c9edd72",
        "IPY_MODEL_4c83fca8f59247f38b48e9dd06ed364a",
        "IPY_MODEL_20837e3b16024212a339d54606792213",
        "IPY_MODEL_8e9f15e4cb264977872689013dc4d7e1"
       ],
       "layout": "IPY_MODEL_3eefc4a8a73849c2989d14ccb5c6a58f"
      }
     },
     "9f3fa69a8dde4c5fb0cbcd320ae4c368": {
      "model_module": "@jupyter-widgets/output",
      "model_module_version": "1.0.0",
      "model_name": "OutputModel",
      "state": {
       "layout": "IPY_MODEL_aa82cb74a0b94de8a4e9abc3c4de7bdd"
      }
     },
     "a5bfe1675cad4d55aa4b63783d1c1563": {
      "model_module": "@jupyter-widgets/controls",
      "model_module_version": "2.0.0",
      "model_name": "ButtonStyleModel",
      "state": {
       "font_family": null,
       "font_size": null,
       "font_style": null,
       "font_variant": null,
       "font_weight": null,
       "text_color": null,
       "text_decoration": null
      }
     },
     "aa82cb74a0b94de8a4e9abc3c4de7bdd": {
      "model_module": "@jupyter-widgets/base",
      "model_module_version": "2.0.0",
      "model_name": "LayoutModel",
      "state": {}
     },
     "ace774f17ba347af9e8e0a8538109ea9": {
      "model_module": "@jupyter-widgets/controls",
      "model_module_version": "2.0.0",
      "model_name": "VBoxModel",
      "state": {
       "children": [
        "IPY_MODEL_76f7a332ff5b47e4a2b19eb03455f5e4",
        "IPY_MODEL_b7f19f706cd34764a1c7d4233a33038c",
        "IPY_MODEL_c6d54fd5fbd149d3847870338febb875"
       ],
       "layout": "IPY_MODEL_2a4da13233ce433ab1ae8076185a244b"
      }
     },
     "b2e4352349ab496d87c565897865c2c1": {
      "model_module": "ipydatagrid",
      "model_module_version": "1.1.16",
      "model_name": "VegaExprModel",
      "state": {
       "_view_module": "ipydatagrid",
       "_view_module_version": "1.1.16",
       "_view_name": "VegaExprView"
      }
     },
     "b45d6f87fce84a0c8e301b18e50ba8c4": {
      "model_module": "@jupyter-widgets/base",
      "model_module_version": "2.0.0",
      "model_name": "LayoutModel",
      "state": {}
     },
     "b55d4f3850784d35b4edf02bfb80d60c": {
      "model_module": "@jupyter-widgets/controls",
      "model_module_version": "2.0.0",
      "model_name": "ButtonModel",
      "state": {
       "description": "Undo",
       "layout": "IPY_MODEL_5377a6ac096947b6922ecb296edb56c7",
       "style": "IPY_MODEL_24bf341ff3d041438b2ce29de247d668",
       "tooltip": null
      }
     },
     "b60a0467006f41cd8ba8e5cd5f0ffcc9": {
      "model_module": "ipydatagrid",
      "model_module_version": "1.1.16",
      "model_name": "VegaExprModel",
      "state": {
       "_view_module": "ipydatagrid",
       "_view_module_version": "1.1.16",
       "_view_name": "VegaExprView"
      }
     },
     "b77fafa1f81e4c61865034e032fbbc38": {
      "model_module": "@jupyter-widgets/base",
      "model_module_version": "2.0.0",
      "model_name": "LayoutModel",
      "state": {}
     },
     "b7f19f706cd34764a1c7d4233a33038c": {
      "model_module": "ipydatagrid",
      "model_module_version": "1.1.16",
      "model_name": "DataGridModel",
      "state": {
       "_data": {
        "data": [
         {
          "0": "Vs",
          "1": "Vr",
          "2": "dVr",
          "3": "I",
          "4": "dI",
          "ipydguuid": 0,
          "key": "  Variable:"
         },
         {
          "0": "",
          "1": "",
          "2": "",
          "3": "",
          "4": "",
          "ipydguuid": 1,
          "key": " Units:"
         },
         {
          "0": "",
          "1": "",
          "2": "",
          "3": "",
          "4": "",
          "ipydguuid": 2,
          "key": 0
         },
         {
          "0": "",
          "1": "",
          "2": "",
          "3": "",
          "4": "",
          "ipydguuid": 3,
          "key": 1
         }
        ],
        "fields": [
         {
          "key": null
         },
         {
          "0": null
         },
         {
          "1": null
         },
         {
          "2": null
         },
         {
          "3": null
         },
         {
          "4": null
         },
         {
          "ipydguuid": null
         }
        ],
        "schema": {
         "fields": [
          {
           "name": "key",
           "type": "string"
          },
          {
           "name": 0,
           "type": "string"
          },
          {
           "name": 1,
           "type": "string"
          },
          {
           "name": 2,
           "type": "string"
          },
          {
           "name": 3,
           "type": "string"
          },
          {
           "name": 4,
           "type": "string"
          },
          {
           "name": "ipydguuid",
           "type": "integer"
          }
         ],
         "pandas_version": "1.4.0",
         "primaryKey": [
          "key",
          "ipydguuid"
         ],
         "primaryKeyUuid": "ipydguuid"
        }
       },
       "_model_name": "DataGridModel",
       "auto_fit_columns": false,
       "auto_fit_params": {
        "area": "all",
        "numCols": null,
        "padding": 30
       },
       "base_column_header_size": 20,
       "base_column_size": 64,
       "base_row_header_size": 64,
       "base_row_size": 20,
       "default_renderer": "IPY_MODEL_9bf64afa39e8433e843d2ed4294dd5f9",
       "editable": true,
       "header_visibility": "all",
       "layout": "IPY_MODEL_f0ce66a01414402fb84129b3cbbe4946",
       "selection_mode": "cell"
      }
     },
     "b8ca7ca2d62d4840b70e9fdf82e93554": {
      "model_module": "ipydatagrid",
      "model_module_version": "1.1.16",
      "model_name": "VegaExprModel",
      "state": {
       "_view_module": "ipydatagrid",
       "_view_module_version": "1.1.16",
       "_view_name": "VegaExprView"
      }
     },
     "bc3c82d4456049fd948a5e8a3e4cf3b6": {
      "model_module": "@jupyter-widgets/controls",
      "model_module_version": "2.0.0",
      "model_name": "ButtonStyleModel",
      "state": {
       "font_family": null,
       "font_size": null,
       "font_style": null,
       "font_variant": null,
       "font_weight": null,
       "text_color": null,
       "text_decoration": null
      }
     },
     "be2ce151ceb346709b23afbd6588df8c": {
      "model_module": "ipydatagrid",
      "model_module_version": "1.1.16",
      "model_name": "TextRendererModel",
      "state": {
       "background_color": "IPY_MODEL_b2e4352349ab496d87c565897865c2c1",
       "text_color": "IPY_MODEL_b60a0467006f41cd8ba8e5cd5f0ffcc9"
      }
     },
     "c1e6c244da6943b38d2a0d1331c67465": {
      "model_module": "@jupyter-widgets/base",
      "model_module_version": "2.0.0",
      "model_name": "LayoutModel",
      "state": {
       "height": "250px"
      }
     },
     "c6d54fd5fbd149d3847870338febb875": {
      "model_module": "@jupyter-widgets/output",
      "model_module_version": "1.0.0",
      "model_name": "OutputModel",
      "state": {
       "layout": "IPY_MODEL_9a5c2bb356c245828ca29038f9e13766"
      }
     },
     "cd798e7b4a4a4ba5be06d62a9d93a1e1": {
      "model_module": "@jupyter-widgets/base",
      "model_module_version": "2.0.0",
      "model_name": "LayoutModel",
      "state": {}
     },
     "d4fcbf226555401db242f68a41562ae6": {
      "model_module": "@jupyter-widgets/base",
      "model_module_version": "2.0.0",
      "model_name": "LayoutModel",
      "state": {}
     },
     "d7b1423d47b246b3bf55c41a9ca398d4": {
      "model_module": "@jupyter-widgets/controls",
      "model_module_version": "2.0.0",
      "model_name": "ButtonModel",
      "state": {
       "description": "Undo",
       "layout": "IPY_MODEL_5c48910e5c6b41ad9ab40002c69b0ce0",
       "style": "IPY_MODEL_a5bfe1675cad4d55aa4b63783d1c1563",
       "tooltip": null
      }
     },
     "db483f62785f44bab7b63ff6ce189f2f": {
      "model_module": "@jupyter-widgets/controls",
      "model_module_version": "2.0.0",
      "model_name": "ButtonModel",
      "state": {
       "description": "Add Column",
       "layout": "IPY_MODEL_4a3d03a7bdba463cafe1a938ad3ffc74",
       "style": "IPY_MODEL_72379580d2584b1cbc1a74244ebfa50f",
       "tooltip": null
      }
     },
     "e149649a18bf4661acd061b90c9edd72": {
      "model_module": "@jupyter-widgets/controls",
      "model_module_version": "2.0.0",
      "model_name": "ButtonModel",
      "state": {
       "description": "Redo",
       "layout": "IPY_MODEL_77895f41582242c9a0b9baff30defaba",
       "style": "IPY_MODEL_02162198cfaa4b4ba71114bd58b79209",
       "tooltip": null
      }
     },
     "e3ce2f70e5194df5998cc83eaa3b63b0": {
      "model_module": "@jupyter-widgets/base",
      "model_module_version": "2.0.0",
      "model_name": "LayoutModel",
      "state": {}
     },
     "e57cfc6942d44f9aa51afbb5df35c6ec": {
      "model_module": "@jupyter-widgets/base",
      "model_module_version": "2.0.0",
      "model_name": "LayoutModel",
      "state": {}
     },
     "ec7c1eb7be2a46579de5212d9ebb7cc7": {
      "model_module": "@jupyter-widgets/controls",
      "model_module_version": "2.0.0",
      "model_name": "ButtonStyleModel",
      "state": {
       "font_family": null,
       "font_size": null,
       "font_style": null,
       "font_variant": null,
       "font_weight": null,
       "text_color": null,
       "text_decoration": null
      }
     },
     "ee24c9b8925b44fd9bb2ce1e9cc91adf": {
      "model_module": "@jupyter-widgets/base",
      "model_module_version": "2.0.0",
      "model_name": "LayoutModel",
      "state": {}
     },
     "ef4b99ac72094f9aaee75254ffe53cc7": {
      "model_module": "@jupyter-widgets/controls",
      "model_module_version": "2.0.0",
      "model_name": "ButtonStyleModel",
      "state": {
       "font_family": null,
       "font_size": null,
       "font_style": null,
       "font_variant": null,
       "font_weight": null,
       "text_color": null,
       "text_decoration": null
      }
     },
     "f0ce66a01414402fb84129b3cbbe4946": {
      "model_module": "@jupyter-widgets/base",
      "model_module_version": "2.0.0",
      "model_name": "LayoutModel",
      "state": {
       "height": "130px"
      }
     },
     "f5bc3defca584166951624ccc8420511": {
      "model_module": "@jupyter-widgets/controls",
      "model_module_version": "2.0.0",
      "model_name": "ButtonModel",
      "state": {
       "description": "Add Column",
       "layout": "IPY_MODEL_1e76e2ee910b42e3aa581b24fe13d6f2",
       "style": "IPY_MODEL_9b0dc30e033e403caa599b0937dae77f",
       "tooltip": null
      }
     }
    },
    "version_major": 2,
    "version_minor": 0
   }
  }
 },
 "nbformat": 4,
 "nbformat_minor": 5
}
