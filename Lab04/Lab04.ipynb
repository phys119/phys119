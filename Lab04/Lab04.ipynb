{
 "cells": [
  {
   "cell_type": "markdown",
   "id": "10129cf0-f314-4d11-9b4a-e8580785b7bf",
   "metadata": {},
   "source": [
    " # Lab 4 - The Pendulum II"
   ]
  },
  {
   "cell_type": "code",
   "execution_count": null,
   "id": "bb41a3e5-6dc2-4689-8f6b-c571553096ce",
   "metadata": {
    "colab": {
     "base_uri": "https://localhost:8080/",
     "height": 34,
     "referenced_widgets": [
      "f4867fcd1bc84f73a8ebaf6d3fe7f93a",
      "d034be63185d4811a05ec0f093d02d7a",
      "bd6d356d711e4792a1e9ada201d26b78",
      "c0d9513060084283a214f5c8f025ecf0",
      "da2defae0a8e4905a29dc8d3ca8a42e3",
      "60dc88a1698c461187c3481c679c7b71",
      "5f73d93446b34030af9201112526626f",
      "4d3b430ac5934818a7693c1a6a3d9355",
      "0bedf7f9be8a49378ea8f37f9c2ebf16",
      "ea117ac05b9b41c082cd9d62ef94d518",
      "124f9831f181482eb784405723a8b2d0",
      "8e1cbf36822a474ebdf82a80a5681924",
      "f8023654ea164371b4e3f37957a06c8a",
      "e1709bb85bb34c7e997f035a4c7560b8",
      "5a1355ddfd1840c2bc9de6ebd7342682",
      "624675d0d30242d6bf1213deb6e3f624",
      "699f933c64d24cafa5bfd5e0a1fc397a",
      "d58d95defca340b885a9e405134fc887",
      "58cf21d8ac234496bad2ebd7ae7f2a1d",
      "5e2883b7e2ba4d6d8a1352e621a8183f",
      "ffe3c8f2bda74603a92742464e69ba6b",
      "7ce01fb43382463f9ae0ad311d7b5dc4"
     ]
    },
    "id": "26726484-93c7-499a-9f34-d4656ef6df5a",
    "outputId": "82f6fee3-86ff-43e5-8b52-64b7eb4467ab"
   },
   "outputs": [],
   "source": [
    "# Make sure to run this cell before running any other code cells\n",
    "%reset -f\n",
    "import numpy as np\n",
    "import data_entry2"
   ]
  },
  {
   "cell_type": "markdown",
   "id": "883c8daf-e901-4c0e-a0d7-d9c7dc0d6621",
   "metadata": {},
   "source": [
    "*Edit this cell and provide the information requested:*\n",
    "- Your name:\n",
    "- Your student number:\n",
    "- Partner's name:"
   ]
  },
  {
   "cell_type": "markdown",
   "id": "6bc2f65e-1838-4b3d-adcd-a78a7f7b17e8",
   "metadata": {},
   "source": [
    "## Part A - Introduction and announcements"
   ]
  },
  {
   "cell_type": "markdown",
   "id": "658cad60-0137-47fd-9a6e-2bdfccbacfae",
   "metadata": {},
   "source": [
    "*(Optional) Your notes on TA feedback:*"
   ]
  },
  {
   "cell_type": "markdown",
   "id": "5517c932-6d70-4b65-9e32-47b2aa988584",
   "metadata": {},
   "source": []
  },
  {
   "cell_type": "markdown",
   "id": "0bf9f813-2fb3-46e1-a83e-df454787d388",
   "metadata": {},
   "source": [
    "## Part B - Class discussion about improving data quality"
   ]
  },
  {
   "cell_type": "markdown",
   "id": "603c4e3a-29a1-40ba-a8df-12eada3ba547",
   "metadata": {},
   "source": [
    "*(Optional) Your notes from the class discussion*"
   ]
  },
  {
   "cell_type": "markdown",
   "id": "d1142b9a-ec95-432c-bc05-c24548806d53",
   "metadata": {},
   "source": []
  },
  {
   "cell_type": "markdown",
   "id": "b481304a-5188-4fbd-a395-0d9edbf26080",
   "metadata": {},
   "source": [
    "## Part C - Improvement round 1"
   ]
  },
  {
   "cell_type": "markdown",
   "id": "15ba8ac6-f5c4-460f-9194-5e3b3199c189",
   "metadata": {},
   "source": [
    "*Measurement plan:*"
   ]
  },
  {
   "cell_type": "markdown",
   "id": "46db27ff-a332-4934-9555-b233d25826ba",
   "metadata": {},
   "source": []
  },
  {
   "cell_type": "markdown",
   "id": "41f56329-0ff2-498e-b658-b4d4a11edcfc",
   "metadata": {},
   "source": [
    "*Data collection, analysis and comparisons (add cells as needed)*"
   ]
  },
  {
   "cell_type": "code",
   "execution_count": null,
   "id": "7d9b1e93-dfe3-4a1b-bed5-4bcff2f1c49f",
   "metadata": {},
   "outputs": [],
   "source": []
  },
  {
   "cell_type": "code",
   "execution_count": null,
   "id": "ea75dbd1-1849-4633-8865-22a20931e942",
   "metadata": {},
   "outputs": [],
   "source": []
  },
  {
   "cell_type": "code",
   "execution_count": null,
   "id": "f6d5bef6-8708-4692-b5fd-c1039b5fdc6b",
   "metadata": {},
   "outputs": [],
   "source": []
  },
  {
   "cell_type": "markdown",
   "id": "45ae3def-3190-4cab-a047-cdff4faa4237",
   "metadata": {},
   "source": [
    "*Summarize and reflect*"
   ]
  },
  {
   "cell_type": "markdown",
   "id": "2b0b3691-029f-4909-8fd4-eadb93e5a0fa",
   "metadata": {},
   "source": []
  },
  {
   "cell_type": "markdown",
   "id": "372b554b-066b-4c83-865e-fcc7c1cabd46",
   "metadata": {},
   "source": [
    "## Part D - Improvement round 2"
   ]
  },
  {
   "cell_type": "markdown",
   "id": "6afba231-0c25-40dd-97c7-36fb4435ef7b",
   "metadata": {},
   "source": [
    "*Measurement plan:*"
   ]
  },
  {
   "cell_type": "markdown",
   "id": "775832b9-dc00-4880-b459-4e9f073812bf",
   "metadata": {},
   "source": []
  },
  {
   "cell_type": "markdown",
   "id": "dd12b1c1-46c3-4f75-a35d-15b3522c5910",
   "metadata": {},
   "source": [
    "*Data collection, analysis and comparisons (add cells as needed)*"
   ]
  },
  {
   "cell_type": "code",
   "execution_count": null,
   "id": "56ff12cd-f91f-44b5-9d99-2b7d24b7f4ee",
   "metadata": {},
   "outputs": [],
   "source": []
  },
  {
   "cell_type": "code",
   "execution_count": null,
   "id": "0b8b4bb7-82e0-46dc-87a5-31446a138008",
   "metadata": {},
   "outputs": [],
   "source": []
  },
  {
   "cell_type": "code",
   "execution_count": null,
   "id": "30b2a0ca-e9c7-4d5b-91c0-599a860992d5",
   "metadata": {},
   "outputs": [],
   "source": []
  },
  {
   "cell_type": "markdown",
   "id": "9e36f5f7-fc5c-42d6-bd4b-f1abb92f9e7d",
   "metadata": {},
   "source": [
    "*Summarize and reflect*"
   ]
  },
  {
   "cell_type": "markdown",
   "id": "f302f15a-76a1-480b-ac07-88390d1d4438",
   "metadata": {},
   "source": []
  },
  {
   "cell_type": "markdown",
   "id": "7df7ff5a-0df9-4085-a91e-6d98e4b8d5be",
   "metadata": {},
   "source": [
    "## Summary of results"
   ]
  },
  {
   "cell_type": "markdown",
   "id": "8778f9ab-d956-4dfa-9319-daa7fa4611ea",
   "metadata": {},
   "source": []
  },
  {
   "cell_type": "markdown",
   "id": "28df5d2b-5cb5-4ae4-aceb-ad6c1809c9b0",
   "metadata": {},
   "source": []
  },
  {
   "cell_type": "markdown",
   "id": "818f2cae-2811-4d42-8a06-9a1ba2a26da1",
   "metadata": {},
   "source": [
    "## Submit\n",
    "\n",
    "Steps for submission:\n",
    "\n",
    "1. Click: Run => Run_All_Cells\n",
    "2. Read through the notebook to ensure all the cells executed correctly and without error.\n",
    "3. File => Save_and_Export_Notebook_As->HTML\n",
    "4. Upload the HTML document to the lab submission assignment on Canvas."
   ]
  },
  {
   "cell_type": "code",
   "execution_count": null,
   "id": "645481c6-3c5c-4813-80a3-7a242297fbba",
   "metadata": {},
   "outputs": [],
   "source": [
    "# trick to display tables in html output\n",
    "display_sheets()"
   ]
  }
 ],
 "metadata": {
  "kernelspec": {
   "display_name": "Python 3 (ipykernel)",
   "language": "python",
   "name": "python3"
  },
  "language_info": {
   "codemirror_mode": {
    "name": "ipython",
    "version": 3
   },
   "file_extension": ".py",
   "mimetype": "text/x-python",
   "name": "python",
   "nbconvert_exporter": "python",
   "pygments_lexer": "ipython3",
   "version": "3.10.10"
  },
  "widgets": {
   "application/vnd.jupyter.widget-state+json": {
    "state": {},
    "version_major": 2,
    "version_minor": 0
   }
  }
 },
 "nbformat": 4,
 "nbformat_minor": 5
}
