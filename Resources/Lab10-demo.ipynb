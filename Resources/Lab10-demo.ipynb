{
 "cells": [
  {
   "cell_type": "markdown",
   "id": "8b42018a-744a-4a76-86d3-989d31c02420",
   "metadata": {
    "id": "61ed9912-a3b5-4024-b62b-49c912b1aa25"
   },
   "source": [
    "# Lab 10 Notebook Tutorial"
   ]
  },
  {
   "cell_type": "markdown",
   "id": "0ce96c66-1b26-42d1-9e77-df222a6c2b5d",
   "metadata": {
    "id": "355521ea-d050-45f2-93d5-988f72f018a2"
   },
   "source": [
    "This notebook tutorial reviews how to use the fitting widget `fit_plot.with_background()` with the Prelab 10 hypothetical data, as well as reviewing how to estimate the fitting parameters uncertainties."
   ]
  },
  {
   "cell_type": "code",
   "execution_count": null,
   "id": "bdbafbb8-f7aa-4c12-9c3e-1c109fef8893",
   "metadata": {
    "id": "b795858f-a049-496e-a9bb-8128e61d49c3"
   },
   "outputs": [],
   "source": [
    "%reset -f\n",
    "import numpy as np\n",
    "import data_entry2\n",
    "import matplotlib.pyplot as plt\n",
    "import fit_plot\n",
    "%matplotlib widget"
   ]
  },
  {
   "cell_type": "markdown",
   "id": "3dea401f-e893-49a3-bedb-13d9be5a5899",
   "metadata": {},
   "source": [
    "## Load Prelab 10 hypothetical data and the `fit_plot.with_background()` widget"
   ]
  },
  {
   "cell_type": "markdown",
   "id": "d3f6f910-7fc0-4806-8943-607cae0c4ed2",
   "metadata": {},
   "source": [
    "In the next two cells we load the data and then launch the `fit_plot.with_background()` widget. The next section provides a walkthrough of the new widget.\n",
    "\n",
    "**It is important to note that these data need to be semilog data, meaning that we are using `Ln(Rate)` as our y-axis variable and `x` (thickness) as our x-axis variable.**"
   ]
  },
  {
   "cell_type": "code",
   "execution_count": null,
   "id": "c95658a2-b00e-40d9-af33-472e091136f4",
   "metadata": {},
   "outputs": [],
   "source": [
    "# Run me to load the Prelab 10 hypothetical data set\n",
    "\n",
    "x_h = np.array([ 0.,  2.,  4.,  6.,  8., 10., 12., 14., 16., \n",
    "                18., 20., 22., 24., 26.]) # number sheets of plastic shielding\n",
    "Rate_h = np.array([18.54237288,  9.06666667,  4.54237288,  2.55      ,  1.31666667,\n",
    "        0.76666667,  0.48333333,  0.44262295,  0.51666667,  0.35483871,\n",
    "        0.48387097,  0.45070423,  0.68333333,  0.47540984]) # counts per second\n",
    "dRate_h = np.array([0.59006424, 0.38873013, 0.27746959, 0.20615528, 0.14813657,\n",
    "       0.11303883, 0.08975275, 0.08518283, 0.09279607, 0.07565187,\n",
    "       0.08834235, 0.079674  , 0.10671874, 0.08828139]) # counts per second\n"
   ]
  },
  {
   "cell_type": "code",
   "execution_count": null,
   "id": "34e6edc3-a315-410f-99d7-add4870f58d9",
   "metadata": {},
   "outputs": [],
   "source": [
    "# Launch the fit_plot.with_background fitting widget\n",
    "\n",
    "xdata = x_h\n",
    "ydata = np.log(Rate_h) # Ln transformed\n",
    "dydata = dRate_h/Rate_h\n",
    "unique_graph_title = \"Fitting Ln(R0 * exp(-mu*x) + Rb) for Prelab 10 Semilog Data\"\n",
    "\n",
    "fit_plot.with_background(unique_graph_title, xdata, ydata, dydata, chi2 = True)"
   ]
  },
  {
   "cell_type": "markdown",
   "id": "3e680ab4-ca6a-4aaf-9d65-5f5f1542a83a",
   "metadata": {},
   "source": [
    "## Navigating the `fit_plot.with_background` widget"
   ]
  },
  {
   "cell_type": "markdown",
   "id": "d12c5523-77e1-4ff8-b22d-1962b73d03a4",
   "metadata": {},
   "source": [
    "The annotated image below highlights the features of the new widget, and below the image are some more detailed descriptions of these features."
   ]
  },
  {
   "cell_type": "markdown",
   "id": "1d6148aa-99a3-4979-b952-e0c391d4823f",
   "metadata": {},
   "source": [
    "![with_background](https://i.ibb.co/3TkqPZ7/with-background.png)"
   ]
  },
  {
   "cell_type": "markdown",
   "id": "67045082-a5d3-406f-a1c6-89f0d34864d5",
   "metadata": {},
   "source": [
    "**Two fitting modes:** As with the other fitting widget, you can use this widget to perform fits by clicking on the interactive plots or by updating the values in text boxes (`Slope`, `Intercept` and `Floor`). As discussed in the Prelab, for the $R_0\\,e^{-\\mu x} + R_b$ model, these parameters correspond to:\n",
    "* Slope ($m=-\\mu$): This is the slope of the early linear portion of the data, before the background rate dominates.\n",
    "* Intercept ($=\\ln{(R_0+R_b)}$): This is our y-intercept. If you plug $x=0$ into $R_0\\,e^{-\\mu x} + R_b$, you can see that this is $R_0+R_b$, meaning that it is count-rate from the source with no shielding plus the background rate.\n",
    "* Floor ($=\\ln{(R_b)}$): This is the background rate, which corresponds to late horizontal region of the graph.\n",
    "\n",
    "**Updating fitting parameters by clicking on the interactive plots:** Toward the bottom of the widget there are two radio buttons `Slope/Intercept` and `Floor`. These allow you to toggle between which parameters will be updated when clicking on the interactive graphs. \n",
    "\n"
   ]
  },
  {
   "cell_type": "markdown",
   "id": "aceae536-e520-4a52-9182-0414a8f871a5",
   "metadata": {},
   "source": [
    "## Fitting our Prelab 10 hypothetical data set"
   ]
  },
  {
   "cell_type": "markdown",
   "id": "704a676b-87fe-4c81-8965-08d1bdf188c7",
   "metadata": {},
   "source": [
    "In Prelab 10, we developed some initial guesses for the fitting parameters in our nonlinear mdodel based on observing the data and fitting the linear model to the semilog data. These were\n",
    "\n",
    "* $R_0 = 18 \\text{ counts/s}$\n",
    "* $\\mu = 0.33 \\text{ sheets}^{-1}$\n",
    "* $R_b = 0.5 \\text{ counts/s}$\n",
    "\n",
    "Let's use these values with the relationships discusssed in the previous section between $R_0$, $\\mu$ and $R_b$, and the `Slope`, `Intercept` and `Floor` adjustable parameters in the `fit_plot.with_background` widget.\n",
    "\n",
    "* **Slope:** -0.33 \n",
    "* **Intercept:** 2.92\n",
    "* **Floor:** -0.69\n",
    "\n",
    "Below is an image of what the fit should look like after putting in these values. Like we discussed for a similar situation in the prelab, we need a steeper slope (higher magnitude), and can then adjust the rest of the parameters from there."
   ]
  },
  {
   "cell_type": "markdown",
   "id": "a3de79e7-5e88-447b-a27e-21433e24f7ce",
   "metadata": {},
   "source": [
    "![fit1](https://i.ibb.co/gRLdSFD/fit1.png)"
   ]
  },
  {
   "cell_type": "markdown",
   "id": "dea52300-0297-4e89-8c44-938155d56023",
   "metadata": {},
   "source": [
    "If we continue to modify the parameters, we get to a chi-squared value of 1.321 and somewhat reasonable looking residuals. It looks like there might be a slight pattern, but for the model we are using, we can conclude that we have a good fit."
   ]
  },
  {
   "cell_type": "markdown",
   "id": "0aa44e54-95af-47c7-9e31-74b8bf03c1a1",
   "metadata": {},
   "source": [
    "![fit2](https://i.ibb.co/FbDfy7R/fit2.png)"
   ]
  },
  {
   "cell_type": "markdown",
   "id": "415c8a9f-5fd8-4532-a98d-3cb175581a29",
   "metadata": {},
   "source": [
    "## Finding fitting parameter uncertainties"
   ]
  },
  {
   "cell_type": "markdown",
   "id": "49f77710-4830-4916-8214-84dbb44736d6",
   "metadata": {},
   "source": [
    "Like we have done previously, we are going to take our chi-squared value of 1.321 for our best-fit of the model and double it to a target chi-squared value of approximately 2.642. For each fitting parameter where we want an uncertaintiy, we can adjust that parameter up and down to define our 68% confidence interval for the parameter, based on this target chi-squared value of approximately 2.642.\n",
    "\n",
    "$\\delta R_b:$ We are going to adjust our `Floor` value, but the parameter we are going to actually keep our eye on is $R_b = \\text{Background}$, where $\\ln(R_b) = \\text{Floor}$"
   ]
  },
  {
   "cell_type": "markdown",
   "id": "f261127b-ff4b-4828-aab7-67bf7bec1203",
   "metadata": {},
   "source": [
    "| | Floor | Background (Rb) | chi-squared |\n",
    "| --- | --- | --- | --- |\n",
    "| Best fit | -0.78 | 0.458406 | 1.321 |\n",
    "| Max | -0.53 | 0.588605 | 2.674 |\n",
    "| Min | -1.02 | 0.360595 | 2.643 |"
   ]
  },
  {
   "cell_type": "markdown",
   "id": "42430e0f-75fa-4257-a90d-5ae4498c0ef8",
   "metadata": {},
   "source": [
    "Finally, we say that the uncertainty is\n",
    "\n",
    "$$ \\delta R_b = \\dfrac{\\text{Max} - \\text{Min}}{2\\sqrt{N}},$$\n",
    "$$ \\delta R_b = \\dfrac{0.588605 - 0.360595}{2\\sqrt{14}}\\text{ counts/s},$$\n",
    "$$ \\delta R_b = 0.030 \\text{ counts/s}.$$\n",
    "\n",
    "where $N=14$, which is our number of data points. "
   ]
  },
  {
   "cell_type": "markdown",
   "id": "b638df69-c63b-4e1a-b169-a7e7d1d93f7e",
   "metadata": {},
   "source": [
    "Finally, we report our background count-rate as\n",
    "\n",
    "$$ R_b = (0.458 \\pm 0.030) \\text{ counts/s}.$$"
   ]
  },
  {
   "cell_type": "markdown",
   "id": "7596bcd3-0674-4d79-828d-e71fdf2dd810",
   "metadata": {},
   "source": [
    "To find $\\delta\\mu$, reset the fitting parameters to the best-fit values and follow the same process by varying `Slope`."
   ]
  },
  {
   "cell_type": "code",
   "execution_count": null,
   "id": "80cd697b-8713-4c72-b9cf-8b34bf53afc8",
   "metadata": {},
   "outputs": [],
   "source": []
  }
 ],
 "metadata": {
  "kernelspec": {
   "display_name": "Python 3 (ipykernel)",
   "language": "python",
   "name": "python3"
  },
  "language_info": {
   "codemirror_mode": {
    "name": "ipython",
    "version": 3
   },
   "file_extension": ".py",
   "mimetype": "text/x-python",
   "name": "python",
   "nbconvert_exporter": "python",
   "pygments_lexer": "ipython3",
   "version": "3.10.10"
  },
  "widgets": {
   "application/vnd.jupyter.widget-state+json": {
    "state": {},
    "version_major": 2,
    "version_minor": 0
   }
  }
 },
 "nbformat": 4,
 "nbformat_minor": 5
}
