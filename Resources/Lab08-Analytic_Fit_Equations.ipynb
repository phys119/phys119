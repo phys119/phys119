{
 "cells": [
  {
   "cell_type": "markdown",
   "id": "c0607874-fa9a-44d1-a7af-2c5db485891a",
   "metadata": {},
   "source": [
    "# One and Two Parameter Analytic Fit Equations"
   ]
  },
  {
   "cell_type": "markdown",
   "id": "814441c4-41f1-4863-b82b-2729acac324e",
   "metadata": {},
   "source": [
    "_See prelab 08 for derivations of the one parameter equations_"
   ]
  },
  {
   "cell_type": "code",
   "execution_count": null,
   "id": "570b70d5-9afc-45b0-bd6a-56ba39311b06",
   "metadata": {},
   "outputs": [],
   "source": [
    "%reset -f\n",
    "import data_entry2\n",
    "import matplotlib.pyplot as plt\n",
    "import numpy as np\n",
    "\n",
    "\"\"\" Sample data for the code below\"\"\"\n",
    "xdata = np.array([0.1, 0.16428571, 0.22857143, 0.29285714, 0.35714286, \n",
    "                  0.42142857, 0.48571429, 0.55, 0.61428571, 0.67857143, \n",
    "                  0.74285714, 0.80714286, 0.87142857, 0.93571429, 1.])\n",
    "ydata = np.array([0.33336864, 0.5414786, 0.82003978, 1.09858314, 1.27560974, \n",
    "                  1.52025082, 1.67681586, 2.03833678, 2.35943739, 2.36120224, \n",
    "                  2.74941308, 2.83963194, 2.9932707, 3.40978616, 3.44578725])\n",
    "dydata = np.array([0.01666843, 0.02707393, 0.04100199, 0.05492916, 0.06378049, \n",
    "                    0.07601254, 0.08384079, 0.10191684, 0.11797187, 0.11806011, \n",
    "                    0.13747065, 0.1419816, 0.14966353, 0.17048931, 0.17228936])\n"
   ]
  },
  {
   "cell_type": "markdown",
   "id": "f8d44b16-605b-4d2c-b5f6-a5679404bc55",
   "metadata": {
    "tags": []
   },
   "source": [
    "## The analytic formula for minimizing chi-squared for a one-parameter model, $y = mx$\n",
    "**A weighted fit to a line with zero intercept (1-parameter fit)**"
   ]
  },
  {
   "cell_type": "markdown",
   "id": "284112e3-5f6c-4c43-ac1b-ebea9aed94bb",
   "metadata": {},
   "source": [
    "The solution for a weighted fit to the model $y=mx$ is\n",
    "\n",
    "$$ m = \\frac{1}{Z} \\sum_{i=1}^N  \\frac{x_iy_i}{(\\delta y_i)^2}, $$"
   ]
  },
  {
   "cell_type": "markdown",
   "id": "19065ff9-85f1-4abd-8cd2-e153488925fa",
   "metadata": {},
   "source": [
    "where $Z$ is a placeholder variable defined as\n",
    "\n",
    "$$ Z = \\sum_{i=1}^N \\frac{x_i^2}{(\\delta y_i)^2}. $$"
   ]
  },
  {
   "cell_type": "markdown",
   "id": "c7e8a627-0ea4-46a4-85da-1ec6cde33ba8",
   "metadata": {},
   "source": [
    "The uncertainty in the slope is given by\n",
    "\n",
    "$$ \\delta m = \\sqrt{\\frac{1}{Z}} .$$"
   ]
  },
  {
   "cell_type": "markdown",
   "id": "17e81fb5-c900-4b8d-ae55-3d292ffcc10f",
   "metadata": {
    "tags": []
   },
   "source": [
    "### Applying the one-parameter analytic equation to the sample data"
   ]
  },
  {
   "cell_type": "code",
   "execution_count": null,
   "id": "b4759035-c761-4d75-abb2-966aede995f8",
   "metadata": {},
   "outputs": [],
   "source": [
    "\"\"\" Find the best 1-parameter model corresponding to the minimized chi-squared \"\"\"\n",
    "\n",
    "# calculations for the analytic best fit here: \n",
    "Z = np.sum( (xdata * xdata) / dydata**2) # calculate sum(xi*xi/(dyi)^2)\n",
    "\n",
    "# Calculate best fit slope\n",
    "m = 1/Z * np.sum( xdata * ydata / dydata**2 )\n",
    "\n",
    "# Calculate uncertainty in best fit slope\n",
    "dm = np.sqrt(1/Z)\n",
    "\n",
    "# Print the best fit slope and uncertainty\n",
    "print(\"Best fit slope m = \", m, \"±\", dm)\n",
    "\n",
    "\"\"\" Construct the model for plotting and calculating residuals \"\"\"\n",
    "\n",
    "ymodel = m * xdata # best fit model\n",
    "res = ydata - ymodel # calculate residuals (best fit)\n",
    "wres2 = (res/dydata)**2 # weighted residuals squared\n",
    "    \n",
    "\"\"\" Calculate chi-squared \"\"\"\n",
    "    \n",
    "N = len(xdata) # number of data points\n",
    "P = 1 # number of parameters\n",
    "chi2 = np.sum(wres2) / (N - P) # calculate chi-squared\n",
    "print(f\"chi2 = {chi2:.4f}\")\n",
    "\n",
    "\"\"\" Plot data and fit \"\"\"\n",
    "\n",
    "plt.errorbar(xdata, ydata, dydata, marker='.', linestyle='', color='k', label=\"Data\")\n",
    "plt.plot(xdata, ymodel, label=\"y = mx\")\n",
    "plt.xlabel('x data')\n",
    "plt.ylabel('y data')\n",
    "plt.title('Data with fit')\n",
    "plt.legend()\n",
    "plt.show()\n",
    "\n",
    "\"\"\" Plot residuals for the best fit \"\"\"\n",
    "\n",
    "plt.errorbar(xdata, res, dydata, marker='.', linestyle='')\n",
    "plt.hlines(y=0, xmin=np.min(xdata), xmax=np.max(xdata), color='k') # draw axis at y = 0.\n",
    "plt.xlabel('x data')\n",
    "plt.ylabel('Residuals')\n",
    "plt.title('Residuals plot (best fit, $\\chi^2$={:.4f})'.format(chi2))\n",
    "plt.grid()\n",
    "plt.show()"
   ]
  },
  {
   "cell_type": "markdown",
   "id": "84fb1e16-61f3-4384-b5c2-f07a40fa7c2f",
   "metadata": {
    "tags": []
   },
   "source": [
    "## The analytic formula for minimizing chi-squared for a two-parameter model, $y = mx + b$\n",
    "**A weighted fit to a line with a non-zero intercept (2-parameter fit)**"
   ]
  },
  {
   "cell_type": "markdown",
   "id": "abb404cd-256c-44b8-9fe2-4ee085736961",
   "metadata": {},
   "source": [
    "The solutions for a weighted fit to the model $y=mx + b$ are\n",
    "\n",
    "$$m = \\frac{1}{Z} \\left(\n",
    "\\sum_{i=1}^N \\frac{1}{(\\delta y_i)^2} \\cdot \\sum_{i=1}^N \\frac{x_i y_i}{(\\delta y_i)^2} \n",
    "- \\sum_{i=1}^N \\frac{x_i}{(\\delta y_i)^2} \\cdot \\sum_{i=1}^N \\frac{y_i}{(\\delta y_i)^2}\n",
    "\\right),$$\n",
    "\n",
    "and\n",
    "\n",
    "$$b = \\frac{1}{Z} \\left(\n",
    "\\sum_{i=1}^N \\frac{x_i^2}{(\\delta y_i)^2} \\cdot \\sum_{i=1}^N \\frac{y_i}{(\\delta y_i)^2} \n",
    "- \\sum_{i=1}^N \\frac{x_i}{(\\delta y_i)^2} \\cdot \\sum_{i=1}^N \\frac{x_i y_i}{(\\delta y_i)^2}\n",
    "\\right),$$"
   ]
  },
  {
   "cell_type": "markdown",
   "id": "41bbc973-29e9-4d95-9e6b-ca026f3edeb1",
   "metadata": {},
   "source": [
    "where $Z$ is a placeholder variable (different from the 1-parameter version) defined as\n",
    "\n",
    "$$ Z = \\sum_{i=1}^N \\frac{1}{(\\delta y_i)^2} \\cdot \\sum_{i=1}^N \\frac{x_i^2}{(\\delta y_i)^2}\n",
    "- \\left( \\sum_{i=1}^N \\frac{x_i}{(\\delta y_i)^2} \\right)^2.$$"
   ]
  },
  {
   "cell_type": "markdown",
   "id": "d9471720-ba17-4d9b-a692-64de95072fad",
   "metadata": {},
   "source": [
    "The uncertainty in the fit parameters are given by\n",
    "\n",
    "$$ \\delta m = \\sqrt{\\frac{1}{Z} \\sum_{i=1}^N \\frac{1}{(\\delta y_i)^2}},$$\n",
    "\n",
    "and\n",
    "\n",
    "$$ \\delta b = \\sqrt{\\frac{1}{Z} \\sum_{i=1}^N \\frac{x_i^2}{(\\delta y_i)^2}}.$$"
   ]
  },
  {
   "cell_type": "markdown",
   "id": "06778f55-456b-4e38-a9c3-d9e828d5020e",
   "metadata": {
    "tags": []
   },
   "source": [
    "### Applying the two-parameter analytic equation to the sample data"
   ]
  },
  {
   "cell_type": "code",
   "execution_count": null,
   "id": "72df66fd-4acd-4f41-8935-71ba3ed8c4f6",
   "metadata": {},
   "outputs": [],
   "source": [
    "\"\"\" Find the best 2-parameter model corresponding to the minimized chi-squared \"\"\"\n",
    "\n",
    "# Calculate Z\n",
    "Z = (\n",
    "    np.sum( 1 / dydata**2 ) * np.sum( xdata**2 / dydata**2 )\n",
    "    - np.sum( xdata / dydata**2 )**2\n",
    ")\n",
    "\n",
    "# Calculate best fit slope, m\n",
    "m = 1/Z * (\n",
    "    np.sum( 1 / dydata**2 ) * np.sum( xdata * ydata / dydata**2 )\n",
    "    - np.sum( xdata / dydata**2 ) * np.sum( ydata / dydata**2 )\n",
    ")\n",
    "\n",
    "# Calculate best fit y-intercept, b\n",
    "b = 1/Z * (\n",
    "    np.sum( xdata**2 / dydata**2 ) * np.sum( ydata / dydata**2 )\n",
    "    - np.sum( xdata / dydata**2 ) * np.sum( xdata * ydata / dydata**2 )\n",
    ")\n",
    "\n",
    "# Calculate uncertainty in best fit slope, dm\n",
    "dm = np.sqrt(1/Z * np.sum( 1 / dydata**2 ) )\n",
    "\n",
    "# Calculate uncertainty in best fit slope, db\n",
    "db = np.sqrt(1/Z * np.sum( xdata**2 / dydata**2 ) )\n",
    "\n",
    "# Print the best fit slope and uncertainty\n",
    "print(\"Best fit slope, m = \", m, \"±\", dm)\n",
    "\n",
    "# Print the best fit y-intercept and uncertainty\n",
    "print(\"Best fit slope, b = \", b, \"±\", db)\n",
    "\n",
    "\n",
    "\"\"\" Construct the model for plotting and calculating residuals \"\"\"\n",
    "\n",
    "ymodel = m * xdata + b # best fit model\n",
    "res = ydata - ymodel # calculate residuals (best fit)\n",
    "wres2 = (res/dydata)**2 # weighted residuals squared\n",
    "\n",
    "\n",
    "\"\"\" Calculate chi-squared \"\"\"\n",
    "    \n",
    "N = len(xdata) # number of data points\n",
    "P = 2 # number of parameters\n",
    "chi2 = np.sum(wres2) / (N - P) # calculate chi-squared\n",
    "print(f\"chi2 = {chi2:.4f}\")\n",
    "\n",
    "\"\"\" Plot data and fit \"\"\"\n",
    "\n",
    "plt.errorbar(xdata, ydata, dydata, marker='.', linestyle='', color='k', label = \"Data\")\n",
    "plt.plot(xdata, ymodel, label=\"y = mx + b\")\n",
    "plt.xlabel('x data')\n",
    "plt.ylabel('y data')\n",
    "plt.title('Data with fit')\n",
    "plt.legend()\n",
    "plt.show()\n",
    "\n",
    "\"\"\" Plot residuals for the best fit \"\"\"\n",
    "\n",
    "plt.errorbar(xdata, res, dydata, marker='.', linestyle='')\n",
    "plt.hlines(y=0, xmin=np.min(xdata), xmax=np.max(xdata), color='k') # draw axis at y = 0.\n",
    "plt.xlabel('x data')\n",
    "plt.ylabel('Residuals')\n",
    "plt.title('Residuals plot (best fit, $\\chi^2$={:.4f})'.format(chi2))\n",
    "plt.grid()\n",
    "plt.show()"
   ]
  },
  {
   "cell_type": "code",
   "execution_count": null,
   "id": "9786dfe4-0fa1-45a8-b686-a891c4468241",
   "metadata": {},
   "outputs": [],
   "source": []
  }
 ],
 "metadata": {
  "kernelspec": {
   "display_name": "Python 3 (ipykernel)",
   "language": "python",
   "name": "python3"
  },
  "language_info": {
   "codemirror_mode": {
    "name": "ipython",
    "version": 3
   },
   "file_extension": ".py",
   "mimetype": "text/x-python",
   "name": "python",
   "nbconvert_exporter": "python",
   "pygments_lexer": "ipython3",
   "version": "3.10.10"
  },
  "widgets": {
   "application/vnd.jupyter.widget-state+json": {
    "state": {},
    "version_major": 2,
    "version_minor": 0
   }
  }
 },
 "nbformat": 4,
 "nbformat_minor": 5
}
