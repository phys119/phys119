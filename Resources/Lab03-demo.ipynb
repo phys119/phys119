{
 "cells": [
  {
   "cell_type": "markdown",
   "id": "0f4b034a-b403-4350-aa32-411e4a30aabf",
   "metadata": {},
   "source": [
    "# t-score: formulas and example usage"
   ]
  },
  {
   "cell_type": "markdown",
   "id": "92503f93-7e68-48ec-bd06-ff1e7fbf0f74",
   "metadata": {},
   "source": [
    "## LaTeX code to display the formula\n",
    "Double-click on the cell below to see the LaTeX markdown code to use to display the t-score formula"
   ]
  },
  {
   "cell_type": "markdown",
   "id": "55db5df5-2073-46a8-afc1-9c4d24fe6578",
   "metadata": {
    "tags": []
   },
   "source": [
    "$$ t’ = \\dfrac{|A-B|}{\\sqrt{(dA)^2 + (dB)^2} } $$"
   ]
  },
  {
   "cell_type": "markdown",
   "id": "b81a5dea-2580-4ef9-8f27-3c225a661fe9",
   "metadata": {},
   "source": [
    "## Example usage of the t-score\n",
    "We use the example values from Spring Pair 1 from the invention activity"
   ]
  },
  {
   "cell_type": "code",
   "execution_count": 5,
   "id": "72373bf5-4437-4e78-a730-3d41e5cc5cbc",
   "metadata": {
    "tags": []
   },
   "outputs": [],
   "source": [
    "# We need numpy for np.sqrt\n",
    "import numpy as np\n",
    "\n",
    "# Values\n",
    "A  = 74  # N/m\n",
    "dA = 10  # N/m\n",
    "B  = 110 # N/m\n",
    "dB = 10  # N/m\n",
    "\n",
    "# Calculate the t-score\n",
    "t_prime = np.abs(A-B)/np.sqrt(dA**2 + dB**2)"
   ]
  },
  {
   "cell_type": "code",
   "execution_count": 9,
   "id": "51786eaf-24fb-4208-857c-9dca2f825eb5",
   "metadata": {
    "tags": []
   },
   "outputs": [
    {
     "name": "stdout",
     "output_type": "stream",
     "text": [
      "t' = 2.545584412271571\n",
      "t' = 2.5\n",
      "t' = 2.55\n"
     ]
    }
   ],
   "source": [
    "# Print the t-score\n",
    "print(\"t' =\",t_prime) \n",
    "\n",
    "# Print the t-score to 2 sig figs\n",
    "print(f\"t' = {t_prime:.2}\") \n",
    "\n",
    "# Print the t-score to 2 decimal places\n",
    "print(f\"t' = {t_prime:.2f}\") "
   ]
  }
 ],
 "metadata": {
  "kernelspec": {
   "display_name": "Python 3 (ipykernel)",
   "language": "python",
   "name": "python3"
  },
  "language_info": {
   "codemirror_mode": {
    "name": "ipython",
    "version": 3
   },
   "file_extension": ".py",
   "mimetype": "text/x-python",
   "name": "python",
   "nbconvert_exporter": "python",
   "pygments_lexer": "ipython3",
   "version": "3.10.8"
  }
 },
 "nbformat": 4,
 "nbformat_minor": 5
}
