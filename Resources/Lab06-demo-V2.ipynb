{
 "cells": [
  {
   "attachments": {},
   "cell_type": "markdown",
   "id": "2c32fb06-bb63-49c1-aa51-125a423b0747",
   "metadata": {},
   "source": [
    "# Lab 06 notebook tutorial"
   ]
  },
  {
   "cell_type": "markdown",
   "id": "b3318975",
   "metadata": {},
   "source": [
    "<span style=\"color: red;\">**Please do not read through this notebook until after the Lab 06 invention activity in class**</span>\n",
    "\n",
    "**Please note:** A summary of our new goodness-of-fit tool can be found in Appendix A, at the end of this notebook\n",
    "\n",
    "*Updated Oct 28, 2024: Fixed some typos*"
   ]
  },
  {
   "cell_type": "markdown",
   "id": "3d3a41a1-dc68-44ba-aa3a-b1e40f82fd93",
   "metadata": {},
   "source": [
    "## Load the libraries and the fitting data"
   ]
  },
  {
   "cell_type": "code",
   "execution_count": null,
   "id": "be5b35ac-3c4e-42d4-b63a-46d7c26153a6",
   "metadata": {},
   "outputs": [],
   "source": [
    "%reset -f\n",
    "import data_entry2\n",
    "import numpy as np\n",
    "import matplotlib.pyplot as plt\n",
    "import fit_plot\n",
    "%matplotlib widget"
   ]
  },
  {
   "cell_type": "code",
   "execution_count": null,
   "id": "f1759948-cdb0-4a74-8d7b-3a78feead5c5",
   "metadata": {},
   "outputs": [],
   "source": [
    "# Load the prelab data we used for Lab 05\n",
    "de1 = data_entry2.sheet_copy(\"../Lab05/prelab05_hookes_law\", \"lab05prelab-copy\")"
   ]
  },
  {
   "cell_type": "markdown",
   "id": "24cbc267-7494-437f-be47-1f008ba015cd",
   "metadata": {},
   "source": [
    "## Use the `fit_plot.line` interactive fitting widget with $\\chi^2$ output enabled to find the best-fit line"
   ]
  },
  {
   "cell_type": "markdown",
   "id": "28bddb44-72ef-4ad7-8d1b-3676ea4768ae",
   "metadata": {},
   "source": [
    "Use the following code, with `chi2 = True` to launch the `fit_plot.line` widget with $\\chi^2$ output enabled. \n",
    "\n",
    "Try to minimize the value for $\\chi^2$ using a combination of clicking within the scatter plot, within the residuals plot, and updating the values manually using the text boxes. You should be able to find a combination of parameters that gets you to a $\\chi^2$ value that is slightly below 0.5. You can also check the answer in the cell that follows the fitting widget. "
   ]
  },
  {
   "cell_type": "code",
   "execution_count": null,
   "id": "2f724d49-5bb1-4f5b-b1d6-b843f93cb7c5",
   "metadata": {},
   "outputs": [],
   "source": [
    "xdata = DxVec\n",
    "ydata = FVec\n",
    "dydata = dFVec\n",
    "unique_graph_title = \"Chi-squared minimization for Prelab 05 data\"\n",
    "\n",
    "fit_plot.line(unique_graph_title, xdata, ydata, dydata, chi2 = True)"
   ]
  },
  {
   "cell_type": "markdown",
   "id": "d94f2c7b-51b3-47f3-8bbb-9ecbaf13acdb",
   "metadata": {
    "jp-MarkdownHeadingCollapsed": true
   },
   "source": [
    "#### Answer: Best-fit model parameters"
   ]
  },
  {
   "cell_type": "markdown",
   "id": "d4ce9d92-dfc9-42cc-a104-149e3f259ee8",
   "metadata": {},
   "source": [
    "The best-fit parameters are `slope = 2.08` and `intercept = 0.0045`, which gives a $\\chi^2$ of 0.66."
   ]
  },
  {
   "attachments": {},
   "cell_type": "markdown",
   "id": "e81b32e1-9d7f-4eed-a638-02fea2b9a862",
   "metadata": {
    "tags": []
   },
   "source": [
    "## Estimate the slope uncertainties using `slope_min` and `slope_max`"
   ]
  },
  {
   "cell_type": "markdown",
   "id": "0e984380-a4a1-42bd-9426-19939e35b625",
   "metadata": {},
   "source": [
    "Our new goodness-of-fit statistic, $\\chi^2$, allows us to use an improved method to determine the slope uncertainty, which we will demonstrate below. To find `max_slope` and `min_slope`, keep the `intercept` fixed at the value you found for the best-fit line and then adjust the slope (up and down) to approximately double the goodness-of-fit statistic as compared to the best fit. This provides the 68% Confidence Interval for the slope, which you can divide by 2 to get the standard uncertainty for the slope."
   ]
  },
  {
   "attachments": {},
   "cell_type": "markdown",
   "id": "f29535a9",
   "metadata": {},
   "source": [
    "The steps:\n",
    "1. The best estimate of your slope will be the one from your best-fit model above with the lowest chi-squared. In this example the best-fit model is `slope = 2.08 N/m` and `intercept = 0.0045 m`, which corresponds to a chi-squared of 0.66.\n",
    "2. While keeping `intercept` fixed at `0.0045 m`, we adjust the `slope` upward until our chi-squared is approximately 2*0.66, which is 1.32. Being within 5% of this value (so ~ 1.25 - 1.39) is precise enough so we can use `slope_max = 2.148 N/m`, which gives a chi-squared of 1.33. Notice how the residuals for this fit look consistent with how we have described `slope_max` in the past. \n",
    "3. Take the slope back to the `best_fit` value of `2.09 N/m` while continuing to keep `intercept` fixed. Now we adjust the `slope` downward until it gives a chi-squared of approximately 1.32. Here we find `slope_min = 2.013 N/m` corresponds to chi-squared = 1.32.\n",
    "4. The best estimate of the standard uncertainty of the slope is half of the difference between `slope_max` and `slope_min` (the 68% Confidence Interval for the slope), where each of these slopes were found by adjusting the `slope` until chi-squared doubled, approximately. We then additionally apply a factor of $1/\\sqrt{N}$ to reward you with the precision benefits of taking more measurements.\n",
    "\n",
    "The code below details these calculations."
   ]
  },
  {
   "cell_type": "code",
   "execution_count": null,
   "id": "5cacb11d-3544-49d4-a209-1facf595ab7c",
   "metadata": {},
   "outputs": [],
   "source": [
    "# Slope uncertainty calculation\n",
    "\n",
    "# All slope values correspond to a fit using intercept = 0.0045 m\n",
    "\n",
    "slope_best = 2.08 # chi2 = 0.66\n",
    "slope_max = 2.15 # chi2 = 1.33 (approximately 2*0.66)\n",
    "slope_min = 2.013 # chi2 = 1.32 (approximately 2*0.66)\n",
    "N = len(xdata)\n",
    "dslope = (slope_max-slope_min)/(2 * np.sqrt(N) )\n",
    "print(\"Slope uncertainty:\", dslope, \"N/m\")"
   ]
  },
  {
   "attachments": {},
   "cell_type": "markdown",
   "id": "6e1c86b1-46d3-4972-a276-3e3da5951cd4",
   "metadata": {},
   "source": [
    "**Reporting results:** Our best estimate of the slope is 2.080 $\\pm$ 0.026 N/m."
   ]
  },
  {
   "cell_type": "markdown",
   "id": "a0d1cf61-e934-4033-a03c-edcafb44ebb4",
   "metadata": {},
   "source": [
    "## Make nice plots and calculate $\\chi^2$ yourself"
   ]
  },
  {
   "cell_type": "markdown",
   "id": "6744a350-e4b3-4770-94d1-fb25f5660e44",
   "metadata": {},
   "source": [
    "In the code block below we make some small updates to our usual code for making nice plots. \n",
    "1. We add `P = 2` in \"Scatter step 1\" as the number of fitting parameters, and\n",
    "2. At the end of the code block we add a new section \"Calculate chi-squared\", which shows how easy it is to calculate $\\chi^2$ once you have already calculated your residuals. Recall that the $y_i - f(x_i)$ term in the $\\chi^2$ equation in Appendix A is how one calculates a residual.\n",
    "   * This code prints out the `slope` and `intercept` used in the model, and the resulting $\\chi^2$ for that choice of `slope` and `intercept`."
   ]
  },
  {
   "cell_type": "code",
   "execution_count": null,
   "id": "560567ea-593b-4d41-9a12-d3c1a56c2304",
   "metadata": {},
   "outputs": [],
   "source": [
    "'''\n",
    "Code to make the scatter and residuals plots, as well as calculate \n",
    "chi-squared for a linear model\n",
    "'''\n",
    "\n",
    "# Scatter step 1: Define the variables we will be plotting, as well as labels and titles\n",
    "# Plotting variables\n",
    "xdata = DxVec\n",
    "ydata = FVec\n",
    "dydata = dFVec\n",
    "\n",
    "# Labels and titles\n",
    "data_label = \"Experimental data\"\n",
    "model_label = \"F = kx\"\n",
    "graph_title = \"Hooke's law investigation using spring compression\"\n",
    "x_label = \"Displacement of spring from equilibrium (m)\"\n",
    "y_label = \"Force (N)\"\n",
    "residuals_title = \"Residuals for Hooke's law investigation using spring compression\"\n",
    "residuals_y_label = \"Residual = data - model (N)\"\n",
    "\n",
    "# Model parameters\n",
    "slope = 2.08 # N/m\n",
    "intercept = 0.0045 # N\n",
    "### Added the number of fitting parameters = 2 (slope and intercept)\n",
    "P = 2 # Your number of fitting parameters; to be used in chi2 calculation\n",
    "\n",
    "# Scatter step 2: find the limits of the data:\n",
    "xmin = np.min(xdata) # use the np.min function to find the smallest x-value\n",
    "xmax = np.max(xdata) # same for max\n",
    "# print (xmin, xmax)  # uncomment to see what the limits are\n",
    "\n",
    "# Scatter step 3: generate a bunch of x points between xmin and xmax to help us plot the model line\n",
    "xpoints = np.linspace(xmin, xmax, 200) # gives 200 evenly spaced points between xmin and xmax\n",
    "# print(xpoints) # uncomment to see the x values that were generated.\n",
    "\n",
    "# Scatter step 4: calculate the y points to plot the model line\n",
    "ypoints = xpoints * slope + intercept # this calculates the model y-values at all 200 points.\n",
    "\n",
    "# Scatter step 5: plot the model line. We plot this as a red line \"r-\" :\n",
    "plt.figure()\n",
    "plt.plot(xpoints, ypoints, \"r-\", label = model_label)\n",
    "\n",
    "# Scatter step 6: Plot the data, with the previous details from before\n",
    "plt.errorbar(xdata, ydata, dydata, fmt=\"bo\", markersize = 3, label=data_label)\n",
    "plt.title(graph_title)\n",
    "plt.xlabel(x_label)\n",
    "plt.ylabel(y_label)\n",
    "plt.legend()\n",
    "plt.show()\n",
    "\n",
    "# Residuals step 2: Calculate the model prediction for each our data points from dxVec\n",
    "ymodel = slope * xdata + intercept # y = mx at each data point, x_i\n",
    "\n",
    "# Residuals step 3: Calcualte the residuals vector\n",
    "residualsVec = ydata - ymodel\n",
    "\n",
    "# Residuals step 4: Plot the residuals vector against the x-data vector\n",
    "plt.figure()\n",
    "plt.errorbar(xdata, residualsVec, dydata, fmt=\"bo\", markersize = 3)\n",
    "\n",
    "# Residuals step 5: Add a horizontal line at R=0 to the plot\n",
    "plt.hlines(y=0, xmin=xmin, xmax=xmax, color='k') # draw a black line at y = 0.\n",
    "\n",
    "# Residuals step 6: Add axis labels and title, and show the graph\n",
    "plt.title(residuals_title)\n",
    "plt.xlabel(x_label) # re-use the x_label from the scatter plot with model\n",
    "plt.ylabel(residuals_y_label)\n",
    "plt.show()\n",
    "\n",
    "### Added the chi-squared calculation and provided output for the fitting parameters used\n",
    "\n",
    "# Calculate chi-squared \n",
    "chi2 = np.sum((residualsVec/dydata)**2)/(len(residualsVec)-P)\n",
    "print (\"Slope: \", slope, \"N/m\")\n",
    "print (\"Intercept: \", intercept, \"N\")\n",
    "print (\"Weighted chi-squared: \", chi2)"
   ]
  },
  {
   "cell_type": "markdown",
   "id": "8b48c739",
   "metadata": {},
   "source": [
    "# Appendix A: Fitting using reduced chi-squared minimization / weighted least squares fitting"
   ]
  },
  {
   "cell_type": "markdown",
   "id": "a0ab09b2",
   "metadata": {},
   "source": [
    "$$\\large \\chi_w^2 = \\frac{1}{N-P} \\sum_{i=1}^N \\left[ \\frac{y_i - f(x_i) }{\\delta y_i} \\right]^2$$"
   ]
  },
  {
   "cell_type": "markdown",
   "id": "2e5da35d",
   "metadata": {},
   "source": [
    "We use chi-squared to help us find the **best possible fit** of the model to the data. To do so we adjust the fitting parameters to find the lowest possible value for chi-squared."
   ]
  },
  {
   "cell_type": "markdown",
   "id": "9641b39e",
   "metadata": {},
   "source": [
    "Interpreting $\\large \\chi_w^2$:\n",
    "\n",
    "* $\\large \\chi_w^2 \\approx 1$: The model fits the data well, assuming uncertainties have been characterized well\n",
    "* $\\large \\chi_w^2 \\gg 1$: Not a good fit or the uncertainties have been underestimated\n",
    "* $\\large \\chi_w^2 \\ll 1$: The uncertainties have been overestimated\n",
    "\n",
    "Using chi-squared is a 2-step process:\n",
    "1. First minimize chi-squared by adjusting parameters.\n",
    "2. Then, once it is minimized, interpret the value. \n",
    "\n",
    "The goal is **not** to make chi-squared = 1, it is to minimize it to find the best possible fit, and then interpret the resulting chi-squared value"
   ]
  },
  {
   "cell_type": "markdown",
   "id": "6f40dacc",
   "metadata": {},
   "source": []
  }
 ],
 "metadata": {
  "kernelspec": {
   "display_name": "Python 3 (ipykernel)",
   "language": "python",
   "name": "python3"
  },
  "language_info": {
   "codemirror_mode": {
    "name": "ipython",
    "version": 3
   },
   "file_extension": ".py",
   "mimetype": "text/x-python",
   "name": "python",
   "nbconvert_exporter": "python",
   "pygments_lexer": "ipython3",
   "version": "3.10.10"
  },
  "widgets": {
   "application/vnd.jupyter.widget-state+json": {
    "state": {},
    "version_major": 2,
    "version_minor": 0
   }
  }
 },
 "nbformat": 4,
 "nbformat_minor": 5
}
