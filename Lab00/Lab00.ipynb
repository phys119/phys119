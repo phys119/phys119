{
 "cells": [
  {
   "cell_type": "markdown",
   "id": "38c874a6-cae3-4f94-931a-173155fa86d3",
   "metadata": {
    "tags": []
   },
   "source": [
    "# Lab 00 - Introduction to Jupyter"
   ]
  },
  {
   "cell_type": "markdown",
   "id": "a17e32ac-bb67-4311-ba68-aaf5766d1291",
   "metadata": {},
   "source": [
    "In this Jupyter notebook, we will go through some basics of using Jupyter notebooks. This type of document will be used as your lab notebook, as well as for data recording and data analysis.\n",
    "\n",
    "We know that for many of you this will be your first encounter with Jupyter notebooks and with coding in general. We understand that this might feel like a lot of new information all at once, but this introduction is meant to provide some of the essential skills and techniques that you will be using during the first few labs in this course. We will revisit a lot of this material as we continue in future labs and pre-labs.\n",
    "\n",
    "The first thing to know is that the notebook you are working in today is stored in the cloud in a service operated by the Department of Physics and Astronomy at UBC - Vancouver. You are working in your own copy of this document and any changes you make to it are saved automatically, with regular frequency. If you want to force an immediate save, you can use the keyboard shortcut `CTRL+S` or go to `File -> Save Notebook`. "
   ]
  },
  {
   "cell_type": "markdown",
   "id": "8282c5b1-ade2-4c3f-a844-55ad3894e4bc",
   "metadata": {
    "tags": []
   },
   "source": [
    "## Two kind of cells - Code and Markdown"
   ]
  },
  {
   "cell_type": "markdown",
   "id": "d7695526-6e26-4ca6-9c4b-2889d944d320",
   "metadata": {},
   "source": [
    "The first thing we will introduce is the cell, which is the \"base unit\" of a Jupyter notebook. There are two types of cells: Code cells (where you can write and run Python code) and Markdown cells (where you can write text, and also create headings and equations). One benefit of using a Jupyter notebook for these labs is that you can seamlessly alternate between Markdown and Code cells. In a PHYS 119 lab session, we will generally have periods of notetaking when you are familiarizing yourself with the equipment for an experiment, coming up with a measurement plan, explaining your results and analysis, as well as planning and executing improvements. At other times, you will be using Python code to record and analyze your data. A Jupyter notebook allows you to seamlessly transition between notetaking and analysis. Formatted text is entered using Markdown-formatted while the analysis will be done in a programming language called Python.\n",
    "\n",
    "This cell that you are _currently reading_ is a Markdown cell (and the cell immediately below is a Code cell)."
   ]
  },
  {
   "cell_type": "code",
   "execution_count": null,
   "id": "82f2910b-46fc-49cb-a115-38901d7af276",
   "metadata": {
    "tags": []
   },
   "outputs": [],
   "source": [
    "# This cell is a code cell\n",
    "x = 2\n",
    "y = 3.1415\n",
    "z = x * y\n",
    "print(z)"
   ]
  },
  {
   "cell_type": "markdown",
   "id": "64e834a1-0ae2-49da-9ee9-e0f0d43bd6e4",
   "metadata": {
    "tags": []
   },
   "source": [
    "## Editing and Running Markdown Cells"
   ]
  },
  {
   "cell_type": "markdown",
   "id": "7cf12e6e-d085-4dfa-831d-780f9b29eb14",
   "metadata": {},
   "source": [
    "Markdown cells can be edited by double clicking them. They can be then run (which converts the plain text to Markdown-formatted text) either by using the keyboard shortcut `Shift + Enter`, by choosing `Run -> Run Selected Cells` from the menu at the top of this webpage, or by clicking the `▶` (play) button in the top toolbar just above this notebook.\n",
    "\n",
    "**Your Turn #1: Try it!**\n",
    "- Double click on any of the text this cell\n",
    "- Add your favourite quote between the quotation marks at the bottom of this cell\n",
    "- Use `Shift + Enter` to 'Run' the cell, which for a Markdown cell means to make it display the formatted text \n",
    "\n",
    "Your favourite quote:\n",
    "\n",
    "\" \""
   ]
  },
  {
   "cell_type": "markdown",
   "id": "74d4bb5f-3027-409f-9b38-1161a89880e4",
   "metadata": {
    "tags": []
   },
   "source": [
    "## Adding New Cells"
   ]
  },
  {
   "attachments": {
    "ef8a16eb-40d6-49b0-a1a5-5ae6a033ec0e.png": {
     "image/png": "[encoded data removed]"
    }
   },
   "cell_type": "markdown",
   "id": "92689b3a-5a60-468f-9ff0-bec7ae4aa80c",
   "metadata": {},
   "source": [
    "New cells can be added using the `+` button that you see in the top toolbar just above this notebook. You can add a new cell below the currently highlighted cell (indicated by a blue bar to the left of the cell) by using the `+` button or pressing `Esc` and then `b` on your keyboard. Similarly, you can add a new cell above the current cell by pressing `Esc` and then `a` on your keyboard.\n",
    "\n",
    "After creating a new cell, you can change the cell type using the dropdown menu in the toolbar above this notebook\n",
    "\n",
    "\n",
    "![dropdown.png](attachment:ef8a16eb-40d6-49b0-a1a5-5ae6a033ec0e.png)\n",
    "\n",
    "\n",
    "You can choose between Markdown, Code and Raw.\n",
    "\n",
    "**Your Turn #2: Try it:**\n",
    "- Create a new cell now using the '+' button\n",
    "- Change the cell type to Markdown\n",
    "- Write a few words\n",
    "- Run the cell with `Shift + Enter`"
   ]
  },
  {
   "cell_type": "markdown",
   "id": "14c39ad2-ff34-46c9-8b0b-1f7cfe8d49c5",
   "metadata": {
    "tags": []
   },
   "source": [
    "## Typefaces, Headings & Lists in Markdown"
   ]
  },
  {
   "cell_type": "markdown",
   "id": "643976d8-6f45-428a-9246-d2b32e0bba9f",
   "metadata": {},
   "source": [
    "Within Markdown, we can do things like making text **bold** or *in italics* (or ***both***).\n",
    "\n",
    "In this cell, and in those below, you can see how to do this type of formatting by double-clicking the cell to see the editable text, then use `Shift + Enter` to run the cell to return to the formatted version."
   ]
  },
  {
   "cell_type": "markdown",
   "id": "e77f5c91-5967-4067-94a4-982faac9156f",
   "metadata": {},
   "source": [
    "Headings can be created by placing `#` symbols at the beginning of a line of markdown text. The more `#` symbols you have in front of a heading, the smaller the heading it will be (e.g `#` = Large Heading, `##` = Medium Heading, `###` = Small Heading). You can also compress the size of a notebook by hiding cells under a heading; you can hide/unhide content under a heading by hovering your mouse over the heading and clicking the small triangle to the left of any given heading."
   ]
  },
  {
   "cell_type": "markdown",
   "id": "cb6e9a7d-f95f-414b-9013-8e3fb29ad5aa",
   "metadata": {
    "tags": []
   },
   "source": [
    "### This is a small heading"
   ]
  },
  {
   "cell_type": "markdown",
   "id": "c313b66e-1d74-4caa-8b79-fd038f32575b",
   "metadata": {},
   "source": [
    "You can make numbered lists in markdown:\n",
    "1. First entry\n",
    "2. Second entry\n",
    "3. Third entry\n",
    "\n",
    "Or unnumbered bullet points:\n",
    "- A thing\n",
    "- Another thing\n",
    "- Yet another thing\n",
    "\n",
    "both of which may be useful for taking notes.\n",
    "\n",
    "It's also useful to know about ~~strike through~~ for when you want to go back and \"remove\" text. In lab notebooks nothing should ever be removed - but sometimes you realize that you weren't on the right track and want to indicate that you're thinking has changed. You start and end strikethrough with a pair of tildes: \n",
    "* `~strike through~` gives ~~strike through~~"
   ]
  },
  {
   "cell_type": "markdown",
   "id": "f991a28d-7367-4c7b-ae59-dd1a6de5d2a7",
   "metadata": {
    "tags": []
   },
   "source": [
    "## Formatting Math in Markdown"
   ]
  },
  {
   "cell_type": "markdown",
   "id": "7c7cddb0-40bb-4031-a255-d4aa63d48e1d",
   "metadata": {},
   "source": [
    "A powerful part of Markdown is the ability to type mathematical expressions through a typesetting system known as $\\LaTeX$. While we won't require any real proficiency with $\\LaTeX$ in this course, it may be useful for formatting the various equations that we will come across when looking at various physical laws or formulas for calculating uncertainties. Most of the time, we will provide you with a formula and you can copy + paste it into your notebook."
   ]
  },
  {
   "cell_type": "markdown",
   "id": "da52a2c4-d39c-40f6-9274-390fa4410510",
   "metadata": {},
   "source": [
    "If you want to type mathematical expressions \"in-line\", surround these expessions with single a `$` on either side. For example:\n",
    "\n",
    "* The mass-energy equivalence $E = mc^2$ is attributed to Albert Einstein."
   ]
  },
  {
   "cell_type": "markdown",
   "id": "ba60c500-ed23-4bf9-aabf-75247dff3e15",
   "metadata": {},
   "source": [
    "If you want to type mathematical expressions as equations on their own lines, surround them with a double `$$` on either side. For example:\n",
    "\n",
    "The solution to the quadratic equation $ax^2 + bx + c= 0$ is given by:\n",
    "\n",
    "$$ x = \\frac{-b \\pm \\sqrt{b^2 - 4ac}}{2a}.$$"
   ]
  },
  {
   "cell_type": "markdown",
   "id": "b85524b9-7452-4f29-a4c2-a83549c6ab3c",
   "metadata": {
    "tags": []
   },
   "source": [
    "## How to Write Math in Markdown"
   ]
  },
  {
   "cell_type": "markdown",
   "id": "a67cbb17-8e9e-4815-bf9b-b191bb778575",
   "metadata": {},
   "source": [
    "The symbols `+`, `-`, and `=`, as well as numbers can be typed in $\\LaTeX$ as you would do normally. Some other commands that that may come in useful are below for your reference:\n",
    "\n",
    "Multiplication:\n",
    "$$A \\cdot B \\text{ or } A \\times B$$\n",
    "\n",
    "Division/Fractions:\n",
    "$$A / B \\ \\textrm{or}\\  \\frac{A}{B}$$\n",
    "\n",
    "Powers:\n",
    "$$y^{1/3} = x^2$$\n",
    "\n",
    "Roots:\n",
    "$$\\sqrt{2} \\neq \\sqrt[3]{2}$$\n",
    "\n",
    "Sums:\n",
    "$$y = \\sum_{i=1}^N x_i$$"
   ]
  },
  {
   "cell_type": "markdown",
   "id": "b223c35b-0f48-417d-9c0f-77aed72f44fd",
   "metadata": {},
   "source": [
    "One can also display Greek letters by typing the name of the Greek letter preceded by a backslash, `\\`. Some that may be encountered during the lab are $\\sigma$, $\\Delta$ and $\\chi$. Double-click this cell to see how those symbols are produced."
   ]
  },
  {
   "cell_type": "markdown",
   "id": "345f94bc-3329-4ff8-a224-3fe2287c677f",
   "metadata": {},
   "source": [
    "There is a whole world of markdown that we have not completely explored in this tutorial, but the curious can discover more! \n",
    "* There is a short reference of the basics under the Help menu at the top of the Jupyter interface: `Help -> Markdown Reference`. \n",
    "* There is much more information at https://www.markdownguide.org. \n",
    "* A two-page cheatsheet for math typesetting with $\\LaTeX$ can be found at http://tug.ctan.org/info/undergradmath/undergradmath.pdf."
   ]
  },
  {
   "attachments": {
    "8f65ad84-f291-4c28-b6c6-66315d0ba63a.png": {
     "image/png": "[encoded data removed]"
    }
   },
   "cell_type": "markdown",
   "id": "f4447586-1dd5-4732-a8ac-86a0ccdffcd4",
   "metadata": {
    "id": "6d7ddc88-9a31-45a0-ae27-36246a87e8fd",
    "tags": []
   },
   "source": [
    "**Your Turn #3:** Format an equation with a fraction\n",
    "\n",
    "![image.png](attachment:8f65ad84-f291-4c28-b6c6-66315d0ba63a.png)\n",
    "\n",
    "In the Markdown cell below use LaTeX to format the equation shown above. Hint: to make a fraction in LaTeX, you use `$\\frac{numerator}{denominator}$`"
   ]
  },
  {
   "cell_type": "markdown",
   "id": "9215c3f5-8774-4cf9-b0de-e4307c9dfa29",
   "metadata": {},
   "source": []
  },
  {
   "cell_type": "markdown",
   "id": "82b1aede-dcc7-423b-864c-82678bd4cda5",
   "metadata": {
    "tags": []
   },
   "source": [
    "## Editing and Running Code Cells"
   ]
  },
  {
   "cell_type": "markdown",
   "id": "df722f8c-3f74-4312-86ac-aa5f1867439c",
   "metadata": {},
   "source": [
    "All of the data-taking, analysis, and data visualizations in this course will be done using Python. Like with $\\LaTeX$, we will not expect extensive knowledge or proficiency in this course (but those curious can look forward to PHYS 210!). We will provide the necessary code. However, you will want to become familiar enough to modify this code to accomplish specific tasks for each lab.\n",
    "\n",
    "Code cells can be edited by clicking and typing. They can be run just like markdown cells, by clicking the `▶` (play) button in toolbar at the top of the notebook, or via `Shift + Enter`. Either will run the python code in that cell."
   ]
  },
  {
   "cell_type": "code",
   "execution_count": null,
   "id": "39059471-5914-4665-879f-a899ccdb26f8",
   "metadata": {},
   "outputs": [],
   "source": [
    "# This is a code cell.\n",
    "# Python treats any lines with a \"#\" in front as a comment.\n",
    "# So these lines will do nothing when the cell is run.\n",
    "\n",
    "x = 5  # You can also put comments after code in the same line\n",
    "print(x) # We'll come back to the print command in a moment"
   ]
  },
  {
   "cell_type": "markdown",
   "id": "5725f504-31a5-40d7-aa0f-3898b2faa528",
   "metadata": {
    "tags": []
   },
   "source": [
    "## Arithmetic in python"
   ]
  },
  {
   "cell_type": "markdown",
   "id": "a03b6d31-c28d-4a9c-bfc7-9fe8566c5626",
   "metadata": {},
   "source": [
    "Arithmetic in python with numbers works almost exactly like you would expect it! Run each of the cells below:"
   ]
  },
  {
   "cell_type": "code",
   "execution_count": null,
   "id": "727dc7a5-63ce-49c3-8bf4-4554132ffcfd",
   "metadata": {
    "tags": []
   },
   "outputs": [],
   "source": [
    "# Addition\n",
    "1 + 2"
   ]
  },
  {
   "cell_type": "code",
   "execution_count": null,
   "id": "077005dd-7d92-48ca-9d9c-0aa6c60d94ef",
   "metadata": {
    "tags": []
   },
   "outputs": [],
   "source": [
    "# Subtraction\n",
    "2.5 - 1.2"
   ]
  },
  {
   "cell_type": "code",
   "execution_count": null,
   "id": "c4711372-276f-4401-bf73-83a1d5a31520",
   "metadata": {
    "tags": []
   },
   "outputs": [],
   "source": [
    "# Multiplication\n",
    "2 * 3"
   ]
  },
  {
   "cell_type": "code",
   "execution_count": null,
   "id": "78ca2ac4-8354-4938-b923-a17ae650f5c7",
   "metadata": {
    "tags": []
   },
   "outputs": [],
   "source": [
    "# Division\n",
    "6 / 2"
   ]
  },
  {
   "cell_type": "code",
   "execution_count": null,
   "id": "fffeb48e-bb7c-41c0-b1c2-cba98eae58c8",
   "metadata": {
    "tags": []
   },
   "outputs": [],
   "source": [
    "# Exponentiation\n",
    "2**3  # Note the use of ** and not ^ (which means something completely different) in python"
   ]
  },
  {
   "cell_type": "code",
   "execution_count": null,
   "id": "c865d1c5-1097-4eb0-85b8-1c1a8e0f5af0",
   "metadata": {
    "tags": []
   },
   "outputs": [],
   "source": [
    "# Roots\n",
    "4**(1/2)"
   ]
  },
  {
   "cell_type": "markdown",
   "id": "74948a64-fdb6-4c44-a98f-0c9c6e116ca5",
   "metadata": {
    "tags": []
   },
   "source": [
    "## Variables in python, printing"
   ]
  },
  {
   "cell_type": "markdown",
   "id": "daf5bc04-9e37-401e-b2a7-fae4392dc80f",
   "metadata": {},
   "source": [
    "It will be useful to store and handle values symbolically by associating them with variables instead of working with individual numbers all the time. The cell below can be run to set the value of the variable `x` to be `7`. In python, the `=` symbol is used as an assignment operator (meaning the value `7` is being assigned to the variable `x`), rather than checking if two things are equal."
   ]
  },
  {
   "cell_type": "code",
   "execution_count": null,
   "id": "bf164117-ab26-4c9d-b836-1486c1386a50",
   "metadata": {
    "tags": []
   },
   "outputs": [],
   "source": [
    "# Run me to assign the value 7 to the variable x\n",
    "x = 7"
   ]
  },
  {
   "cell_type": "markdown",
   "id": "735180bd-e396-46c0-8d0f-a4fd3ae7ed3e",
   "metadata": {},
   "source": [
    "This stored value now persists across cells, so you can use this in future cells:"
   ]
  },
  {
   "cell_type": "code",
   "execution_count": null,
   "id": "0f6295af-5b47-40ee-b89c-5d0cee5234cd",
   "metadata": {
    "tags": []
   },
   "outputs": [],
   "source": [
    "# Run me to output the contents of the variable x\n",
    "x"
   ]
  },
  {
   "cell_type": "markdown",
   "id": "5d8ee407-79f9-4c64-9b94-b35a9a88f259",
   "metadata": {},
   "source": [
    "However, sometimes you will want to see the value of something not just at the end of the cell (as we have been doing now) but at some intermediate point in the cell. For this, the print function is very useful. Try running the cell below, where we assign some values, and along the way `print` the value of `a` to see what it is:"
   ]
  },
  {
   "cell_type": "code",
   "execution_count": null,
   "id": "ef659ee9-dffc-42f7-b112-7761e451ef33",
   "metadata": {
    "tags": []
   },
   "outputs": [],
   "source": [
    "# Run me\n",
    "a = 1.407\n",
    "print(a)\n",
    "b = 20.7"
   ]
  },
  {
   "cell_type": "markdown",
   "id": "df583a7c-b978-4a24-9da4-92b0dbdba96b",
   "metadata": {},
   "source": [
    "Note that we can also do all the usual arithmetic operations on variables (provided that the variables store numbers). For example, what do you expect the value of `c` to be below?"
   ]
  },
  {
   "cell_type": "code",
   "execution_count": null,
   "id": "13ffb573-2ab4-4b37-8869-b6c65f3d3d49",
   "metadata": {
    "tags": []
   },
   "outputs": [],
   "source": [
    "# Run me\n",
    "c = a + b\n",
    "print(c)"
   ]
  },
  {
   "cell_type": "markdown",
   "id": "4771aa16-360d-4a9f-a1d0-b26ed39b5b30",
   "metadata": {},
   "source": [
    "We can also overwrite variables; `c` will be a new value when you run the following cell:"
   ]
  },
  {
   "cell_type": "code",
   "execution_count": null,
   "id": "eb62442d-a147-4645-ba37-2ca8ee8f0e63",
   "metadata": {},
   "outputs": [],
   "source": [
    "# Run me\n",
    "c = a * b\n",
    "print(c)"
   ]
  },
  {
   "cell_type": "markdown",
   "id": "d1b85df5",
   "metadata": {},
   "source": [
    "We may want to combine text and variables in the same print statement. There are a couple ways to do this. \n",
    "\n",
    "The simple way to separate the words and variables you want to print with commas. "
   ]
  },
  {
   "cell_type": "code",
   "execution_count": null,
   "id": "20f53a74",
   "metadata": {},
   "outputs": [],
   "source": [
    "# Run me for an example of combining text and variables in the same print statment\n",
    "print(\"Let's print our variables, a =\", a, \"b =\", b, \"c =\", c)"
   ]
  },
  {
   "cell_type": "markdown",
   "id": "43352f45",
   "metadata": {},
   "source": [
    "We can also print with a type of formatting called f-strings, which are very powerful due to their control over signficant figures and decimal places, among other things. \n",
    "\n",
    "Note:\n",
    "* To make an f-string, we include the letter `f` right in front of the first double-quote inside the print statement: `print(f\"..\")`\n",
    "* The format for printing the contents of a variable (e.g., `a`) are to enclose the variable in curly braces: `{a}`"
   ]
  },
  {
   "cell_type": "code",
   "execution_count": null,
   "id": "55789465",
   "metadata": {},
   "outputs": [],
   "source": [
    "# Run me for an example of using an f-string in a print statement\n",
    "print(f\"Let's print our variables, a = {a}, b = {b}, c = {c}\")"
   ]
  },
  {
   "cell_type": "markdown",
   "id": "78e6b31e",
   "metadata": {},
   "source": [
    "Maybe we want to only show our variables to fewer decimal places. We can add extra arguments within the curly braces:\n",
    "* `:.2f` to print to two decimal places. `f` is for fixed-point and `2` is the desired number of decimal places. \n",
    "* `:.2e` to print in scientific notation. Here if we use 2, we will get 2 decimal places for a total of three significant figures.\n",
    "* `:.2` to print to two significant figures, where `2` is the desired number of significant figures, which Python will convert to scientific notation as necessary"
   ]
  },
  {
   "cell_type": "code",
   "execution_count": null,
   "id": "13f488d2",
   "metadata": {},
   "outputs": [],
   "source": [
    "# Run me for different examples of formatting decimal values\n",
    "print(f\"Fixed-point notation: a = {a:.2f}, b = {b:.2f}, c = {c:.3f}\")\n",
    "print(f\"Scientific notation: a = {a:.2e}, b = {b:.2e}, c = {c:.3e}\")\n",
    "print(f\"Specified numbers of significant figures: a = {a:.2}, b = {b:.2}, c = {c:.3}\")"
   ]
  },
  {
   "cell_type": "markdown",
   "id": "1358f51a",
   "metadata": {},
   "source": [
    "## Arrays in python"
   ]
  },
  {
   "cell_type": "markdown",
   "id": "745300c4",
   "metadata": {},
   "source": [
    "Since we will be taking measurements in this class, we often want to store multiple measurements in one variable. To do this we will use numpy arrays, which can store several numbers. \n",
    "\n",
    "\n",
    "First, we need to load some additional functions into python by importing the numpy module. \n",
    "\n",
    "The command below imports the module 'numpy' and renames it to 'np'. This renaming may seem a little odd, but we do it because it is standard usage (i.e. *everyone* does it), and saves a little typing, we can access functions from numpy by typing just `np` intead of the whole word 'numpy'. "
   ]
  },
  {
   "cell_type": "code",
   "execution_count": null,
   "id": "424d9e0c",
   "metadata": {
    "tags": []
   },
   "outputs": [],
   "source": [
    "# Run me to import the numpy python library\n",
    "import numpy as np"
   ]
  },
  {
   "cell_type": "markdown",
   "id": "6a7a4f61",
   "metadata": {},
   "source": [
    "Next, lets say we measured three values (in units of meters): \n",
    "$$\n",
    "x_1 = 1.7 \\\\\n",
    "x_2 = 3.5 \\\\\n",
    "x_3 = 2.9\n",
    "$$\n",
    "and we want to store them in a single variable as an array (kind of like a list). "
   ]
  },
  {
   "cell_type": "code",
   "execution_count": null,
   "id": "1fb21510",
   "metadata": {
    "tags": []
   },
   "outputs": [],
   "source": [
    "# Run me to define an array with three x measurements\n",
    "x_values = np.array([1.7, 3.5, 2.9]) # units = m\n",
    "print(\"Our new array of x-values is :\", x_values)"
   ]
  },
  {
   "cell_type": "markdown",
   "id": "61a2258b",
   "metadata": {},
   "source": [
    "If we want to get the individual values back out, we refer to them based on their index (or their position in the array). **Indexing in python starts at zero**, so here $x_1$ would be the zeroth element of the array. To get $x_1$ out of our array, we would use x_values[0]. "
   ]
  },
  {
   "cell_type": "code",
   "execution_count": null,
   "id": "a096186e",
   "metadata": {
    "tags": []
   },
   "outputs": [],
   "source": [
    "# Run me to access the individual x measurements from the x_values array\n",
    "x_1 = x_values[0]\n",
    "x_2 = x_values[1]\n",
    "x_3 = x_values[2]\n",
    "\n",
    "print(\"The values in our array are x_1 =\", x_1, \"x_2 =\", x_2, \"and x_3 =\", x_3)\n",
    "print(f\"We can also print them directly from the array as x_1 = {x_values[0]}, x_2 = {x_values[1]}, and x_3 = {x_values[2]}\")"
   ]
  },
  {
   "cell_type": "markdown",
   "id": "1ebc1ebe",
   "metadata": {},
   "source": [
    "If we want to know how many values are in our array, we can use the python function `len()`. "
   ]
  },
  {
   "cell_type": "code",
   "execution_count": null,
   "id": "e158adb4",
   "metadata": {
    "tags": []
   },
   "outputs": [],
   "source": [
    "# Run me to see example use of the function len()\n",
    "num_values = len(x_values)\n",
    "print(\"x_values has\", num_values, \"values\")"
   ]
  },
  {
   "cell_type": "markdown",
   "id": "0effb0b2",
   "metadata": {},
   "source": [
    "We can also change or updated the values in the array. Let's say we want to update $x_2$ to 2.2. "
   ]
  },
  {
   "cell_type": "code",
   "execution_count": null,
   "id": "4708030a",
   "metadata": {
    "tags": []
   },
   "outputs": [],
   "source": [
    "# Run me to see an example of changing an element in an array\n",
    "print(\"Our original array:\", x_values)\n",
    "x_values[1] = 2.2\n",
    "print(\"Our array with the modified x_2 value:\", x_values)"
   ]
  },
  {
   "cell_type": "markdown",
   "id": "2febd3f6",
   "metadata": {},
   "source": [
    "We can also do arithmetic operations to arrays, like addition, subtraction, multiplication, division, and exponentiation. When we do these operations with a single other number, it will do the operation to each element of the array. "
   ]
  },
  {
   "cell_type": "code",
   "execution_count": null,
   "id": "556f6b99",
   "metadata": {
    "tags": []
   },
   "outputs": [],
   "source": [
    "# Run me for examples of arithmetic operations on arrays\n",
    "\n",
    "x_plus_3 = x_values + 3 \n",
    "print(\"We can add 3 to every element in the array :\", x_plus_3)\n",
    "\n",
    "x_times_3 = x_values * 3 \n",
    "print(\"We can multiply every element in the array by 3 :\", x_times_3)"
   ]
  },
  {
   "cell_type": "markdown",
   "id": "0ba245ba",
   "metadata": {},
   "source": [
    "To calculate powers, numpy has a function built in:\n",
    "\n",
    "`np.power(array, n)` : where you raise each value in the array to the power n (n is a number)\n",
    "\n",
    "But you can also use the simpler way we've seen before with `a**b` notation, where `a` can be an array.\n",
    "Optional further documentation : https://numpy.org/doc/stable/reference/generated/numpy.power.html"
   ]
  },
  {
   "cell_type": "code",
   "execution_count": null,
   "id": "7dc66501",
   "metadata": {
    "tags": []
   },
   "outputs": [],
   "source": [
    "# Run me to use the np.power function to square elements of x_values\n",
    "x_squared1 = np.power(x_values, 2)\n",
    "print(\"We can square every element in the array :\", x_squared1)\n",
    "x_squared2 = x_values**2\n",
    "print(\"We can square every element in the array :\", x_squared2)"
   ]
  },
  {
   "cell_type": "markdown",
   "id": "50cc5557",
   "metadata": {},
   "source": [
    "**Your Turn #4:** Try taking the square root now. You can use the `np.power` function, `**` with a fractional exponent, or numpy as has a special function that takes the square roots of all the elements of an array (Hint: google \"Take square root of numpy array\")."
   ]
  },
  {
   "cell_type": "code",
   "execution_count": null,
   "id": "58a56fe6",
   "metadata": {},
   "outputs": [],
   "source": [
    "# Run me to get the square root of the elements of x_values\n",
    "x_square_root = \n",
    "print(\"We can take the square root of every element in the array :\", x_square_root)"
   ]
  },
  {
   "cell_type": "markdown",
   "id": "668d35f9",
   "metadata": {},
   "source": [
    "Numpy also has some other useful functions that allow us to get other properties of the array : \n",
    "\n",
    "* `np.sum(array)` : returns the sum of the array\n",
    "* `np.mean(array)` : returns the mean or average of the array\n",
    "* `np.std(array)` : returns the standard deviation of the array\n",
    "* `np.max(array)` : returns the maximum value stored in the array\n",
    "* `np.min(array)` : returns the minimum value stored in the array"
   ]
  },
  {
   "cell_type": "markdown",
   "id": "a88ab59f-2095-47f9-ae83-6093c9977d27",
   "metadata": {
    "id": "c2c584b1-fd7b-4d82-9256-7bdbcf3fbc25",
    "tags": []
   },
   "source": [
    "## Practice with Variables"
   ]
  },
  {
   "cell_type": "markdown",
   "id": "843ff599-7661-4102-88ed-e80af71210d7",
   "metadata": {},
   "source": [
    "This is an exercise to get familiar with the python skills we have just learned. It won't be graded for correctness, but as you go through try to keep up good commenting and formatting of your print statements. "
   ]
  },
  {
   "cell_type": "markdown",
   "id": "61230175-208d-4817-8622-79fceeb72055",
   "metadata": {
    "id": "1c4208b2-afc7-410c-81a6-79a6c3c4e98a"
   },
   "source": [
    "Let's try an example where we have recorded some data from a physics experiment and want to do some analysis. Suppose we had a toy car, and at two separate times `t1` and `t2`, we measured its position to be `x1` and `x2`.\n",
    "\n",
    "**Your Turn #5a:** Suppose we measured `t1` to be `0` seconds, `t2` to be `4` seconds, `x1` to be `0.1` meters, and `x2` to be `10.5` meters. In the code cell below, create four variables `t1`, `t2`, `x1` and `x2` and set them to the numerical values based on these measurements. Use a comment to specify what the units of the measurements are."
   ]
  },
  {
   "cell_type": "code",
   "execution_count": null,
   "id": "012c267e-768d-447e-b0a9-a49aea99c784",
   "metadata": {
    "tags": []
   },
   "outputs": [],
   "source": [
    "# Create your four variables here\n",
    "\n"
   ]
  },
  {
   "cell_type": "markdown",
   "id": "6216797b-297c-40e4-a380-44c03f12502d",
   "metadata": {
    "id": "3b784d3b-be2e-45a4-b672-2e408556e002"
   },
   "source": [
    "**Your turn #5b:** Define two new variables:\n",
    "* `Dt` ($\\Delta t$) as the difference `t2 - t1`, and\n",
    "* `Dx` ($\\Delta x$) as the difference `x2 - x1`.\n",
    "\n",
    "Also, print out `dx`."
   ]
  },
  {
   "cell_type": "code",
   "execution_count": null,
   "id": "5c56583d-36e2-4eac-b06b-7597b75bff9c",
   "metadata": {
    "tags": []
   },
   "outputs": [],
   "source": [
    "# Update the code in this cell\n",
    "Dt = \n",
    "Dx = \n",
    "print(\"\")"
   ]
  },
  {
   "cell_type": "markdown",
   "id": "f2effb79-97ec-44c3-95db-b43a5392e08b",
   "metadata": {
    "id": "b026bb0b-57be-4410-800e-65a00f50d68a"
   },
   "source": [
    "**Your turn #5c:** Define a variable `v_ave` as the average velocity of the toy car, by dividing `Dx` by `Dt`, according to the formula:\n",
    "\n",
    "$$v_{ave} = \\frac{\\Delta x}{\\Delta t}$$\n",
    "\n",
    "Finally, calculate the average kinetic energy of the car, assuming it has a mass, `m`, of 3.0 kilograms, according to the formula:\n",
    "\n",
    "$$ K_{ave} = \\frac{1}{2} m v^2$$\n",
    "\n",
    "Print out the value you calculated for `K_ave`. You should get 10.14 (Joules)."
   ]
  },
  {
   "cell_type": "code",
   "execution_count": null,
   "id": "809ffbba-f385-41b1-85b3-aad94abe57d0",
   "metadata": {
    "tags": []
   },
   "outputs": [],
   "source": [
    "# Calculate and print K_ave\n"
   ]
  },
  {
   "cell_type": "markdown",
   "id": "d6418b5c-e9fd-43fe-b584-9db077426552",
   "metadata": {},
   "source": [
    "**Your turn #5d:** Calculate the speed that our `m = 3.0 kg` car would have if it had a kinetic energy of 35 J. To calculate a square-root, use the `np.sqrt(..)` numpy function. For example, the square root of 4 would be calcualted as `np.sqrt(4)` \n",
    "\n",
    "Notice the `np.` in front of the `sqrt`. This is needed because the `sqrt` function is found in the numpy library, which we imported above and relabelled as `np`."
   ]
  },
  {
   "cell_type": "code",
   "execution_count": null,
   "id": "34da5b1b-f88c-40b7-b1b1-3a406d3ba09c",
   "metadata": {
    "tags": []
   },
   "outputs": [],
   "source": [
    "# Calculate the speed of our K = 35J car in this cell\n",
    "# - You should get an answer of approximately 4.83 m/s\n"
   ]
  },
  {
   "cell_type": "markdown",
   "id": "487656c0",
   "metadata": {},
   "source": [
    "## Practice with arrays"
   ]
  },
  {
   "cell_type": "markdown",
   "id": "3a1d93e2",
   "metadata": {},
   "source": [
    "Let's say we're interested in measuring the gravitational acceleration constant, $g$. So we set up an experiment where we drop a ball from a fixed hight, $h$, and measure the time it takes for the ball to fall, $t$. From our kinematics formulas, we know that \n",
    "\n",
    "$$ h = \\frac{1}{2} g t^2 $$\n",
    "\n",
    "$$ g = \\frac{2h}{t^2} $$\n",
    "\n",
    "We drop the ball from the roof, which is 10.0-m from the ground and measure five times (in seconds): 1.30, 1.51, 1.44, 1.44, 1.36."
   ]
  },
  {
   "cell_type": "markdown",
   "id": "2d6d0c81",
   "metadata": {},
   "source": [
    "**Your Turn #6a:** First let's enter our times into a numpy array."
   ]
  },
  {
   "cell_type": "code",
   "execution_count": null,
   "id": "2ed921e7",
   "metadata": {},
   "outputs": [],
   "source": [
    "# Use this cell to enter the times above into the numpy array 'time_array'\n",
    "time_array = \n",
    "print(\"Check that times are correct: \", time_array)"
   ]
  },
  {
   "cell_type": "markdown",
   "id": "5893ed29",
   "metadata": {},
   "source": [
    "**Your Turn #6b:** Next, lets calculate g for all our times."
   ]
  },
  {
   "cell_type": "code",
   "execution_count": null,
   "id": "0fbcfbdb",
   "metadata": {},
   "outputs": [],
   "source": [
    "# Use this cell to calculate g for all times in 'time_array'\n",
    "g_array = \n",
    "print(\"Check that g values are reasonable: \", g_array) "
   ]
  },
  {
   "cell_type": "markdown",
   "id": "5c427b13",
   "metadata": {},
   "source": [
    "Now that we've calculated $g$ for all our values, let's look at some of the properties of our overall data set. Below, we show how to calculate and print the average (mean) and standard deviation (more on this in Lab 01) of our values."
   ]
  },
  {
   "cell_type": "code",
   "execution_count": null,
   "id": "7251287a",
   "metadata": {},
   "outputs": [],
   "source": [
    "# Run this cell to calulate the mean and standard deviation of g_array\n",
    "\n",
    "g_mean = g_array.mean()\n",
    "print(\"Average g:\", g_mean)\n",
    "\n",
    "g_std = g_array.std()\n",
    "print(\"Standard deviation of g:\", g_std)"
   ]
  },
  {
   "cell_type": "markdown",
   "id": "17adda27-1425-44df-979c-72022a790ca4",
   "metadata": {
    "tags": []
   },
   "source": [
    "## End of Lab - Rerunning your notebook and Submitting"
   ]
  },
  {
   "cell_type": "markdown",
   "id": "65f356bf-f2c1-45da-97a9-8fa7ae9074ad",
   "metadata": {},
   "source": [
    "At the end of lab, before submitting your work, we will ask you to restart and rerun your entire notebook to make sure that everything runs correctly and without error. Let's practice how to do that here! \n",
    "\n",
    "* First, go to the top menu bar in Jupyter (with File, Edit, View...) and then from the `Run` menu select `Restart Kernel and Run All Cells..`. This will clear all of the current output from code cells, remove all variables from memory and then take a few seconds to rerun all of the cells. If the notebook runs without any errors, the print statement below, `print(\"The notebook ran without errors\")` will run. If any errors are encountered, the notebook will stop executing/running cells where the error occurred, and you will need to go back and fix the error before re-running the notebook. If you need help figuring out what's wrong, ask us!\n",
    "\n",
    "* After running, it's good to double-check your notebook looks right. If the entire notebook runs without errors, fantastic! You're then ready to submit your work.\n",
    "\n",
    "This notebook is in your own private Jupyter account. To submit your notebook for grading, you'll need to download it and submit to Canvas.\n",
    "\n",
    "* After you've run and checked your notebook, choose: `File -> Save_and_Export_Notebook_As -> HTML`. This will download an HTML version of your notebook to your computer hard drive. This is HTML version is a web-page-formatted file, which can not be executed or modified. You may have to disable a pop-up blocker to allow the file to be downloaded.\n",
    "\n",
    "* Finally, submit the HTML file that you just downloaded to the Lab00 submission assignment on Canvas. \n",
    "\n",
    "If there was anything in this notebook that you didn't understand or aren't comfortable with, please ask us at a drop-in session or on Piazza."
   ]
  },
  {
   "cell_type": "code",
   "execution_count": null,
   "id": "27d08f90-78b8-4d63-8d82-1d3da4e1330e",
   "metadata": {
    "tags": []
   },
   "outputs": [],
   "source": [
    "# This cell will print \"The notebook ran without errors\" if\n",
    "# 'Run All Cells\" finishes without errors\n",
    "print(\"The notebook ran without errors\")"
   ]
  },
  {
   "cell_type": "markdown",
   "id": "28d9a020-aa4c-4cb1-987b-82d62e00f70a",
   "metadata": {
    "tags": []
   },
   "source": [
    "# Done\n",
    "\n",
    "We'll see you for Lab 01!"
   ]
  }
 ],
 "metadata": {
  "kernelspec": {
   "display_name": "Python 3 (ipykernel)",
   "language": "python",
   "name": "python3"
  },
  "language_info": {
   "codemirror_mode": {
    "name": "ipython",
    "version": 3
   },
   "file_extension": ".py",
   "mimetype": "text/x-python",
   "name": "python",
   "nbconvert_exporter": "python",
   "pygments_lexer": "ipython3",
   "version": "3.10.8"
  },
  "widgets": {
   "application/vnd.jupyter.widget-state+json": {
    "state": {},
    "version_major": 2,
    "version_minor": 0
   }
  }
 },
 "nbformat": 4,
 "nbformat_minor": 5
}
