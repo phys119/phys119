{
 "cells": [
  {
   "cell_type": "markdown",
   "id": "10129cf0-f314-4d11-9b4a-e8580785b7bf",
   "metadata": {},
   "source": [
    " # Lab 3 - The Pendulum I"
   ]
  },
  {
   "cell_type": "code",
   "execution_count": 1,
   "id": "bb41a3e5-6dc2-4689-8f6b-c571553096ce",
   "metadata": {
    "colab": {
     "base_uri": "https://localhost:8080/",
     "height": 34,
     "referenced_widgets": [
      "f4867fcd1bc84f73a8ebaf6d3fe7f93a",
      "d034be63185d4811a05ec0f093d02d7a",
      "bd6d356d711e4792a1e9ada201d26b78",
      "c0d9513060084283a214f5c8f025ecf0",
      "da2defae0a8e4905a29dc8d3ca8a42e3",
      "60dc88a1698c461187c3481c679c7b71",
      "5f73d93446b34030af9201112526626f",
      "4d3b430ac5934818a7693c1a6a3d9355",
      "0bedf7f9be8a49378ea8f37f9c2ebf16",
      "ea117ac05b9b41c082cd9d62ef94d518",
      "124f9831f181482eb784405723a8b2d0",
      "8e1cbf36822a474ebdf82a80a5681924",
      "f8023654ea164371b4e3f37957a06c8a",
      "e1709bb85bb34c7e997f035a4c7560b8",
      "5a1355ddfd1840c2bc9de6ebd7342682",
      "624675d0d30242d6bf1213deb6e3f624",
      "699f933c64d24cafa5bfd5e0a1fc397a",
      "d58d95defca340b885a9e405134fc887",
      "58cf21d8ac234496bad2ebd7ae7f2a1d",
      "5e2883b7e2ba4d6d8a1352e621a8183f",
      "ffe3c8f2bda74603a92742464e69ba6b",
      "7ce01fb43382463f9ae0ad311d7b5dc4"
     ]
    },
    "id": "26726484-93c7-499a-9f34-d4656ef6df5a",
    "outputId": "82f6fee3-86ff-43e5-8b52-64b7eb4467ab"
   },
   "outputs": [],
   "source": [
    "# Make sure to run this cell before running any other code cells\n",
    "%reset -f\n",
    "import numpy as np\n",
    "import data_entry2"
   ]
  },
  {
   "cell_type": "markdown",
   "id": "883c8daf-e901-4c0e-a0d7-d9c7dc0d6621",
   "metadata": {},
   "source": [
    "Edit this cell and provide the information requested:\n",
    "- Your name:\n",
    "- Your student number:\n",
    "- Partner's name:"
   ]
  },
  {
   "cell_type": "markdown",
   "id": "6bc2f65e-1838-4b3d-adcd-a78a7f7b17e8",
   "metadata": {},
   "source": [
    "## Part A - Intro and announcements"
   ]
  },
  {
   "cell_type": "markdown",
   "id": "f00958fb-314c-41c2-8c90-6901339bbcac",
   "metadata": {},
   "source": [
    "*(Optional) Your notes on TA feedback:*"
   ]
  },
  {
   "cell_type": "markdown",
   "id": "4961a1ee-c4ac-4447-9efb-b1751ce31c89",
   "metadata": {},
   "source": []
  },
  {
   "cell_type": "markdown",
   "id": "fa12b576",
   "metadata": {},
   "source": [
    "## Part B - Invention Activity"
   ]
  },
  {
   "cell_type": "markdown",
   "id": "c8f99966-3294-49f2-99a3-ae33bea510a0",
   "metadata": {},
   "source": [
    "***(Optional) Your notes on the invention activity:***"
   ]
  },
  {
   "cell_type": "markdown",
   "id": "6629136d-a29b-4885-b400-24e59d01e5d3",
   "metadata": {},
   "source": []
  },
  {
   "cell_type": "markdown",
   "id": "308df9a4",
   "metadata": {},
   "source": []
  },
  {
   "cell_type": "markdown",
   "id": "39f1393b-0be7-4aea-947e-18c1d91ff328",
   "metadata": {},
   "source": []
  },
  {
   "cell_type": "markdown",
   "id": "e209bccb-29cd-45bc-81d1-7317f7ce8129",
   "metadata": {},
   "source": []
  },
  {
   "cell_type": "markdown",
   "id": "a56dd83a-e7ab-436c-9319-bcfe0d52d834",
   "metadata": {},
   "source": [
    "## Part C"
   ]
  },
  {
   "cell_type": "markdown",
   "id": "83d33fcb-6d91-4c37-998b-173e9fb0f65d",
   "metadata": {},
   "source": [
    "### Part C.1 - PLAN, MEASURE & ANALYZE "
   ]
  },
  {
   "cell_type": "markdown",
   "id": "039d956c-b989-42e9-8367-d218de62679f",
   "metadata": {},
   "source": [
    "*Familiarization notes:*"
   ]
  },
  {
   "cell_type": "markdown",
   "id": "69b356c1-16bb-447b-a87c-f7f65fd5de82",
   "metadata": {},
   "source": []
  },
  {
   "cell_type": "markdown",
   "id": "590e35d6-ff0f-468e-b55c-837cec3eace9",
   "metadata": {},
   "source": [
    "*Your initial measurement plan:*"
   ]
  },
  {
   "cell_type": "markdown",
   "id": "a70cc61d-1aa1-44f7-8252-05be05bb4116",
   "metadata": {},
   "source": []
  },
  {
   "cell_type": "code",
   "execution_count": 2,
   "id": "11fcd5cf-3996-4878-9a64-70417859e239",
   "metadata": {},
   "outputs": [
    {
     "name": "stdout",
     "output_type": "stream",
     "text": [
      "Sheet name: lab03_1.csv\n"
     ]
    },
    {
     "data": {
      "application/vnd.jupyter.widget-view+json": {
       "model_id": "9ec4e30d9a5147c38126d213b2761eee",
       "version_major": 2,
       "version_minor": 0
      },
      "text/plain": [
       "VBox(children=(HBox(children=(Button(description='Undo', style=ButtonStyle()), Button(description='Redo', styl…"
      ]
     },
     "metadata": {},
     "output_type": "display_data"
    }
   ],
   "source": [
    "# Run me to load the spreadsheet lab03_1.csv with pre-specified columns t10 and t20\n",
    "de1 = data_entry2.sheet(\"lab03_1\")"
   ]
  },
  {
   "cell_type": "code",
   "execution_count": 3,
   "id": "7d9b1e93-dfe3-4a1b-bed5-4bcff2f1c49f",
   "metadata": {},
   "outputs": [],
   "source": [
    "# Use this cell for analysis. Add additional cells as needed\n",
    "\n"
   ]
  },
  {
   "cell_type": "markdown",
   "id": "eb2464f1-4cb9-45fa-a271-8a02467149c8",
   "metadata": {},
   "source": [
    "### Part C.2 - COMPARE, SUMMARIZE & REFLECT"
   ]
  },
  {
   "cell_type": "code",
   "execution_count": 4,
   "id": "bcf18c32-b639-4791-9ebf-4071f65a9718",
   "metadata": {},
   "outputs": [],
   "source": [
    "# Use this cell for your quantitative comparison between your periods at 10° and 20°\n",
    "\n"
   ]
  },
  {
   "cell_type": "markdown",
   "id": "45ae3def-3190-4cab-a047-cdff4faa4237",
   "metadata": {},
   "source": [
    "*Interpret your quantitative comparison, summarize discussions with others, and reflect on your results*"
   ]
  },
  {
   "cell_type": "markdown",
   "id": "435db9e5-18ca-406e-a16d-5552a04c4186",
   "metadata": {},
   "source": [
    "## Part D  - Your second round data cycle"
   ]
  },
  {
   "cell_type": "markdown",
   "id": "87664e3a-f390-4a0e-8ffa-42ac75d6fde0",
   "metadata": {},
   "source": []
  },
  {
   "cell_type": "code",
   "execution_count": 5,
   "id": "ff804722-ef1f-4b8e-9620-39a53da1ef5c",
   "metadata": {},
   "outputs": [],
   "source": [
    "# Load a new blank spreadsheet for second-round data collection\n",
    "\n",
    "de2 = data_entry2.sheet(\"lab03_2\")"
   ]
  },
  {
   "cell_type": "code",
   "execution_count": 7,
   "id": "22c71bdf-2990-4fe8-9fd1-fdd0047f8d04",
   "metadata": {},
   "outputs": [],
   "source": [
    "# Analysis. Add more cells as needed\n",
    "\n"
   ]
  },
  {
   "cell_type": "markdown",
   "id": "edc6375a-7314-49b7-8186-58bde359b130",
   "metadata": {},
   "source": []
  },
  {
   "cell_type": "markdown",
   "id": "7df7ff5a-0df9-4085-a91e-6d98e4b8d5be",
   "metadata": {},
   "source": [
    "## Complete your summary of results, and submit"
   ]
  },
  {
   "cell_type": "markdown",
   "id": "8778f9ab-d956-4dfa-9319-daa7fa4611ea",
   "metadata": {},
   "source": []
  },
  {
   "cell_type": "markdown",
   "id": "28df5d2b-5cb5-4ae4-aceb-ad6c1809c9b0",
   "metadata": {},
   "source": []
  },
  {
   "cell_type": "markdown",
   "id": "818f2cae-2811-4d42-8a06-9a1ba2a26da1",
   "metadata": {},
   "source": [
    "# Submit\n",
    "\n",
    "Steps for submission:\n",
    "\n",
    "1. Click: Run => Run_All_Cells\n",
    "2. Read through the notebook to ensure all the cells executed correctly and without error.\n",
    "3. Correct any errors you find.\n",
    "4. File => Save_and_Export_Notebook_As->HTML\n",
    "5. Upload the HTML document to the lab submission assignment on Canvas."
   ]
  },
  {
   "cell_type": "code",
   "execution_count": null,
   "id": "645481c6-3c5c-4813-80a3-7a242297fbba",
   "metadata": {},
   "outputs": [],
   "source": [
    "# trick to display tables in html output\n",
    "display_sheets()"
   ]
  }
 ],
 "metadata": {
  "kernelspec": {
   "display_name": "Python 3 (ipykernel)",
   "language": "python",
   "name": "python3"
  },
  "language_info": {
   "codemirror_mode": {
    "name": "ipython",
    "version": 3
   },
   "file_extension": ".py",
   "mimetype": "text/x-python",
   "name": "python",
   "nbconvert_exporter": "python",
   "pygments_lexer": "ipython3",
   "version": "3.10.10"
  },
  "widgets": {
   "application/vnd.jupyter.widget-state+json": {
    "state": {
     "0325399fbb8c4e529cf99f8c9d867cbc": {
      "model_module": "@jupyter-widgets/controls",
      "model_module_version": "2.0.0",
      "model_name": "ButtonModel",
      "state": {
       "description": "Add Row",
       "layout": "IPY_MODEL_7774f602339f4bb9852be4c1d7cf6bee",
       "style": "IPY_MODEL_2b8187550c8c41efab5e2ba3ada524b2",
       "tooltip": null
      }
     },
     "196fb7c848284efab26caec5808069ed": {
      "model_module": "@jupyter-widgets/controls",
      "model_module_version": "2.0.0",
      "model_name": "HBoxModel",
      "state": {
       "children": [
        "IPY_MODEL_2acb0e0d105a47b59e33fe14911d1d64",
        "IPY_MODEL_22ed305b429e4075a89a5eab31b26c88",
        "IPY_MODEL_0325399fbb8c4e529cf99f8c9d867cbc",
        "IPY_MODEL_85e230fed02d465cb5e7d70b6e730ba1",
        "IPY_MODEL_7eaa3d4559e849eaafa34a64084fcc75"
       ],
       "layout": "IPY_MODEL_48f7298f0dfc4bf793fd13ed7437d6d1"
      }
     },
     "22ed305b429e4075a89a5eab31b26c88": {
      "model_module": "@jupyter-widgets/controls",
      "model_module_version": "2.0.0",
      "model_name": "ButtonModel",
      "state": {
       "description": "Redo",
       "layout": "IPY_MODEL_691d73b870ab48468cbde9166e071f59",
       "style": "IPY_MODEL_a30f895463504024840522389f9a0b05",
       "tooltip": null
      }
     },
     "2acb0e0d105a47b59e33fe14911d1d64": {
      "model_module": "@jupyter-widgets/controls",
      "model_module_version": "2.0.0",
      "model_name": "ButtonModel",
      "state": {
       "description": "Undo",
       "layout": "IPY_MODEL_b0ec861c400144c18fbd326c7098c92a",
       "style": "IPY_MODEL_d1f28eca3535461b8d57ad7a0e0f65bf",
       "tooltip": null
      }
     },
     "2b8187550c8c41efab5e2ba3ada524b2": {
      "model_module": "@jupyter-widgets/controls",
      "model_module_version": "2.0.0",
      "model_name": "ButtonStyleModel",
      "state": {
       "font_family": null,
       "font_size": null,
       "font_style": null,
       "font_variant": null,
       "font_weight": null,
       "text_color": null,
       "text_decoration": null
      }
     },
     "2c56ac5345054d1ba3f7e627ef53b4d2": {
      "model_module": "@jupyter-widgets/base",
      "model_module_version": "2.0.0",
      "model_name": "LayoutModel",
      "state": {}
     },
     "37fe5088372243eaae974d2a99287087": {
      "model_module": "@jupyter-widgets/controls",
      "model_module_version": "2.0.0",
      "model_name": "ButtonStyleModel",
      "state": {
       "font_family": null,
       "font_size": null,
       "font_style": null,
       "font_variant": null,
       "font_weight": null,
       "text_color": null,
       "text_decoration": null
      }
     },
     "48f7298f0dfc4bf793fd13ed7437d6d1": {
      "model_module": "@jupyter-widgets/base",
      "model_module_version": "2.0.0",
      "model_name": "LayoutModel",
      "state": {}
     },
     "68a8a00b76a1415b930c6bda1efd2ad9": {
      "model_module": "@jupyter-widgets/base",
      "model_module_version": "2.0.0",
      "model_name": "LayoutModel",
      "state": {
       "height": "130px"
      }
     },
     "691d73b870ab48468cbde9166e071f59": {
      "model_module": "@jupyter-widgets/base",
      "model_module_version": "2.0.0",
      "model_name": "LayoutModel",
      "state": {}
     },
     "7774f602339f4bb9852be4c1d7cf6bee": {
      "model_module": "@jupyter-widgets/base",
      "model_module_version": "2.0.0",
      "model_name": "LayoutModel",
      "state": {}
     },
     "7bb55b47855e482eac9272656165d008": {
      "model_module": "ipydatagrid",
      "model_module_version": "1.1.16",
      "model_name": "TextRendererModel",
      "state": {
       "background_color": "IPY_MODEL_ecd49afcdf7d48e1ba2915392d46a6ad",
       "text_color": "IPY_MODEL_a2152a60369741d68e4c64cbff003056"
      }
     },
     "7eaa3d4559e849eaafa34a64084fcc75": {
      "model_module": "@jupyter-widgets/controls",
      "model_module_version": "2.0.0",
      "model_name": "ButtonModel",
      "state": {
       "description": "Generate Vectors",
       "layout": "IPY_MODEL_f0a9fb22e81d44158594d3bcd69921be",
       "style": "IPY_MODEL_daab2f7fc09340dc8ddd9360ee5db5bc",
       "tooltip": null
      }
     },
     "85e230fed02d465cb5e7d70b6e730ba1": {
      "model_module": "@jupyter-widgets/controls",
      "model_module_version": "2.0.0",
      "model_name": "ButtonModel",
      "state": {
       "description": "Add Column",
       "layout": "IPY_MODEL_d0347ba54e7d4400b2c650929dfec42d",
       "style": "IPY_MODEL_37fe5088372243eaae974d2a99287087",
       "tooltip": null
      }
     },
     "9ec4e30d9a5147c38126d213b2761eee": {
      "model_module": "@jupyter-widgets/controls",
      "model_module_version": "2.0.0",
      "model_name": "VBoxModel",
      "state": {
       "children": [
        "IPY_MODEL_196fb7c848284efab26caec5808069ed",
        "IPY_MODEL_ad6f40f8a2b84d92b183156338904ccf",
        "IPY_MODEL_f07782633fea40288f65dda7e174f291"
       ],
       "layout": "IPY_MODEL_b38487157b564ed19a35b5356cbf3115"
      }
     },
     "a2152a60369741d68e4c64cbff003056": {
      "model_module": "ipydatagrid",
      "model_module_version": "1.1.16",
      "model_name": "VegaExprModel",
      "state": {
       "_view_module": "ipydatagrid",
       "_view_module_version": "1.1.16",
       "_view_name": "VegaExprView"
      }
     },
     "a30f895463504024840522389f9a0b05": {
      "model_module": "@jupyter-widgets/controls",
      "model_module_version": "2.0.0",
      "model_name": "ButtonStyleModel",
      "state": {
       "font_family": null,
       "font_size": null,
       "font_style": null,
       "font_variant": null,
       "font_weight": null,
       "text_color": null,
       "text_decoration": null
      }
     },
     "ad598f41d7d0472fa60e967822efd76e": {
      "model_module": "@jupyter-widgets/base",
      "model_module_version": "2.0.0",
      "model_name": "LayoutModel",
      "state": {}
     },
     "ad6f40f8a2b84d92b183156338904ccf": {
      "model_module": "ipydatagrid",
      "model_module_version": "1.1.16",
      "model_name": "DataGridModel",
      "state": {
       "_data": {
        "data": [
         {
          "0": "t10",
          "1": "t20",
          "ipydguuid": 0,
          "key": "  Variable:"
         },
         {
          "0": "s",
          "1": "s",
          "ipydguuid": 1,
          "key": " Units:"
         },
         {
          "0": "",
          "1": "",
          "ipydguuid": 2,
          "key": 0
         },
         {
          "0": "",
          "1": "",
          "ipydguuid": 3,
          "key": 1
         }
        ],
        "fields": [
         {
          "key": null
         },
         {
          "0": null
         },
         {
          "1": null
         },
         {
          "ipydguuid": null
         }
        ],
        "schema": {
         "fields": [
          {
           "name": "key",
           "type": "string"
          },
          {
           "name": 0,
           "type": "string"
          },
          {
           "name": 1,
           "type": "string"
          },
          {
           "name": "ipydguuid",
           "type": "integer"
          }
         ],
         "pandas_version": "1.4.0",
         "primaryKey": [
          "key",
          "ipydguuid"
         ],
         "primaryKeyUuid": "ipydguuid"
        }
       },
       "_model_name": "DataGridModel",
       "auto_fit_columns": false,
       "auto_fit_params": {
        "area": "all",
        "numCols": null,
        "padding": 30
       },
       "base_column_header_size": 20,
       "base_column_size": 64,
       "base_row_header_size": 64,
       "base_row_size": 20,
       "default_renderer": "IPY_MODEL_7bb55b47855e482eac9272656165d008",
       "editable": true,
       "header_visibility": "all",
       "layout": "IPY_MODEL_68a8a00b76a1415b930c6bda1efd2ad9",
       "selection_mode": "cell"
      }
     },
     "b0ec861c400144c18fbd326c7098c92a": {
      "model_module": "@jupyter-widgets/base",
      "model_module_version": "2.0.0",
      "model_name": "LayoutModel",
      "state": {}
     },
     "b38487157b564ed19a35b5356cbf3115": {
      "model_module": "@jupyter-widgets/base",
      "model_module_version": "2.0.0",
      "model_name": "LayoutModel",
      "state": {}
     },
     "d0347ba54e7d4400b2c650929dfec42d": {
      "model_module": "@jupyter-widgets/base",
      "model_module_version": "2.0.0",
      "model_name": "LayoutModel",
      "state": {}
     },
     "d1f28eca3535461b8d57ad7a0e0f65bf": {
      "model_module": "@jupyter-widgets/controls",
      "model_module_version": "2.0.0",
      "model_name": "ButtonStyleModel",
      "state": {
       "font_family": null,
       "font_size": null,
       "font_style": null,
       "font_variant": null,
       "font_weight": null,
       "text_color": null,
       "text_decoration": null
      }
     },
     "daab2f7fc09340dc8ddd9360ee5db5bc": {
      "model_module": "@jupyter-widgets/controls",
      "model_module_version": "2.0.0",
      "model_name": "ButtonStyleModel",
      "state": {
       "font_family": null,
       "font_size": null,
       "font_style": null,
       "font_variant": null,
       "font_weight": null,
       "text_color": null,
       "text_decoration": null
      }
     },
     "ecd49afcdf7d48e1ba2915392d46a6ad": {
      "model_module": "ipydatagrid",
      "model_module_version": "1.1.16",
      "model_name": "VegaExprModel",
      "state": {
       "_view_module": "ipydatagrid",
       "_view_module_version": "1.1.16",
       "_view_name": "VegaExprView"
      }
     },
     "f07782633fea40288f65dda7e174f291": {
      "model_module": "@jupyter-widgets/output",
      "model_module_version": "1.0.0",
      "model_name": "OutputModel",
      "state": {
       "layout": "IPY_MODEL_ad598f41d7d0472fa60e967822efd76e"
      }
     },
     "f0a9fb22e81d44158594d3bcd69921be": {
      "model_module": "@jupyter-widgets/base",
      "model_module_version": "2.0.0",
      "model_name": "LayoutModel",
      "state": {}
     }
    },
    "version_major": 2,
    "version_minor": 0
   }
  }
 },
 "nbformat": 4,
 "nbformat_minor": 5
}
