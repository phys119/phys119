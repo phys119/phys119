{
 "cells": [
  {
   "attachments": {},
   "cell_type": "markdown",
   "id": "c0a76f2d-ef0a-4eee-9411-c124f1e08887",
   "metadata": {},
   "source": [
    "# Lab 06 Prelab - A review of residuals and fitting"
   ]
  },
  {
   "cell_type": "code",
   "execution_count": 1,
   "id": "1b294a4c-e07a-43e6-b6e9-de737f89c959",
   "metadata": {},
   "outputs": [],
   "source": [
    "%reset -f\n",
    "import data_entry2\n",
    "import numpy as np\n",
    "import matplotlib.pyplot as plt"
   ]
  },
  {
   "attachments": {},
   "cell_type": "markdown",
   "id": "b1c7e749-6d19-48d1-a16a-05da741efad5",
   "metadata": {},
   "source": [
    "This prelab focuses on revisting and reinforcing concepts from Lab 05. We start with a review of residual plots."
   ]
  },
  {
   "attachments": {},
   "cell_type": "markdown",
   "id": "b692a95b-892b-4b2f-bd5a-f0e39d5a3f98",
   "metadata": {
    "tags": []
   },
   "source": [
    "## Review: How to read residuals"
   ]
  },
  {
   "attachments": {},
   "cell_type": "markdown",
   "id": "41d4bf3d-1d4a-40f3-b2d0-93308f296326",
   "metadata": {},
   "source": [
    "**Your turn #1a:** Given experimental data and a model for that data, what is a residual?"
   ]
  },
  {
   "attachments": {},
   "cell_type": "markdown",
   "id": "363e57f7-4fc5-4f76-91c2-0d70bf4da8e7",
   "metadata": {},
   "source": []
  },
  {
   "attachments": {},
   "cell_type": "markdown",
   "id": "8da66fa7-4e33-439b-b45a-2a351a589242",
   "metadata": {},
   "source": [
    "**Your turn #1b:** What are the properties of a residual plot that inform us that the model is a good fit to the data?"
   ]
  },
  {
   "attachments": {},
   "cell_type": "markdown",
   "id": "8da6fda0-d830-4cb4-bd0e-6ad8ad148363",
   "metadata": {},
   "source": []
  },
  {
   "attachments": {},
   "cell_type": "markdown",
   "id": "7549b6de-1d02-48d6-b146-f0f1288bc4e5",
   "metadata": {
    "jp-MarkdownHeadingCollapsed": true,
    "tags": []
   },
   "source": [
    "##### **Answer for #1a:**"
   ]
  },
  {
   "attachments": {},
   "cell_type": "markdown",
   "id": "972fe2f5-6877-4274-9626-cec7dbceb3f3",
   "metadata": {},
   "source": [
    "A residual is defined as the difference between experimental data and a model, i.e., $r_i = y_i - \\text{model}(x_i)$ or $r_i = y_i - f(x_i)$."
   ]
  },
  {
   "attachments": {},
   "cell_type": "markdown",
   "id": "58c9b12a-6304-495f-965d-27d5331160b9",
   "metadata": {
    "jp-MarkdownHeadingCollapsed": true,
    "tags": []
   },
   "source": [
    "##### **Answer for #1b:**"
   ]
  },
  {
   "attachments": {},
   "cell_type": "markdown",
   "id": "254156ce-7308-4af7-b048-430ce9b69622",
   "metadata": {},
   "source": [
    "A model that is a good fit to the data will have a residual plot with:<font>\n",
    "- No obvious trend\n",
    "- A roughly equal scatter of points across the x-axis (x = 0)\n",
    "- And if the uncertainties are well characterized, we will also see\n",
    "    + Roughly ~68% of error bars crossing the x-axis\n",
    "    + Roughly all (~95%) of doubled error bars crossing the x-axis"
   ]
  },
  {
   "attachments": {},
   "cell_type": "markdown",
   "id": "6390dd02-f08d-4252-bb0a-d5f385ce7fc9",
   "metadata": {
    "tags": []
   },
   "source": [
    "## Diagnosing model fits using residuals"
   ]
  },
  {
   "attachments": {},
   "cell_type": "markdown",
   "id": "aaf4324a-09c6-4130-b704-29127f256c2b",
   "metadata": {},
   "source": [
    "Now that we have reminded ourselves of how to use residuals to diagnose the goodness of fit of a model to a given set of experimental data, let's use these criteria to diagnose some fits. Below, we have three data sets to which we have tried to fit the model of a straight line with intercept; $y_{\\text{model}} = mx + b$. By running the code cells below, we can plot the three data sets with the model, as well as the subsequent residual plot. \n",
    "\n",
    "For each of the three datasets, point out any features of the residual plot that may indicate that there is a problem of the model fit to the data. Explain what should be changed about the model. Finally, go into the code cell and modify the model according to the diagnosis, until the residual plot indicates that the model is a good fit to the data, as per the criteria discussed in question 1."
   ]
  },
  {
   "cell_type": "code",
   "execution_count": 9,
   "id": "06a9ffbc-a740-4bc5-bc71-1a4c1bcfdaa1",
   "metadata": {},
   "outputs": [
    {
     "name": "stdout",
     "output_type": "stream",
     "text": [
      "Sheet name: lab06_prelab_data.csv\n"
     ]
    },
    {
     "data": {
      "application/vnd.jupyter.widget-view+json": {
       "model_id": "34ea15ec8a1d451f83fe1ead0d65d276",
       "version_major": 2,
       "version_minor": 0
      },
      "text/plain": [
       "VBox(children=(HBox(children=(Button(description='Undo', style=ButtonStyle()), Button(description='Redo', styl…"
      ]
     },
     "metadata": {},
     "output_type": "display_data"
    }
   ],
   "source": [
    "# Run me to load our three data sets\n",
    "# Make sure to hit the \"Generate Vectors\" button!\n",
    "\n",
    "de1 = data_entry2.sheet(\"lab06_prelab_data.csv\")"
   ]
  },
  {
   "attachments": {},
   "cell_type": "markdown",
   "id": "f8709fc8-68e5-43d3-9603-50b5479709af",
   "metadata": {
    "tags": []
   },
   "source": [
    "### Your turn #2 (Dataset 1)\n",
    "\n",
    "View and interact with the plots below to answer the following questions."
   ]
  },
  {
   "attachments": {},
   "cell_type": "markdown",
   "id": "11a6012a-3e0c-4f2b-b03d-3c4015a14375",
   "metadata": {},
   "source": [
    "**Your turn #2a:** Which feature(s) of the residuals plot below indicates a problem with the fit of the model to the data?"
   ]
  },
  {
   "attachments": {},
   "cell_type": "markdown",
   "id": "c553ab4b-faa9-427a-9c3a-53d3fbc063d0",
   "metadata": {},
   "source": []
  },
  {
   "attachments": {},
   "cell_type": "markdown",
   "id": "4a62d3da-ca26-4c3d-9287-d7c20edfefe0",
   "metadata": {},
   "source": [
    "**Your turn #2b:** What should be changed about the model?"
   ]
  },
  {
   "attachments": {},
   "cell_type": "markdown",
   "id": "1c0a7ca6-c813-4dd8-94f0-372f6a2d021b",
   "metadata": {},
   "source": []
  },
  {
   "attachments": {},
   "cell_type": "markdown",
   "id": "4bf44dc4-9375-4da6-abed-b41dd0111c46",
   "metadata": {},
   "source": [
    "**Your turn #2c:** Change the model in the code cell (in the area specified) until the residuals indicate the model is a good fit. What are your new slope and/or y-intercept?"
   ]
  },
  {
   "attachments": {},
   "cell_type": "markdown",
   "id": "e4cbb0d3-ac8f-4256-8092-92196f0ba8ac",
   "metadata": {},
   "source": []
  },
  {
   "attachments": {},
   "cell_type": "markdown",
   "id": "abc01138-0e86-42e0-81f8-4c25039a3d15",
   "metadata": {
    "jp-MarkdownHeadingCollapsed": true,
    "tags": []
   },
   "source": [
    "##### **Answer #2a**"
   ]
  },
  {
   "attachments": {},
   "cell_type": "markdown",
   "id": "23af65be-6850-40d2-9625-a1dab9e21be4",
   "metadata": {},
   "source": [
    "We see a trend in the residuals where all of the residuals are negative, lying below the residuals = 0 line."
   ]
  },
  {
   "attachments": {},
   "cell_type": "markdown",
   "id": "c35a95b1-8aa2-4605-aa84-74e88f723207",
   "metadata": {
    "jp-MarkdownHeadingCollapsed": true,
    "tags": []
   },
   "source": [
    "##### **Answer #2b**"
   ]
  },
  {
   "attachments": {},
   "cell_type": "markdown",
   "id": "ed12cab0-f091-4b12-81a8-beebfdd1cccb",
   "metadata": {},
   "source": [
    "The y-intercept of the model is too large, so we should decrease it."
   ]
  },
  {
   "attachments": {},
   "cell_type": "markdown",
   "id": "a6f132e8-2472-40d0-a27a-a2862ef59d55",
   "metadata": {
    "jp-MarkdownHeadingCollapsed": true,
    "tags": []
   },
   "source": [
    "##### **Answer #2c:**"
   ]
  },
  {
   "attachments": {},
   "cell_type": "markdown",
   "id": "5af39d3f-d813-43c9-8dc0-34826f509322",
   "metadata": {},
   "source": [
    "Changing the intercept from 1.1 to 1 in the code improves the model in the desired fashion."
   ]
  },
  {
   "attachments": {},
   "cell_type": "markdown",
   "id": "4db438c9-a709-4cc0-9f46-9638e8f2b8f0",
   "metadata": {},
   "source": [
    "##### **Cell to generate plots for data set 1**"
   ]
  },
  {
   "cell_type": "code",
   "execution_count": 3,
   "id": "f3c8fc5f-583c-4a57-bb9c-81c2b76e83ea",
   "metadata": {},
   "outputs": [
    {
     "data": {
      "image/png": "[encoded data removed]",
      "text/plain": [
       "<Figure size 640x480 with 1 Axes>"
      ]
     },
     "metadata": {},
     "output_type": "display_data"
    },
    {
     "data": {
      "image/png": "[encoded data removed]",
      "text/plain": [
       "<Figure size 640x480 with 1 Axes>"
      ]
     },
     "metadata": {},
     "output_type": "display_data"
    }
   ],
   "source": [
    "# Run me to make an initial set of plots, to be modified to answer #2c above.\n",
    "\n",
    "# Scatter step 1: Define the variables we will be plotting, as well as labels and titles\n",
    "# Plotting variables\n",
    "xdata = xVec\n",
    "ydata = y1Vec\n",
    "dydata = dy1Vec\n",
    "\n",
    "# Labels and titles\n",
    "data_label = \"Experimental data\"\n",
    "model_label = \"y = mx + b\"\n",
    "graph_title = \"Data set 1\"\n",
    "x_label = \"x(s)\"\n",
    "y_label = \"y(m)\"\n",
    "residuals_title = \"Residuals for Data set 1\"\n",
    "residuals_y_label = \"Residual = data - model (m)\"\n",
    "\n",
    "# Model parameters\n",
    "#################################### MODIFY THIS PART ###########################################\n",
    "slope = 1 # Estimate of the slope\n",
    "intercept = 1.1  # Estimate of the y-intercept\n",
    "#################################################################################################\n",
    "\n",
    "\n",
    "# Scatter step 2: find the limits of the data:\n",
    "xmin = np.min(xdata) # use the np.min function to find the smallest x-value\n",
    "xmax = np.max(xdata) # same for max\n",
    "# print (xmin, xmax)  # uncomment to see what the limits are\n",
    "\n",
    "# Scatter step 3: generate a bunch of x points between xmin and xmax to help us plot the model line\n",
    "xpoints = np.linspace(xmin, xmax, 200) # gives 200 evenly spaced points between xmin and xmax\n",
    "# print(xpoints) # uncomment to see the x values that were generated.\n",
    "\n",
    "# Scatter step 4: calculate the model values:\n",
    "ypoints = xpoints * slope + intercept # this calculates the yvalues at all 200 points.\n",
    "\n",
    "# Scatter step 5: plot the model line. We plot this as a red line \"r-\" :\n",
    "plt.plot(xpoints, ypoints, \"r-\", label = model_label)\n",
    "\n",
    "# Scatter step 6: Plot the data, with the previous details from before\n",
    "plt.errorbar(xdata, ydata, dydata, fmt=\"bo\", markersize = 3, label=data_label)\n",
    "plt.title(graph_title)\n",
    "plt.xlabel(x_label)\n",
    "plt.ylabel(y_label)\n",
    "plt.legend()\n",
    "plt.show()\n",
    "\n",
    "# Residuals step 1: Calculate the model prediction for each our data points from dxVec\n",
    "ymodel = slope * xdata + intercept # y = mx + b\n",
    "\n",
    "# Residuals step 2: Calcualte the residuals vector\n",
    "residualsVec = ydata - ymodel\n",
    "\n",
    "# Residuals step 3: Plot the residuals vector against the x-data vector\n",
    "plt.errorbar(xdata, residualsVec, dydata, fmt=\"bo\", markersize = 3)\n",
    "\n",
    "# Residuals step 4: Add a horizontal line at R=0 to the plot\n",
    "plt.hlines(y=0, xmin=xmin, xmax=xmax, color='k') # draw a black line at y = 0.\n",
    "\n",
    "# Residuals step 5: Add axis labels and title, and show the graph\n",
    "plt.title(residuals_title)\n",
    "plt.xlabel(x_label)\n",
    "plt.ylabel(residuals_y_label)\n",
    "plt.show()"
   ]
  },
  {
   "attachments": {},
   "cell_type": "markdown",
   "id": "febd32d4-92ee-486d-85f4-67b12ba78fcc",
   "metadata": {
    "tags": []
   },
   "source": [
    "### Your turn #3 (Dataset 2)\n",
    "\n",
    "View and interact with the plots below to answer the following questions."
   ]
  },
  {
   "attachments": {},
   "cell_type": "markdown",
   "id": "6472236c-87c2-4b3f-a933-342ebbcb1126",
   "metadata": {},
   "source": [
    "**Your turn #3a:** Which feature(s) of the residuals plot below indicates a problem with the fit of the model to the data?"
   ]
  },
  {
   "attachments": {},
   "cell_type": "markdown",
   "id": "e9440bce-a74f-4360-8d15-576c96769641",
   "metadata": {},
   "source": []
  },
  {
   "attachments": {},
   "cell_type": "markdown",
   "id": "15089a78-0d3f-4a35-bee3-f9b58f51715d",
   "metadata": {},
   "source": [
    "**Your turn #3b:** What should be changed about the model?"
   ]
  },
  {
   "attachments": {},
   "cell_type": "markdown",
   "id": "165f2f00-b2a2-493a-89bc-15b539083d78",
   "metadata": {},
   "source": []
  },
  {
   "attachments": {},
   "cell_type": "markdown",
   "id": "4f60430c-b674-48e5-a9f0-777eae810939",
   "metadata": {},
   "source": [
    "**Your turn #3c:** Change the model in the code cell (in the area specified) until the residuals indicate the model is a good fit. What are your new slope and/or y-intercept?"
   ]
  },
  {
   "attachments": {},
   "cell_type": "markdown",
   "id": "bf9941ec-d9de-4724-8753-17fe543858a4",
   "metadata": {},
   "source": []
  },
  {
   "attachments": {},
   "cell_type": "markdown",
   "id": "effa081f-9c4c-4e61-b326-e0c58d2447f2",
   "metadata": {
    "jp-MarkdownHeadingCollapsed": true,
    "tags": []
   },
   "source": [
    "##### **Answer #3a**"
   ]
  },
  {
   "attachments": {},
   "cell_type": "markdown",
   "id": "0978ec6a-10ca-4bcd-99f3-a8c53c816d29",
   "metadata": {},
   "source": [
    "We see an (upwards) linear trend in the residuals plot."
   ]
  },
  {
   "attachments": {},
   "cell_type": "markdown",
   "id": "7a0ac048-77fe-4ec2-961a-f0e91a5789c2",
   "metadata": {
    "jp-MarkdownHeadingCollapsed": true,
    "tags": []
   },
   "source": [
    "##### **Answer #3b**"
   ]
  },
  {
   "attachments": {},
   "cell_type": "markdown",
   "id": "52e7ca85-d096-4c39-a8a6-eaf27bcfe7b4",
   "metadata": {},
   "source": [
    "The slope of the model is too small, so we should increase it."
   ]
  },
  {
   "attachments": {},
   "cell_type": "markdown",
   "id": "c4bec1cd-09e3-4e65-bfa9-dd783113c91d",
   "metadata": {
    "jp-MarkdownHeadingCollapsed": true,
    "tags": []
   },
   "source": [
    "##### **Answer #3c**"
   ]
  },
  {
   "attachments": {},
   "cell_type": "markdown",
   "id": "fb104d65-9be7-4a93-8a35-3bbe8256fbf4",
   "metadata": {},
   "source": [
    "Changing the slope from 1.9 to 2 in the code improves the model in the desired fashion."
   ]
  },
  {
   "attachments": {},
   "cell_type": "markdown",
   "id": "e1abfbca-ae28-4900-b600-4a3c4fe46e6a",
   "metadata": {},
   "source": [
    "##### **Cell to generate plots for data set 2**"
   ]
  },
  {
   "cell_type": "code",
   "execution_count": 4,
   "id": "e294ab89-b070-4cb1-8e7d-2d8d631af25e",
   "metadata": {},
   "outputs": [
    {
     "data": {
      "image/png": "[encoded data removed]",
      "text/plain": [
       "<Figure size 640x480 with 1 Axes>"
      ]
     },
     "metadata": {},
     "output_type": "display_data"
    },
    {
     "data": {
      "image/png": "[encoded data removed]",
      "text/plain": [
       "<Figure size 640x480 with 1 Axes>"
      ]
     },
     "metadata": {},
     "output_type": "display_data"
    }
   ],
   "source": [
    "# Run me to make an initial set of plots, to be modified to answer #3c above.\n",
    "\n",
    "# Scatter step 1: Define the variables we will be plotting, as well as labels and titles\n",
    "# Plotting variables\n",
    "xdata = xVec\n",
    "ydata = y2Vec\n",
    "dydata = dy2Vec\n",
    "\n",
    "# Labels and titles\n",
    "data_label = \"Experimental data\"\n",
    "model_label = \"y = mx + b\"\n",
    "graph_title = \"Data set 2\"\n",
    "x_label = \"x(s)\"\n",
    "y_label = \"y(m)\"\n",
    "residuals_title = \"Residuals for Data set 2\"\n",
    "residuals_y_label = \"Residual = data - model (m)\"\n",
    "\n",
    "# Model parameters\n",
    "#################################### MODIFY THIS PART ###########################################\n",
    "slope = 1.9 # Estimate of the slope\n",
    "intercept = 3 # Estimate of the y-intercept\n",
    "#################################################################################################\n",
    "\n",
    "\n",
    "# Scatter step 2: find the limits of the data:\n",
    "xmin = np.min(xdata) # use the np.min function to find the smallest x-value\n",
    "xmax = np.max(xdata) # same for max\n",
    "# print (xmin, xmax)  # uncomment to see what the limits are\n",
    "\n",
    "# Scatter step 3: generate a bunch of x points between xmin and xmax to help us plot the model line\n",
    "xpoints = np.linspace(xmin, xmax, 200) # gives 200 evenly spaced points between xmin and xmax\n",
    "# print(xpoints) # uncomment to see the x values that were generated.\n",
    "\n",
    "# Scatter step 4: calculate the model values:\n",
    "ypoints = xpoints * slope + intercept # this calculates the yvalues at all 200 points.\n",
    "\n",
    "# Scatter step 5: plot the model line. We plot this as a red line \"r-\" :\n",
    "plt.plot(xpoints, ypoints, \"r-\", label = model_label)\n",
    "\n",
    "# Scatter step 6: Plot the data, with the previous details from before\n",
    "plt.errorbar(xdata, ydata, dydata, fmt=\"bo\", markersize = 3, label=data_label)\n",
    "plt.title(graph_title)\n",
    "plt.xlabel(x_label)\n",
    "plt.ylabel(y_label)\n",
    "plt.legend()\n",
    "plt.show()\n",
    "\n",
    "# Residuals step 1: Calculate the model prediction for each our data points from dxVec\n",
    "ymodel = slope * xdata + intercept # y = mx + b\n",
    "\n",
    "# Residuals step 2: Calcualte the residuals vector\n",
    "residualsVec = ydata - ymodel\n",
    "\n",
    "# Residuals step 3: Plot the residuals vector against the x-data vector\n",
    "plt.errorbar(xdata, residualsVec, dydata, fmt=\"bo\", markersize = 3)\n",
    "\n",
    "# Residuals step 4: Add a horizontal line at R=0 to the plot\n",
    "plt.hlines(y=0, xmin=xmin, xmax=xmax, color='k') # draw a black line at y = 0.\n",
    "\n",
    "# Residuals step 5: Add axis labels and title, and show the graph\n",
    "plt.title(residuals_title)\n",
    "plt.xlabel(x_label)\n",
    "plt.ylabel(residuals_y_label)\n",
    "plt.show()"
   ]
  },
  {
   "attachments": {},
   "cell_type": "markdown",
   "id": "e4d4c4f0-d1db-4d62-b277-09ffbc27d0e3",
   "metadata": {
    "tags": []
   },
   "source": [
    "### Your turn #4 (Data set 3)"
   ]
  },
  {
   "attachments": {},
   "cell_type": "markdown",
   "id": "df62bd41-7618-4522-8faf-b7c4557fc9d5",
   "metadata": {},
   "source": [
    "_Note:_ For this data set, the issue with the model is a bit harder to fix compared to the other two examples; for this part it is alright to skip the step of fixing the model in the code, and just comment on what appears to be wrong and how one could feasibly improve the fit of the model to the data (though we welcome the initiative to try to fix the model in the code, as well!)"
   ]
  },
  {
   "attachments": {},
   "cell_type": "markdown",
   "id": "f79b845f-3ee1-42b5-80bc-8dce41c7d4d6",
   "metadata": {},
   "source": [
    "**Your turn #4a:** Which feature(s) of the residuals plot below indicates a problem with the fit of the model to the data?"
   ]
  },
  {
   "attachments": {},
   "cell_type": "markdown",
   "id": "0c4145e1-2908-427e-9831-1750f10fffe7",
   "metadata": {},
   "source": []
  },
  {
   "attachments": {},
   "cell_type": "markdown",
   "id": "5706a279-f9ba-4aca-a23b-06c2a2ec90e0",
   "metadata": {},
   "source": [
    "**Your turn #4b:** What should be changed about the model?"
   ]
  },
  {
   "attachments": {},
   "cell_type": "markdown",
   "id": "a397c59b-4b81-4837-9e16-3316156bcb09",
   "metadata": {},
   "source": []
  },
  {
   "attachments": {},
   "cell_type": "markdown",
   "id": "46bda486-e9ba-43e3-aa07-1757529ca91f",
   "metadata": {},
   "source": [
    "**Your turn #4c (optional):** Change the model in the code cell (in the THREE AREAS specified) until the residuals indicate the model is a good fit. Note that for this question the model is harder to fix in the code compared to the previous two questions; it is therefore a bonus for those who really want to put their python-model-fixing skills to the test. How did you need to adjust your model to make a good fit?"
   ]
  },
  {
   "attachments": {},
   "cell_type": "markdown",
   "id": "3e13fb8a-cc2a-41f7-9caf-48ae9baa7905",
   "metadata": {},
   "source": []
  },
  {
   "attachments": {},
   "cell_type": "markdown",
   "id": "ebd4624f-c853-4189-932a-0165d04b5e9e",
   "metadata": {
    "jp-MarkdownHeadingCollapsed": true,
    "tags": []
   },
   "source": [
    "##### **Answer #4a**"
   ]
  },
  {
   "attachments": {},
   "cell_type": "markdown",
   "id": "b3a0365c-af80-4085-b1cc-c39d70062a01",
   "metadata": {},
   "source": [
    "We notice from the residuals plot that there is a upwards parabolic trend."
   ]
  },
  {
   "attachments": {},
   "cell_type": "markdown",
   "id": "f7264770-baf9-4af8-9087-30f4471585fd",
   "metadata": {
    "jp-MarkdownHeadingCollapsed": true,
    "tags": []
   },
   "source": [
    "##### **Answer #4b**"
   ]
  },
  {
   "attachments": {},
   "cell_type": "markdown",
   "id": "ae801a6c-15bb-48f6-8f30-d80d39eeec89",
   "metadata": {},
   "source": [
    "This parabolic trend tells us that the current linear model is not a good fit for the data; we should add a (positive) quadratic term."
   ]
  },
  {
   "attachments": {},
   "cell_type": "markdown",
   "id": "cb8e172b-ec61-4edd-9515-b8e9c6d41060",
   "metadata": {
    "jp-MarkdownHeadingCollapsed": true,
    "tags": []
   },
   "source": [
    "##### **Answer #4c**"
   ]
  },
  {
   "attachments": {},
   "cell_type": "markdown",
   "id": "2a7b7615-68ff-44f9-a16b-cf8f50df1c36",
   "metadata": {},
   "source": [
    "To improve it in the desired fashion, we add $0.01x^2$ to the model, which can be done by modifying the code to:\n",
    "- ypoints = 0.01 * xpoints**2 + xpoints * slope + intercept\n",
    "- ymodel = 0.01 * xVec**2 + xVec * slope + intercept"
   ]
  },
  {
   "attachments": {},
   "cell_type": "markdown",
   "id": "97955005-d2b0-4c0e-b62d-7a41b5355543",
   "metadata": {},
   "source": [
    "##### **Cell to generate plots for data set 3**"
   ]
  },
  {
   "cell_type": "code",
   "execution_count": 5,
   "id": "bfb809d8-44a6-4bbf-a108-e678e593f495",
   "metadata": {},
   "outputs": [
    {
     "data": {
      "image/png": "[encoded data removed]",
      "text/plain": [
       "<Figure size 640x480 with 1 Axes>"
      ]
     },
     "metadata": {},
     "output_type": "display_data"
    },
    {
     "data": {
      "image/png": "[encoded data removed]",
      "text/plain": [
       "<Figure size 640x480 with 1 Axes>"
      ]
     },
     "metadata": {},
     "output_type": "display_data"
    }
   ],
   "source": [
    "# Run me to make an initial set of plots, to be modified to answer #4c above.\n",
    "\n",
    "# Run me to make an initial set of plots, to be modified to answer #3c above.\n",
    "\n",
    "# Scatter step 1: Define the variables we will be plotting, as well as labels and titles\n",
    "# Plotting variables\n",
    "xdata = xVec\n",
    "ydata = y3Vec\n",
    "dydata = dy3Vec\n",
    "\n",
    "# Labels and titles\n",
    "data_label = \"Experimental data\"\n",
    "model_label = \"y = mx + b\"\n",
    "graph_title = \"Data set 3\"\n",
    "x_label = \"x(s)\"\n",
    "y_label = \"y(m)\"\n",
    "residuals_title = \"Residuals for Data set 3\"\n",
    "residuals_y_label = \"Residual = data - model (m)\"\n",
    "\n",
    "# Model parameters\n",
    "##################### MODIFY THIS PART. ADDITIONAL MODIFICATION BELOW ###########################\n",
    "slope = 1 # Estimate of the slope\n",
    "intercept = 3 # Estimate of the y-intercept\n",
    "# Add additional model parameters as needed\n",
    "#################################################################################################\n",
    "\n",
    "\n",
    "# Scatter step 2: find the limits of the data:\n",
    "xmin = np.min(xdata) # use the np.min function to find the smallest x-value\n",
    "xmax = np.max(xdata) # same for max\n",
    "# print (xmin, xmax)  # uncomment to see what the limits are\n",
    "\n",
    "# Scatter step 3: generate a bunch of x points between xmin and xmax to help us plot the model line\n",
    "xpoints = np.linspace(xmin, xmax, 200) # gives 200 evenly spaced points between xmin and xmax\n",
    "# print(xpoints) # uncomment to see the x values that were generated.\n",
    "\n",
    "# Scatter step 4: calculate the model values:\n",
    "############ MODIFY THIS PART TO CHANGE THE MODEL. ADDITIONAL MODIFICATION BELOW ################\n",
    "ypoints = xpoints * slope + intercept # this calculates the yvalues at all 200 points.\n",
    "#################################################################################################\n",
    "\n",
    "# Scatter step 5: plot the model line. We plot this as a red line \"r-\" :\n",
    "plt.plot(xpoints, ypoints, \"r-\", label = model_label)\n",
    "\n",
    "# Scatter step 6: Plot the data, with the previous details from before\n",
    "plt.errorbar(xdata, ydata, dydata, fmt=\"bo\", markersize = 3, label=data_label)\n",
    "plt.title(graph_title)\n",
    "plt.xlabel(x_label)\n",
    "plt.ylabel(y_label)\n",
    "plt.legend()\n",
    "plt.show()\n",
    "\n",
    "# Residuals step 1: Calculate the model prediction for each our data points from dxVec\n",
    "######################## ALSO MODIFY THIS PART TO CHANGE THE MODEL ##############################\n",
    "ymodel = slope * xdata + intercept # y = mx + b\n",
    "#################################################################################################\n",
    "\n",
    "\n",
    "\n",
    "# Residuals step 2: Calcualte the residuals vector\n",
    "residualsVec = ydata - ymodel\n",
    "\n",
    "# Residuals step 3: Plot the residuals vector against the x-data vector\n",
    "plt.errorbar(xdata, residualsVec, dydata, fmt=\"bo\", markersize = 3)\n",
    "\n",
    "# Residuals step 4: Add a horizontal line at R=0 to the plot\n",
    "plt.hlines(y=0, xmin=xmin, xmax=xmax, color='k') # draw a black line at y = 0.\n",
    "\n",
    "# Residuals step 5: Add axis labels and title, and show the graph\n",
    "plt.title(residuals_title)\n",
    "plt.xlabel(x_label)\n",
    "plt.ylabel(residuals_y_label)\n",
    "plt.show()"
   ]
  },
  {
   "cell_type": "markdown",
   "id": "12377e64-de8b-432f-ae15-5b5c7a107bff",
   "metadata": {},
   "source": [
    "## Your turn #5: Preparing your Lab 06 notebook\n",
    "In this final set of tasks you will prepare your Lab 06 notebook for data collection and analysis\n",
    "\n",
    "1. Open the Lab 06 Instructions on Canvas and take a couple of minutes to read through them so that you have a sense of how you will be spending your time during the lab.\n",
    "2. In Part B, you will notice that we are going to re-analyze the Lab 05 data. Try to get the code working to copy in your Lab 05 data into your Lab 06 notebook. Additionally, copy in your graphing and analysis code to be used with this data set. We will be modifying this analysis code during Lab 06, but making sure everything is working as expected based on Lab 05 will help you get a quick start to the modifications you will be making.\n",
    "\n",
    "You should now be ready for data collection and data analysis for this lab."
   ]
  },
  {
   "attachments": {},
   "cell_type": "markdown",
   "id": "43f99a8b-81b4-489f-9c3c-4507014b16de",
   "metadata": {},
   "source": [
    "# Submit\n",
    "\n",
    "Steps for submission:\n",
    "\n",
    "1. Click: Run => Run_All_Cells\n",
    "2. Read through the notebook to ensure all the cells executed correctly and without error.\n",
    "3. File => Save_and_Export_Notebook_As->HTML\n",
    "4. Inspect your downloaded html document\n",
    "5. Upload the HTML document to the lab submission assignment on Canvas."
   ]
  },
  {
   "cell_type": "code",
   "execution_count": null,
   "id": "5300ab2e",
   "metadata": {},
   "outputs": [],
   "source": []
  },
  {
   "cell_type": "code",
   "execution_count": 6,
   "id": "eb38a50c-d9d7-46da-9f99-0b3823d14b1a",
   "metadata": {},
   "outputs": [
    {
     "name": "stdout",
     "output_type": "stream",
     "text": [
      "Sheet: de1   File: lab06_prelab_data1.csv\n"
     ]
    },
    {
     "data": {
      "text/html": [
       "<div>\n",
       "<style scoped>\n",
       "    .dataframe tbody tr th:only-of-type {\n",
       "        vertical-align: middle;\n",
       "    }\n",
       "\n",
       "    .dataframe tbody tr th {\n",
       "        vertical-align: top;\n",
       "    }\n",
       "\n",
       "    .dataframe thead th {\n",
       "        text-align: right;\n",
       "    }\n",
       "</style>\n",
       "<table border=\"1\" class=\"dataframe\">\n",
       "  <thead>\n",
       "    <tr style=\"text-align: right;\">\n",
       "      <th></th>\n",
       "      <th>x</th>\n",
       "      <th>dx</th>\n",
       "      <th>y1</th>\n",
       "      <th>dy1</th>\n",
       "      <th>y2</th>\n",
       "      <th>dy2</th>\n",
       "      <th>y3</th>\n",
       "      <th>dy3</th>\n",
       "    </tr>\n",
       "  </thead>\n",
       "  <tbody>\n",
       "    <tr>\n",
       "      <th>Units</th>\n",
       "      <td>s</td>\n",
       "      <td>s</td>\n",
       "      <td>m</td>\n",
       "      <td>m</td>\n",
       "      <td>m</td>\n",
       "      <td>m</td>\n",
       "      <td>m</td>\n",
       "      <td>m</td>\n",
       "    </tr>\n",
       "    <tr>\n",
       "      <th>0</th>\n",
       "      <td>0.2</td>\n",
       "      <td>0.01</td>\n",
       "      <td>1.20</td>\n",
       "      <td>0.01</td>\n",
       "      <td>3.42</td>\n",
       "      <td>0.01</td>\n",
       "      <td>3.2</td>\n",
       "      <td>0.01</td>\n",
       "    </tr>\n",
       "    <tr>\n",
       "      <th>1</th>\n",
       "      <td>1.1</td>\n",
       "      <td>0.01</td>\n",
       "      <td>2.12</td>\n",
       "      <td>0.01</td>\n",
       "      <td>5.19</td>\n",
       "      <td>0.01</td>\n",
       "      <td>4.11</td>\n",
       "      <td>0.01</td>\n",
       "    </tr>\n",
       "    <tr>\n",
       "      <th>2</th>\n",
       "      <td>1.9</td>\n",
       "      <td>0.01</td>\n",
       "      <td>2.89</td>\n",
       "      <td>0.01</td>\n",
       "      <td>6.8</td>\n",
       "      <td>0.01</td>\n",
       "      <td>4.95</td>\n",
       "      <td>0.01</td>\n",
       "    </tr>\n",
       "    <tr>\n",
       "      <th>3</th>\n",
       "      <td>3.1</td>\n",
       "      <td>0.01</td>\n",
       "      <td>4.11</td>\n",
       "      <td>0.01</td>\n",
       "      <td>9.17</td>\n",
       "      <td>0.01</td>\n",
       "      <td>6.19</td>\n",
       "      <td>0.01</td>\n",
       "    </tr>\n",
       "    <tr>\n",
       "      <th>4</th>\n",
       "      <td>4.0</td>\n",
       "      <td>0.01</td>\n",
       "      <td>5.0</td>\n",
       "      <td>0.01</td>\n",
       "      <td>11.0</td>\n",
       "      <td>0.01</td>\n",
       "      <td>7.17</td>\n",
       "      <td>0.01</td>\n",
       "    </tr>\n",
       "    <tr>\n",
       "      <th>5</th>\n",
       "      <td>4.9</td>\n",
       "      <td>0.01</td>\n",
       "      <td>5.93</td>\n",
       "      <td>0.01</td>\n",
       "      <td>12.81</td>\n",
       "      <td>0.01</td>\n",
       "      <td>8.13</td>\n",
       "      <td>0.01</td>\n",
       "    </tr>\n",
       "    <tr>\n",
       "      <th>6</th>\n",
       "      <td>5.8</td>\n",
       "      <td>0.01</td>\n",
       "      <td>6.79</td>\n",
       "      <td>0.01</td>\n",
       "      <td>14.58</td>\n",
       "      <td>0.01</td>\n",
       "      <td>9.14</td>\n",
       "      <td>0.01</td>\n",
       "    </tr>\n",
       "    <tr>\n",
       "      <th>7</th>\n",
       "      <td>6.9</td>\n",
       "      <td>0.01</td>\n",
       "      <td>7.88</td>\n",
       "      <td>0.01</td>\n",
       "      <td>16.8</td>\n",
       "      <td>0.01</td>\n",
       "      <td>10.38</td>\n",
       "      <td>0.01</td>\n",
       "    </tr>\n",
       "  </tbody>\n",
       "</table>\n",
       "</div>"
      ],
      "text/plain": [
       "         x    dx    y1   dy1     y2   dy2     y3   dy3\n",
       "Units    s     s     m     m      m     m      m     m\n",
       "0      0.2  0.01  1.20  0.01   3.42  0.01    3.2  0.01\n",
       "1      1.1  0.01  2.12  0.01   5.19  0.01   4.11  0.01\n",
       "2      1.9  0.01  2.89  0.01    6.8  0.01   4.95  0.01\n",
       "3      3.1  0.01  4.11  0.01   9.17  0.01   6.19  0.01\n",
       "4      4.0  0.01   5.0  0.01   11.0  0.01   7.17  0.01\n",
       "5      4.9  0.01  5.93  0.01  12.81  0.01   8.13  0.01\n",
       "6      5.8  0.01  6.79  0.01  14.58  0.01   9.14  0.01\n",
       "7      6.9  0.01  7.88  0.01   16.8  0.01  10.38  0.01"
      ]
     },
     "metadata": {},
     "output_type": "display_data"
    }
   ],
   "source": [
    "display_sheets()"
   ]
  }
 ],
 "metadata": {
  "kernelspec": {
   "display_name": "Python 3 (ipykernel)",
   "language": "python",
   "name": "python3"
  },
  "language_info": {
   "codemirror_mode": {
    "name": "ipython",
    "version": 3
   },
   "file_extension": ".py",
   "mimetype": "text/x-python",
   "name": "python",
   "nbconvert_exporter": "python",
   "pygments_lexer": "ipython3",
   "version": "3.10.10"
  },
  "widgets": {
   "application/vnd.jupyter.widget-state+json": {
    "state": {
     "00b0d0b963a94d75b50e38056800bbec": {
      "model_module": "@jupyter-widgets/base",
      "model_module_version": "2.0.0",
      "model_name": "LayoutModel",
      "state": {}
     },
     "08114fad4b3f401e859f9043ef384688": {
      "model_module": "@jupyter-widgets/base",
      "model_module_version": "2.0.0",
      "model_name": "LayoutModel",
      "state": {}
     },
     "0962520248e740618935397974705c40": {
      "model_module": "@jupyter-widgets/base",
      "model_module_version": "2.0.0",
      "model_name": "LayoutModel",
      "state": {}
     },
     "0b53ea7ab48844bbb18abcbc757e7423": {
      "model_module": "@jupyter-widgets/controls",
      "model_module_version": "2.0.0",
      "model_name": "VBoxModel",
      "state": {
       "children": [
        "IPY_MODEL_82a4b77a85a44eab95761979748a110d",
        "IPY_MODEL_f84339d204654c8fa97f7db591d246e0",
        "IPY_MODEL_bb5900af3aba4b87957e1d14acfa2ba5"
       ],
       "layout": "IPY_MODEL_9961c0c8b9074869a4c03d12e2ba0f0c"
      }
     },
     "0da44d0f6003440da85528e31689cc47": {
      "model_module": "ipydatagrid",
      "model_module_version": "1.1.16",
      "model_name": "VegaExprModel",
      "state": {
       "_view_module": "ipydatagrid",
       "_view_module_version": "1.1.16",
       "_view_name": "VegaExprView"
      }
     },
     "0e0cba582cce46a9a25105c4f769fedc": {
      "model_module": "@jupyter-widgets/controls",
      "model_module_version": "2.0.0",
      "model_name": "HBoxModel",
      "state": {
       "children": [
        "IPY_MODEL_d7aac34a0f5c4f4da632911289fb93a9",
        "IPY_MODEL_70cdf3e278244d0ba4c20c8a61e9cb75",
        "IPY_MODEL_3b90f6c56967455cba22a609fedd7045",
        "IPY_MODEL_a08a507ee3704e79ac86b54d1ada4877",
        "IPY_MODEL_6fead73f2a33408296e183cb866a70a7"
       ],
       "layout": "IPY_MODEL_0962520248e740618935397974705c40"
      }
     },
     "12301ad94f1c41d98098b558d17fae4d": {
      "model_module": "@jupyter-widgets/controls",
      "model_module_version": "2.0.0",
      "model_name": "ButtonStyleModel",
      "state": {
       "font_family": null,
       "font_size": null,
       "font_style": null,
       "font_variant": null,
       "font_weight": null,
       "text_color": null,
       "text_decoration": null
      }
     },
     "14744fd7edb045b8afd4e20dfdfb5f95": {
      "model_module": "@jupyter-widgets/base",
      "model_module_version": "2.0.0",
      "model_name": "LayoutModel",
      "state": {}
     },
     "15d8486437374572a6c2cba23bbc0003": {
      "model_module": "@jupyter-widgets/controls",
      "model_module_version": "2.0.0",
      "model_name": "ButtonStyleModel",
      "state": {
       "font_family": null,
       "font_size": null,
       "font_style": null,
       "font_variant": null,
       "font_weight": null,
       "text_color": null,
       "text_decoration": null
      }
     },
     "1603280aafd447799624d2b9f423c684": {
      "model_module": "@jupyter-widgets/controls",
      "model_module_version": "2.0.0",
      "model_name": "ButtonModel",
      "state": {
       "description": "Redo",
       "layout": "IPY_MODEL_8392db2b89a04998bb27f5a508f6b55a",
       "style": "IPY_MODEL_15d8486437374572a6c2cba23bbc0003",
       "tooltip": null
      }
     },
     "18ceaa5a4a644fefbcfa379d5aac5f8a": {
      "model_module": "@jupyter-widgets/controls",
      "model_module_version": "2.0.0",
      "model_name": "ButtonModel",
      "state": {
       "description": "Add Row",
       "layout": "IPY_MODEL_36fd56fc1ab741a5a31f6d91511656b8",
       "style": "IPY_MODEL_347978a466c148be99a5cfd577a78fbb",
       "tooltip": null
      }
     },
     "19a25bd76e9942b3b3d7c2c27ef60259": {
      "model_module": "@jupyter-widgets/controls",
      "model_module_version": "2.0.0",
      "model_name": "ButtonStyleModel",
      "state": {
       "font_family": null,
       "font_size": null,
       "font_style": null,
       "font_variant": null,
       "font_weight": null,
       "text_color": null,
       "text_decoration": null
      }
     },
     "1f94fe9546fd4dd9b1c2e976fc42cabd": {
      "model_module": "@jupyter-widgets/base",
      "model_module_version": "2.0.0",
      "model_name": "LayoutModel",
      "state": {}
     },
     "24495c3ba1a9465aa57afe37388a40b2": {
      "model_module": "@jupyter-widgets/controls",
      "model_module_version": "2.0.0",
      "model_name": "ButtonModel",
      "state": {
       "description": "Add Row",
       "layout": "IPY_MODEL_e11ee7125c7b44c29911b03374caafe9",
       "style": "IPY_MODEL_4c5d6021a59f4f90b942aa15229962be",
       "tooltip": null
      }
     },
     "2ba7881a6a7141b58d0d64bab6c34c22": {
      "model_module": "@jupyter-widgets/base",
      "model_module_version": "2.0.0",
      "model_name": "LayoutModel",
      "state": {}
     },
     "347978a466c148be99a5cfd577a78fbb": {
      "model_module": "@jupyter-widgets/controls",
      "model_module_version": "2.0.0",
      "model_name": "ButtonStyleModel",
      "state": {
       "font_family": null,
       "font_size": null,
       "font_style": null,
       "font_variant": null,
       "font_weight": null,
       "text_color": null,
       "text_decoration": null
      }
     },
     "34ea15ec8a1d451f83fe1ead0d65d276": {
      "model_module": "@jupyter-widgets/controls",
      "model_module_version": "2.0.0",
      "model_name": "VBoxModel",
      "state": {
       "children": [
        "IPY_MODEL_0e0cba582cce46a9a25105c4f769fedc",
        "IPY_MODEL_97de6aef0eee4ea1997a622900b2f0e2",
        "IPY_MODEL_c72787475c91403cbe2570e46869911a"
       ],
       "layout": "IPY_MODEL_00b0d0b963a94d75b50e38056800bbec"
      }
     },
     "36fd56fc1ab741a5a31f6d91511656b8": {
      "model_module": "@jupyter-widgets/base",
      "model_module_version": "2.0.0",
      "model_name": "LayoutModel",
      "state": {}
     },
     "3b90f6c56967455cba22a609fedd7045": {
      "model_module": "@jupyter-widgets/controls",
      "model_module_version": "2.0.0",
      "model_name": "ButtonModel",
      "state": {
       "description": "Add Row",
       "layout": "IPY_MODEL_a90cc1c418634bf381be65243deef848",
       "style": "IPY_MODEL_a21a0b6a9c1240ccbbe49a89d65d9b34",
       "tooltip": null
      }
     },
     "3eec602ddd5849339285bca97cfb814c": {
      "model_module": "ipydatagrid",
      "model_module_version": "1.1.16",
      "model_name": "VegaExprModel",
      "state": {
       "_view_module": "ipydatagrid",
       "_view_module_version": "1.1.16",
       "_view_name": "VegaExprView"
      }
     },
     "40d78afacce548aea0955c2c804030cc": {
      "model_module": "@jupyter-widgets/base",
      "model_module_version": "2.0.0",
      "model_name": "LayoutModel",
      "state": {}
     },
     "42a2985c23ab43ad8501eeb7b2dba47c": {
      "model_module": "ipydatagrid",
      "model_module_version": "1.1.16",
      "model_name": "TextRendererModel",
      "state": {
       "background_color": "IPY_MODEL_6f47cb643d404c5090dd35e2dcbf6f31",
       "text_color": "IPY_MODEL_95a2b95b7da64825ac526a21e70f7232"
      }
     },
     "42ac36f3b1904437918e08225e610699": {
      "model_module": "@jupyter-widgets/base",
      "model_module_version": "2.0.0",
      "model_name": "LayoutModel",
      "state": {}
     },
     "42aefae6cc504e4db20e84fabb97d40e": {
      "model_module": "@jupyter-widgets/base",
      "model_module_version": "2.0.0",
      "model_name": "LayoutModel",
      "state": {}
     },
     "4bd3ccc0d16541429be30cde709391be": {
      "model_module": "@jupyter-widgets/base",
      "model_module_version": "2.0.0",
      "model_name": "LayoutModel",
      "state": {}
     },
     "4c5d6021a59f4f90b942aa15229962be": {
      "model_module": "@jupyter-widgets/controls",
      "model_module_version": "2.0.0",
      "model_name": "ButtonStyleModel",
      "state": {
       "font_family": null,
       "font_size": null,
       "font_style": null,
       "font_variant": null,
       "font_weight": null,
       "text_color": null,
       "text_decoration": null
      }
     },
     "4ec3497fd1bd45f58baaf8f436d477b8": {
      "model_module": "@jupyter-widgets/output",
      "model_module_version": "1.0.0",
      "model_name": "OutputModel",
      "state": {
       "layout": "IPY_MODEL_9e2891dac8ff4ac2beac61361b50b3b8"
      }
     },
     "4f232801ba2d49ba98b4bc9d8198f9ac": {
      "model_module": "@jupyter-widgets/controls",
      "model_module_version": "2.0.0",
      "model_name": "ButtonStyleModel",
      "state": {
       "font_family": null,
       "font_size": null,
       "font_style": null,
       "font_variant": null,
       "font_weight": null,
       "text_color": null,
       "text_decoration": null
      }
     },
     "5189ec05687542298fabb4ec00cfe31a": {
      "model_module": "@jupyter-widgets/base",
      "model_module_version": "2.0.0",
      "model_name": "LayoutModel",
      "state": {}
     },
     "51c451ce129648cfa94d570823702184": {
      "model_module": "@jupyter-widgets/base",
      "model_module_version": "2.0.0",
      "model_name": "LayoutModel",
      "state": {}
     },
     "6157eba2936c4f4392652b0576dcbae9": {
      "model_module": "@jupyter-widgets/base",
      "model_module_version": "2.0.0",
      "model_name": "LayoutModel",
      "state": {}
     },
     "635485d6666341c0bd224094152a8acc": {
      "model_module": "@jupyter-widgets/controls",
      "model_module_version": "2.0.0",
      "model_name": "ButtonStyleModel",
      "state": {
       "font_family": null,
       "font_size": null,
       "font_style": null,
       "font_variant": null,
       "font_weight": null,
       "text_color": null,
       "text_decoration": null
      }
     },
     "639c87647666438a8ab70ff3892ff7e6": {
      "model_module": "ipydatagrid",
      "model_module_version": "1.1.16",
      "model_name": "VegaExprModel",
      "state": {
       "_view_module": "ipydatagrid",
       "_view_module_version": "1.1.16",
       "_view_name": "VegaExprView"
      }
     },
     "65acb26059a64d9e8b8676f6c3c4cf67": {
      "model_module": "ipydatagrid",
      "model_module_version": "1.1.16",
      "model_name": "DataGridModel",
      "state": {
       "_data": {
        "data": [
         {
          "0": "x",
          "1": "dx",
          "2": "y1",
          "3": "dy1",
          "4": "y2",
          "5": "dy2",
          "6": "y3",
          "7": "dy3",
          "ipydguuid": 0,
          "key": "  Variable:"
         },
         {
          "0": "s",
          "1": "s",
          "2": "m",
          "3": "m",
          "4": "m",
          "5": "m",
          "6": "m",
          "7": "m",
          "ipydguuid": 1,
          "key": " Units:"
         },
         {
          "0": "0.2",
          "1": "0.01",
          "2": "1.20",
          "3": "0.01",
          "4": "3.42",
          "5": "0.01",
          "6": "3.2",
          "7": "0.01",
          "ipydguuid": 2,
          "key": 0
         },
         {
          "0": "1.1",
          "1": "0.01",
          "2": "2.12",
          "3": "0.01",
          "4": "5.19",
          "5": "0.01",
          "6": "4.11",
          "7": "0.01",
          "ipydguuid": 3,
          "key": 1
         },
         {
          "0": "1.9",
          "1": "0.01",
          "2": "2.89",
          "3": "0.01",
          "4": "6.8",
          "5": "0.01",
          "6": "4.95",
          "7": "0.01",
          "ipydguuid": 4,
          "key": 2
         },
         {
          "0": "3.1",
          "1": "0.01",
          "2": "4.11",
          "3": "0.01",
          "4": "9.17",
          "5": "0.01",
          "6": "6.19",
          "7": "0.01",
          "ipydguuid": 5,
          "key": 3
         },
         {
          "0": "4.0",
          "1": "0.01",
          "2": "5.0",
          "3": "0.01",
          "4": "11.0",
          "5": "0.01",
          "6": "7.17",
          "7": "0.01",
          "ipydguuid": 6,
          "key": 4
         },
         {
          "0": "4.9",
          "1": "0.01",
          "2": "5.93",
          "3": "0.01",
          "4": "12.81",
          "5": "0.01",
          "6": "8.13",
          "7": "0.01",
          "ipydguuid": 7,
          "key": 5
         },
         {
          "0": "5.8",
          "1": "0.01",
          "2": "6.79",
          "3": "0.01",
          "4": "14.58",
          "5": "0.01",
          "6": "9.14",
          "7": "0.01",
          "ipydguuid": 8,
          "key": 6
         },
         {
          "0": "6.9",
          "1": "0.01",
          "2": "7.88",
          "3": "0.01",
          "4": "16.8",
          "5": "0.01",
          "6": "10.38",
          "7": "0.01",
          "ipydguuid": 9,
          "key": 7
         }
        ],
        "fields": [
         {
          "key": null
         },
         {
          "0": null
         },
         {
          "1": null
         },
         {
          "2": null
         },
         {
          "3": null
         },
         {
          "4": null
         },
         {
          "5": null
         },
         {
          "6": null
         },
         {
          "7": null
         },
         {
          "ipydguuid": null
         }
        ],
        "schema": {
         "fields": [
          {
           "name": "key",
           "type": "string"
          },
          {
           "name": 0,
           "type": "string"
          },
          {
           "name": 1,
           "type": "string"
          },
          {
           "name": 2,
           "type": "string"
          },
          {
           "name": 3,
           "type": "string"
          },
          {
           "name": 4,
           "type": "string"
          },
          {
           "name": 5,
           "type": "string"
          },
          {
           "name": 6,
           "type": "string"
          },
          {
           "name": 7,
           "type": "string"
          },
          {
           "name": "ipydguuid",
           "type": "integer"
          }
         ],
         "pandas_version": "1.4.0",
         "primaryKey": [
          "key",
          "ipydguuid"
         ],
         "primaryKeyUuid": "ipydguuid"
        }
       },
       "_model_name": "DataGridModel",
       "auto_fit_columns": false,
       "auto_fit_params": {
        "area": "all",
        "numCols": null,
        "padding": 30
       },
       "base_column_header_size": 20,
       "base_column_size": 64,
       "base_row_header_size": 64,
       "base_row_size": 20,
       "default_renderer": "IPY_MODEL_42a2985c23ab43ad8501eeb7b2dba47c",
       "editable": true,
       "header_visibility": "all",
       "layout": "IPY_MODEL_a08cb5e9699e4134bff8f8c31c25c6d1",
       "selection_mode": "cell"
      }
     },
     "65e8e35a29a540d1ace15f39729f515a": {
      "model_module": "@jupyter-widgets/base",
      "model_module_version": "2.0.0",
      "model_name": "LayoutModel",
      "state": {}
     },
     "66f70e8c40f24c5d831752ae6a46ff8b": {
      "model_module": "@jupyter-widgets/base",
      "model_module_version": "2.0.0",
      "model_name": "LayoutModel",
      "state": {}
     },
     "6bdde7cdb41040b3a6ce1f75a213a70b": {
      "model_module": "@jupyter-widgets/controls",
      "model_module_version": "2.0.0",
      "model_name": "VBoxModel",
      "state": {
       "children": [
        "IPY_MODEL_b4772773657545c9b025eae6258d7991",
        "IPY_MODEL_65acb26059a64d9e8b8676f6c3c4cf67",
        "IPY_MODEL_4ec3497fd1bd45f58baaf8f436d477b8"
       ],
       "layout": "IPY_MODEL_1f94fe9546fd4dd9b1c2e976fc42cabd"
      }
     },
     "6f47cb643d404c5090dd35e2dcbf6f31": {
      "model_module": "ipydatagrid",
      "model_module_version": "1.1.16",
      "model_name": "VegaExprModel",
      "state": {
       "_view_module": "ipydatagrid",
       "_view_module_version": "1.1.16",
       "_view_name": "VegaExprView"
      }
     },
     "6fead73f2a33408296e183cb866a70a7": {
      "model_module": "@jupyter-widgets/controls",
      "model_module_version": "2.0.0",
      "model_name": "ButtonModel",
      "state": {
       "description": "Generate Vectors",
       "layout": "IPY_MODEL_daa8955afc2241fdb5ce55a41b6a0526",
       "style": "IPY_MODEL_f9972cd70fe145e98b4bb696a704db68",
       "tooltip": null
      }
     },
     "70cdf3e278244d0ba4c20c8a61e9cb75": {
      "model_module": "@jupyter-widgets/controls",
      "model_module_version": "2.0.0",
      "model_name": "ButtonModel",
      "state": {
       "description": "Redo",
       "layout": "IPY_MODEL_4bd3ccc0d16541429be30cde709391be",
       "style": "IPY_MODEL_e48a2072ccd94dc19882be5b8cb7c643",
       "tooltip": null
      }
     },
     "712b5e7a807345738c75228ab5aa6f83": {
      "model_module": "@jupyter-widgets/controls",
      "model_module_version": "2.0.0",
      "model_name": "ButtonModel",
      "state": {
       "description": "Redo",
       "layout": "IPY_MODEL_852d4cf935ef4d2d89b2419cc396c4c7",
       "style": "IPY_MODEL_8ebad9a934b2475b94d918c63e43d1cb",
       "tooltip": null
      }
     },
     "751862b1c9044a7ca18c668d4548f910": {
      "model_module": "@jupyter-widgets/controls",
      "model_module_version": "2.0.0",
      "model_name": "ButtonModel",
      "state": {
       "description": "Undo",
       "layout": "IPY_MODEL_d1d2191f66b543bc9eae922d4c672dbf",
       "style": "IPY_MODEL_7a05e32f45fc4bd2a718b16d7c1577fd",
       "tooltip": null
      }
     },
     "7a05e32f45fc4bd2a718b16d7c1577fd": {
      "model_module": "@jupyter-widgets/controls",
      "model_module_version": "2.0.0",
      "model_name": "ButtonStyleModel",
      "state": {
       "font_family": null,
       "font_size": null,
       "font_style": null,
       "font_variant": null,
       "font_weight": null,
       "text_color": null,
       "text_decoration": null
      }
     },
     "82a4b77a85a44eab95761979748a110d": {
      "model_module": "@jupyter-widgets/controls",
      "model_module_version": "2.0.0",
      "model_name": "HBoxModel",
      "state": {
       "children": [
        "IPY_MODEL_91501a8c2fa34550977fee203c235114",
        "IPY_MODEL_1603280aafd447799624d2b9f423c684",
        "IPY_MODEL_24495c3ba1a9465aa57afe37388a40b2",
        "IPY_MODEL_ffd50f4912dc4ab8befff7cc557d1bc3",
        "IPY_MODEL_9a40b0af037841b5817b7a9910186357"
       ],
       "layout": "IPY_MODEL_6157eba2936c4f4392652b0576dcbae9"
      }
     },
     "8392db2b89a04998bb27f5a508f6b55a": {
      "model_module": "@jupyter-widgets/base",
      "model_module_version": "2.0.0",
      "model_name": "LayoutModel",
      "state": {}
     },
     "852d4cf935ef4d2d89b2419cc396c4c7": {
      "model_module": "@jupyter-widgets/base",
      "model_module_version": "2.0.0",
      "model_name": "LayoutModel",
      "state": {}
     },
     "89a5529f517c476ca584853f3d34d523": {
      "model_module": "@jupyter-widgets/base",
      "model_module_version": "2.0.0",
      "model_name": "LayoutModel",
      "state": {
       "height": "250px"
      }
     },
     "8ebad9a934b2475b94d918c63e43d1cb": {
      "model_module": "@jupyter-widgets/controls",
      "model_module_version": "2.0.0",
      "model_name": "ButtonStyleModel",
      "state": {
       "font_family": null,
       "font_size": null,
       "font_style": null,
       "font_variant": null,
       "font_weight": null,
       "text_color": null,
       "text_decoration": null
      }
     },
     "91501a8c2fa34550977fee203c235114": {
      "model_module": "@jupyter-widgets/controls",
      "model_module_version": "2.0.0",
      "model_name": "ButtonModel",
      "state": {
       "description": "Undo",
       "layout": "IPY_MODEL_a4c56992abcf448abe7346d5677dc65a",
       "style": "IPY_MODEL_ce9b2ce2776f4e9c9f9730fc81f94ff5",
       "tooltip": null
      }
     },
     "94450659cb014579acb1550893ef55ec": {
      "model_module": "ipydatagrid",
      "model_module_version": "1.1.16",
      "model_name": "VegaExprModel",
      "state": {
       "_view_module": "ipydatagrid",
       "_view_module_version": "1.1.16",
       "_view_name": "VegaExprView"
      }
     },
     "95a2b95b7da64825ac526a21e70f7232": {
      "model_module": "ipydatagrid",
      "model_module_version": "1.1.16",
      "model_name": "VegaExprModel",
      "state": {
       "_view_module": "ipydatagrid",
       "_view_module_version": "1.1.16",
       "_view_name": "VegaExprView"
      }
     },
     "97de6aef0eee4ea1997a622900b2f0e2": {
      "model_module": "ipydatagrid",
      "model_module_version": "1.1.16",
      "model_name": "DataGridModel",
      "state": {
       "_data": {
        "data": [
         {
          "0": "x",
          "1": "dx",
          "2": "y1",
          "3": "dy1",
          "4": "y2",
          "5": "dy2",
          "6": "y3",
          "7": "dy3",
          "ipydguuid": 0,
          "key": "  Variable:"
         },
         {
          "0": "s",
          "1": "s",
          "2": "m",
          "3": "m",
          "4": "m",
          "5": "m",
          "6": "m",
          "7": "m",
          "ipydguuid": 1,
          "key": " Units:"
         },
         {
          "0": "0.2",
          "1": "0.01",
          "2": "1.20",
          "3": "0.01",
          "4": "3.42",
          "5": "0.01",
          "6": "3.2",
          "7": "0.01",
          "ipydguuid": 2,
          "key": 0
         },
         {
          "0": "1.1",
          "1": "0.01",
          "2": "2.12",
          "3": "0.01",
          "4": "5.19",
          "5": "0.01",
          "6": "4.11",
          "7": "0.01",
          "ipydguuid": 3,
          "key": 1
         },
         {
          "0": "1.9",
          "1": "0.01",
          "2": "2.89",
          "3": "0.01",
          "4": "6.8",
          "5": "0.01",
          "6": "4.95",
          "7": "0.01",
          "ipydguuid": 4,
          "key": 2
         },
         {
          "0": "3.1",
          "1": "0.01",
          "2": "4.11",
          "3": "0.01",
          "4": "9.17",
          "5": "0.01",
          "6": "6.19",
          "7": "0.01",
          "ipydguuid": 5,
          "key": 3
         },
         {
          "0": "4.0",
          "1": "0.01",
          "2": "5.0",
          "3": "0.01",
          "4": "11.0",
          "5": "0.01",
          "6": "7.17",
          "7": "0.01",
          "ipydguuid": 6,
          "key": 4
         },
         {
          "0": "4.9",
          "1": "0.01",
          "2": "5.93",
          "3": "0.01",
          "4": "12.81",
          "5": "0.01",
          "6": "8.13",
          "7": "0.01",
          "ipydguuid": 7,
          "key": 5
         },
         {
          "0": "5.8",
          "1": "0.01",
          "2": "6.79",
          "3": "0.01",
          "4": "14.58",
          "5": "0.01",
          "6": "9.14",
          "7": "0.01",
          "ipydguuid": 8,
          "key": 6
         },
         {
          "0": "6.9",
          "1": "0.01",
          "2": "7.88",
          "3": "0.01",
          "4": "16.8",
          "5": "0.01",
          "6": "10.38",
          "7": "0.01",
          "ipydguuid": 9,
          "key": 7
         }
        ],
        "fields": [
         {
          "key": null
         },
         {
          "0": null
         },
         {
          "1": null
         },
         {
          "2": null
         },
         {
          "3": null
         },
         {
          "4": null
         },
         {
          "5": null
         },
         {
          "6": null
         },
         {
          "7": null
         },
         {
          "ipydguuid": null
         }
        ],
        "schema": {
         "fields": [
          {
           "name": "key",
           "type": "string"
          },
          {
           "name": 0,
           "type": "string"
          },
          {
           "name": 1,
           "type": "string"
          },
          {
           "name": 2,
           "type": "string"
          },
          {
           "name": 3,
           "type": "string"
          },
          {
           "name": 4,
           "type": "string"
          },
          {
           "name": 5,
           "type": "string"
          },
          {
           "name": 6,
           "type": "string"
          },
          {
           "name": 7,
           "type": "string"
          },
          {
           "name": "ipydguuid",
           "type": "integer"
          }
         ],
         "pandas_version": "1.4.0",
         "primaryKey": [
          "key",
          "ipydguuid"
         ],
         "primaryKeyUuid": "ipydguuid"
        }
       },
       "_model_name": "DataGridModel",
       "auto_fit_columns": false,
       "auto_fit_params": {
        "area": "all",
        "numCols": null,
        "padding": 30
       },
       "base_column_header_size": 20,
       "base_column_size": 64,
       "base_row_header_size": 64,
       "base_row_size": 20,
       "default_renderer": "IPY_MODEL_c0cee63428714256821f783cc7aff17f",
       "editable": true,
       "header_visibility": "all",
       "layout": "IPY_MODEL_89a5529f517c476ca584853f3d34d523",
       "selection_mode": "cell"
      }
     },
     "97e09de9b7634253ada914f8806fb2c1": {
      "model_module": "@jupyter-widgets/controls",
      "model_module_version": "2.0.0",
      "model_name": "ButtonModel",
      "state": {
       "description": "Generate Vectors",
       "layout": "IPY_MODEL_65e8e35a29a540d1ace15f39729f515a",
       "style": "IPY_MODEL_12301ad94f1c41d98098b558d17fae4d",
       "tooltip": null
      }
     },
     "9961c0c8b9074869a4c03d12e2ba0f0c": {
      "model_module": "@jupyter-widgets/base",
      "model_module_version": "2.0.0",
      "model_name": "LayoutModel",
      "state": {}
     },
     "9a40b0af037841b5817b7a9910186357": {
      "model_module": "@jupyter-widgets/controls",
      "model_module_version": "2.0.0",
      "model_name": "ButtonModel",
      "state": {
       "description": "Generate Vectors",
       "layout": "IPY_MODEL_42aefae6cc504e4db20e84fabb97d40e",
       "style": "IPY_MODEL_d4ce259a2feb47fb87876f9d7b455b12",
       "tooltip": null
      }
     },
     "9e2891dac8ff4ac2beac61361b50b3b8": {
      "model_module": "@jupyter-widgets/base",
      "model_module_version": "2.0.0",
      "model_name": "LayoutModel",
      "state": {}
     },
     "a08a507ee3704e79ac86b54d1ada4877": {
      "model_module": "@jupyter-widgets/controls",
      "model_module_version": "2.0.0",
      "model_name": "ButtonModel",
      "state": {
       "description": "Add Column",
       "layout": "IPY_MODEL_bb4ea4e9b2164b06a2b168630a8a9afb",
       "style": "IPY_MODEL_635485d6666341c0bd224094152a8acc",
       "tooltip": null
      }
     },
     "a08cb5e9699e4134bff8f8c31c25c6d1": {
      "model_module": "@jupyter-widgets/base",
      "model_module_version": "2.0.0",
      "model_name": "LayoutModel",
      "state": {
       "height": "250px"
      }
     },
     "a21a0b6a9c1240ccbbe49a89d65d9b34": {
      "model_module": "@jupyter-widgets/controls",
      "model_module_version": "2.0.0",
      "model_name": "ButtonStyleModel",
      "state": {
       "font_family": null,
       "font_size": null,
       "font_style": null,
       "font_variant": null,
       "font_weight": null,
       "text_color": null,
       "text_decoration": null
      }
     },
     "a4c56992abcf448abe7346d5677dc65a": {
      "model_module": "@jupyter-widgets/base",
      "model_module_version": "2.0.0",
      "model_name": "LayoutModel",
      "state": {}
     },
     "a90cc1c418634bf381be65243deef848": {
      "model_module": "@jupyter-widgets/base",
      "model_module_version": "2.0.0",
      "model_name": "LayoutModel",
      "state": {}
     },
     "b4772773657545c9b025eae6258d7991": {
      "model_module": "@jupyter-widgets/controls",
      "model_module_version": "2.0.0",
      "model_name": "HBoxModel",
      "state": {
       "children": [
        "IPY_MODEL_751862b1c9044a7ca18c668d4548f910",
        "IPY_MODEL_712b5e7a807345738c75228ab5aa6f83",
        "IPY_MODEL_18ceaa5a4a644fefbcfa379d5aac5f8a",
        "IPY_MODEL_dde2b25d1ba24a818908b1d20bb1da45",
        "IPY_MODEL_97e09de9b7634253ada914f8806fb2c1"
       ],
       "layout": "IPY_MODEL_5189ec05687542298fabb4ec00cfe31a"
      }
     },
     "b488cd8f45694f9fb013d3c97e84578f": {
      "model_module": "@jupyter-widgets/base",
      "model_module_version": "2.0.0",
      "model_name": "LayoutModel",
      "state": {}
     },
     "bb4ea4e9b2164b06a2b168630a8a9afb": {
      "model_module": "@jupyter-widgets/base",
      "model_module_version": "2.0.0",
      "model_name": "LayoutModel",
      "state": {}
     },
     "bb5900af3aba4b87957e1d14acfa2ba5": {
      "model_module": "@jupyter-widgets/output",
      "model_module_version": "1.0.0",
      "model_name": "OutputModel",
      "state": {
       "layout": "IPY_MODEL_51c451ce129648cfa94d570823702184"
      }
     },
     "c0cee63428714256821f783cc7aff17f": {
      "model_module": "ipydatagrid",
      "model_module_version": "1.1.16",
      "model_name": "TextRendererModel",
      "state": {
       "background_color": "IPY_MODEL_639c87647666438a8ab70ff3892ff7e6",
       "text_color": "IPY_MODEL_3eec602ddd5849339285bca97cfb814c"
      }
     },
     "c40a9734224d4495ac79c2906f9f4279": {
      "model_module": "@jupyter-widgets/controls",
      "model_module_version": "2.0.0",
      "model_name": "ButtonStyleModel",
      "state": {
       "font_family": null,
       "font_size": null,
       "font_style": null,
       "font_variant": null,
       "font_weight": null,
       "text_color": null,
       "text_decoration": null
      }
     },
     "c72787475c91403cbe2570e46869911a": {
      "model_module": "@jupyter-widgets/output",
      "model_module_version": "1.0.0",
      "model_name": "OutputModel",
      "state": {
       "layout": "IPY_MODEL_66f70e8c40f24c5d831752ae6a46ff8b"
      }
     },
     "ce9b2ce2776f4e9c9f9730fc81f94ff5": {
      "model_module": "@jupyter-widgets/controls",
      "model_module_version": "2.0.0",
      "model_name": "ButtonStyleModel",
      "state": {
       "font_family": null,
       "font_size": null,
       "font_style": null,
       "font_variant": null,
       "font_weight": null,
       "text_color": null,
       "text_decoration": null
      }
     },
     "d1d2191f66b543bc9eae922d4c672dbf": {
      "model_module": "@jupyter-widgets/base",
      "model_module_version": "2.0.0",
      "model_name": "LayoutModel",
      "state": {}
     },
     "d424d5a704ab421cb037bc6bd9a0c4b8": {
      "model_module": "ipydatagrid",
      "model_module_version": "1.1.16",
      "model_name": "TextRendererModel",
      "state": {
       "background_color": "IPY_MODEL_94450659cb014579acb1550893ef55ec",
       "text_color": "IPY_MODEL_0da44d0f6003440da85528e31689cc47"
      }
     },
     "d4ce259a2feb47fb87876f9d7b455b12": {
      "model_module": "@jupyter-widgets/controls",
      "model_module_version": "2.0.0",
      "model_name": "ButtonStyleModel",
      "state": {
       "font_family": null,
       "font_size": null,
       "font_style": null,
       "font_variant": null,
       "font_weight": null,
       "text_color": null,
       "text_decoration": null
      }
     },
     "d7aac34a0f5c4f4da632911289fb93a9": {
      "model_module": "@jupyter-widgets/controls",
      "model_module_version": "2.0.0",
      "model_name": "ButtonModel",
      "state": {
       "description": "Undo",
       "layout": "IPY_MODEL_08114fad4b3f401e859f9043ef384688",
       "style": "IPY_MODEL_c40a9734224d4495ac79c2906f9f4279",
       "tooltip": null
      }
     },
     "daa8955afc2241fdb5ce55a41b6a0526": {
      "model_module": "@jupyter-widgets/base",
      "model_module_version": "2.0.0",
      "model_name": "LayoutModel",
      "state": {}
     },
     "dde2b25d1ba24a818908b1d20bb1da45": {
      "model_module": "@jupyter-widgets/controls",
      "model_module_version": "2.0.0",
      "model_name": "ButtonModel",
      "state": {
       "description": "Add Column",
       "layout": "IPY_MODEL_42ac36f3b1904437918e08225e610699",
       "style": "IPY_MODEL_19a25bd76e9942b3b3d7c2c27ef60259",
       "tooltip": null
      }
     },
     "e11ee7125c7b44c29911b03374caafe9": {
      "model_module": "@jupyter-widgets/base",
      "model_module_version": "2.0.0",
      "model_name": "LayoutModel",
      "state": {}
     },
     "e48a2072ccd94dc19882be5b8cb7c643": {
      "model_module": "@jupyter-widgets/controls",
      "model_module_version": "2.0.0",
      "model_name": "ButtonStyleModel",
      "state": {
       "font_family": null,
       "font_size": null,
       "font_style": null,
       "font_variant": null,
       "font_weight": null,
       "text_color": null,
       "text_decoration": null
      }
     },
     "f04abd57e80d4eaba559e15aa26cba4b": {
      "model_module": "@jupyter-widgets/base",
      "model_module_version": "2.0.0",
      "model_name": "LayoutModel",
      "state": {
       "height": "250px"
      }
     },
     "f84339d204654c8fa97f7db591d246e0": {
      "model_module": "ipydatagrid",
      "model_module_version": "1.1.16",
      "model_name": "DataGridModel",
      "state": {
       "_data": {
        "data": [
         {
          "0": "",
          "1": "",
          "2": "",
          "ipydguuid": 0,
          "key": "  Variable:"
         },
         {
          "0": "",
          "1": "",
          "2": "",
          "ipydguuid": 1,
          "key": " Units:"
         },
         {
          "0": "",
          "1": "",
          "2": "",
          "ipydguuid": 2,
          "key": 0
         },
         {
          "0": "",
          "1": "",
          "2": "",
          "ipydguuid": 3,
          "key": 1
         },
         {
          "0": "",
          "1": "",
          "2": "",
          "ipydguuid": 4,
          "key": 2
         },
         {
          "0": "",
          "1": "",
          "2": "",
          "ipydguuid": 5,
          "key": 3
         },
         {
          "0": "",
          "1": "",
          "2": "",
          "ipydguuid": 6,
          "key": 4
         },
         {
          "0": "",
          "1": "",
          "2": "",
          "ipydguuid": 7,
          "key": 5
         },
         {
          "0": "",
          "1": "",
          "2": "",
          "ipydguuid": 8,
          "key": 6
         },
         {
          "0": "",
          "1": "",
          "2": "",
          "ipydguuid": 9,
          "key": 7
         }
        ],
        "fields": [
         {
          "key": null
         },
         {
          "0": null
         },
         {
          "1": null
         },
         {
          "2": null
         },
         {
          "ipydguuid": null
         }
        ],
        "schema": {
         "fields": [
          {
           "name": "key",
           "type": "string"
          },
          {
           "name": 0,
           "type": "string"
          },
          {
           "name": 1,
           "type": "string"
          },
          {
           "name": 2,
           "type": "string"
          },
          {
           "name": "ipydguuid",
           "type": "integer"
          }
         ],
         "pandas_version": "1.4.0",
         "primaryKey": [
          "key",
          "ipydguuid"
         ],
         "primaryKeyUuid": "ipydguuid"
        }
       },
       "_model_name": "DataGridModel",
       "auto_fit_columns": false,
       "auto_fit_params": {
        "area": "all",
        "numCols": null,
        "padding": 30
       },
       "base_column_header_size": 20,
       "base_column_size": 64,
       "base_row_header_size": 64,
       "base_row_size": 20,
       "default_renderer": "IPY_MODEL_d424d5a704ab421cb037bc6bd9a0c4b8",
       "editable": true,
       "header_visibility": "all",
       "layout": "IPY_MODEL_f04abd57e80d4eaba559e15aa26cba4b",
       "selection_mode": "cell"
      }
     },
     "f9972cd70fe145e98b4bb696a704db68": {
      "model_module": "@jupyter-widgets/controls",
      "model_module_version": "2.0.0",
      "model_name": "ButtonStyleModel",
      "state": {
       "font_family": null,
       "font_size": null,
       "font_style": null,
       "font_variant": null,
       "font_weight": null,
       "text_color": null,
       "text_decoration": null
      }
     },
     "ffd50f4912dc4ab8befff7cc557d1bc3": {
      "model_module": "@jupyter-widgets/controls",
      "model_module_version": "2.0.0",
      "model_name": "ButtonModel",
      "state": {
       "description": "Add Column",
       "layout": "IPY_MODEL_b488cd8f45694f9fb013d3c97e84578f",
       "style": "IPY_MODEL_4f232801ba2d49ba98b4bc9d8198f9ac",
       "tooltip": null
      }
     }
    },
    "version_major": 2,
    "version_minor": 0
   }
  }
 },
 "nbformat": 4,
 "nbformat_minor": 5
}
