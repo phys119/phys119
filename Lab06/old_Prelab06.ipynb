{
 "cells": [
  {
   "attachments": {},
   "cell_type": "markdown",
   "id": "c0a76f2d-ef0a-4eee-9411-c124f1e08887",
   "metadata": {},
   "source": [
    "# Lab 06 Prelab - A review of residuals and fitting"
   ]
  },
  {
   "cell_type": "code",
   "execution_count": 1,
   "id": "1b294a4c-e07a-43e6-b6e9-de737f89c959",
   "metadata": {},
   "outputs": [],
   "source": [
    "%reset -f\n",
    "import data_entry2\n",
    "import numpy as np\n",
    "import matplotlib.pyplot as plt\n",
    "import fit_plot\n",
    "%matplotlib widget"
   ]
  },
  {
   "attachments": {},
   "cell_type": "markdown",
   "id": "b1c7e749-6d19-48d1-a16a-05da741efad5",
   "metadata": {},
   "source": [
    "This prelab focuses on revisting and reinforcing concepts from Lab 05. We start with a review of residual plots."
   ]
  },
  {
   "attachments": {},
   "cell_type": "markdown",
   "id": "b692a95b-892b-4b2f-bd5a-f0e39d5a3f98",
   "metadata": {
    "tags": []
   },
   "source": [
    "## Review: How to read residuals"
   ]
  },
  {
   "attachments": {},
   "cell_type": "markdown",
   "id": "41d4bf3d-1d4a-40f3-b2d0-93308f296326",
   "metadata": {},
   "source": [
    "**Your turn #1a:** Given experimental data and a model for that data, what is a residual?"
   ]
  },
  {
   "attachments": {},
   "cell_type": "markdown",
   "id": "363e57f7-4fc5-4f76-91c2-0d70bf4da8e7",
   "metadata": {},
   "source": []
  },
  {
   "attachments": {},
   "cell_type": "markdown",
   "id": "8da66fa7-4e33-439b-b45a-2a351a589242",
   "metadata": {},
   "source": [
    "**Your turn #1b:** What are the properties of a residual plot that inform us that the model is a good fit to the data?"
   ]
  },
  {
   "attachments": {},
   "cell_type": "markdown",
   "id": "8da6fda0-d830-4cb4-bd0e-6ad8ad148363",
   "metadata": {},
   "source": []
  },
  {
   "attachments": {},
   "cell_type": "markdown",
   "id": "7549b6de-1d02-48d6-b146-f0f1288bc4e5",
   "metadata": {
    "jp-MarkdownHeadingCollapsed": true,
    "tags": []
   },
   "source": [
    "##### **Answer for #1a:**"
   ]
  },
  {
   "attachments": {},
   "cell_type": "markdown",
   "id": "972fe2f5-6877-4274-9626-cec7dbceb3f3",
   "metadata": {},
   "source": [
    "A residual is defined as the difference between experimental data and a model, i.e., $r_i = y_i - \\text{model}(x_i)$ or $r_i = y_i - f(x_i)$."
   ]
  },
  {
   "attachments": {},
   "cell_type": "markdown",
   "id": "58c9b12a-6304-495f-965d-27d5331160b9",
   "metadata": {
    "jp-MarkdownHeadingCollapsed": true,
    "tags": []
   },
   "source": [
    "##### **Answer for #1b:**"
   ]
  },
  {
   "attachments": {},
   "cell_type": "markdown",
   "id": "254156ce-7308-4af7-b048-430ce9b69622",
   "metadata": {},
   "source": [
    "A model that is a good fit to the data will have a residual plot with:<font>\n",
    "- No obvious trend\n",
    "- A roughly equal scatter of points across the x-axis (x = 0)\n",
    "- And if the uncertainties are well characterized, we will also see\n",
    "    + Roughly ~68% of error bars crossing the x-axis\n",
    "    + Roughly all (~95%) of doubled error bars crossing the x-axis"
   ]
  },
  {
   "attachments": {},
   "cell_type": "markdown",
   "id": "6390dd02-f08d-4252-bb0a-d5f385ce7fc9",
   "metadata": {
    "tags": []
   },
   "source": [
    "## Diagnosing model fits using residuals"
   ]
  },
  {
   "attachments": {},
   "cell_type": "markdown",
   "id": "aaf4324a-09c6-4130-b704-29127f256c2b",
   "metadata": {},
   "source": [
    "Now that we have reminded ourselves of how to use residuals to diagnose the goodness of fit of a model to a given set of experimental data, let's use these criteria to diagnose some fits. Below, we have three data sets to which we have tried to fit the model of a straight line with intercept; $y_{\\text{model}} = mx + b$. We provide a `slope` and `intercept` for an initial fit and ask you to diagnose what needs to be changed to improve the quality of the fit."
   ]
  },
  {
   "cell_type": "code",
   "execution_count": 3,
   "id": "06a9ffbc-a740-4bc5-bc71-1a4c1bcfdaa1",
   "metadata": {},
   "outputs": [
    {
     "name": "stdout",
     "output_type": "stream",
     "text": [
      "Sheet name: lab06_prelab_data.csv\n"
     ]
    },
    {
     "data": {
      "application/vnd.jupyter.widget-view+json": {
       "model_id": "ef81ef91c50948b2a862ce4fa7df6412",
       "version_major": 2,
       "version_minor": 0
      },
      "text/plain": [
       "VBox(children=(HBox(children=(Button(description='Undo', style=ButtonStyle()), Button(description='Redo', styl…"
      ]
     },
     "metadata": {},
     "output_type": "display_data"
    }
   ],
   "source": [
    "# Run me to load our three data sets\n",
    "# Make sure to hit the \"Generate Vectors\" button!\n",
    "\n",
    "de1 = data_entry2.sheet(\"lab06_prelab_data.csv\")"
   ]
  },
  {
   "attachments": {},
   "cell_type": "markdown",
   "id": "f8709fc8-68e5-43d3-9603-50b5479709af",
   "metadata": {
    "tags": []
   },
   "source": [
    "### Your turn #2 (Dataset 1)\n",
    "Answer the questions below related to the fit shown and then for part c, update the fitting parameters to get a better fit. \n",
    "\n",
    "![data set 1](https://i.ibb.co/r7ShPLk/data1.png)"
   ]
  },
  {
   "attachments": {},
   "cell_type": "markdown",
   "id": "11a6012a-3e0c-4f2b-b03d-3c4015a14375",
   "metadata": {},
   "source": [
    "#### **Your turn #2a:** Which feature(s) of the RESIDUALS plot above indicates a problem with the fit of the model to the data?"
   ]
  },
  {
   "attachments": {},
   "cell_type": "markdown",
   "id": "c553ab4b-faa9-427a-9c3a-53d3fbc063d0",
   "metadata": {},
   "source": []
  },
  {
   "attachments": {},
   "cell_type": "markdown",
   "id": "abc01138-0e86-42e0-81f8-4c25039a3d15",
   "metadata": {
    "jp-MarkdownHeadingCollapsed": true,
    "tags": []
   },
   "source": [
    "##### **Answer #2a**"
   ]
  },
  {
   "attachments": {},
   "cell_type": "markdown",
   "id": "23af65be-6850-40d2-9625-a1dab9e21be4",
   "metadata": {},
   "source": [
    "We see a trend in the residuals where all of the residuals are negative, lying below the residuals = 0 line."
   ]
  },
  {
   "attachments": {},
   "cell_type": "markdown",
   "id": "4a62d3da-ca26-4c3d-9287-d7c20edfefe0",
   "metadata": {},
   "source": [
    "#### **Your turn #2b:** What should be changed about the model to improve the fit?"
   ]
  },
  {
   "attachments": {},
   "cell_type": "markdown",
   "id": "1c0a7ca6-c813-4dd8-94f0-372f6a2d021b",
   "metadata": {},
   "source": []
  },
  {
   "attachments": {},
   "cell_type": "markdown",
   "id": "c35a95b1-8aa2-4605-aa84-74e88f723207",
   "metadata": {
    "jp-MarkdownHeadingCollapsed": true,
    "tags": []
   },
   "source": [
    "##### **Answer #2b**"
   ]
  },
  {
   "attachments": {},
   "cell_type": "markdown",
   "id": "ed12cab0-f091-4b12-81a8-beebfdd1cccb",
   "metadata": {},
   "source": [
    "The y-intercept of the model is too large, so we should decrease it."
   ]
  },
  {
   "attachments": {},
   "cell_type": "markdown",
   "id": "4bf44dc4-9375-4da6-abed-b41dd0111c46",
   "metadata": {},
   "source": [
    "#### **Your turn #2c:** Run the `fit_plot.line` interactive fitting session below and update the fitting parameters to `slope = 1` and `intercept = 1.1` using the text entry boxes in the widget. Use the interactive fitting widget to update the fit to show a good fit in the scatter plot and residuals. What are your new slope and/or y-intercept?"
   ]
  },
  {
   "attachments": {},
   "cell_type": "markdown",
   "id": "e4cbb0d3-ac8f-4256-8092-92196f0ba8ac",
   "metadata": {},
   "source": []
  },
  {
   "cell_type": "code",
   "execution_count": null,
   "id": "d9daf92a-9dbc-4cc2-8936-629222f0eee7",
   "metadata": {},
   "outputs": [],
   "source": [
    "# Use the text boxes to manually update the values to\n",
    "# slope = 1, intercept = 1.1\n",
    "\n",
    "fit_plot.line(\"Data set 1\", xVec, y1Vec, dy1Vec)"
   ]
  },
  {
   "attachments": {},
   "cell_type": "markdown",
   "id": "a6f132e8-2472-40d0-a27a-a2862ef59d55",
   "metadata": {
    "jp-MarkdownHeadingCollapsed": true,
    "tags": []
   },
   "source": [
    "##### **Answer #2c:**"
   ]
  },
  {
   "attachments": {},
   "cell_type": "markdown",
   "id": "5af39d3f-d813-43c9-8dc0-34826f509322",
   "metadata": {},
   "source": [
    "Changing the intercept from 1.1 to 1 in the code improves the model in the desired fashion."
   ]
  },
  {
   "attachments": {},
   "cell_type": "markdown",
   "id": "febd32d4-92ee-486d-85f4-67b12ba78fcc",
   "metadata": {
    "tags": []
   },
   "source": [
    "### Your turn #3 (Dataset 2)\n",
    "\n",
    "Answer the questions below related to the fit shown and then for part c, update the fitting parameters to get a better fit. \n",
    "\n",
    "![data set 2](https://i.ibb.co/5sLwRZh/data2.png)"
   ]
  },
  {
   "attachments": {},
   "cell_type": "markdown",
   "id": "6472236c-87c2-4b3f-a933-342ebbcb1126",
   "metadata": {},
   "source": [
    "#### **Your turn #3a:** Which feature(s) of the RESIDUALS plot above indicates a problem with the fit of the model to the data?"
   ]
  },
  {
   "attachments": {},
   "cell_type": "markdown",
   "id": "e9440bce-a74f-4360-8d15-576c96769641",
   "metadata": {},
   "source": []
  },
  {
   "attachments": {},
   "cell_type": "markdown",
   "id": "effa081f-9c4c-4e61-b326-e0c58d2447f2",
   "metadata": {
    "jp-MarkdownHeadingCollapsed": true,
    "tags": []
   },
   "source": [
    "##### **Answer #3a**"
   ]
  },
  {
   "attachments": {},
   "cell_type": "markdown",
   "id": "0978ec6a-10ca-4bcd-99f3-a8c53c816d29",
   "metadata": {},
   "source": [
    "We see an (upwards) linear trend in the residuals plot."
   ]
  },
  {
   "attachments": {},
   "cell_type": "markdown",
   "id": "15089a78-0d3f-4a35-bee3-f9b58f51715d",
   "metadata": {},
   "source": [
    "#### **Your turn #3b:** What should be changed about the model to improve the fit?"
   ]
  },
  {
   "attachments": {},
   "cell_type": "markdown",
   "id": "165f2f00-b2a2-493a-89bc-15b539083d78",
   "metadata": {},
   "source": []
  },
  {
   "attachments": {},
   "cell_type": "markdown",
   "id": "7a0ac048-77fe-4ec2-961a-f0e91a5789c2",
   "metadata": {
    "jp-MarkdownHeadingCollapsed": true,
    "tags": []
   },
   "source": [
    "##### **Answer #3b**"
   ]
  },
  {
   "attachments": {},
   "cell_type": "markdown",
   "id": "52e7ca85-d096-4c39-a8a6-eaf27bcfe7b4",
   "metadata": {},
   "source": [
    "The slope of the model is too small, so we should increase it."
   ]
  },
  {
   "attachments": {},
   "cell_type": "markdown",
   "id": "4f60430c-b674-48e5-a9f0-777eae810939",
   "metadata": {},
   "source": [
    "#### **Your turn #3c:** Run the `fit_plot.line` interactive fitting session below and update the fitting parameters to `slope = 1.98` and `intercept = 3` using the text entry boxes in the widget. Use the interactive fitting widget to update the fit to show a good fit in the scatter plot and residuals. What are your new slope and/or y-intercept?"
   ]
  },
  {
   "attachments": {},
   "cell_type": "markdown",
   "id": "bf9941ec-d9de-4724-8753-17fe543858a4",
   "metadata": {},
   "source": []
  },
  {
   "attachments": {},
   "cell_type": "markdown",
   "id": "c4bec1cd-09e3-4e65-bfa9-dd783113c91d",
   "metadata": {
    "jp-MarkdownHeadingCollapsed": true,
    "tags": []
   },
   "source": [
    "##### **Answer #3c**"
   ]
  },
  {
   "attachments": {},
   "cell_type": "markdown",
   "id": "fb104d65-9be7-4a93-8a35-3bbe8256fbf4",
   "metadata": {},
   "source": [
    "Changing the slope from 1.9 to 2 in the code improves the model in the desired fashion."
   ]
  },
  {
   "attachments": {},
   "cell_type": "markdown",
   "id": "e1abfbca-ae28-4900-b600-4a3c4fe46e6a",
   "metadata": {},
   "source": [
    "##### **Cell to generate plots for data set 2**"
   ]
  },
  {
   "cell_type": "code",
   "execution_count": null,
   "id": "996b8cc9-151b-46ae-845f-07eb05dd6cf8",
   "metadata": {},
   "outputs": [],
   "source": [
    "# Use the text boxes to manually update the values to\n",
    "# slope = 1.98, intercept = 3\n",
    "\n",
    "fit_plot.line(\"Data set 2\", xVec, y2Vec, dy2Vec)"
   ]
  },
  {
   "attachments": {},
   "cell_type": "markdown",
   "id": "e4d4c4f0-d1db-4d62-b277-09ffbc27d0e3",
   "metadata": {
    "tags": []
   },
   "source": [
    "### Your turn #4 (Data set 3)"
   ]
  },
  {
   "attachments": {},
   "cell_type": "markdown",
   "id": "df62bd41-7618-4522-8faf-b7c4557fc9d5",
   "metadata": {},
   "source": [
    "**Note:** For this data set, the issue with the model is a bit harder to fix compared to the other two examples; for this part it is alright to skip the step of fixing the model in the code, and just comment on what appears to be wrong and how one could feasibly improve the fit of the model to the data.\n",
    "\n",
    "![data set 3](https://i.ibb.co/r0n2b5T/data3.png)"
   ]
  },
  {
   "attachments": {},
   "cell_type": "markdown",
   "id": "f79b845f-3ee1-42b5-80bc-8dce41c7d4d6",
   "metadata": {},
   "source": [
    "#### **Your turn #4a:** Which feature(s) of the RESIDUALS plot above indicates a problem with the fit of the model to the data?"
   ]
  },
  {
   "attachments": {},
   "cell_type": "markdown",
   "id": "0c4145e1-2908-427e-9831-1750f10fffe7",
   "metadata": {},
   "source": []
  },
  {
   "attachments": {},
   "cell_type": "markdown",
   "id": "ebd4624f-c853-4189-932a-0165d04b5e9e",
   "metadata": {
    "jp-MarkdownHeadingCollapsed": true,
    "tags": []
   },
   "source": [
    "##### **Answer #4a**"
   ]
  },
  {
   "attachments": {},
   "cell_type": "markdown",
   "id": "b3a0365c-af80-4085-b1cc-c39d70062a01",
   "metadata": {},
   "source": [
    "We notice from the residuals plot that there is a upwards parabolic trend."
   ]
  },
  {
   "attachments": {},
   "cell_type": "markdown",
   "id": "5706a279-f9ba-4aca-a23b-06c2a2ec90e0",
   "metadata": {},
   "source": [
    "#### **Your turn #4b:** What should be changed about the model to improve the fit?"
   ]
  },
  {
   "attachments": {},
   "cell_type": "markdown",
   "id": "a397c59b-4b81-4837-9e16-3316156bcb09",
   "metadata": {},
   "source": []
  },
  {
   "attachments": {},
   "cell_type": "markdown",
   "id": "f7264770-baf9-4af8-9087-30f4471585fd",
   "metadata": {
    "jp-MarkdownHeadingCollapsed": true,
    "tags": []
   },
   "source": [
    "##### **Answer #4b**"
   ]
  },
  {
   "attachments": {},
   "cell_type": "markdown",
   "id": "ae801a6c-15bb-48f6-8f30-d80d39eeec89",
   "metadata": {},
   "source": [
    "This parabolic trend tells us that the current linear model is not a good fit for the data; we should add a (positive) quadratic term."
   ]
  },
  {
   "attachments": {},
   "cell_type": "markdown",
   "id": "3cbe13bc-4a59-4781-adbf-2d6301e1b7e6",
   "metadata": {},
   "source": [
    "#### **Your turn #4c (optional):** Play around with the interactive fitting below to convince yourself that no matter which compination of slope and intercept you try, a linear model will not result in a good fit."
   ]
  },
  {
   "cell_type": "code",
   "execution_count": null,
   "id": "aa76ac92-1b98-4732-8584-1935a6b7d91a",
   "metadata": {},
   "outputs": [],
   "source": [
    "# Use the text boxes to manually update the values to\n",
    "# slope = 1, intercept = 3\n",
    "\n",
    "fit_plot.line(\"Data set 3\", xVec, y3Vec, dy3Vec)"
   ]
  },
  {
   "cell_type": "markdown",
   "id": "f63163e1-19cf-4505-905c-2f80e2533ea8",
   "metadata": {},
   "source": [
    "## Using models that are more complicated than `y = mx + b` linear models"
   ]
  },
  {
   "cell_type": "markdown",
   "id": "2ea6f191-e082-43c4-ba7a-323724a88554",
   "metadata": {},
   "source": [
    "Frequently, data that we expect to be linear will be more complicated than that. Often this happens when the assumption of linearity has overlooked other important effects.\n",
    "\n",
    "As such, it is good to know how to modify our modelling and plotting code to include nonlinear effects. \n",
    "\n",
    "Below we include a linear model version of our plotting code from prelab 05, and then afterward a nonlinear version to show how you update the code to make a more complicated model. Out more complicated model includes a $0.01 x^2$ term in the model, which involves including a third fitting parameter `par3` and then updating the two places where we use the model to calculate y-values: \n",
    "- ypoints = par3 * xpoints**2 + xpoints * slope + intercept\n",
    "- ymodel = par3 * xVec**2 + xVec * slope + intercept\n",
    "\n",
    "In the nonlinear version of the plotting code, look for the modified code where there are comment lines using \"##########\" to help them stand out."
   ]
  },
  {
   "cell_type": "markdown",
   "id": "6b16e790-4a74-4627-95df-2fee906d7c06",
   "metadata": {},
   "source": [
    "### *The best fit using a linear model. The obvious parabolic structure in the residuals suggests a different model is needed*"
   ]
  },
  {
   "cell_type": "code",
   "execution_count": null,
   "id": "4f5af963-ed80-4129-88ec-9055a6de14ec",
   "metadata": {},
   "outputs": [],
   "source": [
    "# Run me for a (poor) linear fit to data set 3\n",
    "\n",
    "# Scatter step 1: Define the variables we will be plotting, as well as labels and titles\n",
    "# Plotting variables\n",
    "xdata = xVec\n",
    "ydata = y3Vec\n",
    "dydata = dy3Vec\n",
    "\n",
    "# Labels and titles\n",
    "data_label = \"Data set 3\"\n",
    "model_label = \"y = mx + b\"\n",
    "graph_title = \"Data set 3\"\n",
    "x_label = \"x (s)\"\n",
    "y_label = \"y (m)\"\n",
    "residuals_title = \"Residuals for Data set 3 linear fit\"\n",
    "residuals_y_label = \"Residual = data - model (m)\"\n",
    "\n",
    "# Model parameters\n",
    "######## SLOPE AND INTERCEPT CHOSEN TO SHOW CLEARLY THAT THE DATA ARE NONLINEAR #######\n",
    "slope = 1.07 \n",
    "intercept = 2.93\n",
    "\n",
    "# Scatter step 2: find the limits of the data:\n",
    "xmin = np.min(xdata) # use the np.min function to find the smallest x-value\n",
    "xmax = np.max(xdata) # same for max\n",
    "# print (xmin, xmax)  # uncomment to see what the limits are\n",
    "\n",
    "# Scatter step 3: generate a bunch of x points between xmin and xmax to help us plot the model line\n",
    "xpoints = np.linspace(xmin, xmax, 200) # gives 200 evenly spaced points between xmin and xmax\n",
    "# print(xpoints) # uncomment to see the x values that were generated.\n",
    "\n",
    "# Scatter step 4: calculate the y points to plot the model line\n",
    "ypoints = xpoints * slope + intercept # this calculates the model y-values at all 200 points.\n",
    "\n",
    "# Scatter step 5: plot the model line. We plot this as a red line \"r-\" :\n",
    "plt.figure()\n",
    "plt.plot(xpoints, ypoints, \"r-\", label = model_label)\n",
    "\n",
    "# Scatter step 6: Plot the data, with the previous details from before\n",
    "plt.errorbar(xdata, ydata, dydata, fmt=\"bo\", markersize = 3, label=data_label)\n",
    "plt.title(graph_title)\n",
    "plt.xlabel(x_label)\n",
    "plt.ylabel(y_label)\n",
    "plt.legend()\n",
    "plt.show()\n",
    "\n",
    "# Residuals step 2: Calculate the model prediction for each our data points from dxVec\n",
    "ymodel = slope * xdata + intercept # y = mx at each data point, x_i\n",
    "\n",
    "# Residuals step 3: Calcualte the residuals vector\n",
    "residualsVec = ydata - ymodel\n",
    "\n",
    "# Residuals step 4: Plot the residuals vector against the x-data vector\n",
    "plt.figure()\n",
    "plt.errorbar(xdata, residualsVec, dydata, fmt=\"bo\", markersize = 3)\n",
    "\n",
    "# Residuals step 5: Add a horizontal line at R=0 to the plot\n",
    "plt.hlines(y=0, xmin=xmin, xmax=xmax, color='k') # draw a black line at y = 0.\n",
    "\n",
    "# Residuals step 6: Add axis labels and title, and show the graph\n",
    "plt.title(residuals_title)\n",
    "plt.xlabel(x_label) # re-use the x_label from the scatter plot with model\n",
    "plt.ylabel(residuals_y_label)\n",
    "plt.show()"
   ]
  },
  {
   "cell_type": "markdown",
   "id": "52427009-2959-4e7f-ad80-42eabf34a196",
   "metadata": {},
   "source": [
    "### *A nonlinear fit which adds `par3 * x**2` to the model and updates `slope` and `intercept` to create a good fit*"
   ]
  },
  {
   "cell_type": "code",
   "execution_count": null,
   "id": "58dbe819-5cdd-4ca4-990f-9937126afb36",
   "metadata": {},
   "outputs": [],
   "source": [
    "# Run me for an improved nonlinear fit to data set 3\n",
    "\n",
    "# Scatter step 1: Define the variables we will be plotting, as well as labels and titles\n",
    "# Plotting variables\n",
    "xdata = xVec\n",
    "ydata = y3Vec\n",
    "dydata = dy3Vec\n",
    "\n",
    "# Labels and titles\n",
    "data_label = \"Data set 3\"\n",
    "model_label = \"y = mx + b\"\n",
    "graph_title = \"Data set 3\"\n",
    "x_label = \"x (s)\"\n",
    "y_label = \"y (m)\"\n",
    "residuals_title = \"Residuals for Data set 3 linear fit\"\n",
    "residuals_y_label = \"Residual = data - model (m)\"\n",
    "\n",
    "# Model parameters\n",
    "################### UPDATE MODEL PARAMETERS TO INCLUDE par3 * x**2 ####################\n",
    "slope = 1 # Estimate of the slope\n",
    "intercept = 3 # Estimate of the y-intercept\n",
    "par3 = 0.01\n",
    "#######################################################################################\n",
    "\n",
    "# Scatter step 2: find the limits of the data:\n",
    "xmin = np.min(xdata) # use the np.min function to find the smallest x-value\n",
    "xmax = np.max(xdata) # same for max\n",
    "# print (xmin, xmax)  # uncomment to see what the limits are\n",
    "\n",
    "# Scatter step 3: generate a bunch of x points between xmin and xmax to help us plot the model line\n",
    "xpoints = np.linspace(xmin, xmax, 200) # gives 200 evenly spaced points between xmin and xmax\n",
    "# print(xpoints) # uncomment to see the x values that were generated.\n",
    "\n",
    "# Scatter step 4: calculate the y points to plot the model line\n",
    "############### UPDATE THE MODEL LINE TO INCLUDE par3 * xpoints**2 ####################\n",
    "ypoints = par3 * xpoints**2 + xpoints * slope + intercept \n",
    "#######################################################################################\n",
    "\n",
    "# Scatter step 5: plot the model line. We plot this as a red line \"r-\" :\n",
    "plt.figure()\n",
    "plt.plot(xpoints, ypoints, \"r-\", label = model_label)\n",
    "\n",
    "# Scatter step 6: Plot the data, with the previous details from before\n",
    "plt.errorbar(xdata, ydata, dydata, fmt=\"bo\", markersize = 3, label=data_label)\n",
    "plt.title(graph_title)\n",
    "plt.xlabel(x_label)\n",
    "plt.ylabel(y_label)\n",
    "plt.legend()\n",
    "plt.show()\n",
    "\n",
    "# Residuals step 2: Calculate the model prediction for each our data points from dxVec\n",
    "####### UPDATE THE MODEL PREDICTION FOR RESIDUALS TO INCLUDE par3 * xpoints**2 #######\n",
    "ymodel = par3 * xdata**2 + slope * xdata + intercept # y = par3*x**2 + mx + b\n",
    "######################################################################################\n",
    "\n",
    "# Residuals step 3: Calcualte the residuals vector\n",
    "residualsVec = ydata - ymodel\n",
    "\n",
    "# Residuals step 4: Plot the residuals vector against the x-data vector\n",
    "plt.figure()\n",
    "plt.errorbar(xdata, residualsVec, dydata, fmt=\"bo\", markersize = 3)\n",
    "\n",
    "# Residuals step 5: Add a horizontal line at R=0 to the plot\n",
    "plt.hlines(y=0, xmin=xmin, xmax=xmax, color='k') # draw a black line at y = 0.\n",
    "\n",
    "# Residuals step 6: Add axis labels and title, and show the graph\n",
    "plt.title(residuals_title)\n",
    "plt.xlabel(x_label) # re-use the x_label from the scatter plot with model\n",
    "plt.ylabel(residuals_y_label)\n",
    "plt.show()"
   ]
  },
  {
   "cell_type": "markdown",
   "id": "8b23dba3-baaa-4661-bf46-346e102ea52b",
   "metadata": {},
   "source": [
    "### *Summary of the \"Using models that are more complicated than `y = mx + b` linear models\" section*"
   ]
  },
  {
   "cell_type": "markdown",
   "id": "1aca1c7c-2e9a-403b-ad6f-cb5bc8907f08",
   "metadata": {},
   "source": [
    "In the above section we introduced a way to modify our models in our code for scatter plots with models and for residuals plots to use models other than `y = mx + b`. You may find this technique helpful in Lab 06 or in future labs."
   ]
  },
  {
   "cell_type": "markdown",
   "id": "12377e64-de8b-432f-ae15-5b5c7a107bff",
   "metadata": {},
   "source": [
    "## Your turn #5: Preparing your Lab 06 notebook\n",
    "In this final set of tasks you will prepare your Lab 06 notebook for data collection and analysis\n",
    "\n",
    "1. Open the Lab 06 Instructions on Canvas and take a couple of minutes to read through them so that you have a sense of how you will be spending your time during the lab.\n",
    "2. In Part B, you will notice that we are going to re-analyze the Lab 05 data. Add some code to your Part B notebook to read your Lab 05 data into the Lab 06 notebook and to launch the `fit_plot.line()` interactive fitting widget. Update the fitting parameters to match your best fit from Lab 05. We are going to learn a new tool to help us improve our fits even further and we are going to want your previous best fit as a starting point.\n",
    "3. Also in Part B (Step 3), you will using your matplotlib graphing skills to make nice, well-labelled plots, like you did in Section 5.5 of Prelab 05 and Part G of Lab 05. Copy in the code that you need to make those plots. \n",
    "\n",
    "You should now be ready for this lab."
   ]
  },
  {
   "attachments": {},
   "cell_type": "markdown",
   "id": "43f99a8b-81b4-489f-9c3c-4507014b16de",
   "metadata": {},
   "source": [
    "# Submit\n",
    "\n",
    "Steps for submission:\n",
    "\n",
    "1. Click: Run => Run_All_Cells\n",
    "2. Read through the notebook to ensure all the cells executed correctly and without error.\n",
    "3. File => Save_and_Export_Notebook_As->HTML\n",
    "4. Inspect your downloaded html document\n",
    "5. Upload the HTML document to the lab submission assignment on Canvas."
   ]
  },
  {
   "cell_type": "code",
   "execution_count": null,
   "id": "5300ab2e",
   "metadata": {},
   "outputs": [],
   "source": []
  },
  {
   "cell_type": "code",
   "execution_count": null,
   "id": "eb38a50c-d9d7-46da-9f99-0b3823d14b1a",
   "metadata": {},
   "outputs": [],
   "source": [
    "display_sheets()"
   ]
  }
 ],
 "metadata": {
  "kernelspec": {
   "display_name": "Python 3 (ipykernel)",
   "language": "python",
   "name": "python3"
  },
  "language_info": {
   "codemirror_mode": {
    "name": "ipython",
    "version": 3
   },
   "file_extension": ".py",
   "mimetype": "text/x-python",
   "name": "python",
   "nbconvert_exporter": "python",
   "pygments_lexer": "ipython3",
   "version": "3.10.10"
  },
  "widgets": {
   "application/vnd.jupyter.widget-state+json": {
    "state": {
     "05bbaa4710de413893459a7134286dc5": {
      "model_module": "@jupyter-widgets/controls",
      "model_module_version": "2.0.0",
      "model_name": "ButtonModel",
      "state": {
       "description": "Undo",
       "layout": "IPY_MODEL_17c92d0aeae743ad8aef9eff31d73094",
       "style": "IPY_MODEL_4879962e31064707bb83d22017e06b71",
       "tooltip": null
      }
     },
     "07ff67c2df4640b1b9fb0134d6cc70b9": {
      "model_module": "@jupyter-widgets/base",
      "model_module_version": "2.0.0",
      "model_name": "LayoutModel",
      "state": {}
     },
     "0d75512179b142df91417ffa3b7fb679": {
      "model_module": "@jupyter-widgets/base",
      "model_module_version": "2.0.0",
      "model_name": "LayoutModel",
      "state": {}
     },
     "168cc55cfd6a4142811475c6d018697c": {
      "model_module": "@jupyter-widgets/base",
      "model_module_version": "2.0.0",
      "model_name": "LayoutModel",
      "state": {}
     },
     "175b32ec674043f59b21924605693082": {
      "model_module": "@jupyter-widgets/base",
      "model_module_version": "2.0.0",
      "model_name": "LayoutModel",
      "state": {}
     },
     "175e8cb9e83b43a5b95f42efadfda72a": {
      "model_module": "@jupyter-widgets/base",
      "model_module_version": "2.0.0",
      "model_name": "LayoutModel",
      "state": {
       "height": "250px"
      }
     },
     "17c92d0aeae743ad8aef9eff31d73094": {
      "model_module": "@jupyter-widgets/base",
      "model_module_version": "2.0.0",
      "model_name": "LayoutModel",
      "state": {}
     },
     "1888ee78fe4547c3bcaf169bf1aaa445": {
      "model_module": "@jupyter-widgets/base",
      "model_module_version": "2.0.0",
      "model_name": "LayoutModel",
      "state": {}
     },
     "309fddb87d6b473f80e5dd6d40e3cf15": {
      "model_module": "@jupyter-widgets/controls",
      "model_module_version": "2.0.0",
      "model_name": "ButtonModel",
      "state": {
       "description": "Add Row",
       "layout": "IPY_MODEL_f43fdf61074b492684beed570f7838ef",
       "style": "IPY_MODEL_3c4d42ac8733492bb20363694434e60b",
       "tooltip": null
      }
     },
     "35975af214be4db4acbff8ee1e55be93": {
      "model_module": "@jupyter-widgets/base",
      "model_module_version": "2.0.0",
      "model_name": "LayoutModel",
      "state": {}
     },
     "38e0b61cf72445ee9edc8f98479c8fc8": {
      "model_module": "@jupyter-widgets/controls",
      "model_module_version": "2.0.0",
      "model_name": "HBoxModel",
      "state": {
       "children": [
        "IPY_MODEL_05bbaa4710de413893459a7134286dc5",
        "IPY_MODEL_5b219e8f36624c70a580be5c996cf5d9",
        "IPY_MODEL_309fddb87d6b473f80e5dd6d40e3cf15",
        "IPY_MODEL_b2b62b944e544b47a90dc5ccb5b5826b",
        "IPY_MODEL_dc67a5a97136480a85d081561d1f3371"
       ],
       "layout": "IPY_MODEL_168cc55cfd6a4142811475c6d018697c"
      }
     },
     "3c4d42ac8733492bb20363694434e60b": {
      "model_module": "@jupyter-widgets/controls",
      "model_module_version": "2.0.0",
      "model_name": "ButtonStyleModel",
      "state": {
       "font_family": null,
       "font_size": null,
       "font_style": null,
       "font_variant": null,
       "font_weight": null,
       "text_color": null,
       "text_decoration": null
      }
     },
     "3cc6732a069b4c30a86d54b87661fcce": {
      "model_module": "@jupyter-widgets/controls",
      "model_module_version": "2.0.0",
      "model_name": "ButtonStyleModel",
      "state": {
       "font_family": null,
       "font_size": null,
       "font_style": null,
       "font_variant": null,
       "font_weight": null,
       "text_color": null,
       "text_decoration": null
      }
     },
     "405578615d2b44858c71a2493613f164": {
      "model_module": "ipydatagrid",
      "model_module_version": "^1.1.16",
      "model_name": "VegaExprModel",
      "state": {
       "_model_module_version": "^1.1.16",
       "_view_module": "ipydatagrid",
       "_view_module_version": "^1.1.16",
       "_view_name": "VegaExprView"
      }
     },
     "415ed0c5cfc44729b5b7123e89866733": {
      "model_module": "@jupyter-widgets/controls",
      "model_module_version": "2.0.0",
      "model_name": "ButtonModel",
      "state": {
       "description": "Redo",
       "layout": "IPY_MODEL_c7b743d29b7e4e179bb3024e5675c5d5",
       "style": "IPY_MODEL_764fef0f00274eeb9d8ad6948b073096",
       "tooltip": null
      }
     },
     "41841f10e114442989c287d8f9d4d390": {
      "model_module": "@jupyter-widgets/controls",
      "model_module_version": "2.0.0",
      "model_name": "ButtonStyleModel",
      "state": {
       "font_family": null,
       "font_size": null,
       "font_style": null,
       "font_variant": null,
       "font_weight": null,
       "text_color": null,
       "text_decoration": null
      }
     },
     "43a71b75bed0467882eeba71655f5bb1": {
      "model_module": "@jupyter-widgets/controls",
      "model_module_version": "2.0.0",
      "model_name": "ButtonModel",
      "state": {
       "description": "Add Row",
       "layout": "IPY_MODEL_0d75512179b142df91417ffa3b7fb679",
       "style": "IPY_MODEL_a63005869d5a4c19892f51c6497dfc99",
       "tooltip": null
      }
     },
     "466faa643a9149209fe852bdb4df57bd": {
      "model_module": "ipydatagrid",
      "model_module_version": "^1.1.16",
      "model_name": "DataGridModel",
      "state": {
       "_data": {
        "data": [
         {
          "0": "x",
          "1": "dx",
          "2": "y1",
          "3": "dy1",
          "4": "y2",
          "5": "dy2",
          "6": "y3",
          "7": "dy3",
          "ipydguuid": 0,
          "key": "  Variable:"
         },
         {
          "0": "s",
          "1": "s",
          "2": "m",
          "3": "m",
          "4": "m",
          "5": "m",
          "6": "m",
          "7": "m",
          "ipydguuid": 1,
          "key": " Units:"
         },
         {
          "0": "0.2",
          "1": "0.01",
          "2": "1.20",
          "3": "0.01",
          "4": "3.42",
          "5": "0.01",
          "6": "3.2",
          "7": "0.01",
          "ipydguuid": 2,
          "key": 0
         },
         {
          "0": "1.1",
          "1": "0.01",
          "2": "2.12",
          "3": "0.01",
          "4": "5.19",
          "5": "0.01",
          "6": "4.11",
          "7": "0.01",
          "ipydguuid": 3,
          "key": 1
         },
         {
          "0": "1.9",
          "1": "0.01",
          "2": "2.89",
          "3": "0.01",
          "4": "6.8",
          "5": "0.01",
          "6": "4.95",
          "7": "0.01",
          "ipydguuid": 4,
          "key": 2
         },
         {
          "0": "3.1",
          "1": "0.01",
          "2": "4.11",
          "3": "0.01",
          "4": "9.17",
          "5": "0.01",
          "6": "6.19",
          "7": "0.01",
          "ipydguuid": 5,
          "key": 3
         },
         {
          "0": "4.0",
          "1": "0.01",
          "2": "5.0",
          "3": "0.01",
          "4": "11.0",
          "5": "0.01",
          "6": "7.17",
          "7": "0.01",
          "ipydguuid": 6,
          "key": 4
         },
         {
          "0": "4.9",
          "1": "0.01",
          "2": "5.93",
          "3": "0.01",
          "4": "12.81",
          "5": "0.01",
          "6": "8.13",
          "7": "0.01",
          "ipydguuid": 7,
          "key": 5
         },
         {
          "0": "5.8",
          "1": "0.01",
          "2": "6.79",
          "3": "0.01",
          "4": "14.58",
          "5": "0.01",
          "6": "9.14",
          "7": "0.01",
          "ipydguuid": 8,
          "key": 6
         },
         {
          "0": "6.9",
          "1": "0.01",
          "2": "7.88",
          "3": "0.01",
          "4": "16.8",
          "5": "0.01",
          "6": "10.38",
          "7": "0.01",
          "ipydguuid": 9,
          "key": 7
         }
        ],
        "fields": [
         {
          "key": null
         },
         {
          "0": null
         },
         {
          "1": null
         },
         {
          "2": null
         },
         {
          "3": null
         },
         {
          "4": null
         },
         {
          "5": null
         },
         {
          "6": null
         },
         {
          "7": null
         },
         {
          "ipydguuid": null
         }
        ],
        "schema": {
         "fields": [
          {
           "name": "key",
           "type": "string"
          },
          {
           "name": 0,
           "type": "string"
          },
          {
           "name": 1,
           "type": "string"
          },
          {
           "name": 2,
           "type": "string"
          },
          {
           "name": 3,
           "type": "string"
          },
          {
           "name": 4,
           "type": "string"
          },
          {
           "name": 5,
           "type": "string"
          },
          {
           "name": 6,
           "type": "string"
          },
          {
           "name": 7,
           "type": "string"
          },
          {
           "name": "ipydguuid",
           "type": "integer"
          }
         ],
         "pandas_version": "1.4.0",
         "primaryKey": [
          "key",
          "ipydguuid"
         ],
         "primaryKeyUuid": "ipydguuid"
        }
       },
       "_model_module_version": "^1.1.16",
       "_model_name": "DataGridModel",
       "_view_module_version": "^1.1.16",
       "auto_fit_columns": false,
       "auto_fit_params": {
        "area": "all",
        "numCols": null,
        "padding": 30
       },
       "base_column_header_size": 20,
       "base_column_size": 64,
       "base_row_header_size": 64,
       "base_row_size": 20,
       "default_renderer": "IPY_MODEL_a9793804249c46379e705dd6967de677",
       "editable": true,
       "header_visibility": "all",
       "layout": "IPY_MODEL_175e8cb9e83b43a5b95f42efadfda72a",
       "selection_mode": "cell"
      }
     },
     "4879962e31064707bb83d22017e06b71": {
      "model_module": "@jupyter-widgets/controls",
      "model_module_version": "2.0.0",
      "model_name": "ButtonStyleModel",
      "state": {
       "font_family": null,
       "font_size": null,
       "font_style": null,
       "font_variant": null,
       "font_weight": null,
       "text_color": null,
       "text_decoration": null
      }
     },
     "5082fd0500cc4a348218bbcf1caf75ee": {
      "model_module": "@jupyter-widgets/output",
      "model_module_version": "1.0.0",
      "model_name": "OutputModel",
      "state": {
       "layout": "IPY_MODEL_55e044702c8d46ba9c584070a2346e16"
      }
     },
     "52743bd8b8044506a4b1f6efaf99d866": {
      "model_module": "@jupyter-widgets/controls",
      "model_module_version": "2.0.0",
      "model_name": "ButtonModel",
      "state": {
       "description": "Generate Vectors",
       "layout": "IPY_MODEL_b25c670d9c7c47b3829c37af718a2ca0",
       "style": "IPY_MODEL_3cc6732a069b4c30a86d54b87661fcce",
       "tooltip": null
      }
     },
     "543533355ea94031869125076b627b1b": {
      "model_module": "@jupyter-widgets/controls",
      "model_module_version": "2.0.0",
      "model_name": "ButtonModel",
      "state": {
       "description": "Add Column",
       "layout": "IPY_MODEL_35975af214be4db4acbff8ee1e55be93",
       "style": "IPY_MODEL_a3c68dc820bb436ca4cd39e4c98fc06a",
       "tooltip": null
      }
     },
     "55e044702c8d46ba9c584070a2346e16": {
      "model_module": "@jupyter-widgets/base",
      "model_module_version": "2.0.0",
      "model_name": "LayoutModel",
      "state": {}
     },
     "5b219e8f36624c70a580be5c996cf5d9": {
      "model_module": "@jupyter-widgets/controls",
      "model_module_version": "2.0.0",
      "model_name": "ButtonModel",
      "state": {
       "description": "Redo",
       "layout": "IPY_MODEL_66238a51ceff48df89e759813fb65b1b",
       "style": "IPY_MODEL_bf46965ae9234a21919ac78eb3406a53",
       "tooltip": null
      }
     },
     "66238a51ceff48df89e759813fb65b1b": {
      "model_module": "@jupyter-widgets/base",
      "model_module_version": "2.0.0",
      "model_name": "LayoutModel",
      "state": {}
     },
     "680de34fdbc74b97afb86079e94b176e": {
      "model_module": "@jupyter-widgets/controls",
      "model_module_version": "2.0.0",
      "model_name": "ButtonStyleModel",
      "state": {
       "font_family": null,
       "font_size": null,
       "font_style": null,
       "font_variant": null,
       "font_weight": null,
       "text_color": null,
       "text_decoration": null
      }
     },
     "73041206f31444d0b95ce601faf72369": {
      "model_module": "@jupyter-widgets/base",
      "model_module_version": "2.0.0",
      "model_name": "LayoutModel",
      "state": {}
     },
     "764fef0f00274eeb9d8ad6948b073096": {
      "model_module": "@jupyter-widgets/controls",
      "model_module_version": "2.0.0",
      "model_name": "ButtonStyleModel",
      "state": {
       "font_family": null,
       "font_size": null,
       "font_style": null,
       "font_variant": null,
       "font_weight": null,
       "text_color": null,
       "text_decoration": null
      }
     },
     "76766ff2a5fb4726ac6d13a985d0934d": {
      "model_module": "@jupyter-widgets/base",
      "model_module_version": "2.0.0",
      "model_name": "LayoutModel",
      "state": {}
     },
     "79379a7ccc6148b996eab2bd1c880329": {
      "model_module": "@jupyter-widgets/base",
      "model_module_version": "2.0.0",
      "model_name": "LayoutModel",
      "state": {
       "height": "250px"
      }
     },
     "896942b777454945bd93e5d894df72c6": {
      "model_module": "@jupyter-widgets/base",
      "model_module_version": "2.0.0",
      "model_name": "LayoutModel",
      "state": {}
     },
     "8d2d8663ab7746b2bf8ff5b1d2ea13d5": {
      "model_module": "@jupyter-widgets/base",
      "model_module_version": "2.0.0",
      "model_name": "LayoutModel",
      "state": {}
     },
     "96f45d16e8ba4db0be3b8d18c1ac9ee4": {
      "model_module": "@jupyter-widgets/controls",
      "model_module_version": "2.0.0",
      "model_name": "VBoxModel",
      "state": {
       "children": [
        "IPY_MODEL_38e0b61cf72445ee9edc8f98479c8fc8",
        "IPY_MODEL_466faa643a9149209fe852bdb4df57bd",
        "IPY_MODEL_5082fd0500cc4a348218bbcf1caf75ee"
       ],
       "layout": "IPY_MODEL_07ff67c2df4640b1b9fb0134d6cc70b9"
      }
     },
     "995b56835aa341c1b6461d6612e4b14d": {
      "model_module": "ipydatagrid",
      "model_module_version": "^1.1.16",
      "model_name": "TextRendererModel",
      "state": {
       "_model_module_version": "^1.1.16",
       "_view_module_version": "^1.1.16",
       "background_color": "IPY_MODEL_d389dd87bec641d9adc7d3f8e2403f2a",
       "text_color": "IPY_MODEL_405578615d2b44858c71a2493613f164"
      }
     },
     "9c4c4cbb647a4c948866661e991b3e62": {
      "model_module": "@jupyter-widgets/output",
      "model_module_version": "1.0.0",
      "model_name": "OutputModel",
      "state": {
       "layout": "IPY_MODEL_1888ee78fe4547c3bcaf169bf1aaa445"
      }
     },
     "9ee3964caaa0439a800256a92741b217": {
      "model_module": "@jupyter-widgets/controls",
      "model_module_version": "2.0.0",
      "model_name": "ButtonModel",
      "state": {
       "description": "Undo",
       "layout": "IPY_MODEL_8d2d8663ab7746b2bf8ff5b1d2ea13d5",
       "style": "IPY_MODEL_680de34fdbc74b97afb86079e94b176e",
       "tooltip": null
      }
     },
     "9fce25b079c6489b9d99d02645915341": {
      "model_module": "@jupyter-widgets/controls",
      "model_module_version": "2.0.0",
      "model_name": "HBoxModel",
      "state": {
       "children": [
        "IPY_MODEL_9ee3964caaa0439a800256a92741b217",
        "IPY_MODEL_415ed0c5cfc44729b5b7123e89866733",
        "IPY_MODEL_43a71b75bed0467882eeba71655f5bb1",
        "IPY_MODEL_543533355ea94031869125076b627b1b",
        "IPY_MODEL_52743bd8b8044506a4b1f6efaf99d866"
       ],
       "layout": "IPY_MODEL_73041206f31444d0b95ce601faf72369"
      }
     },
     "a3c68dc820bb436ca4cd39e4c98fc06a": {
      "model_module": "@jupyter-widgets/controls",
      "model_module_version": "2.0.0",
      "model_name": "ButtonStyleModel",
      "state": {
       "font_family": null,
       "font_size": null,
       "font_style": null,
       "font_variant": null,
       "font_weight": null,
       "text_color": null,
       "text_decoration": null
      }
     },
     "a63005869d5a4c19892f51c6497dfc99": {
      "model_module": "@jupyter-widgets/controls",
      "model_module_version": "2.0.0",
      "model_name": "ButtonStyleModel",
      "state": {
       "font_family": null,
       "font_size": null,
       "font_style": null,
       "font_variant": null,
       "font_weight": null,
       "text_color": null,
       "text_decoration": null
      }
     },
     "a9793804249c46379e705dd6967de677": {
      "model_module": "ipydatagrid",
      "model_module_version": "^1.1.16",
      "model_name": "TextRendererModel",
      "state": {
       "_model_module_version": "^1.1.16",
       "_view_module_version": "^1.1.16",
       "background_color": "IPY_MODEL_fc09e70c29f141d0aff996cd0cfc2b5f",
       "text_color": "IPY_MODEL_cd1c4e429c5d4fb887162658415d0ece"
      }
     },
     "b25c670d9c7c47b3829c37af718a2ca0": {
      "model_module": "@jupyter-widgets/base",
      "model_module_version": "2.0.0",
      "model_name": "LayoutModel",
      "state": {}
     },
     "b2b62b944e544b47a90dc5ccb5b5826b": {
      "model_module": "@jupyter-widgets/controls",
      "model_module_version": "2.0.0",
      "model_name": "ButtonModel",
      "state": {
       "description": "Add Column",
       "layout": "IPY_MODEL_896942b777454945bd93e5d894df72c6",
       "style": "IPY_MODEL_41841f10e114442989c287d8f9d4d390",
       "tooltip": null
      }
     },
     "ba5f9901b86642f99dd6fd34c13e015f": {
      "model_module": "@jupyter-widgets/base",
      "model_module_version": "2.0.0",
      "model_name": "LayoutModel",
      "state": {}
     },
     "bf46965ae9234a21919ac78eb3406a53": {
      "model_module": "@jupyter-widgets/controls",
      "model_module_version": "2.0.0",
      "model_name": "ButtonStyleModel",
      "state": {
       "font_family": null,
       "font_size": null,
       "font_style": null,
       "font_variant": null,
       "font_weight": null,
       "text_color": null,
       "text_decoration": null
      }
     },
     "c325a8a8e3874476868fa37f8a764dcb": {
      "model_module": "@jupyter-widgets/base",
      "model_module_version": "2.0.0",
      "model_name": "LayoutModel",
      "state": {}
     },
     "c7b743d29b7e4e179bb3024e5675c5d5": {
      "model_module": "@jupyter-widgets/base",
      "model_module_version": "2.0.0",
      "model_name": "LayoutModel",
      "state": {}
     },
     "cd1c4e429c5d4fb887162658415d0ece": {
      "model_module": "ipydatagrid",
      "model_module_version": "^1.1.16",
      "model_name": "VegaExprModel",
      "state": {
       "_model_module_version": "^1.1.16",
       "_view_module": "ipydatagrid",
       "_view_module_version": "^1.1.16",
       "_view_name": "VegaExprView"
      }
     },
     "d389dd87bec641d9adc7d3f8e2403f2a": {
      "model_module": "ipydatagrid",
      "model_module_version": "^1.1.16",
      "model_name": "VegaExprModel",
      "state": {
       "_model_module_version": "^1.1.16",
       "_view_module": "ipydatagrid",
       "_view_module_version": "^1.1.16",
       "_view_name": "VegaExprView"
      }
     },
     "dc67a5a97136480a85d081561d1f3371": {
      "model_module": "@jupyter-widgets/controls",
      "model_module_version": "2.0.0",
      "model_name": "ButtonModel",
      "state": {
       "description": "Generate Vectors",
       "layout": "IPY_MODEL_76766ff2a5fb4726ac6d13a985d0934d",
       "style": "IPY_MODEL_de3f00f9630a4297ad831c9b1f385234",
       "tooltip": null
      }
     },
     "de3f00f9630a4297ad831c9b1f385234": {
      "model_module": "@jupyter-widgets/controls",
      "model_module_version": "2.0.0",
      "model_name": "ButtonStyleModel",
      "state": {
       "font_family": null,
       "font_size": null,
       "font_style": null,
       "font_variant": null,
       "font_weight": null,
       "text_color": null,
       "text_decoration": null
      }
     },
     "ea8450c2a05c44309575c515d9a4e26c": {
      "model_module": "ipydatagrid",
      "model_module_version": "^1.1.16",
      "model_name": "DataGridModel",
      "state": {
       "_data": {
        "data": [
         {
          "0": "x",
          "1": "dx",
          "2": "y1",
          "3": "dy1",
          "4": "y2",
          "5": "dy2",
          "6": "y3",
          "7": "dy3",
          "ipydguuid": 0,
          "key": "  Variable:"
         },
         {
          "0": "s",
          "1": "s",
          "2": "m",
          "3": "m",
          "4": "m",
          "5": "m",
          "6": "m",
          "7": "m",
          "ipydguuid": 1,
          "key": " Units:"
         },
         {
          "0": "0.2",
          "1": "0.01",
          "2": "1.20",
          "3": "0.01",
          "4": "3.42",
          "5": "0.01",
          "6": "3.2",
          "7": "0.01",
          "ipydguuid": 2,
          "key": 0
         },
         {
          "0": "1.1",
          "1": "0.01",
          "2": "2.12",
          "3": "0.01",
          "4": "5.19",
          "5": "0.01",
          "6": "4.11",
          "7": "0.01",
          "ipydguuid": 3,
          "key": 1
         },
         {
          "0": "1.9",
          "1": "0.01",
          "2": "2.89",
          "3": "0.01",
          "4": "6.8",
          "5": "0.01",
          "6": "4.95",
          "7": "0.01",
          "ipydguuid": 4,
          "key": 2
         },
         {
          "0": "3.1",
          "1": "0.01",
          "2": "4.11",
          "3": "0.01",
          "4": "9.17",
          "5": "0.01",
          "6": "6.19",
          "7": "0.01",
          "ipydguuid": 5,
          "key": 3
         },
         {
          "0": "4.0",
          "1": "0.01",
          "2": "5.0",
          "3": "0.01",
          "4": "11.0",
          "5": "0.01",
          "6": "7.17",
          "7": "0.01",
          "ipydguuid": 6,
          "key": 4
         },
         {
          "0": "4.9",
          "1": "0.01",
          "2": "5.93",
          "3": "0.01",
          "4": "12.81",
          "5": "0.01",
          "6": "8.13",
          "7": "0.01",
          "ipydguuid": 7,
          "key": 5
         },
         {
          "0": "5.8",
          "1": "0.01",
          "2": "6.79",
          "3": "0.01",
          "4": "14.58",
          "5": "0.01",
          "6": "9.14",
          "7": "0.01",
          "ipydguuid": 8,
          "key": 6
         },
         {
          "0": "6.9",
          "1": "0.01",
          "2": "7.88",
          "3": "0.01",
          "4": "16.8",
          "5": "0.01",
          "6": "10.38",
          "7": "0.01",
          "ipydguuid": 9,
          "key": 7
         }
        ],
        "fields": [
         {
          "key": null
         },
         {
          "0": null
         },
         {
          "1": null
         },
         {
          "2": null
         },
         {
          "3": null
         },
         {
          "4": null
         },
         {
          "5": null
         },
         {
          "6": null
         },
         {
          "7": null
         },
         {
          "ipydguuid": null
         }
        ],
        "schema": {
         "fields": [
          {
           "name": "key",
           "type": "string"
          },
          {
           "name": 0,
           "type": "string"
          },
          {
           "name": 1,
           "type": "string"
          },
          {
           "name": 2,
           "type": "string"
          },
          {
           "name": 3,
           "type": "string"
          },
          {
           "name": 4,
           "type": "string"
          },
          {
           "name": 5,
           "type": "string"
          },
          {
           "name": 6,
           "type": "string"
          },
          {
           "name": 7,
           "type": "string"
          },
          {
           "name": "ipydguuid",
           "type": "integer"
          }
         ],
         "pandas_version": "1.4.0",
         "primaryKey": [
          "key",
          "ipydguuid"
         ],
         "primaryKeyUuid": "ipydguuid"
        }
       },
       "_model_module_version": "^1.1.16",
       "_model_name": "DataGridModel",
       "_view_module_version": "^1.1.16",
       "auto_fit_columns": false,
       "auto_fit_params": {
        "area": "all",
        "numCols": null,
        "padding": 30
       },
       "base_column_header_size": 20,
       "base_column_size": 64,
       "base_row_header_size": 64,
       "base_row_size": 20,
       "default_renderer": "IPY_MODEL_995b56835aa341c1b6461d6612e4b14d",
       "editable": true,
       "header_visibility": "all",
       "layout": "IPY_MODEL_79379a7ccc6148b996eab2bd1c880329",
       "selection_mode": "cell"
      }
     },
     "ef81ef91c50948b2a862ce4fa7df6412": {
      "model_module": "@jupyter-widgets/controls",
      "model_module_version": "2.0.0",
      "model_name": "VBoxModel",
      "state": {
       "children": [
        "IPY_MODEL_9fce25b079c6489b9d99d02645915341",
        "IPY_MODEL_ea8450c2a05c44309575c515d9a4e26c",
        "IPY_MODEL_9c4c4cbb647a4c948866661e991b3e62"
       ],
       "layout": "IPY_MODEL_175b32ec674043f59b21924605693082"
      }
     },
     "f43fdf61074b492684beed570f7838ef": {
      "model_module": "@jupyter-widgets/base",
      "model_module_version": "2.0.0",
      "model_name": "LayoutModel",
      "state": {}
     },
     "fc09e70c29f141d0aff996cd0cfc2b5f": {
      "model_module": "ipydatagrid",
      "model_module_version": "^1.1.16",
      "model_name": "VegaExprModel",
      "state": {
       "_model_module_version": "^1.1.16",
       "_view_module": "ipydatagrid",
       "_view_module_version": "^1.1.16",
       "_view_name": "VegaExprView"
      }
     }
    },
    "version_major": 2,
    "version_minor": 0
   }
  }
 },
 "nbformat": 4,
 "nbformat_minor": 5
}
