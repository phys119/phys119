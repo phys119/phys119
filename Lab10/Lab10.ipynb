{
 "cells": [
  {
   "cell_type": "markdown",
   "id": "8b42018a-744a-4a76-86d3-989d31c02420",
   "metadata": {
    "id": "61ed9912-a3b5-4024-b62b-49c912b1aa25"
   },
   "source": [
    "# Lab 10 - Radiation Shielding (Part 2)"
   ]
  },
  {
   "cell_type": "markdown",
   "id": "0ce96c66-1b26-42d1-9e77-df222a6c2b5d",
   "metadata": {
    "id": "355521ea-d050-45f2-93d5-988f72f018a2"
   },
   "source": [
    "*Edit this cell to provide the information requested:*\n",
    "\n",
    "- Your name:\n",
    "- Your student number:\n",
    "- Partner's name:"
   ]
  },
  {
   "cell_type": "code",
   "execution_count": 1,
   "id": "bdbafbb8-f7aa-4c12-9c3e-1c109fef8893",
   "metadata": {
    "id": "b795858f-a049-496e-a9bb-8128e61d49c3"
   },
   "outputs": [],
   "source": [
    "%reset -f\n",
    "import numpy as np\n",
    "import data_entry2\n",
    "import matplotlib.pyplot as plt"
   ]
  },
  {
   "cell_type": "code",
   "execution_count": null,
   "id": "c95658a2-b00e-40d9-af33-472e091136f4",
   "metadata": {},
   "outputs": [],
   "source": []
  },
  {
   "cell_type": "code",
   "execution_count": null,
   "id": "34e6edc3-a315-410f-99d7-add4870f58d9",
   "metadata": {},
   "outputs": [],
   "source": []
  },
  {
   "cell_type": "code",
   "execution_count": null,
   "id": "a662a568-1610-4cce-bec3-7f320d845f69",
   "metadata": {},
   "outputs": [],
   "source": []
  },
  {
   "cell_type": "code",
   "execution_count": null,
   "id": "403b2753-7e87-443b-afc8-0e06944711b6",
   "metadata": {},
   "outputs": [],
   "source": []
  },
  {
   "cell_type": "code",
   "execution_count": 2,
   "id": "7c4106be-61d6-4336-a4ab-543a2261e6e0",
   "metadata": {},
   "outputs": [
    {
     "name": "stdout",
     "output_type": "stream",
     "text": [
      "Sheet name: Lab10-chi2-table.csv\n"
     ]
    },
    {
     "data": {
      "application/vnd.jupyter.widget-view+json": {
       "model_id": "ff2590460aac482b898eba125d693297",
       "version_major": 2,
       "version_minor": 0
      },
      "text/plain": [
       "VBox(children=(HBox(children=(Button(description='Undo', style=ButtonStyle()), Button(description='Redo', styl…"
      ]
     },
     "metadata": {},
     "output_type": "display_data"
    }
   ],
   "source": [
    "# Keep track of chi-squared based on changing parameters\n",
    "de_chi2 = data_entry2.sheet('Lab10-chi2-table')"
   ]
  },
  {
   "cell_type": "code",
   "execution_count": null,
   "id": "10c5569d-e385-4956-80f9-d026ae7004a5",
   "metadata": {},
   "outputs": [],
   "source": []
  },
  {
   "cell_type": "code",
   "execution_count": null,
   "id": "003167f4-5573-40ca-8f52-25030f4424fe",
   "metadata": {},
   "outputs": [],
   "source": []
  },
  {
   "cell_type": "code",
   "execution_count": null,
   "id": "275df446-49c2-4c7b-9763-ca330bfba397",
   "metadata": {},
   "outputs": [],
   "source": []
  },
  {
   "cell_type": "code",
   "execution_count": null,
   "id": "76b94f8c-c479-4011-8d66-376201719f46",
   "metadata": {},
   "outputs": [],
   "source": []
  },
  {
   "cell_type": "code",
   "execution_count": null,
   "id": "a7f530df-8e74-4d80-b540-f1ac35217ebb",
   "metadata": {},
   "outputs": [],
   "source": []
  },
  {
   "cell_type": "markdown",
   "id": "098eacee-f21b-4459-9c2c-b0fcbb601400",
   "metadata": {},
   "source": [
    "# Submit\n",
    "\n",
    "Steps for submission:\n",
    "\n",
    "1. Click: Run => Run_All_Cells\n",
    "2. Read through the notebook to ensure all the cells executed correctly and without error.\n",
    "3. File => Save_and_Export_Notebook_As->HTML\n",
    "4. Inspect your html file.\n",
    "5. Upload the HTML document to the lab submission assignment on Canvas."
   ]
  },
  {
   "cell_type": "code",
   "execution_count": null,
   "id": "625ddab6-2662-4ff2-8f21-2f45beda1d88",
   "metadata": {},
   "outputs": [],
   "source": [
    "display_sheets()"
   ]
  }
 ],
 "metadata": {
  "kernelspec": {
   "display_name": "Python 3 (ipykernel)",
   "language": "python",
   "name": "python3"
  },
  "language_info": {
   "codemirror_mode": {
    "name": "ipython",
    "version": 3
   },
   "file_extension": ".py",
   "mimetype": "text/x-python",
   "name": "python",
   "nbconvert_exporter": "python",
   "pygments_lexer": "ipython3",
   "version": "3.10.10"
  },
  "widgets": {
   "application/vnd.jupyter.widget-state+json": {
    "state": {
     "0e2cd4384e404839b0aa348f8e58323f": {
      "model_module": "@jupyter-widgets/base",
      "model_module_version": "2.0.0",
      "model_name": "LayoutModel",
      "state": {}
     },
     "0eabdeb8889e4a459e8d28eeaebf7c25": {
      "model_module": "@jupyter-widgets/base",
      "model_module_version": "2.0.0",
      "model_name": "LayoutModel",
      "state": {
       "height": "130px"
      }
     },
     "20e7b857e64c42e8b991f4d76099e49a": {
      "model_module": "@jupyter-widgets/controls",
      "model_module_version": "2.0.0",
      "model_name": "ButtonModel",
      "state": {
       "description": "Add Column",
       "layout": "IPY_MODEL_6b3cfb999c214069bdab948a1997cb9e",
       "style": "IPY_MODEL_92ea495170f14f33bc6a1fdf1295b508",
       "tooltip": null
      }
     },
     "29098a5988c84fb58ce6c6fa859de942": {
      "model_module": "@jupyter-widgets/controls",
      "model_module_version": "2.0.0",
      "model_name": "ButtonModel",
      "state": {
       "description": "Generate Vectors",
       "layout": "IPY_MODEL_d1e254e18a6643ce9232e1a981a7875c",
       "style": "IPY_MODEL_6a2eb94a89554c699c36a93aa876dcd0",
       "tooltip": null
      }
     },
     "2a39a30a422441cc8747e2b55c2de526": {
      "model_module": "@jupyter-widgets/base",
      "model_module_version": "2.0.0",
      "model_name": "LayoutModel",
      "state": {}
     },
     "4f4cbaa9f6de4c09a52d2e08f2b123d2": {
      "model_module": "@jupyter-widgets/controls",
      "model_module_version": "2.0.0",
      "model_name": "ButtonStyleModel",
      "state": {
       "font_family": null,
       "font_size": null,
       "font_style": null,
       "font_variant": null,
       "font_weight": null,
       "text_color": null,
       "text_decoration": null
      }
     },
     "51184d2e3aa341efaea7b6e912c3a38a": {
      "model_module": "@jupyter-widgets/output",
      "model_module_version": "1.0.0",
      "model_name": "OutputModel",
      "state": {
       "layout": "IPY_MODEL_d9846a3b523743a5911a7f810e438e80"
      }
     },
     "655b568038e7474c9602ce307c5f9b8f": {
      "model_module": "ipydatagrid",
      "model_module_version": "1.1.16",
      "model_name": "VegaExprModel",
      "state": {
       "_view_module": "ipydatagrid",
       "_view_module_version": "1.1.16",
       "_view_name": "VegaExprView"
      }
     },
     "6674816ab55e4ef58e11909d7862948b": {
      "model_module": "@jupyter-widgets/base",
      "model_module_version": "2.0.0",
      "model_name": "LayoutModel",
      "state": {}
     },
     "6787d6c8a3fd4657b47cfa87b69c016f": {
      "model_module": "ipydatagrid",
      "model_module_version": "1.1.16",
      "model_name": "TextRendererModel",
      "state": {
       "background_color": "IPY_MODEL_655b568038e7474c9602ce307c5f9b8f",
       "text_color": "IPY_MODEL_c88a0e43451249559e0439201620ff87"
      }
     },
     "69cc9f5181854913b8c226022547b8fb": {
      "model_module": "@jupyter-widgets/controls",
      "model_module_version": "2.0.0",
      "model_name": "ButtonModel",
      "state": {
       "description": "Undo",
       "layout": "IPY_MODEL_0e2cd4384e404839b0aa348f8e58323f",
       "style": "IPY_MODEL_6c7953b653dd4f99abf33f72c45e80a0",
       "tooltip": null
      }
     },
     "6a2eb94a89554c699c36a93aa876dcd0": {
      "model_module": "@jupyter-widgets/controls",
      "model_module_version": "2.0.0",
      "model_name": "ButtonStyleModel",
      "state": {
       "font_family": null,
       "font_size": null,
       "font_style": null,
       "font_variant": null,
       "font_weight": null,
       "text_color": null,
       "text_decoration": null
      }
     },
     "6b3cfb999c214069bdab948a1997cb9e": {
      "model_module": "@jupyter-widgets/base",
      "model_module_version": "2.0.0",
      "model_name": "LayoutModel",
      "state": {}
     },
     "6c7953b653dd4f99abf33f72c45e80a0": {
      "model_module": "@jupyter-widgets/controls",
      "model_module_version": "2.0.0",
      "model_name": "ButtonStyleModel",
      "state": {
       "font_family": null,
       "font_size": null,
       "font_style": null,
       "font_variant": null,
       "font_weight": null,
       "text_color": null,
       "text_decoration": null
      }
     },
     "92ea495170f14f33bc6a1fdf1295b508": {
      "model_module": "@jupyter-widgets/controls",
      "model_module_version": "2.0.0",
      "model_name": "ButtonStyleModel",
      "state": {
       "font_family": null,
       "font_size": null,
       "font_style": null,
       "font_variant": null,
       "font_weight": null,
       "text_color": null,
       "text_decoration": null
      }
     },
     "9d8ae231c47942cdadcf4ce3d84b544d": {
      "model_module": "@jupyter-widgets/controls",
      "model_module_version": "2.0.0",
      "model_name": "HBoxModel",
      "state": {
       "children": [
        "IPY_MODEL_69cc9f5181854913b8c226022547b8fb",
        "IPY_MODEL_caa7f1e1446e4b4b954836d2e7069780",
        "IPY_MODEL_b7a229a30d294af1b75e7df4cca7d476",
        "IPY_MODEL_20e7b857e64c42e8b991f4d76099e49a",
        "IPY_MODEL_29098a5988c84fb58ce6c6fa859de942"
       ],
       "layout": "IPY_MODEL_f39e575603e84a53a7a9724b97f70966"
      }
     },
     "b7a229a30d294af1b75e7df4cca7d476": {
      "model_module": "@jupyter-widgets/controls",
      "model_module_version": "2.0.0",
      "model_name": "ButtonModel",
      "state": {
       "description": "Add Row",
       "layout": "IPY_MODEL_2a39a30a422441cc8747e2b55c2de526",
       "style": "IPY_MODEL_c1bb796baa054598b72f956bd65ca773",
       "tooltip": null
      }
     },
     "c1bb796baa054598b72f956bd65ca773": {
      "model_module": "@jupyter-widgets/controls",
      "model_module_version": "2.0.0",
      "model_name": "ButtonStyleModel",
      "state": {
       "font_family": null,
       "font_size": null,
       "font_style": null,
       "font_variant": null,
       "font_weight": null,
       "text_color": null,
       "text_decoration": null
      }
     },
     "c65dc14903c544babaccfac29eaf7a5c": {
      "model_module": "ipydatagrid",
      "model_module_version": "1.1.16",
      "model_name": "DataGridModel",
      "state": {
       "_data": {
        "data": [
         {
          "0": "chi2",
          "1": "R0",
          "2": "mu",
          "3": "Rb",
          "ipydguuid": 0,
          "key": "  Variable:"
         },
         {
          "0": "",
          "1": "",
          "2": "",
          "3": "",
          "ipydguuid": 1,
          "key": " Units:"
         },
         {
          "0": "",
          "1": "",
          "2": "",
          "3": "",
          "ipydguuid": 2,
          "key": 0
         },
         {
          "0": "",
          "1": "",
          "2": "",
          "3": "",
          "ipydguuid": 3,
          "key": 1
         }
        ],
        "fields": [
         {
          "key": null
         },
         {
          "0": null
         },
         {
          "1": null
         },
         {
          "2": null
         },
         {
          "3": null
         },
         {
          "ipydguuid": null
         }
        ],
        "schema": {
         "fields": [
          {
           "name": "key",
           "type": "string"
          },
          {
           "name": 0,
           "type": "string"
          },
          {
           "name": 1,
           "type": "string"
          },
          {
           "name": 2,
           "type": "string"
          },
          {
           "name": 3,
           "type": "string"
          },
          {
           "name": "ipydguuid",
           "type": "integer"
          }
         ],
         "pandas_version": "1.4.0",
         "primaryKey": [
          "key",
          "ipydguuid"
         ],
         "primaryKeyUuid": "ipydguuid"
        }
       },
       "_model_name": "DataGridModel",
       "auto_fit_columns": false,
       "auto_fit_params": {
        "area": "all",
        "numCols": null,
        "padding": 30
       },
       "base_column_header_size": 20,
       "base_column_size": 64,
       "base_row_header_size": 64,
       "base_row_size": 20,
       "default_renderer": "IPY_MODEL_6787d6c8a3fd4657b47cfa87b69c016f",
       "editable": true,
       "header_visibility": "all",
       "layout": "IPY_MODEL_0eabdeb8889e4a459e8d28eeaebf7c25",
       "selection_mode": "cell"
      }
     },
     "c79cdc10a4ec4e60a21f781752f2d9af": {
      "model_module": "@jupyter-widgets/base",
      "model_module_version": "2.0.0",
      "model_name": "LayoutModel",
      "state": {}
     },
     "c88a0e43451249559e0439201620ff87": {
      "model_module": "ipydatagrid",
      "model_module_version": "1.1.16",
      "model_name": "VegaExprModel",
      "state": {
       "_view_module": "ipydatagrid",
       "_view_module_version": "1.1.16",
       "_view_name": "VegaExprView"
      }
     },
     "caa7f1e1446e4b4b954836d2e7069780": {
      "model_module": "@jupyter-widgets/controls",
      "model_module_version": "2.0.0",
      "model_name": "ButtonModel",
      "state": {
       "description": "Redo",
       "layout": "IPY_MODEL_6674816ab55e4ef58e11909d7862948b",
       "style": "IPY_MODEL_4f4cbaa9f6de4c09a52d2e08f2b123d2",
       "tooltip": null
      }
     },
     "cac35202fdf4491588b9a2e4e38bbf67": {
      "model_module": "@jupyter-widgets/base",
      "model_module_version": "2.0.0",
      "model_name": "LayoutModel",
      "state": {}
     },
     "d1e254e18a6643ce9232e1a981a7875c": {
      "model_module": "@jupyter-widgets/base",
      "model_module_version": "2.0.0",
      "model_name": "LayoutModel",
      "state": {}
     },
     "d9846a3b523743a5911a7f810e438e80": {
      "model_module": "@jupyter-widgets/base",
      "model_module_version": "2.0.0",
      "model_name": "LayoutModel",
      "state": {}
     },
     "f39e575603e84a53a7a9724b97f70966": {
      "model_module": "@jupyter-widgets/base",
      "model_module_version": "2.0.0",
      "model_name": "LayoutModel",
      "state": {}
     },
     "ff2590460aac482b898eba125d693297": {
      "model_module": "@jupyter-widgets/controls",
      "model_module_version": "2.0.0",
      "model_name": "VBoxModel",
      "state": {
       "children": [
        "IPY_MODEL_9d8ae231c47942cdadcf4ce3d84b544d",
        "IPY_MODEL_c65dc14903c544babaccfac29eaf7a5c",
        "IPY_MODEL_51184d2e3aa341efaea7b6e912c3a38a"
       ],
       "layout": "IPY_MODEL_cac35202fdf4491588b9a2e4e38bbf67"
      }
     }
    },
    "version_major": 2,
    "version_minor": 0
   }
  }
 },
 "nbformat": 4,
 "nbformat_minor": 5
}
