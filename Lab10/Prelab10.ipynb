{
 "cells": [
  {
   "cell_type": "markdown",
   "id": "9d295f05-aa2d-4c6a-9386-e37388c04c42",
   "metadata": {},
   "source": [
    "# Lab 10 Prelab - Preparing to reanalyze your Lab 09 data"
   ]
  },
  {
   "cell_type": "code",
   "execution_count": 1,
   "id": "274541f9-025e-43ac-bb5e-34fb6bf97cfc",
   "metadata": {},
   "outputs": [],
   "source": [
    "%reset -f\n",
    "import data_entry2\n",
    "import numpy as np\n",
    "import matplotlib.pyplot as plt"
   ]
  },
  {
   "cell_type": "markdown",
   "id": "9d4c40e6-4801-49ca-bcfa-bd26a6fd38fb",
   "metadata": {},
   "source": [
    "In Lab 09, it is likely that you encountered some unexpected behaviour in your data due to background radiation. And this background radiation likely posed significant challenges when trying to fit a linear model to `Ln(R)` data. In Lab 10, in additional to improving your data set, you will be reanlyzing your Lab 09 data with a new nonlinear model that accounts for this background radiation.\n",
    "\n",
    "Unfortunately, we don't have nice analytic solutions that can handle the new nonlinear model we will be using, so we will be revisiting some of our fitting by hand, with the help of residuals plots and chi-squared. To prepare for this, you are going to adapt the 2-parameter fit code from `Resources/Lab06-demo.ipynb`."
   ]
  },
  {
   "cell_type": "markdown",
   "id": "1f723d13-aa16-4be7-a0be-a341a0274fad",
   "metadata": {},
   "source": [
    "### Your turn #1"
   ]
  },
  {
   "cell_type": "markdown",
   "id": "c1524f60-ae9d-47de-bf77-de0e786ff1c8",
   "metadata": {},
   "source": [
    "Below we provide some starting code for you to copy in your Lab 09 data and perform the linear 2-parameter (i.e., y = mx+ b) fit on these data without the analytic solutions. Modify the code below so that it can be used to fit your Lab 09 data. Update your plots so they have appropriate title, axis labels and legends. To ensure your code is working as nitended, you can use the same slope and y-intercept that you found for your best fit in Lab 09. \n",
    "\n",
    "**Reminder:** During the lab we are going to be fitting these data to a new nonlinear model \"by hand\", meaming where you will be adjusting the parameters to try to find the minimum possible chi-squared. This exercise is to help you have relevant code available to do this."
   ]
  },
  {
   "cell_type": "code",
   "execution_count": 2,
   "id": "0ba0fb04-72ce-481e-8301-8bed65309c73",
   "metadata": {},
   "outputs": [
    {
     "name": "stdout",
     "output_type": "stream",
     "text": [
      "Sheet name: lab09_data-copy.csv\n"
     ]
    },
    {
     "data": {
      "application/vnd.jupyter.widget-view+json": {
       "model_id": "7686b148ae844c4d935b7f8e95fe7812",
       "version_major": 2,
       "version_minor": 0
      },
      "text/plain": [
       "VBox(children=(HBox(children=(Button(description='Undo', style=ButtonStyle()), Button(description='Redo', styl…"
      ]
     },
     "metadata": {},
     "output_type": "display_data"
    }
   ],
   "source": [
    "# Make a copy of your lab 09 data. \n",
    "# - You may need to update \"lab09_data\" to match what you named the spreadsheet\n",
    "de1 = data_entry2.sheet_copy(\"../Lab09/lab09_data\", \"lab09_data-copy\")"
   ]
  },
  {
   "cell_type": "code",
   "execution_count": 2,
   "id": "5895948c-5f6f-47da-877a-f337a9570285",
   "metadata": {},
   "outputs": [],
   "source": [
    "# Additional support code as needed\n",
    "\n"
   ]
  },
  {
   "cell_type": "code",
   "execution_count": null,
   "id": "befa6bcc-1597-47c9-bfc7-85918d2d6b00",
   "metadata": {},
   "outputs": [],
   "source": [
    "### Code from Resources/Lab06-demo.ipynb Appendix B: Including a y-intercept in your model\n",
    "\n",
    "# Make the plots and calculate chi-squared\n",
    "\n",
    "# Scatter step 1: Define the variables we will be plotting, as well as labels and titles\n",
    "# Plotting variables\n",
    "xdata = DxVec\n",
    "ydata = FVec\n",
    "dydata = dFVec\n",
    "\n",
    "# Labels and titles\n",
    "data_label = \"Experimental data\"\n",
    "model_label = \"F = kx + b\" ### Included a y-intercept\n",
    "graph_title = \"Hooke's law investigation using spring compression\"\n",
    "x_label = \"Displacement of spring from equilibrium (m)\"\n",
    "y_label = \"Force (N)\"\n",
    "residuals_title = \"Residuals for Hooke's law investigation using spring compression\"\n",
    "residuals_y_label = \"Residual = data - model (N)\"\n",
    "\n",
    "# Model parameters\n",
    "slope = 2.09 # The best slope from the y = mx model\n",
    "intercept = 0. ### Added the y-intercept, b\n",
    "P = 2 ### Updated number of fitting parameters to be 2 (m and b)\n",
    "\n",
    "\n",
    "# Scatter step 2: find the limits of the data:\n",
    "xmin = np.min(xdata) # use the np.min function to find the smallest x-value\n",
    "xmax = np.max(xdata) # same for max\n",
    "# print (xmin, xmax)  # uncomment to see what the limits are\n",
    "\n",
    "# Scatter step 3: generate a bunch of x points between xmin and xmax to help us plot the model line\n",
    "xpoints = np.linspace(xmin, xmax, 200) # gives 200 evenly spaced points between xmin and xmax\n",
    "# print(xpoints) # uncomment to see the x values that were generated.\n",
    "\n",
    "# Scatter step 4: calculate the model values:\n",
    "ypoints = slope * xpoints + intercept ### Update the model line to include the y-intercept\n",
    "\n",
    "# Scatter step 5: plot the model line. We plot this as a red line \"r-\" :\n",
    "plt.plot(xpoints, ypoints, \"r-\", label = model_label)\n",
    "\n",
    "# Scatter step 6: Plot the data, with the previous details from before\n",
    "plt.errorbar(xdata, ydata, dydata, fmt=\"bo\", markersize = 3, label=data_label)\n",
    "plt.title(graph_title)\n",
    "plt.xlabel(x_label)\n",
    "plt.ylabel(y_label)\n",
    "plt.legend()\n",
    "plt.show()\n",
    "\n",
    "# Residuals step 1: Calculate the model prediction for each our data points from dxVec\n",
    "ymodel = slope * xdata + intercept ### Updated model values at the data points to y = mx + b\n",
    "\n",
    "# Residuals step 2: Calcualte the residuals vector\n",
    "residualsVec = ydata - ymodel\n",
    "\n",
    "# Residuals step 3: Plot the residuals vector against the x-data vector\n",
    "plt.errorbar(xdata, residualsVec, dydata, fmt=\"bo\", markersize = 3)\n",
    "\n",
    "# Residuals step 4: Add a horizontal line at R=0 to the plot\n",
    "plt.hlines(y=0, xmin=xmin, xmax=xmax, color='k') # draw a black line at y = 0.\n",
    "\n",
    "# Residuals step 5: Add axis labels and title, and show the graph\n",
    "plt.title(residuals_title)\n",
    "plt.xlabel(x_label)\n",
    "plt.ylabel(residuals_y_label)\n",
    "plt.show()\n",
    "\n",
    "# Calculate chi-squared \n",
    "chi2 = np.sum((residualsVec/dydata)**2)/(len(residualsVec)-P)\n",
    "print (\"Slope: \", slope, \"N/m\")\n",
    "print (\"Weighted chi-squared: \", chi2)"
   ]
  },
  {
   "cell_type": "markdown",
   "id": "267816f9-a07e-474b-a04a-ab365a71e088",
   "metadata": {},
   "source": [
    "### Your turn #2"
   ]
  },
  {
   "cell_type": "markdown",
   "id": "f7b77633-11b9-4717-9c81-426979f0c56f",
   "metadata": {},
   "source": [
    "Once all of your code above is working, copy it over to your Lab 10 notebook so it is ready to be modified further for the Lab 10 analysis. Notice that we have included some code in your Lab 10 notebook to help you keep track of your values for chi-squared as you modify your parameters."
   ]
  },
  {
   "cell_type": "markdown",
   "id": "297114ad-bffb-46d3-8493-21395f45674e",
   "metadata": {},
   "source": [
    "# Submit\n",
    "\n",
    "Steps for submission:\n",
    "\n",
    "1. Click: Run => Run_All_Cells\n",
    "2. Read through the notebook to ensure all the cells executed correctly and without error.\n",
    "3. File => Save_and_Export_Notebook_As->HTML\n",
    "4. Inspect your html file\n",
    "5. Upload the HTML document to the lab submission assignment on Canvas."
   ]
  }
 ],
 "metadata": {
  "kernelspec": {
   "display_name": "Python 3 (ipykernel)",
   "language": "python",
   "name": "python3"
  },
  "language_info": {
   "codemirror_mode": {
    "name": "ipython",
    "version": 3
   },
   "file_extension": ".py",
   "mimetype": "text/x-python",
   "name": "python",
   "nbconvert_exporter": "python",
   "pygments_lexer": "ipython3",
   "version": "3.10.10"
  },
  "widgets": {
   "application/vnd.jupyter.widget-state+json": {
    "state": {},
    "version_major": 2,
    "version_minor": 0
   }
  }
 },
 "nbformat": 4,
 "nbformat_minor": 5
}
