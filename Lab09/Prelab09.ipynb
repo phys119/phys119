{
 "cells": [
  {
   "cell_type": "markdown",
   "id": "9d295f05-aa2d-4c6a-9386-e37388c04c42",
   "metadata": {},
   "source": [
    "# Lab 09 Prelab - Exponentials and Uncertainty in Count Rates"
   ]
  },
  {
   "cell_type": "code",
   "execution_count": null,
   "id": "274541f9-025e-43ac-bb5e-34fb6bf97cfc",
   "metadata": {},
   "outputs": [],
   "source": [
    "%reset -f\n",
    "import data_entry2\n",
    "import numpy as np\n",
    "import matplotlib.pyplot as plt"
   ]
  },
  {
   "cell_type": "markdown",
   "id": "1269e27d-73b1-40f7-99ad-9bc5157e7180",
   "metadata": {},
   "source": [
    "Lab 09, radiation shielding, will use physical models that are exponential. The process of *Linearizing* exponential data allows us to continue to use our linear fitting techniques on data that were originally not linear. This prelab uses worked examples to teach you about the linearization process and subsequent analysis. Additionally, we will discuss how to quantify uncertainty in radiation count-rates.\n",
    "\n",
    "Some notes before we dive into the pre-lab proper:\n",
    "1. Most questions in this pre-lab ask you to explain why you can perform a certain step. The explanations do not need to be mathematically rigorous. What we want is a level of detail in your explanation so that a confused peer in the course could read it and understand the “why” part. For example, you might explain a step in an algebraic manipulation of a function as “the function looks like $y=mx+b$ and we know how to fit a graph to this function.”\n",
    "1. For the first two parts of the pre-lab, we omit uncertainties from the examples to focus attention on working with exponential data. However, in the lab you will be using data that includes uncertainties."
   ]
  },
  {
   "cell_type": "markdown",
   "id": "e157603e-f772-48e8-88c4-45a075c8a378",
   "metadata": {
    "tags": []
   },
   "source": [
    "## Part 1 - Exponentials"
   ]
  },
  {
   "cell_type": "markdown",
   "id": "bb5634ff-50dd-412e-ac26-7a67424fda66",
   "metadata": {},
   "source": [
    "The table and plot below display the population $P$ of yeast cells observed in a sample of grape juice being fermented into wine, measured over a time $t$. For simplicity, we have neglected the uncertainties in the data and rounded all times to the nearest minute."
   ]
  },
  {
   "cell_type": "code",
   "execution_count": null,
   "id": "46a9017d-ab68-43e7-8dc9-b58f21e1c71e",
   "metadata": {},
   "outputs": [],
   "source": [
    "# Run me to load the first example data set\n",
    "# Make sure to hit \"Generate Vectors\"!\n",
    "\n",
    "de = data_entry2.sheet(\"lab09_prelab_data1.csv\")"
   ]
  },
  {
   "cell_type": "code",
   "execution_count": null,
   "id": "58857cc5-bba7-4d55-bbe8-6c0523bb9dc4",
   "metadata": {},
   "outputs": [],
   "source": [
    "# Run me to plot the above data\n",
    "\n",
    "plt.plot(tVec, PVec, \"bo\", markersize=5)\n",
    "plt.title(\"Population of yeast cells in grape juice\")\n",
    "plt.xlabel(\"time (min)\")\n",
    "plt.ylabel(\"P\")\n",
    "plt.show()"
   ]
  },
  {
   "cell_type": "markdown",
   "id": "858fe9d1-c2ea-45a4-a6ce-0f714f0493ec",
   "metadata": {},
   "source": [
    "The data are rising with a steep upward curvature, rising extremely fast at later times $t$, so we suspect that $P$ may be rising EXPONENTIALLY with $t$. To check for an exponential dependence, $P(t) \\propto e^{at}$ (where $\\propto$ means \"proportional to\"), we plot a *semi-log* graph, in which the log of the population is plotted on the y-axis. In order to obtain the natural log of the population $P$, we use the `np.log()` function.\n",
    "\n",
    "A small aside: you might be used to denoting the natural logarithm (base-$e$ logarithm) as $\\ln$ or $\\text{Ln}$. And to denote the based-10 logarithm as $\\log$ or $\\text{Log}$. However, in physics, math and most computer languages, the standard notation is to use $\\log$ to denote the natural logarithm (and with the base-10 logarithm being denoted as $\\log_{10})$."
   ]
  },
  {
   "cell_type": "code",
   "execution_count": null,
   "id": "accdd9de-7188-4f16-9f3f-eacd1f8e900e",
   "metadata": {},
   "outputs": [],
   "source": [
    "# Run me to take the (natural) log of PVec\n",
    "\n",
    "logPVec = np.log(PVec)"
   ]
  },
  {
   "cell_type": "markdown",
   "id": "9d1ed117-4248-4ba9-8f82-a3007823d7b2",
   "metadata": {},
   "source": [
    "Plotting the semi-log graph, we then obtain:"
   ]
  },
  {
   "cell_type": "code",
   "execution_count": null,
   "id": "467c04cf-54d3-4563-89fb-176056e59ec5",
   "metadata": {},
   "outputs": [],
   "source": [
    "# Run me to make the semi-log (log[P] vs t) graph\n",
    "\n",
    "plt.plot(tVec, logPVec, \"bo\", markersize=5)\n",
    "plt.title(\"Population of yeast cells in grape juice, semi-log plot\")\n",
    "plt.xlabel(\"time (min)\")\n",
    "plt.ylabel(\"log(P)\")\n",
    "plt.show()"
   ]
  },
  {
   "cell_type": "markdown",
   "id": "21c1c82a-83ce-454b-ad7a-8f7c58f19847",
   "metadata": {},
   "source": [
    "The graph reveals that a plausibly linear relationship between $\\log(P)$ and $t$. It looks like the following general equation should be a good model for the data:\n",
    "\n",
    "$$\\log(P) = mt + b$$"
   ]
  },
  {
   "cell_type": "markdown",
   "id": "d1b1e060-43b0-4413-a113-93e5ee1414ff",
   "metadata": {},
   "source": [
    "### Your turn #1.1"
   ]
  },
  {
   "cell_type": "markdown",
   "id": "3bfdebb8-8ee9-4bd6-8343-d8dde116bf4f",
   "metadata": {},
   "source": [
    "Explain why we can write this equation as the model for the data."
   ]
  },
  {
   "cell_type": "markdown",
   "id": "7032bdc9-ae11-417e-90de-696bf8e9225a",
   "metadata": {},
   "source": []
  },
  {
   "cell_type": "markdown",
   "id": "84d03128-d4c4-475f-afa7-5d69bca8e9f1",
   "metadata": {
    "jp-MarkdownHeadingCollapsed": true,
    "tags": []
   },
   "source": [
    "##### Answer"
   ]
  },
  {
   "cell_type": "markdown",
   "id": "bfc1aed8-77a3-4185-975f-aba8b032787e",
   "metadata": {},
   "source": [
    "We can write this equation as the model for the data because the graph shows a linear relationship between $\\log(P)$ and $t$, with a nonzero intercept."
   ]
  },
  {
   "cell_type": "markdown",
   "id": "b5458df8-0a63-452b-9dbb-0e2b6fdaa041",
   "metadata": {},
   "source": [
    "### Your turn #1.2"
   ]
  },
  {
   "cell_type": "markdown",
   "id": "d9782f71-902a-4bc7-a74f-64b26befe090",
   "metadata": {},
   "source": [
    "Estimate the slope of the line by choosing two points from the graph and calculating it. "
   ]
  },
  {
   "cell_type": "markdown",
   "id": "32d79b9b-eee4-4819-9235-2b2c10db2809",
   "metadata": {},
   "source": []
  },
  {
   "cell_type": "markdown",
   "id": "33a1dab2-5ee8-4593-b1bc-8cfd1d1b46b6",
   "metadata": {
    "jp-MarkdownHeadingCollapsed": true,
    "tags": []
   },
   "source": [
    "##### Answer"
   ]
  },
  {
   "cell_type": "markdown",
   "id": "eb125067-fba0-4037-8110-d62a6d3ba8e7",
   "metadata": {},
   "source": [
    "Choosing the points of (2 min, 3.6) and (6 min, 8.0) by eyeballing the graph, we approximate the slope as:\n",
    "\n",
    "$$m = \\frac{8.0 - 3.6}{6\\text{ min} - 2\\text{ min}} = 1.1\\text{ min}^{-1}.$$"
   ]
  },
  {
   "cell_type": "markdown",
   "id": "abe38a33-00e4-4ae1-a12c-2cf43569bb1b",
   "metadata": {},
   "source": [
    "### Your turn #1.3"
   ]
  },
  {
   "cell_type": "markdown",
   "id": "6e8b11c2-052a-4e3c-930c-d8f690b82107",
   "metadata": {},
   "source": [
    "Explain why we assign the units of 1/minutes to the slope."
   ]
  },
  {
   "cell_type": "markdown",
   "id": "0d9648f9-9683-4d8c-88b0-9382d6ffcbe6",
   "metadata": {},
   "source": []
  },
  {
   "cell_type": "markdown",
   "id": "abb53552-c82d-430d-8e56-95a3a9a4397f",
   "metadata": {
    "jp-MarkdownHeadingCollapsed": true,
    "tags": []
   },
   "source": [
    "##### Answer"
   ]
  },
  {
   "cell_type": "markdown",
   "id": "516a9dfd-d642-4891-a97e-a42af276f97f",
   "metadata": {},
   "source": [
    "The units of the slope will be the units of the y-variable divided by the units of the x-variable (as slope is rise over run). Since $\\log(P)$ is dimensionless and the units of time in the data are minutes, the units of the slope come out to be inverse minutes."
   ]
  },
  {
   "cell_type": "markdown",
   "id": "49d6505f-165b-4ade-9b92-23c6e8a483cb",
   "metadata": {},
   "source": [
    "### Your turn #1.4"
   ]
  },
  {
   "cell_type": "markdown",
   "id": "e61b9579-74a5-42a3-bcaa-9f0332846ea7",
   "metadata": {},
   "source": [
    "The value of the intercept $b$ is approximately 1.4. Briefly explain how you would find this value."
   ]
  },
  {
   "cell_type": "markdown",
   "id": "6091e979-6daf-4634-bb9e-90c511260ae9",
   "metadata": {},
   "source": []
  },
  {
   "cell_type": "markdown",
   "id": "ce1dc875-7bb8-461e-980b-e5d8e6572064",
   "metadata": {
    "jp-MarkdownHeadingCollapsed": true,
    "tags": []
   },
   "source": [
    "##### Answer"
   ]
  },
  {
   "cell_type": "markdown",
   "id": "06758d91-ad07-40d7-962e-98fa087bdb8e",
   "metadata": {},
   "source": [
    "Knowing the slope is $m = 1.1\\text{ min}^{-1}$, we can substitute a known point into the equation $\\log(P) = mt + b$ to approximate what $b$ should be. As an example, using (6 min, 8.0) as an (approximate) point, we find:\n",
    "\n",
    "$$8.0 = 1.1 \\times 6 + b \\implies b = 8 - 6.6 = 1.4$$\n",
    " "
   ]
  },
  {
   "cell_type": "markdown",
   "id": "e22a891b-3ea2-4870-8785-6bf8a692a43f",
   "metadata": {},
   "source": [
    "### Connecting the Linear and Exponential Equations"
   ]
  },
  {
   "cell_type": "markdown",
   "id": "3f1d586f-7d0d-49ee-9bd9-03d2edaca14f",
   "metadata": {},
   "source": [
    "Now, let's connect our linear expression of $\\log(P) = mt + b$, with the exponential equation $P_0\\,e^{at}$.\n",
    "\n",
    "Some logarithmic and mathematical rules that may be of use are given below:\n",
    "\n",
    "- Rule 1 - Inverse properties: $\\log_a(a^x) = x$ and $a^{\\log_a(x)} = x$\n",
    "- Rule 2 - Product: $\\log_a(xy) = \\log_a(x) + \\log_a(y)$ and $e^{x+y} = e^x e^y$\n",
    "- Rule 3 - Quotient: $\\log_a(x/y) = \\log_a(x) - \\log_a(y)$ and $e^{x-y} = e^x/e^y$\n",
    "- Rule 4 - Power: $\\log_a(x^p) = p\\log_a(x)$\n",
    "- Rule 5 - Property of equalities: If you perform the same option on both sides of an equation, the sides remain equal to each other.    "
   ]
  },
  {
   "cell_type": "markdown",
   "id": "04766f75-7290-4063-bdf4-6a040eed8685",
   "metadata": {},
   "source": [
    "### Your turn #1.5"
   ]
  },
  {
   "cell_type": "markdown",
   "id": "e4670e2e-9185-4ef2-b6fc-23cd560a1600",
   "metadata": {},
   "source": [
    "For the following steps, indicate which rule was applied."
   ]
  },
  {
   "cell_type": "markdown",
   "id": "969e20b5-1788-4f15-b559-864509671f7b",
   "metadata": {},
   "source": [
    "**Start:** $\\log(P) = mt + b$"
   ]
  },
  {
   "cell_type": "markdown",
   "id": "89a62c4a-3343-4bd2-b540-774d0c1283f2",
   "metadata": {},
   "source": [
    "**Step 1:** $e^{\\log(P)} = e^{mt + b}$."
   ]
  },
  {
   "cell_type": "markdown",
   "id": "934aaeab-0fb8-4090-89cb-35e7359839c4",
   "metadata": {},
   "source": []
  },
  {
   "cell_type": "markdown",
   "id": "c371c64a-ad04-4b83-8872-1d58d3f2a94f",
   "metadata": {},
   "source": [
    "**Step 2:** $P = e^{mt + b}$"
   ]
  },
  {
   "cell_type": "markdown",
   "id": "c7913a6e-9613-4c47-a90f-965136cd7f0a",
   "metadata": {},
   "source": []
  },
  {
   "cell_type": "markdown",
   "id": "19a8798f-3c9c-4b26-a420-d9220d35ff28",
   "metadata": {},
   "source": [
    "**Step 3:** $P = e^b e^{mt}$"
   ]
  },
  {
   "cell_type": "markdown",
   "id": "9d3cb36d-b2fb-477c-808a-ed10d86480ef",
   "metadata": {},
   "source": []
  },
  {
   "cell_type": "markdown",
   "id": "4ec2844d-e678-448f-b485-8280427dd111",
   "metadata": {
    "jp-MarkdownHeadingCollapsed": true,
    "tags": []
   },
   "source": [
    "##### Answer"
   ]
  },
  {
   "cell_type": "markdown",
   "id": "1c9d5a38-77d9-495d-a86b-1afccd2eb1e1",
   "metadata": {},
   "source": [
    "1. Property of equalities\n",
    "2. Inverse property\n",
    "3. Product Rule"
   ]
  },
  {
   "cell_type": "markdown",
   "id": "cd214aac-a00d-4697-8624-523c1c6b06bf",
   "metadata": {},
   "source": [
    "##### \n",
    "We have two expressions for $P$: $P = P_0 e^{at}$ as well as $P=e^b e^{mt}$. We find that the slope $m$ is the coefficient of $t$ inside the exponential: $m = a$ and the prefactor $P_0$ is the exponential of the intercept: $P_0 = e^b$."
   ]
  },
  {
   "cell_type": "markdown",
   "id": "44adad92-926c-4c79-b489-3ab6a083b4ab",
   "metadata": {},
   "source": [
    "### Your turn #1.6"
   ]
  },
  {
   "cell_type": "markdown",
   "id": "aa81f4e0-71a1-4fa0-8675-d7c3707f80ad",
   "metadata": {},
   "source": [
    "If we substitute in the values for $m$ and $b$, the model becomes:\n",
    "\n",
    "$$P = 4.0e^{1.1 t}.$$\n",
    "\n",
    "This is called exponential behavior (which is of the form $e^{t}$ and differs from a power law, which would be of the form $t^\\alpha$). Explain how the coefficient 4.0 in front of the exponential was determined."
   ]
  },
  {
   "cell_type": "markdown",
   "id": "d1ca08b1-8365-426b-966b-4cedc13e7720",
   "metadata": {},
   "source": []
  },
  {
   "cell_type": "markdown",
   "id": "480af818-83b5-42ae-a5f0-9bcd354a5ba1",
   "metadata": {
    "jp-MarkdownHeadingCollapsed": true,
    "tags": []
   },
   "source": [
    "##### Answer"
   ]
  },
  {
   "cell_type": "markdown",
   "id": "cf0b0199-14de-47ae-8737-1db4e7284a89",
   "metadata": {},
   "source": [
    "The coefficient is equal to $e^b$. We found that $b = 1.4$, and we therefore can calculate $e^{1.4} \\sim 4.0$."
   ]
  },
  {
   "cell_type": "markdown",
   "id": "a800092d-339c-4fe3-9216-9d62d7531489",
   "metadata": {},
   "source": [
    "### Summary"
   ]
  },
  {
   "cell_type": "markdown",
   "id": "c4868abf-0e2a-44af-8893-d06dcd754d0a",
   "metadata": {},
   "source": [
    "To summarize, data that follow a straight line on a *semi-log* plot (logarithmic y-axis, linear x-axis) indicate that an exponential is the correct model, and the value of the slope gives the coefficient in the argument of the exponent. \n",
    "\n",
    "A customary way to write such exponentials is:\n",
    "\n",
    "$$P(t) = P(0)e^{t/\\tau},$$\n",
    "\n",
    "such that the parameter $\\tau$ has the same units as the variable $t$. In this example, the units are minutes and $\\tau$ is referred to as a time constant (like we saw in the RC lab). For this particular set of data,\n",
    "\n",
    "$$\\tau = 0.9\\text{ minutes}.$$\n",
    "\n",
    "\n",
    "In python, we can obtain the logarithm of a vector by using the `np.log()` function on the original vector. \n",
    "\n",
    "In conclusion, we remark on the power of linearization; it allows us to see if a dataset has exponential behavior, and allows us to determine the coefficient in the exponent via determining the slope of the linearized dataset. Helpfully, we already know how to determine the slope of a linear looking data set. In contrast, figuring out the coefficient just by looking at the original exponential data is less obvious."
   ]
  },
  {
   "cell_type": "markdown",
   "id": "5b5c2b3f-6b90-4f6d-a194-c430c2b10d4d",
   "metadata": {},
   "source": [
    "### Your turn #1.7"
   ]
  },
  {
   "cell_type": "markdown",
   "id": "7951ce45-e2e4-4927-b9ca-6986f956997e",
   "metadata": {},
   "source": [
    "Explain the relationship between the time constant and the slope of the line in the semi-log plot."
   ]
  },
  {
   "cell_type": "markdown",
   "id": "2a945ec8-8131-49e9-94d3-44b39a8335c6",
   "metadata": {},
   "source": []
  },
  {
   "cell_type": "markdown",
   "id": "3f43fc49-dc48-480b-8ecf-1533b60e57ce",
   "metadata": {
    "jp-MarkdownHeadingCollapsed": true,
    "tags": []
   },
   "source": [
    "##### Answer"
   ]
  },
  {
   "cell_type": "markdown",
   "id": "0f4fab8f-f190-408e-9fcb-a31766d8d64b",
   "metadata": {},
   "source": [
    "The time constant is the inverse of the slope of the semi-log plot."
   ]
  },
  {
   "cell_type": "markdown",
   "id": "6632ca76-8c22-48c8-8c3a-4f836a3edc31",
   "metadata": {
    "tags": []
   },
   "source": [
    "## Part 2 - Uncertainties in radiation count-rates"
   ]
  },
  {
   "cell_type": "markdown",
   "id": "fe158772-88cf-4811-9d0c-be336b22733a",
   "metadata": {},
   "source": [
    "In this lab we will be using a Geiger counter to detect radiation from a radioactive source. Specifically, we will be using an Iron 55 source, which emits low-energy gamma rays when it decays. The Geiger counter detects ionizing radiation, such as the low-energy gamma rays from this decay. Each particle of ionizing radiation that interacts with the Geiger counter will produce a “count”. There are many factors that influence how many counts will be recorded by the Geiger counter, including how long you count for, how active the source is, how far apart the source and counter are, and how much shielding is in between source and counter.\n",
    "\n",
    "The count-rate, $R$, is the quantity that represents the rate at which the counts are being measured,\n",
    "\n",
    "$$R = N/t, \\quad (1)$$\n",
    "\n",
    "where $t$ is the amount of time for which you counted and $N$ the number of counts observed.\n",
    "\n",
    "#### Uncertainty in $N$\n",
    "\n",
    "Radioactive decay is a random process, so as with the pendulum timing measurements, there will be variability when you run multiple trials. The randomness in this case is well-described by counting statistics (specifically by the Poisson distribution). These counting statistics tell us that the uncertainty in the number of counts N is given by:\n",
    "\n",
    "$$\\delta N = \\sqrt{N}.$$\n",
    "\n",
    "This means that if you make repeated measurements of $N$ over the same time interval $t$, but keep the other variables the same, that these measurements will follow a Gaussian distribution and have a standard deviation of $\\sqrt{N}$. \n",
    "\n",
    "#### Uncertainty in $R$\n",
    "\n",
    "We turn our attention to calculating the uncertainty in the count-rate $R$. We can write the relative uncertainty for $R$ as:\n",
    "\n",
    "$$\\frac{\\delta R}{R} = \\sqrt{\\left(\\frac{\\delta N}{N}\\right)^2 + \\left(\\frac{\\delta t}{t}\\right)^2}. \\quad (2)$$"
   ]
  },
  {
   "cell_type": "markdown",
   "id": "d2e9b149-b188-4eb4-bdca-695554a11ccc",
   "metadata": {
    "tags": []
   },
   "source": [
    "### Your turn #2.1"
   ]
  },
  {
   "cell_type": "markdown",
   "id": "6f751de8-2af9-4f41-83b1-9df794c8d512",
   "metadata": {},
   "source": [
    "Revisit the <a href = \"https://docs.google.com/document/d/e/2PACX-1vTIsUtk7j6RnqhzD3hqYvxvvBEp20Ya3mCCQTi4ypSbqFB3CdKdIsDCitk541WsFADbQ5Feh0MsUKBz/pub\" target = \"_blank\">Overview of Uncertainty Propagation</a> document. Which expression for uncertainty propagation was used to get from Equation (1) to Equation (2)?"
   ]
  },
  {
   "cell_type": "markdown",
   "id": "b306e41d-c2f0-4e9f-9e26-9100b4261d06",
   "metadata": {},
   "source": []
  },
  {
   "cell_type": "markdown",
   "id": "80fb17a6-32fd-4806-a82f-289b910e171b",
   "metadata": {
    "jp-MarkdownHeadingCollapsed": true,
    "tags": []
   },
   "source": [
    "##### Answer"
   ]
  },
  {
   "cell_type": "markdown",
   "id": "fcc2caf2-3e11-4525-bfc0-dc3a6f6b89e7",
   "metadata": {},
   "source": [
    "We used the expression for propogating the uncertainty when we multiply/divide two quantities. If $z = x/y$, then:\n",
    "\n",
    "$$\\frac{\\delta z}{z} = \\sqrt{\\left(\\frac{\\delta x}{x}\\right)^2 + \\left(\\frac{\\delta y}{y}\\right)^2}$$\n",
    "\n",
    "i.e. we add the relative uncertainties in quadrature."
   ]
  },
  {
   "cell_type": "markdown",
   "id": "09b838c5-7f90-46d9-abb0-16f5ef044f31",
   "metadata": {},
   "source": [
    "### Your turn #2.2"
   ]
  },
  {
   "cell_type": "markdown",
   "id": "a76535f0-057c-4862-8f4c-c08c8ef4f639",
   "metadata": {},
   "source": [
    "Using some of our relationships above for $N$ and $\\delta N$, we can rewrite Equation (2) as:\n",
    "\n",
    "$$\\frac{\\delta R}{R} = \\sqrt{\\frac{1}{N} + \\left(\\frac{\\delta t}{t}\\right)^2}. \\quad (3)$$\n",
    "\n",
    "Show how you get from equation (2) to equation (3)."
   ]
  },
  {
   "cell_type": "markdown",
   "id": "481c83ae-b283-4bfe-b757-84c86131bff3",
   "metadata": {},
   "source": []
  },
  {
   "cell_type": "markdown",
   "id": "cc679396-9f2d-4c63-ae7a-d12fc6796845",
   "metadata": {
    "jp-MarkdownHeadingCollapsed": true,
    "tags": []
   },
   "source": [
    "##### Answer"
   ]
  },
  {
   "cell_type": "markdown",
   "id": "43b33d10-ea95-4a78-8119-d0c5f0ecd35c",
   "metadata": {},
   "source": [
    "First we use that $\\delta N/N = \\sqrt{N}/N = 1/\\sqrt{N}$, which gives\n",
    "\n",
    "$$\\frac{\\delta R}{R} = \\sqrt{\\left(\\frac{1}{\\sqrt{N}}\\right)^2 + \\left(\\frac{\\delta t}{t}\\right)^2}.$$\n",
    "\n",
    "And finally we use $(1/\\sqrt{N})^2 = 1/N$."
   ]
  },
  {
   "cell_type": "markdown",
   "id": "504ba9a2-c94d-4be0-8ac4-eb420e2bc76e",
   "metadata": {},
   "source": [
    "### Focusing on the counting statistics uncertainty"
   ]
  },
  {
   "cell_type": "markdown",
   "id": "e690a8a0-4a7c-41e2-9c3d-a3c34d4382d4",
   "metadata": {},
   "source": [
    "In a later part of the prelab we will discuss in more detail that for typical Lab 09 measurements, $\\delta N/N$ is the dominant uncertanty and $\\delta t/t$ is negligible with respect to $\\delta N/N$. This assumption of $\\delta N/N \\gg \\delta t/t$ allows us to rewrite Equation (3) without the $\\delta t$ term:\n",
    "\n",
    "$$\\frac{\\delta R}{R} = \\frac{1}{\\sqrt{N}}. \\quad (4)$$\n",
    "\n",
    "With this simplified expression, let's use this to look at how counting for a longer period of time will affect the uncertainty in our count rate."
   ]
  },
  {
   "cell_type": "markdown",
   "id": "9e132b9f-ce72-4918-b762-6ea2181de5de",
   "metadata": {},
   "source": [
    "### Example 2.1"
   ]
  },
  {
   "cell_type": "markdown",
   "id": "1b93c255-5090-4584-8c8e-291f2b805c96",
   "metadata": {},
   "source": [
    "You perform a counting experiment and measure $N = 399$ counts during a $t = 49.9\\text{ s}$ time interval. "
   ]
  },
  {
   "cell_type": "markdown",
   "id": "fcac3142-3848-48ec-b263-97c9586c36fe",
   "metadata": {},
   "source": [
    "### Your turn #2.3"
   ]
  },
  {
   "cell_type": "markdown",
   "id": "075716e2-ae49-406d-b96c-c3f2ec8dcaaf",
   "metadata": {},
   "source": [
    "Calculate the relative uncertainties for this measurement: $\\delta N/N$, and $\\delta R/R$."
   ]
  },
  {
   "cell_type": "markdown",
   "id": "d0547769-f4e3-4bd8-bab4-59c813ded7ad",
   "metadata": {},
   "source": []
  },
  {
   "cell_type": "markdown",
   "id": "4f146a8b-572d-4dce-be52-977cace2df65",
   "metadata": {
    "jp-MarkdownHeadingCollapsed": true,
    "tags": []
   },
   "source": [
    "##### Answer"
   ]
  },
  {
   "cell_type": "markdown",
   "id": "12b27060-571b-43f9-a611-05462f646b65",
   "metadata": {},
   "source": [
    "$\\delta N/N = 1/\\sqrt{N} = 1/\\sqrt{400} = 1/20 = 0.05$ and $\\delta R/R = \\delta N/N = 0.05$."
   ]
  },
  {
   "cell_type": "markdown",
   "id": "4a2bc587-2d37-4818-9a01-48d76b757e0b",
   "metadata": {},
   "source": [
    "### Your turn #2.4"
   ]
  },
  {
   "cell_type": "markdown",
   "id": "64a209c7-44f9-43d0-bd7b-2782f54eea1b",
   "metadata": {},
   "source": [
    "Show that $R = 8.00 \\pm 0.40$ counts/second (after we apply our regular 2 sig figs for calculated uncertainties rule)."
   ]
  },
  {
   "cell_type": "markdown",
   "id": "35a82aba-a93d-4785-b141-89dc34aea809",
   "metadata": {},
   "source": []
  },
  {
   "cell_type": "markdown",
   "id": "4f73214c-c736-4257-8241-21db99e0a887",
   "metadata": {
    "jp-MarkdownHeadingCollapsed": true,
    "tags": []
   },
   "source": [
    "##### Answer"
   ]
  },
  {
   "cell_type": "markdown",
   "id": "5516c241-151f-41a5-abc3-d74589278f91",
   "metadata": {},
   "source": [
    "$R = N/t = 399/49.9 = 7.99599$ counts/second. We also know that $\\delta R/R = 0.05$, so $\\delta R = 0.05 \\times R = 0.40$, when rounded to 2 significant figures. Therefore by the 2 sig fig reporting rule we have $R = 8.00 \\pm 0.40$ counts/second. "
   ]
  },
  {
   "cell_type": "markdown",
   "id": "d2e90b4b-f86f-4c96-a54b-573de2c8d0fd",
   "metadata": {},
   "source": [
    "### Example 2.2"
   ]
  },
  {
   "cell_type": "markdown",
   "id": "fb7c335f-aa48-4c20-89df-6555e4004fd8",
   "metadata": {},
   "source": [
    "You decide that you can reduce the uncertainty in your count-rate by counting for longer and decide to count for four times as long. You measure $N = 1602$ counts in a 200.2s time interval. "
   ]
  },
  {
   "cell_type": "markdown",
   "id": "0e96c3f4-0450-421f-a310-7420ccb6091b",
   "metadata": {},
   "source": [
    "### Your turn #2.5"
   ]
  },
  {
   "cell_type": "markdown",
   "id": "19cafaca-fc35-4030-b841-d803a24484ed",
   "metadata": {},
   "source": [
    "Again, calculate the relative uncertainties for this measurement: $\\delta N/N$, and $\\delta R/R$."
   ]
  },
  {
   "cell_type": "markdown",
   "id": "b82e28ab-567c-41c8-8d8e-4fdb311ea356",
   "metadata": {},
   "source": []
  },
  {
   "cell_type": "markdown",
   "id": "e84aee6c-360a-459a-8aa3-999db97fb177",
   "metadata": {
    "jp-MarkdownHeadingCollapsed": true,
    "tags": []
   },
   "source": [
    "##### Answer"
   ]
  },
  {
   "cell_type": "markdown",
   "id": "986eb141-6536-41bc-8f14-6f144c3224b1",
   "metadata": {},
   "source": [
    "$\\delta N/N = 1/\\sqrt{N} = 1/\\sqrt{1602} \\approx 0.025$ and $\\delta R/R = \\delta N/N = 0.025$."
   ]
  },
  {
   "cell_type": "markdown",
   "id": "df051955-0b43-4c00-9baa-6741397e1bb7",
   "metadata": {},
   "source": [
    "### Your turn #2.6"
   ]
  },
  {
   "cell_type": "markdown",
   "id": "e7181a6b-0251-44b3-b265-4fbf30dfa78e",
   "metadata": {},
   "source": [
    "Show that $R = 8.00 \\pm 0.20$ counts/second for this Example 2.2 measurment, after we apply our regular 2 sig figs for calculated uncertainties rule."
   ]
  },
  {
   "cell_type": "markdown",
   "id": "31d8bfb1-2a1b-4416-a12c-034628a775a2",
   "metadata": {},
   "source": []
  },
  {
   "cell_type": "markdown",
   "id": "aaab0e8f-59a4-4270-97fb-815ed59af7d9",
   "metadata": {
    "jp-MarkdownHeadingCollapsed": true,
    "tags": []
   },
   "source": [
    "##### Answer"
   ]
  },
  {
   "cell_type": "markdown",
   "id": "65bee7c7-f2e6-4629-a041-5554103855e6",
   "metadata": {},
   "source": [
    "$R = N/t = 1602/200.16 = 8.0036$ counts/second, and we know that $\\delta R/R = 0.025$ so $\\delta R = 0.025 \\times R \\approx 0.20$. Therefore by the 2 sig fig reporting rule we have $R = 8.00 \\pm 0.20$ counts/second. "
   ]
  },
  {
   "cell_type": "markdown",
   "id": "9f437c98-75f6-4760-a0e9-1e954a0d955e",
   "metadata": {},
   "source": [
    "### Your turn #2.7"
   ]
  },
  {
   "cell_type": "markdown",
   "id": "30bd8ea0-8672-49f2-b056-fa68979d1045",
   "metadata": {},
   "source": [
    "Use the relative uncertainty $\\delta N/N$ to explain how this happened."
   ]
  },
  {
   "cell_type": "markdown",
   "id": "06a1955b-fb88-4292-b88b-10ad75bdf76d",
   "metadata": {},
   "source": []
  },
  {
   "cell_type": "markdown",
   "id": "b76df428-662e-4335-af82-480d965f436d",
   "metadata": {
    "jp-MarkdownHeadingCollapsed": true,
    "tags": []
   },
   "source": [
    "##### Answer"
   ]
  },
  {
   "cell_type": "markdown",
   "id": "92140649-dc87-4f03-866c-635a52d22435",
   "metadata": {},
   "source": [
    "Counting for four times as long allowed us to increase $N$ by approximately a factor of 4. As a result $\\delta N/N = 1/\\sqrt{N}$ decreased by a factor of $1/\\sqrt{4} = 1/2$. Since we know that $\\delta R/R = \\delta N/N$, collecting data for four times as long results in a count-rate uncertainty that is half of what it was in the first example."
   ]
  },
  {
   "cell_type": "markdown",
   "id": "15b6ad5f-6503-4fd6-9543-38f3edbda596",
   "metadata": {
    "tags": []
   },
   "source": [
    "## Part 3 - Setting up analysis code for the lab"
   ]
  },
  {
   "cell_type": "markdown",
   "id": "b18d531c-146d-4e0a-86ee-7c30679b9cee",
   "metadata": {},
   "source": [
    "In the lab, we will be analyzing the radiation count-rate $R$ as a function of the thickness of paper shielding $x$, measured as a count of the number of sheets of paper. We will get you to practice using the two-parameter analytic solution to minimize chi-squared ahead of time.\n",
    "\n",
    "Below, we have a mock dataset for which we will demonstrate the process of linearization.\n",
    "\n",
    "**These data represent how the radiation count rate, $N/t$, could change as a function of the thickness of shielding (number of sheets of paper), $x$, placed between the radiation source and the radiation detector. Notice that we don't include a $\\delta x$ term since, like with our counts of pendulum cycles, we assume that our counting provides an exact number.**"
   ]
  },
  {
   "cell_type": "code",
   "execution_count": null,
   "id": "3947a1cd-2daf-4e5f-8d4a-66bdb5aa8a46",
   "metadata": {},
   "outputs": [],
   "source": [
    "# Run me to load the second example data set\n",
    "# Make sure to hit \"Generate Vectors\"!\n",
    "\n",
    "de2 = data_entry2.sheet(\"lab09_prelab_data2.csv\")"
   ]
  },
  {
   "cell_type": "markdown",
   "id": "ae1978d4-a4b2-4715-ac48-1bea6b74b80d",
   "metadata": {},
   "source": [
    "The uncertainty $\\delta N$ can be calculated by taking the square root of the $N$-vector:"
   ]
  },
  {
   "cell_type": "code",
   "execution_count": null,
   "id": "edd7080c-32f2-435b-9875-19ed5bb30ffd",
   "metadata": {},
   "outputs": [],
   "source": [
    "# Run me to calculate the dN vector\n",
    "\n",
    "dNVec = np.sqrt(NVec)\n",
    "print(dNVec)"
   ]
  },
  {
   "cell_type": "markdown",
   "id": "3098c71e-acb9-4412-b4a4-a641fe062d98",
   "metadata": {},
   "source": [
    "Next, we want to calculate the count rate from the data. We recall that $R = N/t$, so we can calculate the count-rate vector as:"
   ]
  },
  {
   "cell_type": "code",
   "execution_count": null,
   "id": "3c0b9bf2-f01e-4c65-aca4-1091c0575aab",
   "metadata": {},
   "outputs": [],
   "source": [
    "# Run me to calculate the R = N/t vector\n",
    "\n",
    "RateVec = NVec/tVec\n",
    "print(RateVec)"
   ]
  },
  {
   "cell_type": "markdown",
   "id": "ad77e91b-6543-4969-92be-0fe92736b860",
   "metadata": {},
   "source": [
    "#### Revisiting treating $\\delta t/t$ as negligible compared to $\\delta N/N$"
   ]
  },
  {
   "cell_type": "markdown",
   "id": "6d9fe12b-52dc-4cf3-a6fc-046325b2d950",
   "metadata": {},
   "source": [
    "Now that we are working with some example data, let's revisit our discussion of $\\delta t/t$ being negligible and $\\delta N/N$ being the dominant uncertainty.\n",
    "\n",
    "First, let's calculate $\\delta N/N$ and $\\delta t/t$. Observe in the output that even when $\\delta N/N$ is at its smallest, it is still nearly two orders of magnitude larger than $\\delta t/t$. When we square each of these to sum them, $\\delta N/N$ will clearly dominate."
   ]
  },
  {
   "cell_type": "code",
   "execution_count": null,
   "id": "c4ccb400-0c15-42d1-a54b-5731d3f19315",
   "metadata": {},
   "outputs": [],
   "source": [
    "# Run me to calculate the dRelN and dRelt vectors\n",
    "\n",
    "drelN = dNVec/NVec\n",
    "drelt = dtVec/tVec\n",
    "\n",
    "print(drelN)\n",
    "print(drelt)\n"
   ]
  },
  {
   "cell_type": "markdown",
   "id": "8cd43c17-1722-4c71-bc8e-8defb2556e4a",
   "metadata": {},
   "source": [
    "Let's compare $\\delta R$ as calculated by Equation (3), which includes a $\\delta N/N$ and as calculated by Equation (4), which neglects $\\delta N/N$ with the understanding that $\\delta N/N$ is the dominant uncertainty."
   ]
  },
  {
   "cell_type": "code",
   "execution_count": null,
   "id": "3efd30c9-5bb8-4322-9f72-d612ce05c882",
   "metadata": {},
   "outputs": [],
   "source": [
    "# run me to calculate dRate using Equations (3) and (4)\n",
    "\n",
    "# From Equation (3)\n",
    "dRate_with_dt = RateVec * np.sqrt(1/NVec + (dtVec/tVec)**2) \n",
    "\n",
    "# From Equation (4)\n",
    "dRate_no_dt   = RateVec * np.sqrt(1/NVec)\n",
    "\n",
    "print(dRate_with_dt)\n",
    "print(dRate_no_dt)"
   ]
  },
  {
   "cell_type": "markdown",
   "id": "28d61349-badd-4bd5-b031-11bd27cf1a77",
   "metadata": {},
   "source": [
    "Looking above we can see that these values only start differing on the 4th significant figure, but we round our uncertainties to 2 significant figures so this is a much smaller difference than will ever show up in our reported $\\delta R$ values. \n",
    "\n",
    "Below is a small chunk of code that creates a summary table of the values we were looking at above so that it is easy to compare everthing in one place."
   ]
  },
  {
   "cell_type": "code",
   "execution_count": null,
   "id": "85233da3-7563-4398-8f35-c8950cd8f746",
   "metadata": {},
   "outputs": [],
   "source": [
    "# Run me to show the values above in tabular format\n",
    "print(f\"\")\n",
    "print(f\"|   dN/N  |   dt/t  |   dRate |   dRate |\")\n",
    "print(f\"|         |         | with dt |   no dt |\")\n",
    "print(f\"|---------|---------|---------|---------|\")\n",
    "\n",
    "# Print array values in a tabular format\n",
    "for val1, val2, val3, val4 in zip(drelN , drelt, dRate_with_dt, dRate_no_dt):\n",
    "    print(f\"| {val1:.5f} | {val2:.5f} | {val3:.5f} | {val4:.5f} |\")"
   ]
  },
  {
   "cell_type": "markdown",
   "id": "691a7f59-0a5c-456d-8953-78c48a7c16b6",
   "metadata": {},
   "source": [
    "Based on all of this, we will use the version of $\\delta R$ that treats $\\delta t/t$ as negigble going forward as our `dRateVec`"
   ]
  },
  {
   "cell_type": "code",
   "execution_count": null,
   "id": "124cf866-5e2c-42e7-8282-0aef153974e6",
   "metadata": {},
   "outputs": [],
   "source": [
    "# Run me to calculate the dR vector, dRateVec\n",
    "\n",
    "dRateVec = RateVec * np.sqrt(1/NVec)\n",
    "print(dRateVec)"
   ]
  },
  {
   "cell_type": "markdown",
   "id": "5054e64a-1295-43cf-a6c2-253a4698e274",
   "metadata": {},
   "source": [
    "#### Working with our model\n",
    "\n",
    "Our model for the count-rate will take the form:\n",
    "\n",
    "$$R(x) = R_0 e^{-\\mu x}$$\n",
    "\n",
    "where $R_0 = R(0)$ is the no-shielding count-rate, and $\\mu$ is the attenuation parameter. In order to proceed with fitting for the count-rate, we will want to linearize the data; in order to do so, we take the natural logarithm of the count-rate. Doing so, we obtain:\n",
    "\n",
    "$$\\log \\left[ R(x) \\right] = \\log \\left[ R_0 e^{-\\mu x} \\right],$$\n",
    "$$\\log \\left[ R(x) \\right] = \\log \\left[ R_0 \\right] + \\log \\left[ e^{-\\mu x} \\right],$$\n",
    "$$\\log \\left[ R(x) \\right] = \\log \\left[R_0 \\right] - \\mu x,$$\n",
    "$$\\log \\left[ R_0 \\right] - \\mu x = b + mx,$$\n",
    "\n",
    "where in the last equality we have $m = -\\mu$ as the slope of the linearized model and $\\log(R_0) = b$ as the intercept.\n",
    "\n",
    "To fit this model, we will want to take the natural logarithm of the count rate data. Doing so in python, we have:"
   ]
  },
  {
   "cell_type": "code",
   "execution_count": null,
   "id": "b191903b-f41a-46d6-8e50-2f0a92a5fef2",
   "metadata": {},
   "outputs": [],
   "source": [
    "# Run me to calculate the natural logarithm of the count rate data\n",
    "\n",
    "logRateVec = np.log(RateVec)\n",
    "print(logRateVec)"
   ]
  },
  {
   "cell_type": "markdown",
   "id": "1b340801-65f0-4115-b8e6-1477fc43052b",
   "metadata": {},
   "source": [
    "We will also want to obtain the uncertainty in the logarithm of the rate; we can derive this using the derivative rule for uncertainties:\n",
    "\n",
    "$$\\delta f(R) = \\delta R\\left|  {\\frac{\\mathrm{d}f}{\\mathrm{d}R}} \\right|$$\n",
    "\n",
    "In our case, we have that the function $f(R)$ takes the form of $\\log(R)$, so the uncertainty is:\n",
    "\n",
    "$$\\delta \\log(R) = \\delta R\\left| \\frac{\\mathrm{d}\\log(R)}{\\mathrm{d}R}\\right| = \\delta R\\frac{1}{R} = \\frac{\\delta R}{R}$$\n",
    "\n",
    "where we have used that the derivative of the natural logarithm $\\log(R)$ is $\\frac{1}{R}$. We have therefore found the uncertainty in the logarithm of the rate to be $\\delta R/R$. Writing this another way: if $Y = \\log(R)$ then $\\delta Y = \\delta R/R$. Let's also calculate this in python:"
   ]
  },
  {
   "cell_type": "code",
   "execution_count": null,
   "id": "36908b6c-14d2-4676-b3d4-ddd73a99d0c9",
   "metadata": {},
   "outputs": [],
   "source": [
    "# Run me to calculate the uncertainty in the natural logarithm of the count-rate data\n",
    "\n",
    "dlogRateVec = dRateVec/RateVec\n",
    "print(dlogRateVec)"
   ]
  },
  {
   "cell_type": "markdown",
   "id": "08f7bcbf-ae8b-4e2b-9292-5f2436f0f48b",
   "metadata": {},
   "source": [
    "#### Plotting our count-rate data two ways"
   ]
  },
  {
   "cell_type": "markdown",
   "id": "687fa824-222d-4377-9cba-aca5ec6d5b8a",
   "metadata": {},
   "source": [
    "We are going to make two plots of our count-rate vs thickness data and introduce some terminology that will show up in the lab.\n",
    "* `RateVec` vs `x` is typically referred to as a linear-linear graph since we have not taken the (natural) logarithm of either variable. Data in this format may be referred to as \"untransformed\" since we have not performed any further operations on our initial `x` or `y` variables. It is useful to graph the data in this format to ensure that the data look exponential.\n",
    "* `logRateVec` vs `x` is referred to as a semilog graph, since we are only taking the (natural) logarithm of the y-data. Thus, semilog refers to plotted in the form: log-y vs linear-x. This will often also be referred to as \"linearized\" or \"transformed\" data since we have converted it into the form for which we expect a linear model, $y=mx+b$, to fit.\n"
   ]
  },
  {
   "cell_type": "markdown",
   "id": "2462aa94-dca8-4690-9494-19f6b8b6c168",
   "metadata": {},
   "source": [
    "First we plot our linear-linear graph, which we expect should look like a decaying exponential."
   ]
  },
  {
   "cell_type": "code",
   "execution_count": null,
   "id": "e71a4d6d-271e-48e1-804c-519f81d4678d",
   "metadata": {},
   "outputs": [],
   "source": [
    "xdata = xVec\n",
    "ydata = RateVec\n",
    "dydata = dRateVec\n",
    "\n",
    "graph_title = \"Untransformed count-rate data\"\n",
    "x_label = \"Shielding Thickness (x, number of sheets)\"\n",
    "y_label = \"Count Rate (R, counts/second)\"\n",
    "\n",
    "plt.errorbar(xdata, ydata, dydata, marker='.', linestyle='')\n",
    "plt.xlabel(x_label)\n",
    "plt.ylabel(y_label)\n",
    "plt.title(graph_title)\n",
    "plt.show()"
   ]
  },
  {
   "cell_type": "markdown",
   "id": "a1551022-6030-4677-80db-590120058060",
   "metadata": {},
   "source": [
    "Next we plot our semilog graph using the linearized data. We expect this to look linear (and it certaintly does)."
   ]
  },
  {
   "cell_type": "code",
   "execution_count": null,
   "id": "fa9eb0dc-d605-4785-bb53-e3c33823bdab",
   "metadata": {},
   "outputs": [],
   "source": [
    "xdata = xVec\n",
    "ydata = logRateVec\n",
    "dydata = dlogRateVec\n",
    "\n",
    "graph_title = \"Linearized count-rate data (semilog plot)\"\n",
    "x_label = \"Shielding Thickness (x, number of sheets)\"\n",
    "y_label = \"Ln(R)\"\n",
    "\n",
    "plt.errorbar(xdata, ydata, dydata, marker='.', linestyle='')\n",
    "plt.xlabel(x_label)\n",
    "plt.ylabel(y_label)\n",
    "plt.title(graph_title)\n",
    "plt.show()"
   ]
  },
  {
   "cell_type": "markdown",
   "id": "00b322b9-fe0c-4425-b81f-eb1bdd66475d",
   "metadata": {},
   "source": [
    "#### Fitting our data using the 2-parameter analytic equations"
   ]
  },
  {
   "cell_type": "markdown",
   "id": "89955bce-61c4-412e-b2cc-e7263e30a9ca",
   "metadata": {},
   "source": [
    "#### **Your turn #3.1**\n",
    "Before running the code for the 2-parameter best-fit equations, you need to determine which representation of our data is the one we will be using as `xdata` and `ydata` in our standard fitting code."
   ]
  },
  {
   "cell_type": "code",
   "execution_count": null,
   "id": "3e443d35-8b7a-4e81-9cd4-28a96154bc38",
   "metadata": {},
   "outputs": [],
   "source": [
    "# Assign the appropriate data vectors to these variables before \n",
    "# running the two-parameter fit code below\n",
    "\n",
    "xdata = \n",
    "ydata = \n",
    "dydata = "
   ]
  },
  {
   "cell_type": "markdown",
   "id": "52a36b8c-4319-47b0-b80c-7bb586134e6e",
   "metadata": {
    "jp-MarkdownHeadingCollapsed": true
   },
   "source": [
    "##### Answer"
   ]
  },
  {
   "cell_type": "markdown",
   "id": "f2da2acb-39ee-460e-8708-ef404c7abe4a",
   "metadata": {},
   "source": [
    "We want the semilog/linearized version of the data\n",
    "```python\n",
    "xdata = xVec\n",
    "ydata = logRateVec\n",
    "dydata = dlogRateVec\n",
    "```"
   ]
  },
  {
   "cell_type": "markdown",
   "id": "bb421e80-fe08-47a2-846f-c19ec5385340",
   "metadata": {},
   "source": [
    "#### Code to run the 2-paramter analytic best-fit equations\n",
    "We borrow the relevant code from the \"One and Two Parameter Analytic Fit Equations\" example notebook from Lab08 and update it slightly to use the format that defines variables and titles at the start of the code block"
   ]
  },
  {
   "cell_type": "markdown",
   "id": "68b222c8-e1f9-448d-8b5a-07c46723bef7",
   "metadata": {},
   "source": [
    "#### **Your turn #3.2**"
   ]
  },
  {
   "cell_type": "markdown",
   "id": "cf67f5ba-8251-432b-94ac-ff82bdfd96ea",
   "metadata": {},
   "source": [
    "Update the code below to include all of the appropriate labels and titles under `# Labels and titles` as well as with the correct variables (from Your turn #3.2) assigned under `# Plotting variables`. Once you run this code, you should find you get a best-fit model with the following parameters."
   ]
  },
  {
   "cell_type": "markdown",
   "id": "6b98d598-de97-4925-96e3-a0f84d4aab1d",
   "metadata": {},
   "source": [
    "```\n",
    "Best fit slope, m =  -0.48915644900392674 ± 0.03512901473680299\n",
    "Best fit slope, b =  1.131611406837939 ± 0.07495617683220367\n",
    "chi2 = 0.3409\n",
    "```"
   ]
  },
  {
   "cell_type": "code",
   "execution_count": null,
   "id": "7cfc2cb0-c036-4ad4-8aff-eed892c3374e",
   "metadata": {},
   "outputs": [],
   "source": [
    "### Find the best 2-parameter model corresponding to the minimized chi-squared\n",
    "\n",
    "\"\"\" Define the variables we will be plotting, as well as labels and titles \"\"\"\n",
    "\n",
    "# Plotting variables\n",
    "xdata = \n",
    "ydata = \n",
    "dydata = \n",
    "\n",
    "# Labels and titles\n",
    "data_label = \"update this label\"\n",
    "model_label = \"\"\n",
    "graph_title = \"\"\n",
    "x_label = \"\"\n",
    "y_label = \"\"\n",
    "residuals_title = \"\"\n",
    "residuals_y_label = \"\"\n",
    "\n",
    "### DETERMINE Z, m and b\n",
    "\n",
    "# Calculate Z\n",
    "Z = (\n",
    "    np.sum( 1 / dydata**2 ) * np.sum( xdata**2 / dydata**2 )\n",
    "    - np.sum( xdata / dydata**2 )**2\n",
    ")\n",
    "\n",
    "# Calculate best fit slope, m\n",
    "m = 1/Z * (\n",
    "    np.sum( 1 / dydata**2 ) * np.sum( xdata * ydata / dydata**2 )\n",
    "    - np.sum( xdata / dydata**2 ) * np.sum( ydata / dydata**2 )\n",
    ")\n",
    "\n",
    "# Calculate best fit y-intercept, b\n",
    "b = 1/Z * (\n",
    "    np.sum( xdata**2 / dydata**2 ) * np.sum( ydata / dydata**2 )\n",
    "    - np.sum( xdata / dydata**2 ) * np.sum( xdata * ydata / dydata**2 )\n",
    ")\n",
    "\n",
    "# Calculate uncertainty in best fit slope, dm\n",
    "dm = np.sqrt(1/Z * np.sum( 1 / dydata**2 ) )\n",
    "\n",
    "# Calculate uncertainty in best fit slope, db\n",
    "db = np.sqrt(1/Z * np.sum( xdata**2 / dydata**2 ) )\n",
    "\n",
    "# Print the best fit slope and uncertainty\n",
    "print(\"Best fit slope, m = \", m, \"±\", dm)\n",
    "\n",
    "# Print the best fit y-intercept and uncertainty\n",
    "print(\"Best fit y-intercept, b = \", b, \"±\", db)\n",
    "\n",
    "\n",
    "\"\"\" Construct the model for plotting and calculating residuals \"\"\"\n",
    "\n",
    "ymodel = m * xdata + b # best fit model\n",
    "res = ydata - ymodel # calculate residuals (best fit)\n",
    "wres2 = (res/dydata)**2 # weighted residuals squared\n",
    "\n",
    "\n",
    "\"\"\" Calculate chi-squared \"\"\"\n",
    "    \n",
    "N = len(xdata) # number of data points\n",
    "P = 2 # number of parameters\n",
    "chi2 = np.sum(wres2) / (N - P) # calculate chi-squared\n",
    "print(f\"chi2 = {chi2:.4f}\")\n",
    "\n",
    "\"\"\" Plot data and fit \"\"\"\n",
    "\n",
    "plt.errorbar(xdata, ydata, dydata, marker='.', linestyle='', label = data_label)\n",
    "plt.plot(xdata, ymodel, label=model_label)\n",
    "plt.xlabel(x_label)\n",
    "plt.ylabel(y_label)\n",
    "plt.title(graph_title)\n",
    "plt.legend()\n",
    "plt.show()\n",
    "\n",
    "\"\"\" Plot residuals for the best fit \"\"\"\n",
    "\n",
    "plt.errorbar(xdata, res, dydata, marker='.', linestyle='')\n",
    "plt.hlines(y=0, xmin=np.min(xdata), xmax=np.max(xdata), color='k') # draw axis at y = 0.\n",
    "plt.xlabel(x_label)\n",
    "plt.ylabel(residuals_y_label)\n",
    "plt.title(residuals_title)\n",
    "plt.show()"
   ]
  },
  {
   "cell_type": "markdown",
   "id": "3e43e555-25c5-4a40-ae39-4c0b0939c573",
   "metadata": {},
   "source": [
    "### Your turn #3.3"
   ]
  },
  {
   "cell_type": "markdown",
   "id": "4f1d8290-e6fb-4380-a1b1-ae7b8649c0b7",
   "metadata": {},
   "source": [
    "From your best-fit slope `m` and y-intercept `b` values, extract the parameters $R_0$ (the zero-shielding count-rate) and $\\mu$ (the attenuation coefficient). \n",
    "\n",
    "Recall that $b = \\log(R_0)$ and $m = -\\mu$.\n",
    "\n",
    "Also note that we know from our x=0 data point that we expect $R_0$ to be approximately $159 \\text{ counts}/50.1\\text{ s} = 3.17\\text{ counts/s}$."
   ]
  },
  {
   "cell_type": "markdown",
   "id": "4ebc2a5c-8961-4542-bb0c-e81645a8f822",
   "metadata": {},
   "source": []
  },
  {
   "cell_type": "markdown",
   "id": "fa8a3288-82fc-4faa-b543-6cfd8de34a05",
   "metadata": {
    "jp-MarkdownHeadingCollapsed": true,
    "tags": []
   },
   "source": [
    "##### Answer"
   ]
  },
  {
   "cell_type": "markdown",
   "id": "30dc6f53-ad2d-40d4-96ad-dc6bb7dca471",
   "metadata": {},
   "source": [
    "You should have found that $\\mu = 0.489 \\text{ sheet}^{-1}$, remembering that our units for $x$ are sheets of paper. \n",
    "\n",
    "You should also have found that $R_0 = 3.1006 \\text{ counts/second}$. The physical interpretation for $R_0$ is that it is what the model predicts the count-rate will be when there is no shielding."
   ]
  },
  {
   "cell_type": "markdown",
   "id": "4ca4261c-0efd-4ed5-9a6c-42836116e2c8",
   "metadata": {},
   "source": [
    "### Your turn #3.4"
   ]
  },
  {
   "cell_type": "markdown",
   "id": "a23560a4-e711-473f-b1ce-eb48105d0151",
   "metadata": {},
   "source": [
    "From the uncertainties in $\\delta m$ and $\\delta b$, extract the uncertainties $\\delta R_0$ and the attenuation coefficient $\\delta \\mu$.\n",
    "\n",
    "Hint: By the derivative rule, we have that:\n",
    "\n",
    "$$R_0 = e^b \\implies \\delta R_0 = \\delta b \\, e^b,$$\n",
    "\n",
    "$$m = -\\mu \\implies \\delta m = \\delta \\mu.$$"
   ]
  },
  {
   "cell_type": "markdown",
   "id": "5024b80a-0da5-462e-a85a-21fdfbe09401",
   "metadata": {},
   "source": []
  },
  {
   "cell_type": "markdown",
   "id": "d3f2febd-b3b8-4293-ad47-81778b61d39c",
   "metadata": {
    "jp-MarkdownHeadingCollapsed": true,
    "tags": []
   },
   "source": [
    "##### Answer"
   ]
  },
  {
   "cell_type": "markdown",
   "id": "4c94b75c-968f-407c-a44e-d58f8b7d41c8",
   "metadata": {},
   "source": [
    "You should have found that $\\mu = 0.489 \\pm 0.035 \\text{ sheet}^{-1}$ and $R_0 = 3.10 \\pm 0.23 \\text{ counts/second}$."
   ]
  },
  {
   "cell_type": "markdown",
   "id": "4ccb6ae4-bc6d-490c-ad07-dbe503a49d35",
   "metadata": {},
   "source": [
    "## Your turn #4.1: Preparing for Lab 09\n",
    "\n",
    "As usual, you should take a couple of minutes to read through the lab instructions so that you have a sense of how you will be spending your time during the lab. Copy any prelab code that you need into your lab notebook. Note that we have provided minimal structure in this lab notebook."
   ]
  },
  {
   "cell_type": "markdown",
   "id": "297114ad-bffb-46d3-8493-21395f45674e",
   "metadata": {},
   "source": [
    "# Submit\n",
    "\n",
    "Steps for submission:\n",
    "\n",
    "1. Click: Run => Run_All_Cells\n",
    "2. Read through the notebook to ensure all the cells executed correctly and without error.\n",
    "3. File => Save_and_Export_Notebook_As->HTML\n",
    "4. Inspect your html file\n",
    "5. Upload the HTML document to the lab submission assignment on Canvas."
   ]
  }
 ],
 "metadata": {
  "kernelspec": {
   "display_name": "Python 3 (ipykernel)",
   "language": "python",
   "name": "python3"
  },
  "language_info": {
   "codemirror_mode": {
    "name": "ipython",
    "version": 3
   },
   "file_extension": ".py",
   "mimetype": "text/x-python",
   "name": "python",
   "nbconvert_exporter": "python",
   "pygments_lexer": "ipython3",
   "version": "3.10.10"
  },
  "widgets": {
   "application/vnd.jupyter.widget-state+json": {
    "state": {},
    "version_major": 2,
    "version_minor": 0
   }
  }
 },
 "nbformat": 4,
 "nbformat_minor": 5
}
