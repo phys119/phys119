{
 "cells": [
  {
   "attachments": {},
   "cell_type": "markdown",
   "id": "d8d5d4d2-d72a-4e39-8261-d2270bea16ef",
   "metadata": {},
   "source": [
    "# Lab 07 - RC Circuit I"
   ]
  },
  {
   "attachments": {},
   "cell_type": "markdown",
   "id": "616336d2-b711-4daa-b591-51875f8e64a4",
   "metadata": {},
   "source": [
    "*Edit this cell to provide the information requested:*\n",
    "- Your name:\n",
    "- Your student number:\n",
    "- Partner's name:"
   ]
  },
  {
   "cell_type": "code",
   "execution_count": null,
   "id": "c7e56ef9-175b-4e74-8d0c-46daf5159cfa",
   "metadata": {},
   "outputs": [],
   "source": [
    "%reset -f\n",
    "import numpy as np\n",
    "import data_entry2\n",
    "import matplotlib.pyplot as plt"
   ]
  },
  {
   "cell_type": "markdown",
   "id": "0a37e376-7aaf-4698-b19d-502423fbdd79",
   "metadata": {},
   "source": [
    "## Part A - Grading feedback, announcements and intro"
   ]
  },
  {
   "cell_type": "markdown",
   "id": "9243ec6f-d16a-4fa9-89a0-570582ab1ce3",
   "metadata": {},
   "source": [
    "*(Optional) Your notes on anything discussed during this part.*"
   ]
  },
  {
   "cell_type": "markdown",
   "id": "b7b90530-3788-490d-9375-8fdbf7ff0b65",
   "metadata": {},
   "source": []
  },
  {
   "attachments": {},
   "cell_type": "markdown",
   "id": "e6311cdc-8028-44c2-8b85-4c4986e4f7c9",
   "metadata": {},
   "source": [
    "## Part B - FAMILIARIZE, Part 1 - Your resistor-capacitor (RC) circuit and the oscilloscope tutorial"
   ]
  },
  {
   "cell_type": "markdown",
   "id": "a829b4f0",
   "metadata": {},
   "source": [
    "*(Optional) Your notes on anything discussed during this part.*"
   ]
  },
  {
   "attachments": {},
   "cell_type": "markdown",
   "id": "57bada0b-1a00-4b40-abd8-b4a6122aa052",
   "metadata": {},
   "source": []
  },
  {
   "attachments": {},
   "cell_type": "markdown",
   "id": "411a6b6d-425a-4e2a-a0d7-cbc5eabe7cdc",
   "metadata": {},
   "source": [
    "## Part C - FAMILIARIZE, Part 2 - Initial measurements"
   ]
  },
  {
   "attachments": {},
   "cell_type": "markdown",
   "id": "438f08ce-9ba8-45fa-9778-acc924b5189e",
   "metadata": {},
   "source": [
    "***Before making any measurements, record the number on your capacitor in your lab notes. You will use this same setup next week and will be able to continue using your data from this week as long as you are certain you are using the same capacitor.***"
   ]
  },
  {
   "attachments": {},
   "cell_type": "markdown",
   "id": "d4cefc5c-7959-43c4-ae2f-bfc19939864d",
   "metadata": {},
   "source": []
  },
  {
   "cell_type": "code",
   "execution_count": null,
   "id": "e12e7c6d-f308-49ca-b6cd-207ae3f999ce",
   "metadata": {},
   "outputs": [],
   "source": [
    "# Uncomment the following line to copy in the prelab spreadsheet\n",
    "# Replace the first row of data with your actual measurements in the lab\n",
    "# de1 = data_entry2.sheet_copy(\"prelab07_data\", \"lab07_round1\")  "
   ]
  },
  {
   "cell_type": "code",
   "execution_count": null,
   "id": "e1a566ac-faa4-4aea-be1a-545fc6dbb9a2",
   "metadata": {},
   "outputs": [],
   "source": []
  },
  {
   "attachments": {},
   "cell_type": "markdown",
   "id": "6d617255-4bfb-4ba6-b3c5-4e2c0ca4a629",
   "metadata": {},
   "source": [
    "## Part D - FAMILIARIZE, Part 3 - Measurement strategy for further measurements"
   ]
  },
  {
   "attachments": {},
   "cell_type": "markdown",
   "id": "45a797b2-8599-4bc4-9224-59b71bca92ac",
   "metadata": {},
   "source": []
  },
  {
   "cell_type": "code",
   "execution_count": null,
   "id": "b0d8ae5f-c5a7-4602-8611-b38493d0bcd5",
   "metadata": {},
   "outputs": [],
   "source": []
  },
  {
   "attachments": {},
   "cell_type": "markdown",
   "id": "e3433d8b-a751-419b-af4d-213e7902cf05",
   "metadata": {},
   "source": [
    "## Part E - MEASURE & ANALYZE - Collect additional data and create a scatter plot"
   ]
  },
  {
   "attachments": {},
   "cell_type": "markdown",
   "id": "2635aecf-0fdf-43c1-9061-71e1ce02ec8f",
   "metadata": {},
   "source": []
  },
  {
   "cell_type": "code",
   "execution_count": null,
   "id": "d862cce3",
   "metadata": {},
   "outputs": [],
   "source": []
  },
  {
   "attachments": {},
   "cell_type": "markdown",
   "id": "46456db0-bcff-4d9c-aa90-0d05e760f7ec",
   "metadata": {},
   "source": [
    "## Part F - COMPARE, SUMMARIZE, REFLECT"
   ]
  },
  {
   "cell_type": "code",
   "execution_count": null,
   "id": "9df8be0b-5048-43a6-96a1-54bd67408da1",
   "metadata": {},
   "outputs": [],
   "source": []
  },
  {
   "attachments": {},
   "cell_type": "markdown",
   "id": "fed583af-c89b-410e-a86a-df614f2bf196",
   "metadata": {},
   "source": [
    "## Summary of Results"
   ]
  },
  {
   "cell_type": "markdown",
   "id": "b3b2ccee-5430-4511-84d2-8b496c8e5f83",
   "metadata": {},
   "source": []
  },
  {
   "attachments": {},
   "cell_type": "markdown",
   "id": "e73ac6f8-0590-4c98-a163-21a846cc73ce",
   "metadata": {},
   "source": [
    "# Submit\n",
    "\n",
    "Steps for submission:\n",
    "\n",
    "1. Click: Run => Run_All_Cells\n",
    "2. Read through the notebook to ensure all the cells executed correctly and without error.\n",
    "3. File => Save_and_Export_Notebook_As->HTML\n",
    "4. Upload the HTML document to the lab submission assignment on Canvas."
   ]
  },
  {
   "cell_type": "code",
   "execution_count": null,
   "id": "e2ec7b06-f8ca-463b-a09b-6b81dff12a77",
   "metadata": {},
   "outputs": [],
   "source": [
    "display_sheets()"
   ]
  }
 ],
 "metadata": {
  "kernelspec": {
   "display_name": "Python 3 (ipykernel)",
   "language": "python",
   "name": "python3"
  },
  "language_info": {
   "codemirror_mode": {
    "name": "ipython",
    "version": 3
   },
   "file_extension": ".py",
   "mimetype": "text/x-python",
   "name": "python",
   "nbconvert_exporter": "python",
   "pygments_lexer": "ipython3",
   "version": "3.10.10"
  },
  "widgets": {
   "application/vnd.jupyter.widget-state+json": {
    "state": {},
    "version_major": 2,
    "version_minor": 0
   }
  }
 },
 "nbformat": 4,
 "nbformat_minor": 5
}
